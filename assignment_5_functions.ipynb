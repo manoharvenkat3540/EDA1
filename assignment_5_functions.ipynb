{
 "cells": [
  {
   "cell_type": "code",
   "execution_count": 1,
   "id": "e90a6e8f-12b0-4fb8-93dd-985dcd33c62f",
   "metadata": {},
   "outputs": [
    {
     "name": "stdout",
     "output_type": "stream",
     "text": [
      "20.0\n"
     ]
    }
   ],
   "source": [
    "# wap ask the user enter 3 numbers calculate average\n",
    "def average(n1,n2,n3):\n",
    "    avg=(n1+n2+n3)/3\n",
    "    print(avg)\n",
    "average(10,20,30)"
   ]
  },
  {
   "cell_type": "code",
   "execution_count": 3,
   "id": "ec41758b-430e-4b81-82b9-2bd1de88c9cf",
   "metadata": {},
   "outputs": [
    {
     "name": "stdout",
     "output_type": "stream",
     "text": [
      "314.0\n"
     ]
    }
   ],
   "source": [
    "# wap ask the uer enter radius values find the area of the circle\n",
    "def radius(r):\n",
    "    area_of_the_circle=3.14*r*r\n",
    "    print(area_of_the_circle)\n",
    "radius(10)"
   ]
  },
  {
   "cell_type": "code",
   "execution_count": 5,
   "id": "d97d8537-885c-42a6-ab03-7dc815e9a5d0",
   "metadata": {},
   "outputs": [
    {
     "name": "stdout",
     "output_type": "stream",
     "text": [
      "1100.0\n"
     ]
    }
   ],
   "source": [
    "# wap ask the user bill amount,\n",
    "#     ask the user how much tip you want pay in percentage\n",
    "#     calculate totalbill\n",
    "def bill(amount,tip):\n",
    "    total=(amount*tip)/100\n",
    "    print(total+amount)\n",
    "bill(1000,10)\n",
    "    "
   ]
  },
  {
   "cell_type": "code",
   "execution_count": 7,
   "id": "7fb3d884-6eec-46df-82a2-97a71e2328b9",
   "metadata": {},
   "outputs": [
    {
     "name": "stdout",
     "output_type": "stream",
     "text": [
      "100.0\n"
     ]
    }
   ],
   "source": [
    "#wap ask the user enter base height calculate area of the traingle\n",
    "def tirangle(height,base):\n",
    "    area_of_the_triangle=1/2*height*base\n",
    "    print(area_of_the_triangle)\n",
    "tirangle(10,20)\n",
    "    "
   ]
  },
  {
   "cell_type": "code",
   "execution_count": 8,
   "id": "55b35bcb-767d-451c-b470-8203a59896c3",
   "metadata": {},
   "outputs": [
    {
     "name": "stdout",
     "output_type": "stream",
     "text": [
      "200\n"
     ]
    }
   ],
   "source": [
    "#wap ask the user enter length and breadth calculate area of the rectangle\n",
    "def rectangle(length,breadth):\n",
    "    area_of_the_rectangle=length*breadth\n",
    "    print(area_of_the_rectangle)\n",
    "rectangle(10,20)"
   ]
  },
  {
   "cell_type": "code",
   "execution_count": 12,
   "id": "edcffd4f-8afa-45f8-9021-0b6c0ff81ec4",
   "metadata": {},
   "outputs": [
    {
     "name": "stdout",
     "output_type": "stream",
     "text": [
      "even\n"
     ]
    }
   ],
   "source": [
    "## wap ask the user enter a number\n",
    "# find it is a even number or odd number\n",
    "def evenorodd(n1):\n",
    "    if n1%2==0:\n",
    "        print(\"even\")\n",
    "    else:\n",
    "        print(\"odd\")\n",
    "evenorodd(10)"
   ]
  },
  {
   "cell_type": "code",
   "execution_count": 17,
   "id": "518098d2-4004-4f0b-ba8c-a37c3707cd55",
   "metadata": {},
   "outputs": [
    {
     "name": "stdout",
     "output_type": "stream",
     "text": [
      "600\n"
     ]
    }
   ],
   "source": [
    "## wap ask the user enter the distance\n",
    "# if distance greater than 25km\n",
    "#      then enter the charge\n",
    "#      print the total cost\n",
    "#otherwise\n",
    "#      print free ride\n",
    "def ride(distance,charge):\n",
    "    if distance>25:\n",
    "        total=distance*charge\n",
    "        print(total)\n",
    "    else:\n",
    "        print(\"free ride:\")\n",
    "ride(30,20)"
   ]
  },
  {
   "cell_type": "code",
   "execution_count": 30,
   "id": "cf063c74-725f-4afe-b3b7-5d63fd508a7e",
   "metadata": {},
   "outputs": [
    {
     "name": "stdout",
     "output_type": "stream",
     "text": [
      "the random distance id 30\n",
      "the total distance is 600\n"
     ]
    }
   ],
   "source": [
    "import random\n",
    "def ride(charge):\n",
    "    distance=random.randint(1,100)\n",
    "    print(f\"the random distance id {distance}\")\n",
    "    if distance>25:\n",
    "        total=distance*charge\n",
    "        print(f\"the total distance is {total}\")\n",
    "    else:\n",
    "        print(f\"free ride\")\n",
    "ride(20)\n",
    "    "
   ]
  },
  {
   "cell_type": "code",
   "execution_count": 36,
   "id": "06111813-c439-45ec-9973-7c8f0335a6e4",
   "metadata": {},
   "outputs": [
    {
     "name": "stdout",
     "output_type": "stream",
     "text": [
      "good news your charge is aplicable for only remaining of 25\n",
      "the total charge for extra 750 is 22500\n"
     ]
    }
   ],
   "source": [
    "# wap ask the user enter the distance\n",
    "# cutoff distance enter 25\n",
    "# if distance greater than 25km\n",
    "#      print(\"good news your charge is aplicable for only remaining of 25\")\n",
    "#      chargeble distance= distance-cutoff\n",
    "#      then enter the charge\n",
    "#      print the total cost\n",
    "#otherwise\n",
    "#      print free ride\n",
    "def ride1(distance,cut_off_distance,charge):\n",
    "    if distance>25:\n",
    "        print(\"good news your charge is aplicable for only remaining of 25\")\n",
    "        chargeble_distance=distance*cut_off_distance\n",
    "        total=chargeble_distance*charge\n",
    "        print(f\"the total charge for extra {chargeble_distance} is {total}\")\n",
    "    else:\n",
    "        print(\"free ride\")\n",
    "ride1(30,25,30)"
   ]
  },
  {
   "cell_type": "code",
   "execution_count": 4,
   "id": "fd40997d-f34e-4312-bf10-bc93bb4bf215",
   "metadata": {},
   "outputs": [
    {
     "name": "stdout",
     "output_type": "stream",
     "text": [
      "you are good\n"
     ]
    }
   ],
   "source": [
    "#wap ask the user enter the course\n",
    "# ask the user enter the Institute\n",
    "# if the course equal to data science and institute equal to naresh it\n",
    "#     then you are good\n",
    "# otherwise\n",
    "#     you are bad\n",
    "def user(course,institute):\n",
    "    if course=='data science' and institute=='naresh it':\n",
    "        print(\"you are good\")\n",
    "    else:\n",
    "        print(\"your are bad\")\n",
    "user('data science','naresh it')"
   ]
  },
  {
   "cell_type": "code",
   "execution_count": 7,
   "id": "4444e382-df88-490a-95e9-710f3a2e51b5",
   "metadata": {},
   "outputs": [
    {
     "name": "stdout",
     "output_type": "stream",
     "text": [
      "you won\n"
     ]
    }
   ],
   "source": [
    "#wap ask the user enter a random number between 1 to 10, treat this as number1\n",
    "# ask the user enter another number from keyboard, treat this as number2\n",
    "# if number1 equal to number2\n",
    "#     print you won\n",
    "# otherwise\n",
    "#     print you los\n",
    "import random\n",
    "def random1(number2):\n",
    "    num1=random.randint(1,10)\n",
    "    if num1==number2:\n",
    "        print(\"you won\")\n",
    "    else:\n",
    "        print(\"you lost\")\n",
    "random1(6)"
   ]
  },
  {
   "cell_type": "code",
   "execution_count": 16,
   "id": "6409f284-0cee-4d28-93e7-329b1ca8fcaa",
   "metadata": {},
   "outputs": [
    {
     "name": "stdout",
     "output_type": "stream",
     "text": [
      "one\n"
     ]
    }
   ],
   "source": [
    "# wap ask the user enter number\n",
    "# if number equal to 1 then print one\n",
    "# if number equal to 2 then print two\n",
    "# if number equal to 3 then print three\n",
    "# otherwise  print enter a valid number\n",
    "def number(n):\n",
    "    if n==1:\n",
    "        print(\"one\")\n",
    "    elif n==2:\n",
    "        print(\"two\")\n",
    "    elif n==3:\n",
    "        print(\"three\")\n",
    "    else:\n",
    "        print(\"enter a valid number:\")\n",
    "number(1)\n"
   ]
  },
  {
   "cell_type": "code",
   "execution_count": 19,
   "id": "5119e321-3791-41be-bdfd-fa3b36ecf93d",
   "metadata": {},
   "outputs": [
    {
     "name": "stdout",
     "output_type": "stream",
     "text": [
      "negative\n"
     ]
    }
   ],
   "source": [
    "# wap ask the user enter a number\n",
    "# if that number greater than zero print postive\n",
    "# if that number less than zero print negative\n",
    "# otherwise print zero\n",
    "def num1(n):\n",
    "    if n>0:\n",
    "        print(\"psitive\")\n",
    "    elif n<0:\n",
    "        print(\"negative\")\n",
    "    else:\n",
    "        print(\"zero\")\n",
    "num1(-1)\n",
    "        "
   ]
  },
  {
   "cell_type": "code",
   "execution_count": 25,
   "id": "172998b7-a95f-4474-8225-fe8d6ba8efbe",
   "metadata": {},
   "outputs": [
    {
     "name": "stdout",
     "output_type": "stream",
     "text": [
      "c grade\n"
     ]
    }
   ],
   "source": [
    "# WAP ask the user enter the percentage of marks 0 to 100\n",
    "# if percentagw gretaer than 90  print A garde\n",
    "# if percentage between 75 to 90 print B garde\n",
    "# if percentage between 50 to 75 print C grade\n",
    "# if percentage between 35 to 50 print D grade\n",
    "# if percentage less than 35 print Fai2\n",
    "def num2(number):\n",
    "    if number>90:\n",
    "        print(\"a grade\")\n",
    "    elif number>=75:\n",
    "        print(\"b grade\")\n",
    "    elif number>=50:\n",
    "        print(\"c grade\")\n",
    "    elif number>=35:\n",
    "        print(\"d grade\")\n",
    "    else:\n",
    "        print(\"fail\")\n",
    "num2(70)"
   ]
  },
  {
   "cell_type": "code",
   "execution_count": 28,
   "id": "d3b4abbf-c760-493b-8535-0a9441d266f5",
   "metadata": {},
   "outputs": [
    {
     "name": "stdout",
     "output_type": "stream",
     "text": [
      "lucky\n"
     ]
    }
   ],
   "source": [
    "# WAP ask the user enter the age\n",
    "# if the age greater tahn 100 print you are lucky\n",
    "# if the age gretaer than 75 print old age\n",
    "# if the age  between 50 to 75 print ss\n",
    "# if the age between  30 tp 50 print MA\n",
    "# if the age between  15 to 30 print young age\n",
    "# if the afe between less than 15 print kid\n",
    "def n1(age):\n",
    "    if age>90:\n",
    "        print(\"lucky\")\n",
    "    elif age>=75:\n",
    "        print(\"old age\")\n",
    "    elif age>=50:\n",
    "        print(\"ss\")\n",
    "    elif age>=30:\n",
    "        print(\"ma\")\n",
    "    elif age>=15:\n",
    "        print(\"young\")\n",
    "    else:\n",
    "        print(\"kid\")\n",
    "n1(100)\n",
    "        "
   ]
  },
  {
   "cell_type": "code",
   "execution_count": null,
   "id": "1a2fa756-c979-4e9d-9217-d2ab7a45bb4f",
   "metadata": {},
   "outputs": [],
   "source": []
  }
 ],
 "metadata": {
  "kernelspec": {
   "display_name": "Python 3 (ipykernel)",
   "language": "python",
   "name": "python3"
  },
  "language_info": {
   "codemirror_mode": {
    "name": "ipython",
    "version": 3
   },
   "file_extension": ".py",
   "mimetype": "text/x-python",
   "name": "python",
   "nbconvert_exporter": "python",
   "pygments_lexer": "ipython3",
   "version": "3.11.7"
  }
 },
 "nbformat": 4,
 "nbformat_minor": 5
}
