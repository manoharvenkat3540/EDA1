{
 "cells": [
  {
   "cell_type": "code",
   "execution_count": null,
   "id": "d51d6333-467f-4180-a3a5-7a60806a1176",
   "metadata": {},
   "outputs": [],
   "source": []
  },
  {
   "cell_type": "code",
   "execution_count": null,
   "id": "433529fd-7e57-481a-8860-1b9b4c63601e",
   "metadata": {},
   "outputs": [],
   "source": []
  },
  {
   "cell_type": "code",
   "execution_count": null,
   "id": "8bbf9347-e0a0-41fb-8789-db8350e87221",
   "metadata": {},
   "outputs": [],
   "source": []
  },
  {
   "cell_type": "code",
   "execution_count": null,
   "id": "4fd97b23-e7cb-4350-9656-64592f04060a",
   "metadata": {},
   "outputs": [],
   "source": []
  },
  {
   "cell_type": "code",
   "execution_count": null,
   "id": "d415c3f9-2ba4-47ca-9a30-7a79ffa7019b",
   "metadata": {},
   "outputs": [],
   "source": []
  },
  {
   "cell_type": "code",
   "execution_count": null,
   "id": "59fcb927-f886-4c63-ba5a-64d425d57544",
   "metadata": {},
   "outputs": [],
   "source": []
  },
  {
   "cell_type": "markdown",
   "id": "e3281c83-44ce-4996-a1d0-1de40ae2d75e",
   "metadata": {},
   "source": [
    "- case-1: Functions call with one argument\n",
    "  \n",
    "  - lambda arguments: Expresion\n",
    "    \n",
    "  - lambda variables: return output\n",
    "\n",
    "- case-2: Function call with tw0 arguments\n",
    "  \n",
    "  - lambda arg1,arg2: Expression\n",
    "    \n",
    "  - lambda var1,var2: return output\n",
    "    \n",
    "- case3: Function call with default arguments\n",
    "  \n",
    "  - lambda arg1,arg2=500: Expression\n",
    "    \n",
    "  - lambda var1,var2=500: return output\n",
    "    \n",
    "- case-4: Function call with tw0 arguments and if-else statement\n",
    "  \n",
    "  - lambda arg1,arg2: Expression\n",
    "    \n",
    "  - lambda var1,var2: if_outputif_con else els_op forloop\n",
    "    \n",
    "- case-5: lambda operations using list\n",
    "\n",
    "  - lambda arg: Expression,iterartor\n",
    " \n",
    "  - map(lambda var:operation,list)"
   ]
  },
  {
   "cell_type": "code",
   "execution_count": 5,
   "id": "c6248c11-328e-46e1-abdd-5b0e0228c863",
   "metadata": {},
   "outputs": [
    {
     "name": "stdout",
     "output_type": "stream",
     "text": [
      "HYD\n",
      "CHENNAI\n",
      "MUMBAI\n"
     ]
    },
    {
     "data": {
      "text/plain": [
       "['HYD', 'CHENNAI', 'MUMBAI']"
      ]
     },
     "execution_count": 5,
     "metadata": {},
     "output_type": "execute_result"
    }
   ],
   "source": [
    "l=['hyd','chennai','mumbai']\n",
    "#for i in l:\n",
    "    #print(i.upper())\n",
    "\n",
    "list(map(lambda i:i.upper(),l))"
   ]
  },
  {
   "cell_type": "code",
   "execution_count": 10,
   "id": "c006f651-977a-490e-b37d-b28c463f960f",
   "metadata": {},
   "outputs": [
    {
     "name": "stdout",
     "output_type": "stream",
     "text": [
      "chen#nai\n",
      "mum#bai\n"
     ]
    },
    {
     "data": {
      "text/plain": [
       "(False, True, True, False)"
      ]
     },
     "execution_count": 10,
     "metadata": {},
     "output_type": "execute_result"
    }
   ],
   "source": [
    "l=['hyd','chen#nai','mum#bai','blr']\n",
    "for i in l:\n",
    "    if '#' in i:\n",
    "        print(i)\n",
    "#mistake-1: tuple(map(lambda i:if '#' in i,l))\n",
    "#     do not write if  \n",
    "\n",
    "tuple(map(lambda i:'#' in i,l))"
   ]
  },
  {
   "cell_type": "markdown",
   "id": "81b521a5-43e3-471b-ab67-563fe9a4094b",
   "metadata": {},
   "source": [
    "**Filter**\n",
    "\n",
    "- whenever  if conditions are there use filter"
   ]
  },
  {
   "cell_type": "code",
   "execution_count": 9,
   "id": "1297e734-d3d2-49ff-b082-630cb5bd4b72",
   "metadata": {},
   "outputs": [
    {
     "data": {
      "text/plain": [
       "('chen#nai', 'mum#bai')"
      ]
     },
     "execution_count": 9,
     "metadata": {},
     "output_type": "execute_result"
    }
   ],
   "source": [
    "#tuple(map(lambda i:'#' in i,l)\n",
    "\n",
    "tuple(filter(lambda i:'#' in i,l))"
   ]
  },
  {
   "cell_type": "code",
   "execution_count": 20,
   "id": "08041a62-ee37-4e96-b6e8-10a160cfe4d5",
   "metadata": {},
   "outputs": [
    {
     "name": "stdout",
     "output_type": "stream",
     "text": [
      "2\n",
      "6\n"
     ]
    },
    {
     "data": {
      "text/plain": [
       "(2, 6)"
      ]
     },
     "execution_count": 20,
     "metadata": {},
     "output_type": "execute_result"
    }
   ],
   "source": [
    "numbers=[1,3,2,7,6]\n",
    "for i in numbers:\n",
    "    if i%2==0:\n",
    "        print(i)\n",
    "\n",
    "tuple(filter(lambda i: i%2==0,numbers))"
   ]
  },
  {
   "cell_type": "code",
   "execution_count": 33,
   "id": "756d8e13-a8bb-406f-a593-6039f92ddcfe",
   "metadata": {},
   "outputs": [
    {
     "data": {
      "text/plain": [
       "15"
      ]
     },
     "execution_count": 33,
     "metadata": {},
     "output_type": "execute_result"
    }
   ],
   "source": [
    "numbers=[1,2,3,4,5]\n",
    "#i want sum of the elements in alist\n",
    "sum(numbers)\n",
    "\n",
    "\n",
    "\n",
    "\n",
    "#method-2: with out sum\n",
    "summ=0\n",
    "for i in numbers:\n",
    "    summ=summ+i\n",
    "    print(summ)\n",
    "\n",
    "\n",
    "#method-2: with out sum\n",
    "\n",
    "tuple(filter(lambda summ,i: summ+i,numbers))"
   ]
  },
  {
   "cell_type": "code",
   "execution_count": 36,
   "id": "513f157f-eb10-4cea-8b21-f697df08e605",
   "metadata": {},
   "outputs": [
    {
     "data": {
      "text/plain": [
       "<filter at 0x24e1bd05420>"
      ]
     },
     "execution_count": 36,
     "metadata": {},
     "output_type": "execute_result"
    }
   ],
   "source": [
    "l1=[1,2,3,4,5]\n",
    "filter(lambda summ,i:summ+i,l1)"
   ]
  },
  {
   "cell_type": "markdown",
   "id": "08b966fb-372e-405a-b268-449719fa9f90",
   "metadata": {},
   "source": [
    "**Reduce**\n",
    "\n",
    "- all inbuilt functions can achieve by reduce\n",
    "- Reduce is avialable  from functools package\n",
    "- level-1: reduce(lambda summ,i:sum+i,l1)\n",
    "- level-2: reduce(lambda summ,i:summ+i,l1,initial_value)\n",
    "- for example we want intialize summ=0 then we choose level-1\n",
    "- for example we want start with other zero then we choose  level-2"
   ]
  },
  {
   "cell_type": "code",
   "execution_count": 40,
   "id": "49b0792d-0ee5-43a2-a1d3-416fd551eb6a",
   "metadata": {},
   "outputs": [
    {
     "data": {
      "text/plain": [
       "['GenericAlias',\n",
       " 'RLock',\n",
       " 'WRAPPER_ASSIGNMENTS',\n",
       " 'WRAPPER_UPDATES',\n",
       " '_CacheInfo',\n",
       " '_HashedSeq',\n",
       " '_NOT_FOUND',\n",
       " '__all__',\n",
       " '__builtins__',\n",
       " '__cached__',\n",
       " '__doc__',\n",
       " '__file__',\n",
       " '__loader__',\n",
       " '__name__',\n",
       " '__package__',\n",
       " '__spec__',\n",
       " '_c3_merge',\n",
       " '_c3_mro',\n",
       " '_compose_mro',\n",
       " '_convert',\n",
       " '_find_impl',\n",
       " '_ge_from_gt',\n",
       " '_ge_from_le',\n",
       " '_ge_from_lt',\n",
       " '_gt_from_ge',\n",
       " '_gt_from_le',\n",
       " '_gt_from_lt',\n",
       " '_initial_missing',\n",
       " '_le_from_ge',\n",
       " '_le_from_gt',\n",
       " '_le_from_lt',\n",
       " '_lru_cache_wrapper',\n",
       " '_lt_from_ge',\n",
       " '_lt_from_gt',\n",
       " '_lt_from_le',\n",
       " '_make_key',\n",
       " '_unwrap_partial',\n",
       " 'cache',\n",
       " 'cached_property',\n",
       " 'cmp_to_key',\n",
       " 'get_cache_token',\n",
       " 'lru_cache',\n",
       " 'namedtuple',\n",
       " 'partial',\n",
       " 'partialmethod',\n",
       " 'recursive_repr',\n",
       " 'reduce',\n",
       " 'singledispatch',\n",
       " 'singledispatchmethod',\n",
       " 'total_ordering',\n",
       " 'update_wrapper',\n",
       " 'wraps']"
      ]
     },
     "execution_count": 40,
     "metadata": {},
     "output_type": "execute_result"
    }
   ],
   "source": [
    "import functools\n",
    "dir(functools)"
   ]
  },
  {
   "cell_type": "code",
   "execution_count": 41,
   "id": "0dd7f56d-a76e-4837-bafd-81a15f7940f4",
   "metadata": {},
   "outputs": [
    {
     "ename": "TypeError",
     "evalue": "reduce expected at least 2 arguments, got 0",
     "output_type": "error",
     "traceback": [
      "\u001b[1;31m---------------------------------------------------------------------------\u001b[0m",
      "\u001b[1;31mTypeError\u001b[0m                                 Traceback (most recent call last)",
      "Cell \u001b[1;32mIn[41], line 1\u001b[0m\n\u001b[1;32m----> 1\u001b[0m functools\u001b[38;5;241m.\u001b[39mreduce()\n",
      "\u001b[1;31mTypeError\u001b[0m: reduce expected at least 2 arguments, got 0"
     ]
    }
   ],
   "source": [
    "functools.reduce()"
   ]
  },
  {
   "cell_type": "code",
   "execution_count": 43,
   "id": "a6506a3f-232c-4b30-aa08-6ae3f7b82da0",
   "metadata": {},
   "outputs": [
    {
     "data": {
      "text/plain": [
       "15"
      ]
     },
     "execution_count": 43,
     "metadata": {},
     "output_type": "execute_result"
    }
   ],
   "source": [
    "l2=[1,2,3,4,5]\n",
    "functools.reduce(lambda summ,i: summ+i,numbers)\n"
   ]
  },
  {
   "cell_type": "code",
   "execution_count": 50,
   "id": "515dc3c1-603c-4489-9429-3416e2b4185a",
   "metadata": {},
   "outputs": [
    {
     "data": {
      "text/plain": [
       "15"
      ]
     },
     "execution_count": 50,
     "metadata": {},
     "output_type": "execute_result"
    }
   ],
   "source": [
    "import functools as ft\n",
    "l2=[1,2,3,4,5]\n",
    "ft.reduce(lambda summ,i: summ+i,l1)\n",
    "\n",
    "from functools import reduce\n",
    "l2=[1,2,3,4,5]\n",
    "ft.reduce(lambda summ,i: summ+i,l1)\n",
    "\n",
    "\n",
    "import functools as ft\n",
    "l2=[1,2,3,4,5]\n",
    "ft.reduce(lambda summ,i: summ+i,l1)"
   ]
  },
  {
   "cell_type": "code",
   "execution_count": 46,
   "id": "e1c35fc9-b574-4602-a24e-c907602bed64",
   "metadata": {},
   "outputs": [
    {
     "data": {
      "text/plain": [
       "15"
      ]
     },
     "execution_count": 46,
     "metadata": {},
     "output_type": "execute_result"
    }
   ],
   "source": [
    "import functools as ft\n",
    "l2=[1,2,3,4,5]\n",
    "ft.reduce(lambda summ,i:summ+i,l1,0)"
   ]
  },
  {
   "cell_type": "code",
   "execution_count": null,
   "id": "f85de28e-5745-4947-9f65-2320b57de9f7",
   "metadata": {},
   "outputs": [],
   "source": []
  }
 ],
 "metadata": {
  "kernelspec": {
   "display_name": "Python 3 (ipykernel)",
   "language": "python",
   "name": "python3"
  },
  "language_info": {
   "codemirror_mode": {
    "name": "ipython",
    "version": 3
   },
   "file_extension": ".py",
   "mimetype": "text/x-python",
   "name": "python",
   "nbconvert_exporter": "python",
   "pygments_lexer": "ipython3",
   "version": "3.11.7"
  }
 },
 "nbformat": 4,
 "nbformat_minor": 5
}
