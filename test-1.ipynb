{
 "cells": [
  {
   "cell_type": "code",
   "execution_count": 3,
   "id": "6f5fa30d-c9ae-447a-b14d-23f684043d2f",
   "metadata": {},
   "outputs": [
    {
     "name": "stdin",
     "output_type": "stream",
     "text": [
      "Enter number1 : 10\n",
      "enter number2 : 20\n"
     ]
    },
    {
     "name": "stdout",
     "output_type": "stream",
     "text": [
      "airthemetic operations\n",
      "the airthemetic operations are 30 -10 200 0.5 100000000000000000000 0 and 10\n"
     ]
    }
   ],
   "source": [
    "number1=eval(input(\"Enter number1 :\"))\n",
    "number2=eval(input(\"enter number2 :\"))\n",
    "print(\"airthemetic operations\")\n",
    "add=number1+number2\n",
    "sub=number1-number2\n",
    "mult=number1*number2\n",
    "div=number1/number2\n",
    "mod=number1%number2\n",
    "floor_division=number1//number2\n",
    "Exponentiation=number1 ** number2\n",
    "print(f\"the airthemetic operations are {add} {sub} {mult} {div} {Exponentiation} {floor_division} and {mod}\")"
   ]
  },
  {
   "cell_type": "code",
   "execution_count": 11,
   "id": "1784bc99-c59c-4cf4-9914-0542ed225aca",
   "metadata": {},
   "outputs": [
    {
     "name": "stdout",
     "output_type": "stream",
     "text": [
      "the 10 steps of random numbers are 6 14 23 33 50 54 66 77 87 91\n"
     ]
    }
   ],
   "source": [
    "import random\n",
    "num1=random.randint(1,10)\n",
    "num2=random.randint(10,20)\n",
    "num3=random.randint(20,30)\n",
    "num4=random.randint(30,40)\n",
    "num5=random.randint(40,50)\n",
    "num6=random.randint(50,60)\n",
    "num7=random.randint(60,70)\n",
    "num8=random.randint(70,80)\n",
    "num9=random.randint(80,90)\n",
    "num10=random.randint(90,100)\n",
    "print(f\"the 10 steps of random numbers are {num1} {num2} {num3} {num4} {num5} {num6} {num7} {num8} {num9} {num10}\")\n"
   ]
  },
  {
   "cell_type": "code",
   "execution_count": 10,
   "id": "83943e11-6bd1-4285-a743-64dce316d40b",
   "metadata": {},
   "outputs": [
    {
     "name": "stdout",
     "output_type": "stream",
     "text": [
      "the 10 steps of random numbers are 1 10 20 30 40 50 60 70 80 90\n"
     ]
    }
   ],
   "source": [
    "import random\n",
    "num1=random.randrange(1,10,10)\n",
    "num2=random.randrange(10,20,10)\n",
    "num3=random.randrange(20,30,10)\n",
    "num4=random.randrange(30,40,10)\n",
    "num5=random.randrange(40,50,10)\n",
    "num6=random.randrange(50,60,10)\n",
    "num7=random.randrange(60,70,10)\n",
    "num8=random.randrange(70,80,10)\n",
    "num9=random.randrange(80,90,10)\n",
    "num10=random.randrange(90,100,10)\n",
    "print(f\"the 10 steps of random numbers are {num1} {num2} {num3} {num4} {num5} {num6} {num7} {num8} {num9} {num10}\")\n"
   ]
  },
  {
   "cell_type": "markdown",
   "id": "8cacf973-3336-4d20-b21a-a93b82647ab7",
   "metadata": {},
   "source": [
    "#explain slicing and indexing with examples\n",
    "**slicing and indexing**\n",
    "- slicing and indexing are the two concepts, they help us to acess specific elements in a sequence, such as list,tuple or string\n",
    "- slicing can be specifed through starting index and ending index\n",
    "- indexing can be specified through the position of elements in the index\n"
   ]
  },
  {
   "cell_type": "code",
   "execution_count": 9,
   "id": "c537c5bf-e77e-4aab-8af3-a72780363fc5",
   "metadata": {},
   "outputs": [
    {
     "name": "stdout",
     "output_type": "stream",
     "text": [
      "['banana', 'mango', 'grapes']\n"
     ]
    }
   ],
   "source": [
    "#slicing example\n",
    "list=['apple','banana','mango','grapes']\n",
    "print(list[1:4])"
   ]
  },
  {
   "cell_type": "code",
   "execution_count": 35,
   "id": "b2418cd1-6bf1-4413-967d-a3b5ef80f546",
   "metadata": {},
   "outputs": [
    {
     "name": "stdout",
     "output_type": "stream",
     "text": [
      "1\n"
     ]
    }
   ],
   "source": [
    "#indexing exaple\n",
    "list=[1,2,3,4,5]\n",
    "print(list[0])"
   ]
  },
  {
   "cell_type": "code",
   "execution_count": 32,
   "id": "2918e099-3bcd-4e6b-b3fe-02c1dd932212",
   "metadata": {},
   "outputs": [
    {
     "name": "stdout",
     "output_type": "stream",
     "text": [
      "the two decimal places of floating value 75.47\n"
     ]
    }
   ],
   "source": [
    "number=75.469783\n",
    "value=round(number,2)\n",
    "print(f\"the two decimal places of floating value {value}\")"
   ]
  },
  {
   "cell_type": "markdown",
   "id": "d9652ed8-acec-48a8-999c-011543d594be",
   "metadata": {},
   "source": [
    "#Explain type casting with fundamental datatypes with example.\n",
    "**type_casting**\n",
    "- convert one data type to another data type is called as type casting\n",
    "- which means we want to convert\n",
    "    - integer type to all other(float,str,bool) data types\n",
    "    - float type to all other(int,str,bool) data types\n",
    "    - str type to all other(int,float,bool) data types\n",
    "    - bool type to all other(int,float,str) data types"
   ]
  },
  {
   "cell_type": "markdown",
   "id": "31818883-d891-468b-abb4-6c1286bc5770",
   "metadata": {},
   "source": [
    "**int**\n"
   ]
  },
  {
   "cell_type": "code",
   "execution_count": 41,
   "id": "320ca0d7-8a87-41ec-868a-9acdecc55a4d",
   "metadata": {},
   "outputs": [
    {
     "name": "stdout",
     "output_type": "stream",
     "text": [
      "the type casting of int is 10.0 True 10\n"
     ]
    }
   ],
   "source": [
    "num=10\n",
    "type(num)\n",
    "f=float(num)\n",
    "b=bool(num)\n",
    "s=str(num)\n",
    "print(f\"the type casting of int is {f} {b} {s}\")"
   ]
  },
  {
   "cell_type": "markdown",
   "id": "91dca0ac-d4fc-4bb8-8f8e-c6d876af9479",
   "metadata": {},
   "source": [
    "**float**"
   ]
  },
  {
   "cell_type": "code",
   "execution_count": 45,
   "id": "a74bab1f-a083-49fc-84ad-b893250c70aa",
   "metadata": {},
   "outputs": [
    {
     "name": "stdout",
     "output_type": "stream",
     "text": [
      "the type casting of float is 10 10.345 True\n"
     ]
    }
   ],
   "source": [
    "float=10.345\n",
    "type(float)\n",
    "i=int(float)\n",
    "s=str(float)\n",
    "b=bool(float)\n",
    "print(f\"the type casting of float is {i} {s} {b}\")\n",
    "      "
   ]
  },
  {
   "cell_type": "markdown",
   "id": "a0c09975-6804-4c83-8f8c-de2cc76867e2",
   "metadata": {},
   "source": [
    "**str**"
   ]
  },
  {
   "cell_type": "code",
   "execution_count": 88,
   "id": "c5d6d0e5-d292-403b-bab8-d357c227fad5",
   "metadata": {},
   "outputs": [
    {
     "data": {
      "text/plain": [
       "str"
      ]
     },
     "execution_count": 88,
     "metadata": {},
     "output_type": "execute_result"
    }
   ],
   "source": [
    "stre='10'\n",
    "type(str)"
   ]
  },
  {
   "cell_type": "code",
   "execution_count": 89,
   "id": "b80950ed-bd80-43a4-aec1-bebe6ffe978e",
   "metadata": {},
   "outputs": [
    {
     "data": {
      "text/plain": [
       "10"
      ]
     },
     "execution_count": 89,
     "metadata": {},
     "output_type": "execute_result"
    }
   ],
   "source": [
    "int(stre)"
   ]
  },
  {
   "cell_type": "markdown",
   "id": "642bf9ab-a315-4f11-a616-f6ff582d2c9d",
   "metadata": {},
   "source": [
    "**bool**"
   ]
  },
  {
   "cell_type": "code",
   "execution_count": 7,
   "id": "a1279e19-1a40-4f5f-8b05-94d5cfb50b24",
   "metadata": {},
   "outputs": [
    {
     "data": {
      "text/plain": [
       "1"
      ]
     },
     "execution_count": 7,
     "metadata": {},
     "output_type": "execute_result"
    }
   ],
   "source": [
    "int(True)"
   ]
  },
  {
   "cell_type": "code",
   "execution_count": 8,
   "id": "16c5f061-cc8c-4db8-b4a0-601c7b984dd3",
   "metadata": {},
   "outputs": [
    {
     "data": {
      "text/plain": [
       "1.0"
      ]
     },
     "execution_count": 8,
     "metadata": {},
     "output_type": "execute_result"
    }
   ],
   "source": [
    "float(True)"
   ]
  },
  {
   "cell_type": "code",
   "execution_count": 9,
   "id": "3d3bb11e-9ecb-4f3a-bdad-873cf82bb6eb",
   "metadata": {},
   "outputs": [
    {
     "data": {
      "text/plain": [
       "'True'"
      ]
     },
     "execution_count": 9,
     "metadata": {},
     "output_type": "execute_result"
    }
   ],
   "source": [
    "str(True)"
   ]
  }
 ],
 "metadata": {
  "kernelspec": {
   "display_name": "Python 3 (ipykernel)",
   "language": "python",
   "name": "python3"
  },
  "language_info": {
   "codemirror_mode": {
    "name": "ipython",
    "version": 3
   },
   "file_extension": ".py",
   "mimetype": "text/x-python",
   "name": "python",
   "nbconvert_exporter": "python",
   "pygments_lexer": "ipython3",
   "version": "3.11.7"
  }
 },
 "nbformat": 4,
 "nbformat_minor": 5
}
