{
 "cells": [
  {
   "cell_type": "code",
   "execution_count": 1,
   "id": "f356f6db-fbc2-4c90-be19-faa243564597",
   "metadata": {},
   "outputs": [
    {
     "name": "stdout",
     "output_type": "stream",
     "text": [
      "Hello, [manu]!\n"
     ]
    }
   ],
   "source": [
    "#Write a Python function greet(name) that takes a person's name as an argument and prints agreeting message in the format \"Hello, [name]!\".\n",
    "def great(name):\n",
    "    print(f\"Hello, {name}!\")\n",
    "great('[manu]')"
   ]
  },
  {
   "cell_type": "code",
   "execution_count": 14,
   "id": "983fb3e1-1a1c-42e2-8853-90f061ddb12e",
   "metadata": {},
   "outputs": [
    {
     "data": {
      "text/plain": [
       "100"
      ]
     },
     "execution_count": 14,
     "metadata": {},
     "output_type": "execute_result"
    }
   ],
   "source": [
    "#Write a Python function square(number) that takes an integer as an argument and returns thesquare of that number.\n",
    "def square(number):\n",
    "    return number**2\n",
    "square(10) \n"
   ]
  },
  {
   "cell_type": "code",
   "execution_count": 41,
   "id": "c44db35b-255c-4232-8490-41d4645500eb",
   "metadata": {},
   "outputs": [
    {
     "name": "stdout",
     "output_type": "stream",
     "text": [
      "100 Fahrenheit is 37.77777777777778 Celsius\n"
     ]
    }
   ],
   "source": [
    "#Write a Python function fahrenheit_to_celsius(fahrenheit) that takes a temperature in\n",
    "#Fahrenheit as an argument and returns the equivalent temperature in Celsius. The formula to convert\n",
    "#Fahrenheit to Celsius is: Celsius=(Fahrenheit−32)∗5/9Celsius = (Fahrenheit - 32) *\n",
    "#5/9Celsius=(Fahrenheit−32)∗5/9\n",
    "def fahrenheit_to_celsius(fahrenheit):\n",
    "  return (fahrenheit - 32) * 5 / 9\n",
    "fahrenheit_temperature=100\n",
    "celsius=fahrenheit_to_celsius(fahrenheit_temperature)\n",
    "print(f\"{fahrenheit_temperature} Fahrenheit is {celsius:} Celsius\")"
   ]
  },
  {
   "cell_type": "code",
   "execution_count": 36,
   "id": "79e0bfd4-df37-41c0-9ad5-551b5180cfc7",
   "metadata": {},
   "outputs": [
    {
     "name": "stdin",
     "output_type": "stream",
     "text": [
      "enter a number: 1\n"
     ]
    },
    {
     "name": "stdout",
     "output_type": "stream",
     "text": [
      "Positive\n"
     ]
    }
   ],
   "source": [
    "#Write a Python script that takes an integer input from the user and prints \"Positive\" if the number is\n",
    "#greater than zero, \"Negative\" if the number is less than zero, and \"Zero\" if the number is exactly zero.\n",
    "# Get integer input from the user\n",
    "number=eval(input(\"enter a number:\"))\n",
    "if number > 0:\n",
    "    print(\"Positive\")\n",
    "elif number < 0:\n",
    "    print(\"Negative\")\n",
    "else:\n",
    "    print(\"Zero\")\n"
   ]
  },
  {
   "cell_type": "code",
   "execution_count": 40,
   "id": "572e354a-6ac2-44a3-a3ae-2365501ddad4",
   "metadata": {},
   "outputs": [
    {
     "name": "stdin",
     "output_type": "stream",
     "text": [
      "enter the year: 2024\n"
     ]
    },
    {
     "name": "stdout",
     "output_type": "stream",
     "text": [
      "leap year\n"
     ]
    }
   ],
   "source": [
    "#Write a Python script that takes a year as input from the user and prints \"Leap Year\" if the year is a\n",
    "#leap year, and \"Not a Leap Year\" otherwise. (A year is a leap year if it is divisible by 4 but not by 100,\n",
    "#unless it is also divisible by 400.)\n",
    "number=eval(input(\"enter the year:\"))\n",
    "if number%4==0 and number%100!=0:\n",
    "    print(\"leap year\")\n",
    "else:\n",
    "    print(\"not a leap year\")"
   ]
  },
  {
   "cell_type": "code",
   "execution_count": null,
   "id": "0a3b0b2e-2162-4158-aa11-63d58430f7ec",
   "metadata": {},
   "outputs": [],
   "source": []
  }
 ],
 "metadata": {
  "kernelspec": {
   "display_name": "Python 3 (ipykernel)",
   "language": "python",
   "name": "python3"
  },
  "language_info": {
   "codemirror_mode": {
    "name": "ipython",
    "version": 3
   },
   "file_extension": ".py",
   "mimetype": "text/x-python",
   "name": "python",
   "nbconvert_exporter": "python",
   "pygments_lexer": "ipython3",
   "version": "3.11.7"
  }
 },
 "nbformat": 4,
 "nbformat_minor": 5
}
