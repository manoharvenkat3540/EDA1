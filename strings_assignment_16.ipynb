{
 "cells": [
  {
   "cell_type": "code",
   "execution_count": 27,
   "id": "c692d35c-30f8-46a4-bf57-5d6129a60669",
   "metadata": {},
   "outputs": [
    {
     "name": "stdin",
     "output_type": "stream",
     "text": [
      "enter a string: manohar\n"
     ]
    },
    {
     "name": "stdout",
     "output_type": "stream",
     "text": [
      "The total number of characters in the string 7\n",
      "The string repeated 10 times : manoharmanoharmanoharmanoharmanoharmanoharmanoharmanoharmanoharmanohar\n",
      "The first character of the string : m\n",
      "The first three characters of the string: man\n",
      "The last three characters of the string: har\n",
      "The string backwards: rahonam\n",
      "The seventh character of the string: r\n",
      "The string with its first and last characters removed:anoha\n",
      "The string in all caps: MANOHAR\n",
      "The string with every a replaced with an e : menoher\n"
     ]
    }
   ],
   "source": [
    "#1. Write a program that asks the user to enter a string. The program should then print the following:\n",
    "#(a) The total number of characters in the string\n",
    "#(b) The string repeated 10 times\n",
    "#(c) The first character of the string (remember that string indices start at 0) \n",
    "#(d) The first threecharacters of the string\n",
    "#(e) The last three characters of the string\n",
    "#(f) The string backwards\n",
    "#(g) The seventh character of the string if the string is long enough and a message otherwise\n",
    "#(h) The string with its first and last characters removed\n",
    "#(i) The string in all caps\n",
    "#(j) The string with every a replaced with an e\n",
    "\n",
    "\n",
    "user=input(\"enter a string:\")\n",
    "total=len(user)\n",
    "print(f\"The total number of characters in the string {total}\")\n",
    "repeated=user*10\n",
    "print(f\"The string repeated 10 times : {repeated}\")\n",
    "first=user[0]\n",
    "print(f\"The first character of the string : {first}\")\n",
    "first_three=user[:3]\n",
    "print(f\"The first three characters of the string: {first_three}\")\n",
    "last_three=user[-3:]\n",
    "print(f\"The last three characters of the string: {last_three}\")\n",
    "backwards=user[::-1]\n",
    "print(f\"The string backwards: {backwards}\")\n",
    "if len(user) >= 7:\n",
    "    seven=user[6]\n",
    "    print(f\"The seventh character of the string: {seven}\")\n",
    "else:\n",
    "    print(\"the string is less than seven characters\")\n",
    "remove=user[1:-1]\n",
    "print(f\"The string with its first and last characters removed:{remove}\")\n",
    "cap=user.upper()\n",
    "print(f\"The string in all caps: {cap}\")\n",
    "replace=user.replace('a','e')\n",
    "print(f\"The string with every a replaced with an e : {replace}\")"
   ]
  },
  {
   "cell_type": "code",
   "execution_count": 30,
   "id": "ced4062a-0f90-451d-88e9-3254be87ec87",
   "metadata": {},
   "outputs": [
    {
     "name": "stdin",
     "output_type": "stream",
     "text": [
      "enter the string hi naresh how are u\n"
     ]
    },
    {
     "name": "stdout",
     "output_type": "stream",
     "text": [
      "the total words containing in the string is: 5\n"
     ]
    }
   ],
   "source": [
    "#2. A simple way to estimate the number of words in a string is to count the number of spaces in the\n",
    "#string. Write a program that asks the user for a string and returns an estimate of how many words\n",
    "#are in the string.\n",
    "#Tip: You need to count the number of words using spaces\n",
    "string=input(\"enter the string\")\n",
    "count=string.count(' ')\n",
    "total=count+1\n",
    "print(f\"the total words containing in the string is: {total}\")"
   ]
  },
  {
   "cell_type": "code",
   "execution_count": 35,
   "id": "34b5959a-1cf8-45e0-9056-54cad7c37f40",
   "metadata": {},
   "outputs": [
    {
     "name": "stdin",
     "output_type": "stream",
     "text": [
      "enter a word manohar\n"
     ]
    },
    {
     "name": "stdout",
     "output_type": "stream",
     "text": [
      "The word does not contain any vowels\n",
      " The wordcontains of vowels :a\n",
      "The word does not contain any vowels\n",
      " The wordcontains of vowels :o\n",
      "The word does not contain any vowels\n",
      " The wordcontains of vowels :a\n",
      "The word does not contain any vowels\n"
     ]
    }
   ],
   "source": [
    "#3.Write a program that asks the user to enter a word and prints out whether that word #contains any\r",
    "#vowel\n",
    "\n",
    "\n",
    "user=input(\"enter a word\")\n",
    "for i in user:\n",
    "    if i in 'aeiou':\n",
    "        print(f\" The wordcontains of vowels :{i}\")\n",
    "    else:\n",
    "        print(\"The word does not contain any vowels\")\n",
    "        \n"
   ]
  },
  {
   "cell_type": "code",
   "execution_count": 41,
   "id": "18511f4c-0fc9-4c9e-89b3-accd100a71d0",
   "metadata": {},
   "outputs": [
    {
     "name": "stdin",
     "output_type": "stream",
     "text": [
      "enter the string manohar\n"
     ]
    },
    {
     "name": "stdout",
     "output_type": "stream",
     "text": [
      "Output: m*nohar!!!\n"
     ]
    }
   ],
   "source": [
    "#5. Write a program that asks the user to enter a string. The program should create a new string\n",
    "#called new_string from the user’s string such that the second character is changed to an asterisk and\n",
    "#three exclamation points are attached to the end of the string. Finally, print new_string.\n",
    "\n",
    "user=input(\"enter the string\")\n",
    "if len(user) > 1:\n",
    "    new_string = user[0] + '*' + user[2:] + '!!!'\n",
    "else:\n",
    "    new_string = user + '!!!'\n",
    "\n",
    "print(\"Output:\", new_string)\n"
   ]
  },
  {
   "cell_type": "code",
   "execution_count": 52,
   "id": "071fab2d-5a8f-44a3-8448-512306a9e8ba",
   "metadata": {},
   "outputs": [
    {
     "name": "stdin",
     "output_type": "stream",
     "text": [
      "enter a word: radar\n"
     ]
    },
    {
     "name": "stdout",
     "output_type": "stream",
     "text": [
      "palindrome\n"
     ]
    }
   ],
   "source": [
    "#6. Write a program that asks the user to enter a word and determines whether the word is a\n",
    "#palindrome or not. A palindrome is a word that reads the same backwards as forwards\n",
    "\n",
    "user=input(\"enter a word:\")\n",
    "reverse=user[::-1]\n",
    "if reverse==user:\n",
    "    print(\"palindrome\")\n",
    "else:\n",
    "    print(\"not a palindrome\")"
   ]
  },
  {
   "cell_type": "code",
   "execution_count": 60,
   "id": "b4392eb1-8199-4cfb-bbcc-53a20e694297",
   "metadata": {},
   "outputs": [
    {
     "name": "stdin",
     "output_type": "stream",
     "text": [
      "user how many email addresses they will be entering: 2\n",
      "enter the email address: @prof.college.edu\n",
      "enter the email address: @prof.college.edu\n"
     ]
    },
    {
     "name": "stdout",
     "output_type": "stream",
     "text": [
      "all the addresses are student addresses\n"
     ]
    }
   ],
   "source": [
    "#7. At a certain school, student email addresses end with @student.college.edu, while professor\n",
    "#email addresses end with @prof.college.edu. Write a program that first asks the user how many\n",
    "#email addresses they will be entering, and then has the user enter those addresses. After all the\n",
    "#email addresses are entered, the program should print out a message indicating either that all the\n",
    "#addresses are student addresses or that there were some professor addresses entered.\n",
    "\n",
    "user=int(input(\"user how many email addresses they will be entering:\"))\n",
    "count=0\n",
    "for i in range(user):\n",
    "    email=input(\"enter the email address:\")\n",
    "    if email.endswith(\"@prof.college.edu\"):\n",
    "        count+=1\n",
    "if count==1:\n",
    "    print(\"there were some professor addresses entered\")\n",
    "else:\n",
    "    print(\"all the addresses are student addresses\")"
   ]
  },
  {
   "cell_type": "code",
   "execution_count": 65,
   "id": "cb14b5c3-6156-427d-90b4-bd02f18bdf80",
   "metadata": {},
   "outputs": [
    {
     "name": "stdin",
     "output_type": "stream",
     "text": [
      "enter the word HEY\n"
     ]
    },
    {
     "name": "stdout",
     "output_type": "stream",
     "text": [
      "HH\n",
      "EE\n",
      "YY\n"
     ]
    }
   ],
   "source": [
    "#8. Write a program that asks the user to enter a string, then prints out each letter of the string\n",
    "#doubled and on a separate line. For instance,\n",
    "#if the user entered HEY,\n",
    "#the output would be\n",
    "#HH\n",
    "#EE\n",
    "#YY\n",
    "user=input(\"enter the word\")\n",
    "for i in user:\n",
    "    print(i*2)"
   ]
  },
  {
   "cell_type": "code",
   "execution_count": 25,
   "id": "14a99b85-e7b6-4dae-b88e-a1a819ccdfb4",
   "metadata": {},
   "outputs": [
    {
     "name": "stdin",
     "output_type": "stream",
     "text": [
      "enter the string buffalo\n"
     ]
    },
    {
     "name": "stdout",
     "output_type": "stream",
     "text": [
      "the first line after finfing the a buffa and the second line is lo\n"
     ]
    }
   ],
   "source": [
    "#9.Write a program that asks the user to enter a word that contains the letter a. The program should\n",
    "#then print the following two lines: On the first line should be the part of the string up to and\n",
    "#including the the first a, and on the second line should be the rest of the string.\n",
    "#Sample output is shown below:\n",
    "#Enter a word: buffalo\n",
    "#buffa\n",
    "#lo\n",
    "str1=input(\"enter the string\")\n",
    "for i in range(len(str1)):\n",
    "    if str1[i]=='a':\n",
    "        word=str1[:i+1]\n",
    "        print(f\"the first line after finfing the a {word} and the second line is {str1[i+1:]}\")"
   ]
  },
  {
   "cell_type": "code",
   "execution_count": 81,
   "id": "5d9447c8-16be-4e04-ab1b-362bd0dc527e",
   "metadata": {},
   "outputs": [
    {
     "name": "stdin",
     "output_type": "stream",
     "text": [
      "enter a word: rhinoceros\n"
     ]
    },
    {
     "name": "stdout",
     "output_type": "stream",
     "text": [
      " rHiNoCeRoS\n"
     ]
    }
   ],
   "source": [
    "#10. Write a program that asks the user to enter a word and then capitalizes every other letter of that\n",
    "#word.\n",
    "#So if the user enters rhinoceros,\n",
    "#the program should print rHiNoCeRoS.\n",
    "\n",
    "user=input(\"enter a word:\")\n",
    "result=\" \"\n",
    "for i in range(len(user)):\n",
    "    if i%2 == 0:\n",
    "        result+=user[i].lower()\n",
    "    else:\n",
    "        result+=user[i].upper()\n",
    "print(result)"
   ]
  },
  {
   "cell_type": "code",
   "execution_count": 104,
   "id": "a1af0a81-f2a8-423c-ad79-07064a592a7e",
   "metadata": {},
   "outputs": [
    {
     "name": "stdout",
     "output_type": "stream",
     "text": [
      "AaBbCcDdEe\n"
     ]
    }
   ],
   "source": [
    "#11. Write a program that asks the user to enter two strings of the same length. The program should\n",
    "#then check to see if the strings are of the same length. If they are not, the program should print an\n",
    "#appropriate message and exit. If they are of the same length, the program should alternate the\n",
    "#characters of the two strings. For example,\n",
    "#if the user enters abcde and ABCDE\n",
    "#the program should print out AaBbCcDdEe.\n",
    "\n",
    "str1=\"ABCDE\"\n",
    "str2=\"abcde\"\n",
    "result=\"\"\n",
    "for i in range(len(str1)):\n",
    "    if len(str1)==(len(str2)):\n",
    "        result+=str1[i]+str2[i]\n",
    "    else:\n",
    "        print(\"appropriate message\")\n",
    "print(result)\n",
    "\n",
    "\n",
    "        "
   ]
  },
  {
   "cell_type": "code",
   "execution_count": 124,
   "id": "5348d415-05f6-4b2a-8098-d8b4d8dbbff6",
   "metadata": {},
   "outputs": [
    {
     "name": "stdin",
     "output_type": "stream",
     "text": [
      "enter a word hi naresh how are u\n"
     ]
    },
    {
     "name": "stdout",
     "output_type": "stream",
     "text": [
      "Hi Naresh How Are U\n"
     ]
    }
   ],
   "source": [
    "#12. Write a program that asks the user to enter their name in lowercase and then capitalizes the first\n",
    "#letter of each word of their name.\n",
    "user=input(\"enter a word\")\n",
    "cap=[]\n",
    "words=user.split()\n",
    "for i in words:\n",
    "    cap.append(i.capitalize())\n",
    "    res=' '.join(cap)\n",
    "print(res)"
   ]
  },
  {
   "cell_type": "code",
   "execution_count": 6,
   "id": "554f850d-de15-43dd-b51c-91ea1641dfd5",
   "metadata": {},
   "outputs": [
    {
     "name": "stdin",
     "output_type": "stream",
     "text": [
      "Enter a string:  manu\n",
      "Enter a letter:  m\n"
     ]
    },
    {
     "name": "stdout",
     "output_type": "stream",
     "text": [
      "The letter 'm' appears in the string.\n"
     ]
    },
    {
     "name": "stdin",
     "output_type": "stream",
     "text": [
      "entera word manu\n",
      "enter a letter m\n"
     ]
    },
    {
     "name": "stdout",
     "output_type": "stream",
     "text": [
      "The letter m occures 1 times\n"
     ]
    },
    {
     "name": "stdin",
     "output_type": "stream",
     "text": [
      "Enter a string:  manu\n",
      "Enter a letter:  m\n"
     ]
    },
    {
     "name": "stdout",
     "output_type": "stream",
     "text": [
      "The first occurrence of the letter 'm' is at index 1.\n"
     ]
    }
   ],
   "source": [
    "#13. The goal of this exercise is to see if you can mimic the behavior of the in operator and the count\n",
    "#and index methods using only variables, for loops, and if statements.\n",
    "#(a) Without using the in operator, write a program that asks the user for a string and a letter\n",
    "#and prints out whether or not the letter appears in the string.\n",
    "\n",
    "\n",
    "user_input = input(\"Enter a string: \")\n",
    "letter = input(\"Enter a letter: \")\n",
    "found=0\n",
    "\n",
    "# Loop through each character in the string\n",
    "for char in user_input:\n",
    "    if char == letter:\n",
    "        found = 1\n",
    "        break\n",
    "\n",
    "if found:\n",
    "    print(f\"The letter '{letter}' appears in the string.\")\n",
    "else:\n",
    "    print(f\"The letter '{letter}' does not appear in the string.\")\n",
    "\n",
    "\n",
    "\n",
    "\n",
    "\n",
    "\n",
    "\n",
    "#(b) Without using the count method, write a program that asks the user for a string and a\n",
    "#letter and counts how many occurrences there are of the letter in the string.\n",
    "\n",
    "use=input(\"entera word\")\n",
    "let1=input(\"enter a letter\")\n",
    "count=0\n",
    "\n",
    "for i in user1:\n",
    "    if i==let1:\n",
    "        count+=1\n",
    "print(f\"The letter {let1} occures {count} times\")\n",
    "\n",
    "\n",
    "#(c) Without using the index method, write a program that asks the user for a string and a\n",
    "#letter and prints out the index of the first occurrence of the letter in the string. If the letter is\n",
    "#not in the string, the program should say so.\n",
    "\n",
    "user_input = input(\"Enter a string: \")\n",
    "letter = input(\"Enter a letter: \")\n",
    "\n",
    "index = 0\n",
    "\n",
    "for i in range(len(user_input)):\n",
    "    if user_input[i] == letter:\n",
    "        index+=1\n",
    "        break\n",
    "if index != -1:\n",
    "    print(f\"The first occurrence of the letter '{letter}' is at index {index}.\")\n",
    "else:\n",
    "    print(f\"The letter '{letter}' is not in the string.\")\n",
    "\n"
   ]
  },
  {
   "cell_type": "code",
   "execution_count": 12,
   "id": "2835d0d3-8697-4be4-b687-1f9e3bb001af",
   "metadata": {},
   "outputs": [
    {
     "name": "stdin",
     "output_type": "stream",
     "text": [
      "enter a string stephen.marquard@uct.ac.za Sat Jan 5 09:14:16 2008\n"
     ]
    },
    {
     "name": "stdout",
     "output_type": "stream",
     "text": [
      "stephen.marquard@uct.ac.za\n",
      "uct.ac.za\n"
     ]
    }
   ],
   "source": [
    "'''14. Finding a substring within a string\n",
    "For example, if we were presented a series of lines formatted as follows:\n",
    "From stephen.marquard@uct.ac.za Sat Jan 5 09:14:16 2008\n",
    "and we wanted to pull out only the second half of the address (i.e., uct.ac.za)'''\n",
    "\n",
    "str1=input('enter a string')\n",
    "word=str1.split()\n",
    "str2=word[0]\n",
    "print(str2)\n",
    "str3=str2.split('@')[1]\n",
    "print(str3)"
   ]
  },
  {
   "cell_type": "code",
   "execution_count": 13,
   "id": "369d6480-d1e9-47b7-9c8a-76187d508414",
   "metadata": {},
   "outputs": [
    {
     "name": "stdin",
     "output_type": "stream",
     "text": [
      "enter a word abc\n"
     ]
    },
    {
     "name": "stdout",
     "output_type": "stream",
     "text": [
      "abcing\n"
     ]
    }
   ],
   "source": [
    "'''15)Write a Python program to add &#39;ing&#39; at the end of a given string (length should be at least 3). If the\n",
    "given string already ends with &#39;ing&#39; then add &#39;ly&#39; instead.\n",
    "If the string length of the given string is less than 3, leave it unchanged.\n",
    "Go to the editor\n",
    "Sample String : &#39;abc&#39;\n",
    "Expected Result : &#39;abcing&#39;\n",
    "Sample String : &#39;string&#39;\n",
    "Expected Result : &#39;stringly&#39;'''\n",
    "\n",
    "\n",
    "str1=input(\"enter a word\")\n",
    "if len(str1)>=3:\n",
    "    if str1.endswith('ing'):\n",
    "        str1+='ly'\n",
    "    else:\n",
    "        str1+='ing'\n",
    "print(str1)\n",
    "    "
   ]
  },
  {
   "cell_type": "code",
   "execution_count": 19,
   "id": "9110feae-67ee-43ba-9732-e16812be766a",
   "metadata": {},
   "outputs": [
    {
     "data": {
      "text/plain": [
       "0.8475"
      ]
     },
     "execution_count": 19,
     "metadata": {},
     "output_type": "execute_result"
    }
   ],
   "source": [
    "'''16. Take the following Python code that stores a string:‘\n",
    "string = &#39;X-DSPAM-Confidence: 0.8475&#39;\n",
    "Extract the portion of the string after the colon character and then use the float function to convert\n",
    "the extracted string into a floating point number.'''\n",
    "\n",
    "string = 'X-DSPAM-Confidence: 0.8475'\n",
    "str1=string.split(':')\n",
    "float(str1[1])"
   ]
  },
  {
   "cell_type": "code",
   "execution_count": null,
   "id": "84646745-b09b-4fc7-8c6d-3ab3252dec73",
   "metadata": {},
   "outputs": [],
   "source": []
  }
 ],
 "metadata": {
  "kernelspec": {
   "display_name": "Python 3 (ipykernel)",
   "language": "python",
   "name": "python3"
  },
  "language_info": {
   "codemirror_mode": {
    "name": "ipython",
    "version": 3
   },
   "file_extension": ".py",
   "mimetype": "text/x-python",
   "name": "python",
   "nbconvert_exporter": "python",
   "pygments_lexer": "ipython3",
   "version": "3.11.7"
  }
 },
 "nbformat": 4,
 "nbformat_minor": 5
}
