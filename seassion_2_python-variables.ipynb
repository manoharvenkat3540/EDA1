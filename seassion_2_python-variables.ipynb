{
 "cells": [
  {
   "cell_type": "markdown",
   "id": "03828de4-a63c-477e-bcec-43f0c1f6defe",
   "metadata": {},
   "source": [
    "## Variables\n",
    "\n",
    "- variables are used to store the values and the values can be change"
   ]
  },
  {
   "cell_type": "code",
   "execution_count": 3,
   "id": "3d8b07ba-9de6-4047-98a0-a5447d5df46e",
   "metadata": {},
   "outputs": [
    {
     "data": {
      "text/plain": [
       "100"
      ]
     },
     "execution_count": 3,
     "metadata": {},
     "output_type": "execute_result"
    }
   ],
   "source": [
    "number = 100 #value 100  stored in a variable name called 'number'\n",
    "number"
   ]
  },
  {
   "cell_type": "code",
   "execution_count": 4,
   "id": "4c7e90cb-ea49-483b-b476-abc273dfa709",
   "metadata": {},
   "outputs": [
    {
     "data": {
      "text/plain": [
       "200"
      ]
     },
     "execution_count": 4,
     "metadata": {},
     "output_type": "execute_result"
    }
   ],
   "source": [
    "number = 200 #value 200  stored in a variable name called 'number'\n",
    "number"
   ]
  },
  {
   "cell_type": "markdown",
   "id": "052d9250-9189-4e66-b28b-d19e2a312848",
   "metadata": {},
   "source": [
    "**Note**\n",
    "\n",
    "- Python is a step by step process\n",
    "- python will take latest output as the latest value\n",
    "- in the above we are using same varaiable: number\n",
    "- but the number changed two times\n",
    "- first time 100\n",
    "- second time 200\n",
    "- latest value 200\n"
   ]
  },
  {
   "cell_type": "code",
   "execution_count": 7,
   "id": "d9664e51-be9d-41cd-9813-d458f1beb3fb",
   "metadata": {},
   "outputs": [
    {
     "data": {
      "text/plain": [
       "200"
      ]
     },
     "execution_count": 7,
     "metadata": {},
     "output_type": "execute_result"
    }
   ],
   "source": [
    "NUMBER = 200\n",
    "NUMBER"
   ]
  },
  {
   "cell_type": "code",
   "execution_count": 8,
   "id": "a2998986-815e-4260-abdb-016bc7c27d2f",
   "metadata": {},
   "outputs": [
    {
     "data": {
      "text/plain": [
       "(200, 200)"
      ]
     },
     "execution_count": 8,
     "metadata": {},
     "output_type": "execute_result"
    }
   ],
   "source": [
    "number, NUMBER"
   ]
  },
  {
   "cell_type": "code",
   "execution_count": 9,
   "id": "e1533b76-ca9c-412a-b5f1-2ffbe143dff2",
   "metadata": {},
   "outputs": [
    {
     "data": {
      "text/plain": [
       "300"
      ]
     },
     "execution_count": 9,
     "metadata": {},
     "output_type": "execute_result"
    }
   ],
   "source": [
    "NUMber = 300\n",
    "NUMber"
   ]
  },
  {
   "cell_type": "code",
   "execution_count": 10,
   "id": "96d667fa-36ed-4090-8bf9-1a2e4ef86bf0",
   "metadata": {},
   "outputs": [
    {
     "data": {
      "text/plain": [
       "400"
      ]
     },
     "execution_count": 10,
     "metadata": {},
     "output_type": "execute_result"
    }
   ],
   "source": [
    "number123=400\n",
    "number123"
   ]
  },
  {
   "cell_type": "code",
   "execution_count": 11,
   "id": "4c9fc8f4-6ab0-48dc-967a-dba70b1fff75",
   "metadata": {},
   "outputs": [
    {
     "ename": "SyntaxError",
     "evalue": "invalid decimal literal (1181908654.py, line 1)",
     "output_type": "error",
     "traceback": [
      "\u001b[1;36m  Cell \u001b[1;32mIn[11], line 1\u001b[1;36m\u001b[0m\n\u001b[1;33m    123number=500\u001b[0m\n\u001b[1;37m      ^\u001b[0m\n\u001b[1;31mSyntaxError\u001b[0m\u001b[1;31m:\u001b[0m invalid decimal literal\n"
     ]
    }
   ],
   "source": [
    "123number=500\n",
    "123number"
   ]
  },
  {
   "cell_type": "code",
   "execution_count": 12,
   "id": "a80d9c55-1377-40f1-af9a-cebd60a497c2",
   "metadata": {},
   "outputs": [
    {
     "ename": "SyntaxError",
     "evalue": "cannot assign to expression here. Maybe you meant '==' instead of '='? (1450364314.py, line 1)",
     "output_type": "error",
     "traceback": [
      "\u001b[1;36m  Cell \u001b[1;32mIn[12], line 1\u001b[1;36m\u001b[0m\n\u001b[1;33m    numb%er=600\u001b[0m\n\u001b[1;37m    ^\u001b[0m\n\u001b[1;31mSyntaxError\u001b[0m\u001b[1;31m:\u001b[0m cannot assign to expression here. Maybe you meant '==' instead of '='?\n"
     ]
    }
   ],
   "source": [
    "numb%er=600\n",
    "numb%er\n"
   ]
  },
  {
   "cell_type": "code",
   "execution_count": 13,
   "id": "aa755a7b-cbce-4672-ac01-74df93237bbe",
   "metadata": {},
   "outputs": [
    {
     "ename": "SyntaxError",
     "evalue": "invalid syntax (2656576567.py, line 1)",
     "output_type": "error",
     "traceback": [
      "\u001b[1;36m  Cell \u001b[1;32mIn[13], line 1\u001b[1;36m\u001b[0m\n\u001b[1;33m    number one=800\u001b[0m\n\u001b[1;37m           ^\u001b[0m\n\u001b[1;31mSyntaxError\u001b[0m\u001b[1;31m:\u001b[0m invalid syntax\n"
     ]
    }
   ],
   "source": [
    "number one=800\n",
    "number one"
   ]
  },
  {
   "cell_type": "code",
   "execution_count": 14,
   "id": "ef3067f8-5967-413c-81af-dbad19333407",
   "metadata": {},
   "outputs": [
    {
     "data": {
      "text/plain": [
       "800"
      ]
     },
     "execution_count": 14,
     "metadata": {},
     "output_type": "execute_result"
    }
   ],
   "source": [
    "number_one=800\n",
    "number_one"
   ]
  },
  {
   "cell_type": "code",
   "execution_count": 16,
   "id": "11da1bfe-4e87-44b4-a607-7912991e9eb5",
   "metadata": {},
   "outputs": [
    {
     "data": {
      "text/plain": [
       "100"
      ]
     },
     "execution_count": 16,
     "metadata": {},
     "output_type": "execute_result"
    }
   ],
   "source": [
    "\n",
    "_=100\n",
    "_"
   ]
  },
  {
   "cell_type": "code",
   "execution_count": 17,
   "id": "72571d49-f387-44f5-92ac-99ef6b774757",
   "metadata": {},
   "outputs": [
    {
     "data": {
      "text/plain": [
       "(100, 200)"
      ]
     },
     "execution_count": 17,
     "metadata": {},
     "output_type": "execute_result"
    }
   ],
   "source": [
    "n1=100,200\n",
    "n1"
   ]
  },
  {
   "cell_type": "code",
   "execution_count": 18,
   "id": "d88b577a-d0ec-42c1-be04-bad6b8b98a87",
   "metadata": {},
   "outputs": [
    {
     "ename": "TypeError",
     "evalue": "cannot unpack non-iterable int object",
     "output_type": "error",
     "traceback": [
      "\u001b[1;31m---------------------------------------------------------------------------\u001b[0m",
      "\u001b[1;31mTypeError\u001b[0m                                 Traceback (most recent call last)",
      "Cell \u001b[1;32mIn[18], line 1\u001b[0m\n\u001b[1;32m----> 1\u001b[0m n2,n3\u001b[38;5;241m=\u001b[39m\u001b[38;5;241m200\u001b[39m\n\u001b[0;32m      2\u001b[0m n2\n",
      "\u001b[1;31mTypeError\u001b[0m: cannot unpack non-iterable int object"
     ]
    }
   ],
   "source": [
    "n2,n3=200\n",
    "n2 "
   ]
  },
  {
   "cell_type": "code",
   "execution_count": 21,
   "id": "1a6c55e9-c2f2-4ad8-8bb6-d92021f12410",
   "metadata": {},
   "outputs": [
    {
     "data": {
      "text/plain": [
       "200"
      ]
     },
     "execution_count": 21,
     "metadata": {},
     "output_type": "execute_result"
    }
   ],
   "source": [
    "n4,n5=100,200\n",
    "n4\n",
    "n5"
   ]
  },
  {
   "cell_type": "markdown",
   "id": "58a7ab17-b2ec-45e6-9e9e-00ca48154965",
   "metadata": {},
   "source": [
    "- python always print the latest values only"
   ]
  },
  {
   "cell_type": "code",
   "execution_count": 22,
   "id": "7477434c-5f49-4c70-ab68-c699acffb6ea",
   "metadata": {},
   "outputs": [
    {
     "data": {
      "text/plain": [
       "(100, 200)"
      ]
     },
     "execution_count": 22,
     "metadata": {},
     "output_type": "execute_result"
    }
   ],
   "source": [
    "n1,_=100,200\n",
    "n1,_"
   ]
  },
  {
   "cell_type": "markdown",
   "id": "44e6df9e-2dd1-46c3-b708-07ca682a35be",
   "metadata": {},
   "source": [
    "- python variables are case sensitive\n",
    "    - variables can be decleared as capital letters and small letters\n",
    "    - variables can not start with Number ( prefix)\n",
    "    - Numbers can be suffix of the variables\n",
    "    - Variables can not have special characetrs expect(**underscore**(_))\n",
    "    - variables does not have space between names\n",
    "    - only underscore is possible\n",
    "    - keywords or reserved words can not use as variables\n",
    "    - two values can be assign to a single variables\n",
    "    - one vaule can not assign to two variables"
   ]
  },
  {
   "cell_type": "code",
   "execution_count": null,
   "id": "80211c2a-8dcb-4a6f-9f86-0a581bb7cee7",
   "metadata": {},
   "outputs": [],
   "source": []
  }
 ],
 "metadata": {
  "kernelspec": {
   "display_name": "Python 3 (ipykernel)",
   "language": "python",
   "name": "python3"
  },
  "language_info": {
   "codemirror_mode": {
    "name": "ipython",
    "version": 3
   },
   "file_extension": ".py",
   "mimetype": "text/x-python",
   "name": "python",
   "nbconvert_exporter": "python",
   "pygments_lexer": "ipython3",
   "version": "3.11.7"
  }
 },
 "nbformat": 4,
 "nbformat_minor": 5
}
