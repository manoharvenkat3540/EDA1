{
 "cells": [
  {
   "cell_type": "markdown",
   "id": "7a976b58-91d1-4ac0-badc-813ad435c744",
   "metadata": {},
   "source": [
    "**conditional statements**"
   ]
  },
  {
   "cell_type": "markdown",
   "id": "2b5dfec6-c24a-4f5b-a608-4cfb79643d22",
   "metadata": {},
   "source": [
    "- conditional statements means we want to run the code lines based on condition\n",
    "\n",
    "- if rain comes i will not go to school otherwise i will go to movie\n",
    "\n",
    "- rain is there will effect one processs\n",
    "\n",
    "- rain is not there will effect another process\n",
    "\n",
    "if \n",
    "\n",
    "elif\n",
    "\n",
    "else"
   ]
  },
  {
   "cell_type": "markdown",
   "id": "d6205183-8dcc-43b3-b7c4-c4f6e154cd99",
   "metadata": {},
   "source": [
    "**if**"
   ]
  },
  {
   "cell_type": "markdown",
   "id": "a81e774f-0943-4339-81da-383fc3cc120c",
   "metadata": {},
   "source": [
    "#syntax\n",
    "\n",
    "if <condition>:\n",
    "    <codeline1>\n",
    "    <codeline2>\n",
    "    \n"
   ]
  },
  {
   "cell_type": "markdown",
   "id": "8b14a15e-1f2f-48de-a382-4d01c1bb34d3",
   "metadata": {},
   "source": [
    "- when ever any lone start with keyword(green) at the end of the line we have **colon(:)**\n",
    "- when ever we have a colon(:) the next line starts with **gap**\n",
    "- and this gap is called as **indentation**\n",
    "- how many lines we are maintaining gap (indentation)  that all are under one area"
   ]
  },
  {
   "cell_type": "markdown",
   "id": "e89c65cb-da62-4207-9614-be0b6a891ba6",
   "metadata": {},
   "source": [
    "- if is a conditional statement , it will check the condition is true or false\n",
    "- if that condition will true then only it will enter inside the if area\n",
    "- if that condition will false it  will not enter the inside the if area\n",
    "- and it will not execute those code lines"
   ]
  },
  {
   "cell_type": "code",
   "execution_count": 4,
   "id": "c286f947-e894-4ea3-849a-ff6b0f5c54a7",
   "metadata": {},
   "outputs": [
    {
     "data": {
      "text/plain": [
       "True"
      ]
     },
     "execution_count": 4,
     "metadata": {},
     "output_type": "execute_result"
    }
   ],
   "source": [
    "100>10"
   ]
  },
  {
   "cell_type": "code",
   "execution_count": 5,
   "id": "806e1a0f-9c12-4cb2-beba-3cd44b52c037",
   "metadata": {},
   "outputs": [
    {
     "name": "stdout",
     "output_type": "stream",
     "text": [
      "manu\n"
     ]
    }
   ],
   "source": [
    "if 100>10:\n",
    "    print(\"manu\")\n",
    "#indentation requires 4 spaces"
   ]
  },
  {
   "cell_type": "code",
   "execution_count": 6,
   "id": "0f1eea1e-5e86-4c7b-bc46-538162fe675b",
   "metadata": {},
   "outputs": [
    {
     "ename": "SyntaxError",
     "evalue": "expected ':' (3261184110.py, line 1)",
     "output_type": "error",
     "traceback": [
      "\u001b[1;36m  Cell \u001b[1;32mIn[6], line 1\u001b[1;36m\u001b[0m\n\u001b[1;33m    if 100>10\u001b[0m\n\u001b[1;37m             ^\u001b[0m\n\u001b[1;31mSyntaxError\u001b[0m\u001b[1;31m:\u001b[0m expected ':'\n"
     ]
    }
   ],
   "source": [
    "if 100>10\n",
    "    print(\"manu\")"
   ]
  },
  {
   "cell_type": "markdown",
   "id": "7feccffc-771d-4f8d-a6f2-8c8bdfd13afd",
   "metadata": {},
   "source": [
    "**mistakes**\n",
    "\n",
    "- indentation\n",
    "- colon(:)\n",
    "- condition"
   ]
  },
  {
   "cell_type": "code",
   "execution_count": 7,
   "id": "d8489ace-0e36-49d7-9d10-304a03ae49d3",
   "metadata": {},
   "outputs": [
    {
     "name": "stdout",
     "output_type": "stream",
     "text": [
      "manu\n"
     ]
    }
   ],
   "source": [
    "if 100>10:\n",
    "    name=print(\"manu\")"
   ]
  },
  {
   "cell_type": "markdown",
   "id": "e24fa259-6967-41ac-a7a0-03b52f6b8465",
   "metadata": {},
   "source": [
    "- never assign a variable to a print statement\n",
    "- print we are using for to see the answer"
   ]
  },
  {
   "cell_type": "code",
   "execution_count": 11,
   "id": "31387ad7-6883-40cf-940c-83d9a5c54ca2",
   "metadata": {},
   "outputs": [
    {
     "name": "stdout",
     "output_type": "stream",
     "text": [
      "10\n",
      "20\n",
      "manu\n",
      "good boy\n",
      "very good boy\n"
     ]
    }
   ],
   "source": [
    "print(10)\n",
    "print(20)\n",
    "if 100>10:\n",
    "    print(\"manu\")\n",
    "    print(\"good boy\")\n",
    "print(\"very good boy\")"
   ]
  },
  {
   "cell_type": "code",
   "execution_count": 12,
   "id": "26dcaa63-c46a-492b-84e9-508bc151da9e",
   "metadata": {},
   "outputs": [
    {
     "name": "stdout",
     "output_type": "stream",
     "text": [
      "10\n",
      "20\n",
      "manu\n",
      "good boy\n",
      "very good boy\n"
     ]
    }
   ],
   "source": [
    "print(10)\n",
    "print(20)\n",
    "if \"hello\":\n",
    "    print(\"manu\")\n",
    "    print(\"good boy\")\n",
    "print(\"very good boy\")"
   ]
  },
  {
   "cell_type": "code",
   "execution_count": 14,
   "id": "331d47f6-3afd-423d-a250-12a28526e5a2",
   "metadata": {},
   "outputs": [
    {
     "name": "stdout",
     "output_type": "stream",
     "text": [
      "10\n",
      "20\n",
      "very good boy\n"
     ]
    }
   ],
   "source": [
    "print(10)\n",
    "print(20)\n",
    "if 0.0:\n",
    "    print(\"manu\")\n",
    "    print(\"good boy\")\n",
    "print(\"very good boy\")"
   ]
  },
  {
   "cell_type": "code",
   "execution_count": 15,
   "id": "64f776e8-d297-413a-a720-96cc34bbbda1",
   "metadata": {},
   "outputs": [
    {
     "name": "stdout",
     "output_type": "stream",
     "text": [
      "10\n",
      "20\n",
      "manu\n",
      "good boy\n",
      "very good boy\n"
     ]
    }
   ],
   "source": [
    "print(10)\n",
    "print(20)\n",
    "if True:\n",
    "    print(\"manu\")\n",
    "    print(\"good boy\")\n",
    "print(\"very good boy\")"
   ]
  },
  {
   "cell_type": "code",
   "execution_count": 16,
   "id": "0abe452a-704c-4f76-a320-58ecb2995624",
   "metadata": {},
   "outputs": [
    {
     "name": "stdout",
     "output_type": "stream",
     "text": [
      "10\n",
      "20\n"
     ]
    },
    {
     "ename": "NameError",
     "evalue": "name 'true' is not defined",
     "output_type": "error",
     "traceback": [
      "\u001b[1;31m---------------------------------------------------------------------------\u001b[0m",
      "\u001b[1;31mNameError\u001b[0m                                 Traceback (most recent call last)",
      "Cell \u001b[1;32mIn[16], line 3\u001b[0m\n\u001b[0;32m      1\u001b[0m \u001b[38;5;28mprint\u001b[39m(\u001b[38;5;241m10\u001b[39m)\n\u001b[0;32m      2\u001b[0m \u001b[38;5;28mprint\u001b[39m(\u001b[38;5;241m20\u001b[39m)\n\u001b[1;32m----> 3\u001b[0m \u001b[38;5;28;01mif\u001b[39;00m true:\n\u001b[0;32m      4\u001b[0m     \u001b[38;5;28mprint\u001b[39m(\u001b[38;5;124m\"\u001b[39m\u001b[38;5;124mmanu\u001b[39m\u001b[38;5;124m\"\u001b[39m)\n\u001b[0;32m      5\u001b[0m     \u001b[38;5;28mprint\u001b[39m(\u001b[38;5;124m\"\u001b[39m\u001b[38;5;124mgood boy\u001b[39m\u001b[38;5;124m\"\u001b[39m)\n",
      "\u001b[1;31mNameError\u001b[0m: name 'true' is not defined"
     ]
    }
   ],
   "source": [
    "print(10)\n",
    "print(20)\n",
    "if true:\n",
    "    print(\"manu\")\n",
    "    print(\"good boy\")\n",
    "print(\"very good boy\")"
   ]
  },
  {
   "cell_type": "code",
   "execution_count": 17,
   "id": "63e8625b-274b-41c5-9276-7826651f6f24",
   "metadata": {},
   "outputs": [
    {
     "name": "stdout",
     "output_type": "stream",
     "text": [
      "10\n",
      "20\n",
      "manu\n",
      "good boy\n",
      "very good boy\n"
     ]
    }
   ],
   "source": [
    "print(10)\n",
    "print(20)\n",
    "if 1.1:\n",
    "    print(\"manu\")\n",
    "    print(\"good boy\")\n",
    "print(\"very good boy\")"
   ]
  },
  {
   "cell_type": "markdown",
   "id": "807fe68e-6ee4-4ce1-9c6a-b6e51ea96497",
   "metadata": {},
   "source": [
    "**if-else**"
   ]
  },
  {
   "cell_type": "markdown",
   "id": "442a28e3-6cb3-47cd-a2c6-cb10f0a29c30",
   "metadata": {},
   "source": [
    "- if reqired condition\n",
    "- if that condition is true , then it will execute if block\n",
    "- otherwise it can directly go to else block\n",
    "- so else block does not required any condition "
   ]
  },
  {
   "cell_type": "markdown",
   "id": "4f5d76ad-261d-4d5b-ae69-2678243f9fb6",
   "metadata": {},
   "source": [
    "#syntax\n",
    "\n",
    "if <condition>:\n",
    "    <code line>\n",
    "else:\n",
    "    <codeline2>\n",
    "        "
   ]
  },
  {
   "cell_type": "code",
   "execution_count": 20,
   "id": "04557886-0f7a-4024-bc7f-80f6f4675852",
   "metadata": {},
   "outputs": [
    {
     "name": "stdout",
     "output_type": "stream",
     "text": [
      "hello\n"
     ]
    }
   ],
   "source": [
    "if 10>100:\n",
    "    print(\"hi\")\n",
    "else:\n",
    "    print(\"hello\")"
   ]
  },
  {
   "cell_type": "code",
   "execution_count": 21,
   "id": "ee164541-f1fa-4d9b-861d-4644e20a059c",
   "metadata": {},
   "outputs": [
    {
     "name": "stdin",
     "output_type": "stream",
     "text": [
      "enter a number: 5\n"
     ]
    },
    {
     "name": "stdout",
     "output_type": "stream",
     "text": [
      "c\n"
     ]
    }
   ],
   "source": [
    "n=int(input(\"enter a number:\"))\n",
    "if n<10:\n",
    "    print(\"c\")\n",
    "else:\n",
    "    print(\"m\")"
   ]
  },
  {
   "cell_type": "code",
   "execution_count": null,
   "id": "16279902-5180-461b-99a1-e81e916134a1",
   "metadata": {},
   "outputs": [],
   "source": [
    "5/4 #division"
   ]
  },
  {
   "cell_type": "code",
   "execution_count": null,
   "id": "213f51b2-7d69-4e62-a03b-c45bbb056dc3",
   "metadata": {},
   "outputs": [],
   "source": [
    "5//4 #floor division"
   ]
  },
  {
   "cell_type": "code",
   "execution_count": null,
   "id": "56618aa8-f17c-45bf-b102-8f44db8ecfbb",
   "metadata": {},
   "outputs": [],
   "source": [
    "#modulus operator \n",
    "5%4 # remainder"
   ]
  },
  {
   "cell_type": "code",
   "execution_count": 22,
   "id": "3a7aa5a8-2c81-44d3-8d8c-b83972c3440c",
   "metadata": {},
   "outputs": [
    {
     "name": "stdin",
     "output_type": "stream",
     "text": [
      "enter a number: 2\n"
     ]
    },
    {
     "name": "stdout",
     "output_type": "stream",
     "text": [
      "even\n"
     ]
    }
   ],
   "source": [
    "# wap ask the user enter a number\n",
    "#find it is a number odn=d or even\n",
    "n=int(input(\"enter a number:\"))\n",
    "if n%2==0:\n",
    "    print(\"even\")\n",
    "else:\n",
    "    print(\"odd\")\n"
   ]
  },
  {
   "cell_type": "code",
   "execution_count": 23,
   "id": "1a7d432f-9955-44f7-a426-4e3f7b204c82",
   "metadata": {},
   "outputs": [],
   "source": [
    "import random\n"
   ]
  },
  {
   "cell_type": "code",
   "execution_count": 26,
   "id": "588667be-b286-4404-b73a-3866932b99ec",
   "metadata": {},
   "outputs": [
    {
     "name": "stdout",
     "output_type": "stream",
     "text": [
      "the 6 is even\n"
     ]
    }
   ],
   "source": [
    "num=random.randint(1,100)\n",
    "if num%2==0:\n",
    "    print(f\"the {num} is even\")\n",
    "else:\n",
    "    print(f\"the {num} is odd\")"
   ]
  },
  {
   "cell_type": "code",
   "execution_count": 28,
   "id": "7676c8b3-4d78-4066-9b44-5721e36cee35",
   "metadata": {},
   "outputs": [
    {
     "name": "stdin",
     "output_type": "stream",
     "text": [
      "enter the start value: 30\n",
      "enter the end value: 40\n"
     ]
    },
    {
     "name": "stdout",
     "output_type": "stream",
     "text": [
      "the 37 is odd\n"
     ]
    }
   ],
   "source": [
    "start=eval(input(\"enter the start value:\"))\n",
    "end=eval(input(\"enter the end value:\"))\n",
    "num=random.randint(start,end)\n",
    "if num%2==0:\n",
    "    print(f\"the {num} is even\")\n",
    "else:\n",
    "    print(f\"the {num} is odd\")"
   ]
  },
  {
   "cell_type": "markdown",
   "id": "a5677a21-dd8f-4df9-919a-e18b009d7c61",
   "metadata": {},
   "source": [
    "- we are providing values means it is hard coded\n",
    "- code should be always generic,with out hard coading\n"
   ]
  },
  {
   "cell_type": "code",
   "execution_count": 4,
   "id": "14368f09-8352-4a66-84f5-fa7bb5053409",
   "metadata": {},
   "outputs": [
    {
     "name": "stdin",
     "output_type": "stream",
     "text": [
      "enter a no of kilometers: 26\n",
      "enter the charge of 1km: 20\n"
     ]
    },
    {
     "name": "stdout",
     "output_type": "stream",
     "text": [
      "the total charge is 520\n"
     ]
    }
   ],
   "source": [
    "# wap ask the user enter the distance\n",
    "#if the distance greater than 25km\n",
    "# then enter the charge\n",
    "#print the total coast\n",
    "#otherwise\n",
    "# print free ride\n",
    "num=eval(input(\"enter a no of kilometers:\"))\n",
    "if num>25:\n",
    "    charge_1km=eval(input(\"enter the charge of 1km:\"))\n",
    "    total=num*charge_1km\n",
    "    print(f\"the total charge is {total}\")\n",
    "else:\n",
    "    print(\"the ride is free of coast\")\n",
    "    "
   ]
  },
  {
   "cell_type": "markdown",
   "id": "24f88875-19a5-41c2-8591-588afce43ff4",
   "metadata": {},
   "source": [
    "### wap ask the user enter the distance\n",
    "#cutoff distance enter 25\n",
    "#if distance greater than 25km\n",
    "#    print(\"good news your charge is aplicable for only remaining of 25\")\n",
    "#    \n",
    "\n",
    "\n",
    "\n",
    "\n",
    "distance=eval(input(\"enter the distance in km:\"))\n",
    "cut_off_distance=eval(input(\"enter the cut off distance in km:\"))\n",
    "if distance>cut_off_distance:\n",
    "    chargeble_distance=distance-cut_off_distance\n",
    "    print(\"kudos to u the chargeble ditance is:\")\n",
    "    "
   ]
  },
  {
   "cell_type": "code",
   "execution_count": 36,
   "id": "9ca4b397-4438-4315-8f1d-710cbe03295c",
   "metadata": {},
   "outputs": [
    {
     "name": "stdin",
     "output_type": "stream",
     "text": [
      "enter the course: data science\n",
      "enter the institute: naresh it\n"
     ]
    },
    {
     "name": "stdout",
     "output_type": "stream",
     "text": [
      "your course is good\n"
     ]
    }
   ],
   "source": [
    "#wap ask the user enter the course\n",
    "#ask the user enter the institute\n",
    "#if the course equal to data science and institute equal to naresh it\n",
    "# then u are good \n",
    "#othewise\n",
    "#  you are bad\n",
    "course=input(\"enter the course:\")\n",
    "institute=input(\"enter the institute:\")\n",
    "if course=='data science' and institute=='naresh it':\n",
    "    print(\"your course is good\")\n",
    "else:\n",
    "    print(\"yoe are bad\")"
   ]
  },
  {
   "cell_type": "markdown",
   "id": "bb9e542c-49dd-4b09-86b6-52983b6758ac",
   "metadata": {},
   "source": [
    "- and means two conditions need to satisfy\n",
    "\n",
    "- or means any condition enough to satisfy"
   ]
  },
  {
   "cell_type": "code",
   "execution_count": 42,
   "id": "d8539ea6-4ba4-420e-85af-6cfbf58820dd",
   "metadata": {},
   "outputs": [
    {
     "name": "stdin",
     "output_type": "stream",
     "text": [
      "enter a number: 4\n"
     ]
    },
    {
     "name": "stdout",
     "output_type": "stream",
     "text": [
      "here then8 and 4 are not same,then we lost\n"
     ]
    }
   ],
   "source": [
    "#wap ask the user enter a random number between 1 to 10, terat this as number1\n",
    "#ask the user enter another from keyboard, treat this number2\n",
    "#if number1 equal to number 2\n",
    "#print u won\n",
    "#otherwise\n",
    "#print u lost\n",
    "number1=random.randint(1,10)\n",
    "number2=eval(input(\"enter a number:\"))\n",
    "if number1==number2:\n",
    "    print(f\"here the {number1} and {number2} are same,then we won\")\n",
    "else:\n",
    "    print(f\"here then {number1} and {number2} are not same,then we lost\")\n",
    "                   "
   ]
  },
  {
   "cell_type": "markdown",
   "id": "808f9f38-fecd-4c59-a62b-eaa364e215ba",
   "metadata": {},
   "source": [
    "- till now we have seen one condition problem\n",
    "- which means if that condition is True will get one answer\n",
    "- if that condition False then will get another answer\n",
    "- how about if we have more than 2 conditions \n",
    "- if-elif-else\n",
    "- two condition means 3 results\n",
    "- if has no condition\n",
    "- elif has second condition\n",
    "- if both are false then the result in else\n"
   ]
  },
  {
   "cell_type": "code",
   "execution_count": null,
   "id": "c4089dd3-5fda-4ada-8cf8-ca0bb69e00f2",
   "metadata": {},
   "outputs": [],
   "source": [
    "if <condition>:\n",
    "    <statement>\n",
    "    \n",
    "elif <condition>:\n",
    "    <statements>\n",
    "else:\n",
    "    <statements>\n",
    "\n",
    "if-else(1)\n",
    "if-elif-else(2)\n",
    "if-elif-elif-else(3)"
   ]
  },
  {
   "cell_type": "code",
   "execution_count": 45,
   "id": "56a1e71f-b0a4-4944-bd43-b3a202134829",
   "metadata": {},
   "outputs": [
    {
     "name": "stdin",
     "output_type": "stream",
     "text": [
      "enter a number: 4\n"
     ]
    },
    {
     "name": "stdout",
     "output_type": "stream",
     "text": [
      "enter the valid number:\n"
     ]
    }
   ],
   "source": [
    "#wap ask the user enter number\n",
    "#if number equal to 1 then print one\n",
    "#if number equal to 2 then print two\n",
    "#if number equal to 3 then print three\n",
    "#otherwise print enter a valid number\n",
    "number=eval(input(\"enter a number:\"))\n",
    "if number==1:\n",
    "    print(\"one\")\n",
    "elif number==2:\n",
    "    print(\"two\")\n",
    "elif number==3:\n",
    "    print(\"three\")\n",
    "else:\n",
    "    print(\"enter the valid number\")"
   ]
  },
  {
   "cell_type": "code",
   "execution_count": 46,
   "id": "2a628e6a-986b-464e-98f3-b538db060dd4",
   "metadata": {},
   "outputs": [
    {
     "name": "stdin",
     "output_type": "stream",
     "text": [
      "enter a number: 3\n"
     ]
    },
    {
     "name": "stdout",
     "output_type": "stream",
     "text": [
      "three\n"
     ]
    }
   ],
   "source": [
    "number=eval(input(\"enter a number:\"))\n",
    "if number==1:print(\"one\")\n",
    "elif number==2:print(\"two\")\n",
    "elif number==3:print(\"three\")\n",
    "else:print(\"enter the valid number\")"
   ]
  },
  {
   "cell_type": "code",
   "execution_count": 49,
   "id": "d8ca6362-ec91-41ed-a8e1-dce3894a30a0",
   "metadata": {},
   "outputs": [
    {
     "name": "stdin",
     "output_type": "stream",
     "text": [
      "enter a  number: -1\n"
     ]
    },
    {
     "name": "stdout",
     "output_type": "stream",
     "text": [
      "negative\n"
     ]
    }
   ],
   "source": [
    "#wap ask the user enter a number\n",
    "#if that number greater than zero print positive\n",
    "#if that number less than zero print negative\n",
    "#otherwise print zero\n",
    "number=eval(input(\"enter a  number:\"))\n",
    "if number>0:\n",
    "    print(\"positive\")\n",
    "elif number<0:\n",
    "    print(\"negative\")\n",
    "else:\n",
    "    print(\"zero\")\n",
    "            "
   ]
  },
  {
   "cell_type": "code",
   "execution_count": 53,
   "id": "ea424383-049a-4ff5-b2fe-0b410fc25394",
   "metadata": {},
   "outputs": [
    {
     "name": "stdin",
     "output_type": "stream",
     "text": [
      "enter percentage of marks: 20\n"
     ]
    },
    {
     "name": "stdout",
     "output_type": "stream",
     "text": [
      "fail\n"
     ]
    }
   ],
   "source": [
    "#wap ask the user enter percetage of marks \n",
    "#if pecentage greater then 90 print a grade\n",
    "#if percentage greater then 75 to 90 print b grade\n",
    "#if percentage greater then 50 to 75 print c grade\n",
    "#if percentage greater than 35 to 50 print d grade \n",
    "#if percentage less then 35 print fail\n",
    "number=eval(input(\"enter percentage of marks:\"))\n",
    "if number>=90:\n",
    "    print(\"a grade\")\n",
    "elif number>=75:\n",
    "    print(\"b grade\")\n",
    "elif number>=50:\n",
    "    print(\"c grade\")\n",
    "elif number>=35:\n",
    "    print(\"d grade\")\n",
    "else:\n",
    "    print(\"fail\")\n",
    "    \n",
    "\n"
   ]
  },
  {
   "cell_type": "code",
   "execution_count": null,
   "id": "6c09e1dd-ddce-4e98-bb6f-08d2b8ebf41e",
   "metadata": {},
   "outputs": [],
   "source": [
    "#wap ask the user enter the age \n",
    "#if the age greater than 100 print u are lucky\n",
    "#if the age greater than 75 print old age\n",
    "#if the age between 50 to 75 print ss\n",
    "#if the age between 30 to 50 print ma\n",
    "#if the age between 15 to 30 print young\n",
    "#if the age between than 15 print kid\n",
    "age=eval(input(\"enter the age\"))\n",
    "if age>90:\n",
    "    print(\"lucky\")\n",
    "elif age>=75:\n",
    "    print(\"old age\")\n",
    "elif age>=50:\n",
    "    print(\"ss\")\n",
    "elif age>=30:\n",
    "    print(\"ma\")\n",
    "elif age>=15:\n",
    "    print(\"young\")\n",
    "else:\n",
    "    print(\"kid\")\n",
    "    "
   ]
  },
  {
   "cell_type": "code",
   "execution_count": 5,
   "id": "5f76e110-5635-48e8-9c71-a9c7bf8ced22",
   "metadata": {},
   "outputs": [
    {
     "name": "stdin",
     "output_type": "stream",
     "text": [
      "enter a number 3\n",
      "enter a number 4\n"
     ]
    },
    {
     "name": "stdout",
     "output_type": "stream",
     "text": [
      "1 for additipn\n",
      "2 for multiplication\n",
      "3 for sub\n",
      "4 for div\n"
     ]
    },
    {
     "name": "stdin",
     "output_type": "stream",
     "text": [
      "enter the operation: 2\n"
     ]
    },
    {
     "name": "stdout",
     "output_type": "stream",
     "text": [
      "multiplicationm 12\n"
     ]
    }
   ],
   "source": [
    "#wap ask the user enter 2 numbers\n",
    "#num1\n",
    "#num2\n",
    "#you need to print\n",
    "#enter operation 1 for addition\n",
    "#enter operation for mult\n",
    "#enter oper 3 for sub\n",
    "#enter oper 4 for div\n",
    "\n",
    "#enter the operation betwwen 1 to 4\n",
    "#if operation equal to 1 to then do add\n",
    "#if operation equal to 2 then do multi\n",
    "#if operation equal to 3 then do sub\n",
    "#if operation eqaual to 4 then do div\n",
    "#otherwise print enter a valid number\n",
    "\n",
    "num1=eval(input(\"enter a number\"))\n",
    "num2=eval(input(\"enter a number\"))\n",
    "print(\"1 for additipn\")\n",
    "print(\"2 for multiplication\")\n",
    "print(\"3 for sub\")\n",
    "print(\"4 for div\")\n",
    "opp=eval(input(\"enter the operation betwwen 1 and 4:\"))\n",
    "if opp==1:\n",
    "    add=num1+num2\n",
    "    print(\"addition:\",add)\n",
    "elif opp==2:\n",
    "    mult=num1*num2\n",
    "    print(\"multiplicationm\",mult)\n",
    "elif opp==3:\n",
    "    sub=num1-num2\n",
    "    print(\"substraction\",sub)\n",
    "elif opp==4:\n",
    "    div=num1/num2\n",
    "    print(\"division\",div)\n",
    "else:\n",
    "    print(\"enter a valid number\")\n",
    "\n"
   ]
  },
  {
   "cell_type": "code",
   "execution_count": 8,
   "id": "3e4c561b-006c-44f3-9527-5f54857b87c7",
   "metadata": {},
   "outputs": [
    {
     "name": "stdin",
     "output_type": "stream",
     "text": [
      "enter the gender maniteja \n"
     ]
    },
    {
     "name": "stdout",
     "output_type": "stream",
     "text": [
      "enter a valid gender:\n"
     ]
    }
   ],
   "source": [
    "#wap ask the user enter the gender\n",
    "#if gender equal to male\n",
    "#  ask the user enter the age\n",
    "#  if the age greater tan 60 print ss\n",
    "#  if the age between 20 to 60 print maman\n",
    "#  if the age between 15 to 30 print young man\n",
    "#  otherwise print boy\n",
    "#elif gender equal to female\n",
    "#  ask the user enter the age\n",
    "#  if the age greater tan 60 print ss\n",
    "#  if the age between 20 to 60 print mawoman\n",
    "#  if the age between 15 to 30 print young girl\n",
    "#  otherwise print girl\n",
    "#otherwise:\n",
    "#    print enter a valid number\n",
    "gender=input(\"enter the gender\")\n",
    "if gender=='male':\n",
    "    age=eval(input(\"enter the age:\"))\n",
    "    if age>60:\n",
    "        print(\"ss\")\n",
    "    elif age>=30:\n",
    "        print(\"maman\")\n",
    "    elif age>=15:\n",
    "        print(\"young man\")\n",
    "    else:\n",
    "        print(\"boy\")\n",
    "elif gender=='female':\n",
    "    age=eval(input(\"enter the age:\"))\n",
    "    if age>60:\n",
    "        print(\"ss\")\n",
    "    elif age>=30:\n",
    "        print(\"mawoan\")\n",
    "    elif age>=15:\n",
    "        print(\"young girl\")\n",
    "    else:\n",
    "        print(\"boy\")\n",
    "else:\n",
    "    print(\"enter a valid gender:\")\n"
   ]
  },
  {
   "cell_type": "code",
   "execution_count": 11,
   "id": "1c27aa04-65d0-40a7-b00e-a30c2ad44e36",
   "metadata": {},
   "outputs": [
    {
     "name": "stdin",
     "output_type": "stream",
     "text": [
      "enter a number: -1\n"
     ]
    },
    {
     "name": "stdout",
     "output_type": "stream",
     "text": [
      "negative\n"
     ]
    }
   ],
   "source": [
    "#wap ask the user enter a number\n",
    "#if that number greater than or equal to zero\n",
    "#      if number eqaul to zero \n",
    "#        print zero\n",
    "#      else:\n",
    "#          print positive\n",
    "#else:\n",
    "#   print neative\n",
    "number=eval(input(\"enter a number:\"))\n",
    "if number>=0:\n",
    "    if number==0:\n",
    "        print(\"zero\")\n",
    "    else:\n",
    "        print(\"positive\")\n",
    "else:\n",
    "    print(\"negative\")"
   ]
  },
  {
   "cell_type": "code",
   "execution_count": null,
   "id": "9f237d9c-676c-4597-9dee-e50401d027f4",
   "metadata": {},
   "outputs": [],
   "source": [
    "#take three numbers\n",
    "#num1 num2 num3\n",
    "# find the maximum value"
   ]
  }
 ],
 "metadata": {
  "kernelspec": {
   "display_name": "Python 3 (ipykernel)",
   "language": "python",
   "name": "python3"
  },
  "language_info": {
   "codemirror_mode": {
    "name": "ipython",
    "version": 3
   },
   "file_extension": ".py",
   "mimetype": "text/x-python",
   "name": "python",
   "nbconvert_exporter": "python",
   "pygments_lexer": "ipython3",
   "version": "3.11.7"
  }
 },
 "nbformat": 4,
 "nbformat_minor": 5
}
