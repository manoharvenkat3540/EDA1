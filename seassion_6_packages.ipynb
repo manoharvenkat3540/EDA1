{
 "cells": [
  {
   "cell_type": "markdown",
   "id": "15f51945-a362-4c25-88f0-ce40cd167aa2",
   "metadata": {},
   "source": [
    "**import**"
   ]
  },
  {
   "cell_type": "markdown",
   "id": "89eb621f-0b55-4854-96e8-a500b88d41f1",
   "metadata": {},
   "source": [
    "#syntax\n",
    "#import <package_name>\n",
    "**package**\n",
    "- Python Packages are a way to organize and structure your Python code into reusable components"
   ]
  },
  {
   "cell_type": "code",
   "execution_count": 1,
   "id": "90cd4a7a-bbc4-443b-9b92-54872358defd",
   "metadata": {},
   "outputs": [],
   "source": [
    "#package name : random\n",
    "import random"
   ]
  },
  {
   "cell_type": "code",
   "execution_count": 2,
   "id": "e622734e-214e-456e-ad32-7269915ae87e",
   "metadata": {},
   "outputs": [],
   "source": [
    "import time"
   ]
  },
  {
   "cell_type": "code",
   "execution_count": 3,
   "id": "27f0b5de-bde8-40e3-a730-50a526de63f7",
   "metadata": {},
   "outputs": [],
   "source": [
    "import math"
   ]
  },
  {
   "cell_type": "code",
   "execution_count": 11,
   "id": "72671832-6748-40cd-a321-8835d83c97b2",
   "metadata": {},
   "outputs": [
    {
     "ename": "ModuleNotFoundError",
     "evalue": "No module named 'streamlite'",
     "output_type": "error",
     "traceback": [
      "\u001b[1;31m---------------------------------------------------------------------------\u001b[0m",
      "\u001b[1;31mModuleNotFoundError\u001b[0m                       Traceback (most recent call last)",
      "Cell \u001b[1;32mIn[11], line 1\u001b[0m\n\u001b[1;32m----> 1\u001b[0m \u001b[38;5;28;01mimport\u001b[39;00m \u001b[38;5;21;01mstreamlite\u001b[39;00m\n",
      "\u001b[1;31mModuleNotFoundError\u001b[0m: No module named 'streamlite'"
     ]
    }
   ],
   "source": [
    "import streamlite"
   ]
  },
  {
   "cell_type": "code",
   "execution_count": 6,
   "id": "27c9cc9c-e8d9-4825-8ade-523540c0a2e5",
   "metadata": {},
   "outputs": [
    {
     "ename": "ModuleNotFoundError",
     "evalue": "No module named 'cv2'",
     "output_type": "error",
     "traceback": [
      "\u001b[1;31m---------------------------------------------------------------------------\u001b[0m",
      "\u001b[1;31mModuleNotFoundError\u001b[0m                       Traceback (most recent call last)",
      "Cell \u001b[1;32mIn[6], line 1\u001b[0m\n\u001b[1;32m----> 1\u001b[0m \u001b[38;5;28;01mimport\u001b[39;00m \u001b[38;5;21;01mcv2\u001b[39;00m\n",
      "\u001b[1;31mModuleNotFoundError\u001b[0m: No module named 'cv2'"
     ]
    }
   ],
   "source": [
    "import cv2"
   ]
  },
  {
   "cell_type": "code",
   "execution_count": null,
   "id": "390f9e89-278e-4147-92ea-e18726863bcc",
   "metadata": {},
   "outputs": [],
   "source": [
    "math operation\n",
    "    addition\n",
    "    substraction\n",
    "    multiplication\n",
    "    division"
   ]
  },
  {
   "cell_type": "code",
   "execution_count": 7,
   "id": "eeb3ead6-4207-4219-af56-3d65e49b30ee",
   "metadata": {},
   "outputs": [
    {
     "data": {
      "text/plain": [
       "['BPF',\n",
       " 'LOG4',\n",
       " 'NV_MAGICCONST',\n",
       " 'RECIP_BPF',\n",
       " 'Random',\n",
       " 'SG_MAGICCONST',\n",
       " 'SystemRandom',\n",
       " 'TWOPI',\n",
       " '_ONE',\n",
       " '_Sequence',\n",
       " '_Set',\n",
       " '__all__',\n",
       " '__builtins__',\n",
       " '__cached__',\n",
       " '__doc__',\n",
       " '__file__',\n",
       " '__loader__',\n",
       " '__name__',\n",
       " '__package__',\n",
       " '__spec__',\n",
       " '_accumulate',\n",
       " '_acos',\n",
       " '_bisect',\n",
       " '_ceil',\n",
       " '_cos',\n",
       " '_e',\n",
       " '_exp',\n",
       " '_floor',\n",
       " '_index',\n",
       " '_inst',\n",
       " '_isfinite',\n",
       " '_log',\n",
       " '_os',\n",
       " '_pi',\n",
       " '_random',\n",
       " '_repeat',\n",
       " '_sha512',\n",
       " '_sin',\n",
       " '_sqrt',\n",
       " '_test',\n",
       " '_test_generator',\n",
       " '_urandom',\n",
       " '_warn',\n",
       " 'betavariate',\n",
       " 'choice',\n",
       " 'choices',\n",
       " 'expovariate',\n",
       " 'gammavariate',\n",
       " 'gauss',\n",
       " 'getrandbits',\n",
       " 'getstate',\n",
       " 'lognormvariate',\n",
       " 'normalvariate',\n",
       " 'paretovariate',\n",
       " 'randbytes',\n",
       " 'randint',\n",
       " 'random',\n",
       " 'randrange',\n",
       " 'sample',\n",
       " 'seed',\n",
       " 'setstate',\n",
       " 'shuffle',\n",
       " 'triangular',\n",
       " 'uniform',\n",
       " 'vonmisesvariate',\n",
       " 'weibullvariate']"
      ]
     },
     "execution_count": 7,
     "metadata": {},
     "output_type": "execute_result"
    }
   ],
   "source": [
    "import random\n",
    "dir(random)"
   ]
  },
  {
   "cell_type": "code",
   "execution_count": 8,
   "id": "b59d7555-3d29-4c10-a92e-f171d233edd6",
   "metadata": {},
   "outputs": [
    {
     "data": {
      "text/plain": [
       "['__doc__',\n",
       " '__loader__',\n",
       " '__name__',\n",
       " '__package__',\n",
       " '__spec__',\n",
       " 'acos',\n",
       " 'acosh',\n",
       " 'asin',\n",
       " 'asinh',\n",
       " 'atan',\n",
       " 'atan2',\n",
       " 'atanh',\n",
       " 'cbrt',\n",
       " 'ceil',\n",
       " 'comb',\n",
       " 'copysign',\n",
       " 'cos',\n",
       " 'cosh',\n",
       " 'degrees',\n",
       " 'dist',\n",
       " 'e',\n",
       " 'erf',\n",
       " 'erfc',\n",
       " 'exp',\n",
       " 'exp2',\n",
       " 'expm1',\n",
       " 'fabs',\n",
       " 'factorial',\n",
       " 'floor',\n",
       " 'fmod',\n",
       " 'frexp',\n",
       " 'fsum',\n",
       " 'gamma',\n",
       " 'gcd',\n",
       " 'hypot',\n",
       " 'inf',\n",
       " 'isclose',\n",
       " 'isfinite',\n",
       " 'isinf',\n",
       " 'isnan',\n",
       " 'isqrt',\n",
       " 'lcm',\n",
       " 'ldexp',\n",
       " 'lgamma',\n",
       " 'log',\n",
       " 'log10',\n",
       " 'log1p',\n",
       " 'log2',\n",
       " 'modf',\n",
       " 'nan',\n",
       " 'nextafter',\n",
       " 'perm',\n",
       " 'pi',\n",
       " 'pow',\n",
       " 'prod',\n",
       " 'radians',\n",
       " 'remainder',\n",
       " 'sin',\n",
       " 'sinh',\n",
       " 'sqrt',\n",
       " 'tan',\n",
       " 'tanh',\n",
       " 'tau',\n",
       " 'trunc',\n",
       " 'ulp']"
      ]
     },
     "execution_count": 8,
     "metadata": {},
     "output_type": "execute_result"
    }
   ],
   "source": [
    "import math\n",
    "dir(math)"
   ]
  },
  {
   "cell_type": "code",
   "execution_count": null,
   "id": "10eec059-2524-4092-9cb2-2441758643e5",
   "metadata": {},
   "outputs": [],
   "source": [
    "# syntax is package name is the first\n",
    "#>package_name>.<method_name>\n",
    "#packagename: random\n",
    "#methodename: randit"
   ]
  },
  {
   "cell_type": "code",
   "execution_count": 10,
   "id": "6c3af4d6-914e-49c9-85cf-4a26259473c0",
   "metadata": {},
   "outputs": [
    {
     "name": "stdout",
     "output_type": "stream",
     "text": [
      "Help on method randint in module random:\n",
      "\n",
      "randint(a, b) method of random.Random instance\n",
      "    Return random integer in range [a, b], including both end points.\n",
      "\n"
     ]
    }
   ],
   "source": [
    "#help(<packagename.methodname>)\n",
    "#help will give the understanding of \n",
    "#how a method will wor\n",
    "\n",
    "#here  i want to know what randit will do?\n",
    "help(random.randint)"
   ]
  },
  {
   "cell_type": "code",
   "execution_count": 16,
   "id": "b341cc14-b128-4865-a230-7c22e6be604e",
   "metadata": {},
   "outputs": [
    {
     "data": {
      "text/plain": [
       "3"
      ]
     },
     "execution_count": 16,
     "metadata": {},
     "output_type": "execute_result"
    }
   ],
   "source": [
    "random.randint(1,10)"
   ]
  },
  {
   "cell_type": "code",
   "execution_count": 17,
   "id": "81af96c3-31a7-41d8-b7b4-82677b43bb5a",
   "metadata": {},
   "outputs": [
    {
     "name": "stdout",
     "output_type": "stream",
     "text": [
      "Help on method randint in module random:\n",
      "\n",
      "randint(a, b) method of random.Random instance\n",
      "    Return random integer in range [a, b], including both end points.\n",
      "\n"
     ]
    }
   ],
   "source": [
    "#step -1 : import<package_name>\n",
    "#step -2 : dir(<package_name>)\n",
    "#step-3 : help(<package_name>.<methode_name>)\n",
    "#package_name: random\n",
    "import random\n",
    "dir(random)\n",
    "help(random.randint)\n"
   ]
  },
  {
   "cell_type": "code",
   "execution_count": 19,
   "id": "3acc7cb7-5b06-4ede-bcf1-801de105861c",
   "metadata": {},
   "outputs": [
    {
     "data": {
      "text/plain": [
       "10"
      ]
     },
     "execution_count": 19,
     "metadata": {},
     "output_type": "execute_result"
    }
   ],
   "source": [
    "random.randint(1,12)"
   ]
  },
  {
   "cell_type": "code",
   "execution_count": 20,
   "id": "c821b602-8f56-45c9-b8c7-9d50b54f6117",
   "metadata": {},
   "outputs": [
    {
     "name": "stdout",
     "output_type": "stream",
     "text": [
      "Help on built-in function random:\n",
      "\n",
      "random() method of random.Random instance\n",
      "    random() -> x in the interval [0, 1).\n",
      "\n"
     ]
    }
   ],
   "source": [
    "import random\n",
    "dir(random)\n",
    "help(random.random)"
   ]
  },
  {
   "cell_type": "code",
   "execution_count": 21,
   "id": "d7781cf8-9f8f-425b-b29d-9f72aec3935d",
   "metadata": {},
   "outputs": [
    {
     "data": {
      "text/plain": [
       "0.8432550483368457"
      ]
     },
     "execution_count": 21,
     "metadata": {},
     "output_type": "execute_result"
    }
   ],
   "source": [
    "random.random()"
   ]
  },
  {
   "cell_type": "markdown",
   "id": "b2e9d26d-e63d-4e20-be6d-9bdb1daef60a",
   "metadata": {},
   "source": [
    "**math**"
   ]
  },
  {
   "cell_type": "code",
   "execution_count": null,
   "id": "825a66af-87ef-4f6d-aa9c-d528add582c6",
   "metadata": {},
   "outputs": [],
   "source": [
    "# package namme: math\n",
    "# method pi\n",
    "#        sqrt\n",
    "#         sin"
   ]
  },
  {
   "cell_type": "code",
   "execution_count": 26,
   "id": "bfcac61b-d5b9-4326-9592-d0785dde1c02",
   "metadata": {},
   "outputs": [
    {
     "data": {
      "text/plain": [
       "['__doc__',\n",
       " '__loader__',\n",
       " '__name__',\n",
       " '__package__',\n",
       " '__spec__',\n",
       " 'acos',\n",
       " 'acosh',\n",
       " 'asin',\n",
       " 'asinh',\n",
       " 'atan',\n",
       " 'atan2',\n",
       " 'atanh',\n",
       " 'cbrt',\n",
       " 'ceil',\n",
       " 'comb',\n",
       " 'copysign',\n",
       " 'cos',\n",
       " 'cosh',\n",
       " 'degrees',\n",
       " 'dist',\n",
       " 'e',\n",
       " 'erf',\n",
       " 'erfc',\n",
       " 'exp',\n",
       " 'exp2',\n",
       " 'expm1',\n",
       " 'fabs',\n",
       " 'factorial',\n",
       " 'floor',\n",
       " 'fmod',\n",
       " 'frexp',\n",
       " 'fsum',\n",
       " 'gamma',\n",
       " 'gcd',\n",
       " 'hypot',\n",
       " 'inf',\n",
       " 'isclose',\n",
       " 'isfinite',\n",
       " 'isinf',\n",
       " 'isnan',\n",
       " 'isqrt',\n",
       " 'lcm',\n",
       " 'ldexp',\n",
       " 'lgamma',\n",
       " 'log',\n",
       " 'log10',\n",
       " 'log1p',\n",
       " 'log2',\n",
       " 'modf',\n",
       " 'nan',\n",
       " 'nextafter',\n",
       " 'perm',\n",
       " 'pi',\n",
       " 'pow',\n",
       " 'prod',\n",
       " 'radians',\n",
       " 'remainder',\n",
       " 'sin',\n",
       " 'sinh',\n",
       " 'sqrt',\n",
       " 'tan',\n",
       " 'tanh',\n",
       " 'tau',\n",
       " 'trunc',\n",
       " 'ulp']"
      ]
     },
     "execution_count": 26,
     "metadata": {},
     "output_type": "execute_result"
    }
   ],
   "source": [
    "import math\n",
    "dir(math)\n"
   ]
  },
  {
   "cell_type": "code",
   "execution_count": 33,
   "id": "0a01c162-865d-498d-a6d8-891712b59359",
   "metadata": {},
   "outputs": [],
   "source": [
    "#pi\n",
    "#pow\n",
    "#sqrt\n",
    "#sin"
   ]
  },
  {
   "cell_type": "code",
   "execution_count": 28,
   "id": "aeee8485-8efa-4a66-951b-f2fa4d3752ab",
   "metadata": {},
   "outputs": [
    {
     "name": "stdout",
     "output_type": "stream",
     "text": [
      "Help on built-in function sqrt in module math:\n",
      "\n",
      "sqrt(x, /)\n",
      "    Return the square root of x.\n",
      "\n"
     ]
    }
   ],
   "source": [
    "help(math.sqrt)"
   ]
  },
  {
   "cell_type": "code",
   "execution_count": 34,
   "id": "dd55ec52-b96a-4772-9ca2-6fed22e93e65",
   "metadata": {},
   "outputs": [
    {
     "data": {
      "text/plain": [
       "5.0"
      ]
     },
     "execution_count": 34,
     "metadata": {},
     "output_type": "execute_result"
    }
   ],
   "source": [
    "math.sqrt(25)"
   ]
  },
  {
   "cell_type": "code",
   "execution_count": 35,
   "id": "b815fc13-bf8a-47b6-bee3-2bd67026ff17",
   "metadata": {},
   "outputs": [
    {
     "name": "stdout",
     "output_type": "stream",
     "text": [
      "Help on built-in function pow in module math:\n",
      "\n",
      "pow(x, y, /)\n",
      "    Return x**y (x to the power of y).\n",
      "\n"
     ]
    }
   ],
   "source": [
    "help(math.pow)"
   ]
  },
  {
   "cell_type": "code",
   "execution_count": 36,
   "id": "14988589-6aea-449f-a609-03511ee6b58c",
   "metadata": {},
   "outputs": [
    {
     "data": {
      "text/plain": [
       "8.0"
      ]
     },
     "execution_count": 36,
     "metadata": {},
     "output_type": "execute_result"
    }
   ],
   "source": [
    "math.pow(2,3)"
   ]
  },
  {
   "cell_type": "code",
   "execution_count": 38,
   "id": "d8c39ab7-bb5c-4f1e-ad6d-b379c7b141bc",
   "metadata": {},
   "outputs": [
    {
     "name": "stdout",
     "output_type": "stream",
     "text": [
      "Help on built-in function sin in module math:\n",
      "\n",
      "sin(x, /)\n",
      "    Return the sine of x (measured in radians).\n",
      "\n"
     ]
    }
   ],
   "source": [
    "help(math.sin)"
   ]
  },
  {
   "cell_type": "code",
   "execution_count": 40,
   "id": "44f61c98-62d0-44b5-b41e-b717ec32510b",
   "metadata": {},
   "outputs": [
    {
     "data": {
      "text/plain": [
       "0.8939966636005579"
      ]
     },
     "execution_count": 40,
     "metadata": {},
     "output_type": "execute_result"
    }
   ],
   "source": [
    "math.sin(90)"
   ]
  },
  {
   "cell_type": "code",
   "execution_count": 3,
   "id": "49774bfb-4da2-4f77-a9bd-a57de1bac4ea",
   "metadata": {},
   "outputs": [
    {
     "ename": "NameError",
     "evalue": "name 'math' is not defined",
     "output_type": "error",
     "traceback": [
      "\u001b[1;31m---------------------------------------------------------------------------\u001b[0m",
      "\u001b[1;31mNameError\u001b[0m                                 Traceback (most recent call last)",
      "Cell \u001b[1;32mIn[3], line 1\u001b[0m\n\u001b[1;32m----> 1\u001b[0m \u001b[38;5;28mlen\u001b[39m(math\u001b[38;5;241m.\u001b[39mpi)\n",
      "\u001b[1;31mNameError\u001b[0m: name 'math' is not defined"
     ]
    }
   ],
   "source": [
    "len(math.pi)"
   ]
  },
  {
   "cell_type": "code",
   "execution_count": 44,
   "id": "4b5437ed-4234-45ca-bc58-ea3a80945b3a",
   "metadata": {},
   "outputs": [
    {
     "data": {
      "text/plain": [
       "8.0"
      ]
     },
     "execution_count": 44,
     "metadata": {},
     "output_type": "execute_result"
    }
   ],
   "source": [
    "math.sqrt(x=64)\n",
    "#cursor inside the bracket\n",
    "#shift+tap\n",
    "\n",
    "math.sqrt(x,/)\n",
    "#here /refers to need to enter x = "
   ]
  },
  {
   "cell_type": "code",
   "execution_count": 45,
   "id": "a74ab8ee-aa76-4595-8bc2-074418409760",
   "metadata": {},
   "outputs": [
    {
     "data": {
      "text/plain": [
       "<function math.sqrt(x, /)>"
      ]
     },
     "execution_count": 45,
     "metadata": {},
     "output_type": "execute_result"
    }
   ],
   "source": [
    "math.sqrt"
   ]
  },
  {
   "cell_type": "markdown",
   "id": "f964ce67-8023-4e52-8360-79ef566ba3ff",
   "metadata": {},
   "source": [
    "- funtion means we are forgeting brackets \n",
    "\n",
    "- we need to keep brackets\n",
    "- bound method also means forgetting the brackets only\n",
    "\n",
    "- not callable means remove the brackets\n",
    "\n",
    "- when ever u see slash(/) dont provide variable "
   ]
  },
  {
   "cell_type": "code",
   "execution_count": 46,
   "id": "b39d1b55-c5a8-48e0-9dbe-06cc799995c9",
   "metadata": {},
   "outputs": [
    {
     "ename": "TypeError",
     "evalue": "'float' object is not callable",
     "output_type": "error",
     "traceback": [
      "\u001b[1;31m---------------------------------------------------------------------------\u001b[0m",
      "\u001b[1;31mTypeError\u001b[0m                                 Traceback (most recent call last)",
      "Cell \u001b[1;32mIn[46], line 1\u001b[0m\n\u001b[1;32m----> 1\u001b[0m math\u001b[38;5;241m.\u001b[39mpi()\n",
      "\u001b[1;31mTypeError\u001b[0m: 'float' object is not callable"
     ]
    }
   ],
   "source": [
    "math.pi()\n",
    "#here we have t"
   ]
  },
  {
   "cell_type": "code",
   "execution_count": 47,
   "id": "585877d3-e602-437b-bcd4-40db0e62bb02",
   "metadata": {},
   "outputs": [
    {
     "data": {
      "text/plain": [
       "3.141592653589793"
      ]
     },
     "execution_count": 47,
     "metadata": {},
     "output_type": "execute_result"
    }
   ],
   "source": [
    "math.pi\n",
    "#direct values never include brackets"
   ]
  },
  {
   "cell_type": "code",
   "execution_count": 49,
   "id": "30782575-ced5-4fa0-9a3b-e62ff38e5de5",
   "metadata": {},
   "outputs": [
    {
     "data": {
      "text/plain": [
       "['__all__',\n",
       " '__builtins__',\n",
       " '__cached__',\n",
       " '__doc__',\n",
       " '__file__',\n",
       " '__loader__',\n",
       " '__name__',\n",
       " '__package__',\n",
       " '__spec__',\n",
       " 'iskeyword',\n",
       " 'issoftkeyword',\n",
       " 'kwlist',\n",
       " 'softkwlist']"
      ]
     },
     "execution_count": 49,
     "metadata": {},
     "output_type": "execute_result"
    }
   ],
   "source": [
    "import keyword\n",
    "dir(keyword)"
   ]
  },
  {
   "cell_type": "code",
   "execution_count": 50,
   "id": "156c0f6a-90e2-45b8-a7fa-6e7e06865bfa",
   "metadata": {},
   "outputs": [
    {
     "data": {
      "text/plain": [
       "['False',\n",
       " 'None',\n",
       " 'True',\n",
       " 'and',\n",
       " 'as',\n",
       " 'assert',\n",
       " 'async',\n",
       " 'await',\n",
       " 'break',\n",
       " 'class',\n",
       " 'continue',\n",
       " 'def',\n",
       " 'del',\n",
       " 'elif',\n",
       " 'else',\n",
       " 'except',\n",
       " 'finally',\n",
       " 'for',\n",
       " 'from',\n",
       " 'global',\n",
       " 'if',\n",
       " 'import',\n",
       " 'in',\n",
       " 'is',\n",
       " 'lambda',\n",
       " 'nonlocal',\n",
       " 'not',\n",
       " 'or',\n",
       " 'pass',\n",
       " 'raise',\n",
       " 'return',\n",
       " 'try',\n",
       " 'while',\n",
       " 'with',\n",
       " 'yield']"
      ]
     },
     "execution_count": 50,
     "metadata": {},
     "output_type": "execute_result"
    }
   ],
   "source": [
    "keyword.kwlist"
   ]
  },
  {
   "cell_type": "code",
   "execution_count": 51,
   "id": "17e3b79e-f6bb-4b11-a6d3-18d359ddeaf6",
   "metadata": {},
   "outputs": [
    {
     "data": {
      "text/plain": [
       "35"
      ]
     },
     "execution_count": 51,
     "metadata": {},
     "output_type": "execute_result"
    }
   ],
   "source": [
    "len(keyword.kwlist)"
   ]
  },
  {
   "cell_type": "code",
   "execution_count": null,
   "id": "7eaece33-913a-42bb-be30-a4e39ce65829",
   "metadata": {},
   "outputs": [],
   "source": [
    "#step-1   import<package_name>\n",
    "#step-2   dir(<package_name>)\n",
    "#step-3   help(<package_name>.<methode_name>)\n",
    "#step-4"
   ]
  },
  {
   "cell_type": "code",
   "execution_count": null,
   "id": "edaa87a3-eceb-4534-9b5b-302167b6d80e",
   "metadata": {},
   "outputs": [],
   "source": [
    "(): functionor methods\n",
    "only functions or methods are callable\n",
    "if something says not callable means, it is not a function\n",
    "it is not a funtion means, you need to remove bracket\n",
    "boubd method means ==== add the brackets\n",
    "function ====== add the brackets\n",
    "not callable ===== remove the brackets"
   ]
  },
  {
   "cell_type": "markdown",
   "id": "5dad609a-bb27-4850-9e40-aa6de3d6c56c",
   "metadata": {},
   "source": [
    "- random\n",
    "\n",
    "- math\n",
    "\n",
    "- keyword"
   ]
  },
  {
   "cell_type": "markdown",
   "id": "b959e3aa-6609-4d93-8c02-8af0f73cb618",
   "metadata": {},
   "source": [
    "**Time**"
   ]
  },
  {
   "cell_type": "code",
   "execution_count": 7,
   "id": "4555ae12-0b9c-459d-a6bb-d7d19e48e3ec",
   "metadata": {},
   "outputs": [
    {
     "name": "stdout",
     "output_type": "stream",
     "text": [
      "father : hello\n",
      "Daughter : hai papa how are you\n",
      "f:do u have school today\n"
     ]
    }
   ],
   "source": [
    "import time\n",
    "print(\"father : hello\")\n",
    "time.sleep(2)\n",
    "print(\"Daughter : hai papa how are you\")\n",
    "time.sleep(3)\n",
    "print(\"f:do u have school today\")"
   ]
  },
  {
   "cell_type": "code",
   "execution_count": 10,
   "id": "67e9bbde-7bfd-4867-a205-753037460e98",
   "metadata": {},
   "outputs": [],
   "source": [
    "import cv2"
   ]
  },
  {
   "cell_type": "markdown",
   "id": "6fad42d7-83c3-4006-b592-231feadf9c81",
   "metadata": {},
   "source": [
    "- when ever module not found we need to install it\n",
    "\n",
    "- here our package name is cv2\n",
    "\n",
    "- 99% the installation will be like this\n",
    "\n",
    "pip install <package name>\n",
    "\n",
    "- some package installation name will different\n",
    " and python import name is different\n",
    "\n",
    "- inorder to install the packages we need interenet\n",
    "\n",
    "- if internet prblm occures while installing we will get http error"
   ]
  },
  {
   "cell_type": "code",
   "execution_count": 13,
   "id": "9041214c-345b-476b-a895-0270454619d9",
   "metadata": {},
   "outputs": [],
   "source": [
    "import streamlit"
   ]
  },
  {
   "cell_type": "markdown",
   "id": "40a56213-0b2c-4964-abde-56525573767f",
   "metadata": {},
   "source": [
    "**note**\n",
    "- pip freeze is a command to know the already existed packages in our laptop"
   ]
  },
  {
   "cell_type": "code",
   "execution_count": 14,
   "id": "45279cce-521e-42ba-b8e1-80fdf85e932b",
   "metadata": {},
   "outputs": [],
   "source": [
    "import numpy"
   ]
  },
  {
   "cell_type": "code",
   "execution_count": 15,
   "id": "2202ac3f-1c7d-419e-952f-239fa96e7510",
   "metadata": {},
   "outputs": [
    {
     "data": {
      "text/plain": [
       "<module 'numpy' from 'C:\\\\Users\\\\INDIA\\\\anaconda3\\\\Lib\\\\site-packages\\\\numpy\\\\__init__.py'>"
      ]
     },
     "execution_count": 15,
     "metadata": {},
     "output_type": "execute_result"
    }
   ],
   "source": [
    "numpy"
   ]
  },
  {
   "cell_type": "markdown",
   "id": "da2294be-8d09-40a6-9adc-b4a24f894d0f",
   "metadata": {},
   "source": [
    "!pip install opencv-python \n",
    "\n",
    "- in jupyter notebook we need add ! mark\n",
    "- in anaconda prompt no need of ! mark\n",
    "- directly name you can provide"
   ]
  },
  {
   "cell_type": "code",
   "execution_count": 16,
   "id": "cb2c16d7-ea3d-4bd7-94bf-5d9c6de179bf",
   "metadata": {},
   "outputs": [
    {
     "name": "stdout",
     "output_type": "stream",
     "text": [
      "30\n"
     ]
    }
   ],
   "source": [
    "#hard coading \n",
    "# we are fixing the values\n",
    "number1=10\n",
    "number2=20\n",
    "add=number1+number2\n",
    "print(add)\n"
   ]
  },
  {
   "cell_type": "code",
   "execution_count": 20,
   "id": "35794f67-005e-4d06-8bfb-3b22d2591ccb",
   "metadata": {},
   "outputs": [
    {
     "name": "stdin",
     "output_type": "stream",
     "text": [
      "enter number1: 2\n",
      "enter number3: 3\n"
     ]
    },
    {
     "name": "stdout",
     "output_type": "stream",
     "text": [
      "5\n"
     ]
    }
   ],
   "source": [
    "#using keyboard\n",
    "number1=eval(input(\"enter number1:\"))\n",
    "number2=eval(input(\"enter number3:\"))\n",
    "add=number1+number2\n",
    "print(add)"
   ]
  },
  {
   "cell_type": "code",
   "execution_count": 19,
   "id": "f4f7af8c-04ae-45fd-8161-670561b1ff7e",
   "metadata": {},
   "outputs": [
    {
     "name": "stdout",
     "output_type": "stream",
     "text": [
      "the addition of 41 and 123 is 164\n"
     ]
    }
   ],
   "source": [
    "#we can take the numbers randomly also\n",
    "import random\n",
    "number1=random.randint(1,100)\n",
    "number2=random.randint(100,200)\n",
    "add=number1+number2\n",
    "print(f\"the addition of {number1} and {number2} is {add}\")"
   ]
  },
  {
   "cell_type": "code",
   "execution_count": 21,
   "id": "6a2d6f0a-8a92-459a-90fb-60612a8d2900",
   "metadata": {},
   "outputs": [
    {
     "name": "stdin",
     "output_type": "stream",
     "text": [
      "enter n2: 23\n"
     ]
    },
    {
     "name": "stdout",
     "output_type": "stream",
     "text": [
      "the average of10 ,23 and 52 is 28.333333333333332\n"
     ]
    }
   ],
   "source": [
    "n1=10\n",
    "n2=eval(input(\"enter n2:\"))\n",
    "n3=random.randint(1,100)\n",
    "average=(n1+n2+n3)/3\n",
    "print(f\"the average of{n1} ,{n2} and {n3} is {average}\")"
   ]
  },
  {
   "cell_type": "code",
   "execution_count": null,
   "id": "621985fe-3ebb-48b0-8e14-2e69633eff60",
   "metadata": {},
   "outputs": [],
   "source": [
    "#u need to take random values every where\n",
    "# 11 the print statement using time.sleep"
   ]
  },
  {
   "cell_type": "markdown",
   "id": "d78dcd4d-516e-460e-b4dd-3075e7962b64",
   "metadata": {},
   "source": [
    "**Round**\n",
    "- where it is a keyword\n",
    "   - like\n",
    "      - type()\n",
    "      - input()\n",
    "      - print() \n"
   ]
  },
  {
   "cell_type": "code",
   "execution_count": 4,
   "id": "004b91a2-f77b-4155-81ef-7285a9df57f2",
   "metadata": {},
   "outputs": [
    {
     "data": {
      "text/plain": [
       "35"
      ]
     },
     "execution_count": 4,
     "metadata": {},
     "output_type": "execute_result"
    }
   ],
   "source": [
    "avg=35.3345\n",
    "round(avg)"
   ]
  },
  {
   "cell_type": "code",
   "execution_count": 5,
   "id": "ad568fde-8801-44dd-9bb8-66a02cd8721d",
   "metadata": {},
   "outputs": [
    {
     "data": {
      "text/plain": [
       "35.3345"
      ]
     },
     "execution_count": 5,
     "metadata": {},
     "output_type": "execute_result"
    }
   ],
   "source": [
    "round(avg,4)"
   ]
  },
  {
   "cell_type": "code",
   "execution_count": 27,
   "id": "c37448cb-1f41-4e6f-9b49-e2d2de3f1c09",
   "metadata": {},
   "outputs": [
    {
     "name": "stdin",
     "output_type": "stream",
     "text": [
      "enter n2: 23\n"
     ]
    },
    {
     "name": "stdout",
     "output_type": "stream",
     "text": [
      "the average of10 ,23 and 98 is 43.6667\n"
     ]
    }
   ],
   "source": [
    "n1=10\n",
    "n2=eval(input(\"enter n2:\"))\n",
    "n3=random.randint(1,100)\n",
    "average=(n1+n2+n3)/3\n",
    "av1=round(average,4)\n",
    "print(f\"the average of{n1} ,{n2} and {n3} is {av1}\")"
   ]
  },
  {
   "cell_type": "code",
   "execution_count": 2,
   "id": "ee10d832-c329-4cae-bfb6-6a4cd00ffd30",
   "metadata": {},
   "outputs": [
    {
     "name": "stdin",
     "output_type": "stream",
     "text": [
      "enter n2: 20\n"
     ]
    },
    {
     "name": "stdout",
     "output_type": "stream",
     "text": [
      "the average of10 ,20 and 78 is 36.0\n"
     ]
    }
   ],
   "source": [
    "import random\n",
    "n1=10\n",
    "n2=eval(input(\"enter n2:\"))\n",
    "n3=random.randint(1,100)\n",
    "average=round((n1+n2+n3)/3,2)\n",
    "print(f\"the average of{n1} ,{n2} and {n3} is {average}\")"
   ]
  },
  {
   "cell_type": "code",
   "execution_count": null,
   "id": "4e0d5922-916a-4dfd-a0e0-04c4d75478ad",
   "metadata": {},
   "outputs": [],
   "source": []
  }
 ],
 "metadata": {
  "kernelspec": {
   "display_name": "Python 3 (ipykernel)",
   "language": "python",
   "name": "python3"
  },
  "language_info": {
   "codemirror_mode": {
    "name": "ipython",
    "version": 3
   },
   "file_extension": ".py",
   "mimetype": "text/x-python",
   "name": "python",
   "nbconvert_exporter": "python",
   "pygments_lexer": "ipython3",
   "version": "3.11.7"
  }
 },
 "nbformat": 4,
 "nbformat_minor": 5
}
