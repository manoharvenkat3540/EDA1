{
 "cells": [
  {
   "cell_type": "code",
   "execution_count": 1,
   "id": "1540176c-e9f9-4d8b-8d78-06aaa34f52d3",
   "metadata": {},
   "outputs": [
    {
     "name": "stdout",
     "output_type": "stream",
     "text": [
      "1100\n"
     ]
    }
   ],
   "source": [
    "#case 1\n",
    "def addition(n1,n2=600):\n",
    "    add=n1+n2\n",
    "    print(add)\n",
    "addition(500)\n",
    "\n",
    "#first we define the function \n",
    "#while defining the function we define n2=600\n",
    "#now we are calling the function\n",
    "#when we are running the function n1=500\n",
    "#the final result is 1100"
   ]
  },
  {
   "cell_type": "code",
   "execution_count": 2,
   "id": "ed187369-ca9b-4299-ab6e-d9e6370947ee",
   "metadata": {},
   "outputs": [
    {
     "name": "stdout",
     "output_type": "stream",
     "text": [
      "1500\n"
     ]
    }
   ],
   "source": [
    "#case 2\n",
    "def addi1(n1,n2=600):\n",
    "    add=n1+n2\n",
    "    print(add)\n",
    "addi1(500,1000)\n",
    "\n",
    "#first we define the function \n",
    "#while define the function we given n2=600\n",
    "#now we are calling the function\n",
    "#while we are calling the function n2=1000\n",
    "#so the value has overwrite\n",
    "#as we know puthon always takes the latest value"
   ]
  },
  {
   "cell_type": "code",
   "execution_count": 3,
   "id": "8ed8d2e0-9f51-4f8d-9b50-a1cc053ec395",
   "metadata": {},
   "outputs": [
    {
     "name": "stdout",
     "output_type": "stream",
     "text": [
      "2500\n"
     ]
    }
   ],
   "source": [
    "#case 3\n",
    "def addition1(n1,n2=600):\n",
    "    n2=2000\n",
    "    add=n1+n2\n",
    "    print(add)\n",
    "addition1(500,1000)\n",
    "#first we define the function n2=600\n",
    "#call the function n1=500 and n2=1000\n",
    "#while running the function n2=2000\n",
    "#as we known the python always takes the latest value n2=2000\n"
   ]
  },
  {
   "cell_type": "code",
   "execution_count": 4,
   "id": "b72c0b1a-ed96-4233-8337-96990911342c",
   "metadata": {},
   "outputs": [],
   "source": [
    "#case 4\n",
    "def addition1(n1,n2=600):\n",
    "    n2=2000\n",
    "    add=n1+n2\n",
    "    print(add)\n",
    "n2=3000\n",
    "addition1(500,1000)\n",
    "#first we define the function n2=600\n",
    "#call the function n1=500 and n2=1000\n",
    "#while calling the function n2  is updated to n2=3000\n",
    "#while running the function n2=2000\n",
    "#as we known the python always takes the latest value n2=2000"
   ]
  },
  {
   "cell_type": "code",
   "execution_count": 8,
   "id": "4cbaa4e8-d83f-4e73-8d1b-e16826d4d0bd",
   "metadata": {},
   "outputs": [
    {
     "name": "stdout",
     "output_type": "stream",
     "text": [
      "1200\n"
     ]
    }
   ],
   "source": [
    "#cae 5\n",
    "a1=100\n",
    "b1=200\n",
    "def add11(a1=1000):\n",
    "    sum=a1+b1\n",
    "    print(sum)\n",
    "add11()\n",
    "\n",
    "#first we created the global variables a1 and b1\n",
    "#after that we creatwd the function a1=1000\n",
    "#call the function\n",
    "#while running the function a1=1000\n"
   ]
  },
  {
   "cell_type": "code",
   "execution_count": 19,
   "id": "b864d40b-95af-4b99-a72a-392e71bf1d15",
   "metadata": {},
   "outputs": [
    {
     "ename": "TypeError",
     "evalue": "add21() got an unexpected keyword argument 'b1'",
     "output_type": "error",
     "traceback": [
      "\u001b[1;31m---------------------------------------------------------------------------\u001b[0m",
      "\u001b[1;31mTypeError\u001b[0m                                 Traceback (most recent call last)",
      "Cell \u001b[1;32mIn[19], line 7\u001b[0m\n\u001b[0;32m      5\u001b[0m     sum1\u001b[38;5;241m=\u001b[39ma1\u001b[38;5;241m+\u001b[39mb1\n\u001b[0;32m      6\u001b[0m     \u001b[38;5;28mprint\u001b[39m(sum1)\n\u001b[1;32m----> 7\u001b[0m add21(a1\u001b[38;5;241m=\u001b[39m\u001b[38;5;241m2000\u001b[39m,b1\u001b[38;5;241m=\u001b[39m\u001b[38;5;241m3000\u001b[39m)\n",
      "\u001b[1;31mTypeError\u001b[0m: add21() got an unexpected keyword argument 'b1'"
     ]
    }
   ],
   "source": [
    "#case 6\n",
    "a1=100\n",
    "b1=200\n",
    "def add21(a1=1000):\n",
    "    sum1=a1+b1\n",
    "    print(sum1)\n",
    "add21(a1=2000,b1=3000)\n",
    "\n",
    "#first we created the global variables a1 and b1\n",
    "#after that we created the function and we have provided the default function value\n",
    "#while defining  the function a1=1000\n",
    "#while defining the function we created only one argument a1=1000\n",
    "# while callig the function we created 2 arguments where it leads to  error"
   ]
  },
  {
   "cell_type": "code",
   "execution_count": 18,
   "id": "9f94fa64-aa9c-4fd8-b52f-bc1192a4d7d2",
   "metadata": {},
   "outputs": [
    {
     "name": "stdout",
     "output_type": "stream",
     "text": [
      "2200\n"
     ]
    }
   ],
   "source": [
    "#case-7 \n",
    "a12=100\n",
    "b12=200\n",
    "def addition23(a12=1000):\n",
    "    sum2=a12+b12\n",
    "    print(sum2)\n",
    "addition23(a12=2000)\n",
    "\n",
    "#first we hve define the global  variables \n",
    "#while creating the functions we have created the default argument a12=1000\n",
    "#while calling the funcgtion we aasign a12=2000\n",
    "#running the function \n",
    "#the value a12 has been overrided to a12=2000\n",
    "#we know thatb python always takes the latest value"
   ]
  },
  {
   "cell_type": "code",
   "execution_count": 16,
   "id": "13f33737-8877-469a-ba42-a3c76ef375d6",
   "metadata": {},
   "outputs": [
    {
     "name": "stdout",
     "output_type": "stream",
     "text": [
      "5200\n"
     ]
    }
   ],
   "source": [
    "#case 8 \n",
    "a13=100\n",
    "b13=200\n",
    "def add123(a13=1000):\n",
    "    a13=5000\n",
    "    sum3=a13+b13\n",
    "    print(sum3)\n",
    "add123(a13=2000)\n",
    "\n",
    "#first we created the global variables \n",
    "#and while creating the function we have aasigned the default arguments and the global variables are chnaged \n",
    "#while we calling the function a13 has updated to a13=2000\n",
    "#running the function\n",
    "#the value a23 has changed to 5000\n"
   ]
  },
  {
   "cell_type": "code",
   "execution_count": 15,
   "id": "3e58a1dd-dc66-4fef-9956-180f63b6a64d",
   "metadata": {},
   "outputs": [
    {
     "name": "stdout",
     "output_type": "stream",
     "text": [
      "5200\n"
     ]
    }
   ],
   "source": [
    "#case 9\n",
    "n=100\n",
    "n1=200\n",
    "def sum123(n=1000):\n",
    "    n=5000\n",
    "    add=n+n1\n",
    "    print(add)\n",
    "n=6000\n",
    "sum123(n=2000)\n",
    "\n",
    "#first we mentioned the global variables\n",
    "#here we have assigned the default argument as n=1000\n",
    "#and while calling the the function we have updated n value to n=2000\n",
    "#and we have created the local variables n=6000\n",
    "#running the function n=5000"
   ]
  },
  {
   "cell_type": "code",
   "execution_count": 14,
   "id": "47cb80f9-43db-4e5a-a353-5ab08b060af7",
   "metadata": {},
   "outputs": [
    {
     "name": "stdout",
     "output_type": "stream",
     "text": [
      "900\n"
     ]
    }
   ],
   "source": [
    "#case 10\n",
    "m1=300\n",
    "def add4():\n",
    "    addd=m1+m2\n",
    "    print(addd)\n",
    "m2=600\n",
    "add4()\n",
    "\n",
    "#we have created the global variable m1\n",
    "#we have created the withot the argumnts\n",
    "#here m2=600 menioned in the local variable\n",
    "#calling the function \n",
    "#running the function\n"
   ]
  },
  {
   "cell_type": "code",
   "execution_count": null,
   "id": "453ff2fa-2d2c-4dec-bf4a-a7e59e1c5996",
   "metadata": {},
   "outputs": [],
   "source": []
  }
 ],
 "metadata": {
  "kernelspec": {
   "display_name": "Python 3 (ipykernel)",
   "language": "python",
   "name": "python3"
  },
  "language_info": {
   "codemirror_mode": {
    "name": "ipython",
    "version": 3
   },
   "file_extension": ".py",
   "mimetype": "text/x-python",
   "name": "python",
   "nbconvert_exporter": "python",
   "pygments_lexer": "ipython3",
   "version": "3.11.7"
  }
 },
 "nbformat": 4,
 "nbformat_minor": 5
}
