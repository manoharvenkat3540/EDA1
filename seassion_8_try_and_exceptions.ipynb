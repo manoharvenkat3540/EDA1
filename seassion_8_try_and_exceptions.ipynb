{
 "cells": [
  {
   "cell_type": "markdown",
   "id": "aa94a552-f146-43cf-9aee-e691e3adf9fe",
   "metadata": {},
   "source": [
    "**try-except**"
   ]
  },
  {
   "cell_type": "markdown",
   "id": "c2bb6f46-56e0-468a-9487-db41afae6255",
   "metadata": {},
   "source": [
    "- generally in real time we will write n number of pthon lines\n",
    "- there is a situation we might get error, that error might be unknown\n",
    "- this unknown errors does not cause any harm\n",
    "- even though we are getting , error we need to proceed further\n",
    "- also we need to catch that error\n",
    "- because we already known python is sequential process\n",
    "- means the lines will execute step by step\n",
    "- suppose you have an error at particular line, the code execution will stop at that line only\n",
    "- but u  know that error is not harmful\n",
    "- so u want to continue the exception\n",
    "- then we required try-exception\n"
   ]
  },
  {
   "cell_type": "markdown",
   "id": "9c3a26cd-dae4-4ccf-ab19-e74c94159f7b",
   "metadata": {},
   "source": [
    "- try-except has two \n",
    "- try block as actual code\n",
    "- except block will catch the error"
   ]
  },
  {
   "cell_type": "code",
   "execution_count": 4,
   "id": "f9945023-ec03-4039-8e33-051a539e387f",
   "metadata": {},
   "outputs": [
    {
     "name": "stdin",
     "output_type": "stream",
     "text": [
      "enter anumber 10j\n",
      "enter anumber k\n"
     ]
    },
    {
     "name": "stdout",
     "output_type": "stream",
     "text": [
      "hello\n",
      "chepu ra bata\n",
      "mani bata\n"
     ]
    }
   ],
   "source": [
    "try:\n",
    "    num1=eval(input(\"enter anumber\"))\n",
    "    num2=eval(input(\"enter anumber\"))\n",
    "    add=num1+num2\n",
    "    print(add)\n",
    "except:\n",
    "    print(\"hello\")\n",
    "    print(\"chepu ra bata\")\n",
    "    print(\"mani bata\")"
   ]
  },
  {
   "cell_type": "markdown",
   "id": "c42d57be-407c-4473-a677-be9e590d7cd5",
   "metadata": {},
   "source": [
    "**use to note**\n",
    "- generally try excpet block will use to catch the errors"
   ]
  },
  {
   "cell_type": "code",
   "execution_count": 9,
   "id": "0a9e7469-4818-4d14-9dcd-3de20d5d34e9",
   "metadata": {},
   "outputs": [
    {
     "ename": "SyntaxError",
     "evalue": "'(' was never closed (2593085796.py, line 2)",
     "output_type": "error",
     "traceback": [
      "\u001b[1;36m  Cell \u001b[1;32mIn[9], line 2\u001b[1;36m\u001b[0m\n\u001b[1;33m    num1=eval(input(\"enter anumber\")\u001b[0m\n\u001b[1;37m             ^\u001b[0m\n\u001b[1;31mSyntaxError\u001b[0m\u001b[1;31m:\u001b[0m '(' was never closed\n"
     ]
    }
   ],
   "source": [
    "try:\n",
    "    num1=eval(input(\"enter anumber\"))\n",
    "    num2=eval(input(\"enter anumber\"))\n",
    "    add=num1+num2\n",
    "    div=num1/num2\n",
    "    print(add)\n",
    "except Exception as e:\n",
    "    print(e)\n",
    "    "
   ]
  },
  {
   "cell_type": "code",
   "execution_count": null,
   "id": "75b702dc-a1d1-46c9-9841-08588f82d6c2",
   "metadata": {},
   "outputs": [],
   "source": []
  }
 ],
 "metadata": {
  "kernelspec": {
   "display_name": "Python 3 (ipykernel)",
   "language": "python",
   "name": "python3"
  },
  "language_info": {
   "codemirror_mode": {
    "name": "ipython",
    "version": 3
   },
   "file_extension": ".py",
   "mimetype": "text/x-python",
   "name": "python",
   "nbconvert_exporter": "python",
   "pygments_lexer": "ipython3",
   "version": "3.11.7"
  }
 },
 "nbformat": 4,
 "nbformat_minor": 5
}
