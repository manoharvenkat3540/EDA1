{
 "cells": [
  {
   "cell_type": "code",
   "execution_count": 4,
   "id": "98d0c5e0-a1a5-42d0-b25c-844766fd242c",
   "metadata": {},
   "outputs": [
    {
     "name": "stdout",
     "output_type": "stream",
     "text": [
      "the number is odd 11\n",
      "the number is odd 53\n",
      "the number is even 62\n"
     ]
    }
   ],
   "source": [
    "#kindly complete all questions , we will do same replica in While loop\n",
    "#1Q) For example\n",
    "# take a random number between  1 to 100\n",
    "# print it is a even number and odd number\n",
    "# you need to generate 3 random number\n",
    "import random\n",
    "for i in range(3):\n",
    "    number=random.randint(1,100)\n",
    "    if number%2==0:\n",
    "        print(f\"the number is even {number}\")\n",
    "    else:\n",
    "        print(f\"the number is odd {number}\")"
   ]
  },
  {
   "cell_type": "code",
   "execution_count": 11,
   "id": "f147953a-eca9-426e-b8d3-dc5aac3fd623",
   "metadata": {},
   "outputs": [
    {
     "name": "stdout",
     "output_type": "stream",
     "text": [
      "the number is even 16\n"
     ]
    }
   ],
   "source": [
    "#2Q) wap ask the user print the number is even or odd between 10 to 20\n",
    "num=random.randint(10,20)\n",
    "for i in range(num):\n",
    "    if num%2==0:\n",
    "        print(f\"the number is even {num}\")\n",
    "        break\n",
    "else:\n",
    "    print(f\"the number is odd {num}\")\n",
    "    "
   ]
  },
  {
   "cell_type": "code",
   "execution_count": 16,
   "id": "6953c754-c8cf-4714-9c95-5416aa3e639e",
   "metadata": {},
   "outputs": [
    {
     "name": "stdout",
     "output_type": "stream",
     "text": [
      "the square random number is 576\n",
      "the square random number is 576\n",
      "the square random number is 576\n",
      "the square random number is 576\n",
      "the square random number is 576\n",
      "the square random number is 576\n",
      "the square random number is 576\n",
      "the square random number is 576\n",
      "the square random number is 576\n",
      "the square random number is 576\n",
      "the square random number is 576\n",
      "the square random number is 576\n",
      "the square random number is 576\n",
      "the square random number is 576\n",
      "the square random number is 576\n",
      "the square random number is 576\n",
      "the square random number is 576\n",
      "the square random number is 576\n",
      "the square random number is 576\n",
      "the square random number is 576\n",
      "the square random number is 576\n",
      "the square random number is 576\n",
      "the square random number is 576\n",
      "the square random number is 576\n"
     ]
    }
   ],
   "source": [
    "#3Q) wap ask the user print the square of the number between\n",
    "# 20 to 25\n",
    "square=random.randint(20,25)\n",
    "for i in range(square):\n",
    "    print(f\"the square random number is {square*square}\")"
   ]
  },
  {
   "cell_type": "code",
   "execution_count": 17,
   "id": "0798c141-e15a-4242-a768-5a4aa8753fde",
   "metadata": {},
   "outputs": [
    {
     "name": "stdin",
     "output_type": "stream",
     "text": [
      "enter a number: 2\n"
     ]
    },
    {
     "name": "stdout",
     "output_type": "stream",
     "text": [
      "the square of the number is 4\n"
     ]
    },
    {
     "name": "stdin",
     "output_type": "stream",
     "text": [
      "enter a number: 3\n"
     ]
    },
    {
     "name": "stdout",
     "output_type": "stream",
     "text": [
      "the square of the number is 9\n"
     ]
    },
    {
     "name": "stdin",
     "output_type": "stream",
     "text": [
      "enter a number: 4\n"
     ]
    },
    {
     "name": "stdout",
     "output_type": "stream",
     "text": [
      "the square of the number is 16\n"
     ]
    }
   ],
   "source": [
    "#4Q) WAP ask the user enter number three times find the square of the number\n",
    "# How many times loop should run\n",
    "for i in range(3):\n",
    "    number=eval(input(\"enter a number:\"))\n",
    "    tabel=number*number\n",
    "    print(f\"the square of the number is {tabel}\")"
   ]
  },
  {
   "cell_type": "code",
   "execution_count": 24,
   "id": "e838eda3-d540-47b9-bc06-0ae2e8177638",
   "metadata": {},
   "outputs": [
    {
     "name": "stdin",
     "output_type": "stream",
     "text": [
      "enter a number: 14\n"
     ]
    },
    {
     "name": "stdout",
     "output_type": "stream",
     "text": [
      "14 X 1 = 14\n",
      "14 X 2 = 28\n",
      "14 X 3 = 42\n",
      "14 X 4 = 56\n",
      "14 X 5 = 70\n",
      "14 X 6 = 84\n",
      "14 X 7 = 98\n",
      "14 X 8 = 112\n",
      "14 X 9 = 126\n",
      "14 X 10 = 140\n"
     ]
    }
   ],
   "source": [
    "#5Q) Print the 14th table\n",
    "# ans:   14 x 1 = 14\n",
    "#        14 x 2 = 28\n",
    "#        14 x 3 = 42\n",
    "#\n",
    "#\n",
    "#        14 x10 = 140\n",
    "# How many times 10\n",
    "number=eval(input(\"enter a number:\"))\n",
    "for i in range(1,11):\n",
    "    tab=number*i\n",
    "    print(f\"{number} X {i} = {tab}\")"
   ]
  },
  {
   "cell_type": "code",
   "execution_count": 31,
   "id": "63ab9145-250b-4a4f-a8cc-2df515fb876f",
   "metadata": {},
   "outputs": [
    {
     "name": "stdin",
     "output_type": "stream",
     "text": [
      "enter a number: 75\n"
     ]
    },
    {
     "name": "stdout",
     "output_type": "stream",
     "text": [
      "the factorial of 75 is 1\n",
      "the factorial of 75 is 3\n",
      "the factorial of 75 is 5\n",
      "the factorial of 75 is 15\n",
      "the factorial of 75 is 25\n",
      "the factorial of 75 is 75\n"
     ]
    }
   ],
   "source": [
    "#6 Q) Find the factors of 75\n",
    "# step-1: Iterate the loop = which numbers factor you want\n",
    "# step-2: Apply the if condition\n",
    "#         cond= divide the number with each i\n",
    "number=eval(input(\"enter a number:\"))\n",
    "for i in range(1,number+1):\n",
    "    if number%i==0:\n",
    "        print(f\"the factorial of {number} is {i}\")"
   ]
  },
  {
   "cell_type": "code",
   "execution_count": 66,
   "id": "50127810-abc9-4d7b-aaee-08e8d6c30bbd",
   "metadata": {},
   "outputs": [
    {
     "name": "stdout",
     "output_type": "stream",
     "text": [
      "0+1=1 1+2=3 3+3=6 6+4=10 10+5=15 15+6=21 21+7=28 28+8=36 36+9=45 "
     ]
    }
   ],
   "source": [
    "#7Q) Write the sum of first 10 Natural numbers\n",
    "# 1 to 10\n",
    "# 1+2+3+4+5+6+7+8+9+10=55\n",
    "sum=0\n",
    "for i in range(1,10):\n",
    "    sum+=i\n",
    "    addition=(sum-i)+(i)\n",
    "    print(f\"{sum-i}+{i}={addition}\",end=' ')"
   ]
  },
  {
   "cell_type": "code",
   "execution_count": 53,
   "id": "ac17ddcd-8662-4511-bc29-35319205cb51",
   "metadata": {},
   "outputs": [
    {
     "name": "stdin",
     "output_type": "stream",
     "text": [
      "enter a number: 10\n"
     ]
    },
    {
     "name": "stdout",
     "output_type": "stream",
     "text": [
      "4.5\n"
     ]
    }
   ],
   "source": [
    "# 8Q) Average first 1 to 10 numbers\n",
    "# avg= summation of all the numbers/total number\n",
    "sum=0\n",
    "natural=eval(input(\"enter a number:\"))\n",
    "for i in range(1,10):\n",
    "    sum+=i\n",
    "    avg=sum/natural\n",
    "print(avg)"
   ]
  },
  {
   "cell_type": "code",
   "execution_count": 61,
   "id": "81db1592-70c6-4ef0-b71c-ed5622c0138c",
   "metadata": {},
   "outputs": [
    {
     "name": "stdin",
     "output_type": "stream",
     "text": [
      "enter a number: 100\n"
     ]
    },
    {
     "name": "stdout",
     "output_type": "stream",
     "text": [
      "49.5\n"
     ]
    }
   ],
   "source": [
    "#Wap to find the average of ' N ' numbers in \n",
    "n=eval(input(\"enter a number:\"))\n",
    "sum=0\n",
    "for i in range(1,n):\n",
    "    sum=sum+i\n",
    "    avg=sum/n\n",
    "print(avg)"
   ]
  },
  {
   "cell_type": "code",
   "execution_count": 71,
   "id": "71d9adaf-d8f7-4f8c-bc88-10a56b0e8c04",
   "metadata": {},
   "outputs": [
    {
     "name": "stdin",
     "output_type": "stream",
     "text": [
      "enter a number: 75\n"
     ]
    },
    {
     "name": "stdout",
     "output_type": "stream",
     "text": [
      "number of divisiors are 6\n"
     ]
    }
   ],
   "source": [
    "#9Q) Find the number of divisors of 75\n",
    "# ans: 1,3,5,15,25,75\n",
    "# Number =6\n",
    "number=eval(input(\"enter a number:\"))\n",
    "divisiors=0\n",
    "for i in range(1,n+1):\n",
    "    if number%i==0:\n",
    "        divisiors+=1\n",
    "print(f\"number of divisiors are {divisiors}\")"
   ]
  },
  {
   "cell_type": "code",
   "execution_count": 83,
   "id": "5f057988-95c1-456d-b64e-310b09f78b3f",
   "metadata": {},
   "outputs": [
    {
     "name": "stdin",
     "output_type": "stream",
     "text": [
      "enter num2: 2\n"
     ]
    },
    {
     "name": "stdout",
     "output_type": "stream",
     "text": [
      "2 is won\n"
     ]
    }
   ],
   "source": [
    "# 10Q)\n",
    "# Get a random number between  1 to 10 :  num1\n",
    "# Ask the user enter a number : num2\n",
    "# if num1 == num2  then print won\n",
    "# else print fail\n",
    "for i in range(1):\n",
    "    num1=random.randint(1,10)\n",
    "    num2=eval(input(\"enter num2:\"))\n",
    "    if num1==num2:\n",
    "        print(f\"{num1} is won\")\n",
    "    else:\n",
    "        print(f\"{num1} is fail\")"
   ]
  },
  {
   "cell_type": "code",
   "execution_count": 88,
   "id": "08487472-b0dc-4431-bfd4-a963fc1c4c24",
   "metadata": {},
   "outputs": [
    {
     "name": "stdin",
     "output_type": "stream",
     "text": [
      "enter num2: 3\n"
     ]
    },
    {
     "name": "stdout",
     "output_type": "stream",
     "text": [
      "3 is won\n"
     ]
    }
   ],
   "source": [
    "# Case-2: whenever you won the code should stop\n",
    "for i in range(3):\n",
    "    num1=random.randint(1,10)\n",
    "    num2=eval(input(\"enter num2:\"))\n",
    "    if num1==num2:\n",
    "        print(f\"{num1} is won\")\n",
    "        break\n",
    "    else:\n",
    "        print(f\"{num1} is fail\")"
   ]
  },
  {
   "cell_type": "code",
   "execution_count": 84,
   "id": "16290ee1-f5c0-4bbb-9fd9-fee11171423d",
   "metadata": {},
   "outputs": [
    {
     "name": "stdin",
     "output_type": "stream",
     "text": [
      "enter num2: 2\n"
     ]
    },
    {
     "name": "stdout",
     "output_type": "stream",
     "text": [
      "4 is fail\n"
     ]
    },
    {
     "name": "stdin",
     "output_type": "stream",
     "text": [
      "enter num2: 3\n"
     ]
    },
    {
     "name": "stdout",
     "output_type": "stream",
     "text": [
      "8 is fail\n"
     ]
    },
    {
     "name": "stdin",
     "output_type": "stream",
     "text": [
      "enter num2: 4\n"
     ]
    },
    {
     "name": "stdout",
     "output_type": "stream",
     "text": [
      "5 is fail\n"
     ]
    }
   ],
   "source": [
    "# Give 3 chances\n",
    "for i in range(3):\n",
    "    num1=random.randint(1,10)\n",
    "    num2=eval(input(\"enter num2:\"))\n",
    "    if num1==num2:\n",
    "        print(f\"{num1} is won\")\n",
    "    else:\n",
    "        print(f\"{num1} is fail\")"
   ]
  },
  {
   "cell_type": "code",
   "execution_count": 97,
   "id": "0e7a26c9-b07a-41a5-87bc-372be8d5f981",
   "metadata": {},
   "outputs": [
    {
     "name": "stdin",
     "output_type": "stream",
     "text": [
      "enter num2: 3\n"
     ]
    },
    {
     "name": "stdout",
     "output_type": "stream",
     "text": [
      "2 is fail\n",
      "3\n"
     ]
    },
    {
     "name": "stdin",
     "output_type": "stream",
     "text": [
      "enter num2: 5\n"
     ]
    },
    {
     "name": "stdout",
     "output_type": "stream",
     "text": [
      "7 is fail\n",
      "2\n"
     ]
    },
    {
     "name": "stdin",
     "output_type": "stream",
     "text": [
      "enter num2: 6\n"
     ]
    },
    {
     "name": "stdout",
     "output_type": "stream",
     "text": [
      "10 is fail\n",
      "1\n"
     ]
    },
    {
     "name": "stdin",
     "output_type": "stream",
     "text": [
      "enter num2: 7\n"
     ]
    },
    {
     "name": "stdout",
     "output_type": "stream",
     "text": [
      "9 is fail\n",
      "0\n",
      "Try again after 24 hours\n"
     ]
    }
   ],
   "source": [
    "# Case-3:\n",
    "# Suppose i want to give 4 chances\n",
    "# Every time you fail I want to display\n",
    "#      Number of chances left\n",
    "\n",
    "# If all the chances you are used\n",
    "#    Try again after 24 hours\n",
    "\n",
    "# If you are win\n",
    "count=4\n",
    "for i in range(4):\n",
    "    num1=random.randint(1,10)\n",
    "    num2=eval(input(\"enter num2:\"))\n",
    "    if num1==num2:\n",
    "        count+=1\n",
    "        print(f\"{num1} is won\")\n",
    "        break\n",
    "    else:\n",
    "        print(f\"{num1} is fail\")\n",
    "        count=count-1\n",
    "        print(count)\n",
    "if count==0:\n",
    "    print(\"Try again after 24 hours\")"
   ]
  },
  {
   "cell_type": "code",
   "execution_count": 101,
   "id": "80cd3613-e504-4037-b7f8-1b9abdc17c95",
   "metadata": {},
   "outputs": [
    {
     "name": "stdout",
     "output_type": "stream",
     "text": [
      "numver is odd and the  count of odd is 1\n",
      "number is even and the count of even is 1\n",
      "numver is odd and the  count of odd is 2\n",
      "number is even and the count of even is 2\n",
      "numver is odd and the  count of odd is 3\n",
      "the total numbers of even number are :2\n",
      "the total numbers of even number are : 3\n"
     ]
    }
   ],
   "source": [
    "11q)# wap ask the user get 5 random numbers\n",
    "# Get it is an even number or odd number\n",
    "# also count how many even numbers are there\n",
    "# and  count how many odd numbers are there\n",
    "\n",
    "# Idea\n",
    "# take two counters one even and odd count\n",
    "# For loop 5 times\n",
    "# each time take the random number\n",
    "# If condition\n",
    "#    True counter update\n",
    "# else\n",
    "#   Update the counter\n",
    "import random\n",
    "even_count=0\n",
    "odd_count=0\n",
    "for i in range(5):\n",
    "    number=random.randint(1,6)\n",
    "    if number%2==0:\n",
    "        even_count+=1\n",
    "        print(f\"number is even and the count of even is {even_count}\")\n",
    "    else:\n",
    "        odd_count+=1\n",
    "        print(f\"numver is odd and the  count of odd is {odd_count}\")\n",
    "print(f\"the total numbers of even number are :{even_count}\")\n",
    "print(f\"the total numbers of even number are : {odd_count}\")"
   ]
  },
  {
   "cell_type": "code",
   "execution_count": 104,
   "id": "33a7d513-509a-4d22-977c-2c6c78242e11",
   "metadata": {},
   "outputs": [
    {
     "name": "stdout",
     "output_type": "stream",
     "text": [
      "number is even and the count of even is 1\n",
      "number is even and the count of even is 2\n",
      "numver is odd and the  count of odd is 1\n",
      "numver is odd and the  count of odd is 2\n",
      "numver is odd and the  count of odd is 3\n",
      "the total numbers of even number are :2\n",
      "the total numbers of even number are :3\n",
      "the sum of even numbers are :3\n",
      "the sum of odd numbers are : 6\n"
     ]
    }
   ],
   "source": [
    "#12Q) # wap ask the user get 5 random numbers\n",
    "# Get it is an even number or odd number\n",
    "# also count how many even numbers are there\n",
    "# and  count how many odd numbers are there\n",
    "# I want summ even numbers\n",
    "# I want summ odd numbers\n",
    "even_count=0\n",
    "odd_count=0\n",
    "even_sum=0\n",
    "odd_sum=0\n",
    "for i in range(5):\n",
    "    number=random.randint(1,6)\n",
    "    if number%2==0:\n",
    "        even_count+=1\n",
    "        even_sum+=even_count\n",
    "        print(f\"number is even and the count of even is {even_count}\")\n",
    "    else:\n",
    "        odd_count+=1\n",
    "        odd_sum+=odd_count\n",
    "        print(f\"numver is odd and the  count of odd is {odd_count}\")\n",
    "print(f\"the total numbers of even number are :{even_count}\")\n",
    "print(f\"the total numbers of even number are :{odd_count}\")\n",
    "print(f\"the sum of even numbers are :{even_sum}\")\n",
    "print(f\"the sum of odd numbers are : {odd_sum}\")"
   ]
  },
  {
   "cell_type": "code",
   "execution_count": null,
   "id": "ee1a6a9b-7c6a-4d52-b828-3ed090575fdc",
   "metadata": {},
   "outputs": [],
   "source": []
  }
 ],
 "metadata": {
  "kernelspec": {
   "display_name": "Python 3 (ipykernel)",
   "language": "python",
   "name": "python3"
  },
  "language_info": {
   "codemirror_mode": {
    "name": "ipython",
    "version": 3
   },
   "file_extension": ".py",
   "mimetype": "text/x-python",
   "name": "python",
   "nbconvert_exporter": "python",
   "pygments_lexer": "ipython3",
   "version": "3.11.7"
  }
 },
 "nbformat": 4,
 "nbformat_minor": 5
}
