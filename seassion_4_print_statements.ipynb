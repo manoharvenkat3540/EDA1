{
 "cells": [
  {
   "cell_type": "code",
   "execution_count": 1,
   "id": "f1819517-ce03-4d14-ba31-52d04aa90bf6",
   "metadata": {},
   "outputs": [
    {
     "name": "stdout",
     "output_type": "stream",
     "text": [
      "10\n"
     ]
    }
   ],
   "source": [
    "print(10)"
   ]
  },
  {
   "cell_type": "code",
   "execution_count": 2,
   "id": "d0d21b8a-b5ca-44ef-a302-01d1b0678d40",
   "metadata": {},
   "outputs": [
    {
     "name": "stdout",
     "output_type": "stream",
     "text": [
      "python\n"
     ]
    }
   ],
   "source": [
    "print('python')"
   ]
  },
  {
   "cell_type": "code",
   "execution_count": 3,
   "id": "4691f6ab-9848-42b2-8527-262a0ac58631",
   "metadata": {},
   "outputs": [
    {
     "name": "stdout",
     "output_type": "stream",
     "text": [
      "10 20 30\n"
     ]
    }
   ],
   "source": [
    "print(10,20,30)"
   ]
  },
  {
   "cell_type": "code",
   "execution_count": 4,
   "id": "cdb0280d-82bd-4683-97da-7c07c944b158",
   "metadata": {},
   "outputs": [
    {
     "name": "stdout",
     "output_type": "stream",
     "text": [
      "10 10.5 Naresh It True\n"
     ]
    }
   ],
   "source": [
    "print(10,10.5,'Naresh It',True)"
   ]
  },
  {
   "cell_type": "code",
   "execution_count": 5,
   "id": "64b053e5-cb0c-4ffb-b7ad-4b7718338397",
   "metadata": {},
   "outputs": [
    {
     "name": "stdout",
     "output_type": "stream",
     "text": [
      "10 20\n"
     ]
    }
   ],
   "source": [
    "n1=10\n",
    "n2=20\n",
    "print(n1,n2)"
   ]
  },
  {
   "cell_type": "code",
   "execution_count": 7,
   "id": "842cb8bf-a3a2-4f8a-907c-8758946289d3",
   "metadata": {},
   "outputs": [
    {
     "name": "stdout",
     "output_type": "stream",
     "text": [
      "10\n",
      "20\n",
      "10\n",
      "20\n"
     ]
    },
    {
     "data": {
      "text/plain": [
       "(None, None)"
      ]
     },
     "execution_count": 7,
     "metadata": {},
     "output_type": "execute_result"
    }
   ],
   "source": [
    "print(10)\n",
    "print(20)\n",
    "print(10),print(20)"
   ]
  },
  {
   "cell_type": "code",
   "execution_count": 8,
   "id": "dc804fc3-b9be-4d03-b66c-d17e45622e71",
   "metadata": {},
   "outputs": [
    {
     "name": "stdout",
     "output_type": "stream",
     "text": [
      "the addition of 10 and 20 is 30\n",
      "the addition of 10 and 10 is 20\n"
     ]
    }
   ],
   "source": [
    "a=10\n",
    "b=10\n",
    "c=a+b\n",
    "print(\"the addition of 10 and 20 is 30\")\n",
    "print(\"the addition of\",a,\"and\",b,\"is\",c)"
   ]
  },
  {
   "cell_type": "code",
   "execution_count": 11,
   "id": "794ae410-4b6e-4a52-a8e8-ab0545036bb7",
   "metadata": {},
   "outputs": [
    {
     "name": "stdout",
     "output_type": "stream",
     "text": [
      "the addition of 10 and 10 is 20\n"
     ]
    }
   ],
   "source": [
    "a=10\n",
    "b=10\n",
    "c=a+b\n",
    "print(\"the addition of {} and {} is {}\".format(a,b,c))"
   ]
  },
  {
   "cell_type": "code",
   "execution_count": null,
   "id": "bf139723-3d4b-4bf2-8e3d-5a9209ab014a",
   "metadata": {},
   "outputs": [],
   "source": []
  },
  {
   "cell_type": "code",
   "execution_count": 16,
   "id": "575cf672-a084-4333-8b86-24275c30f0bb",
   "metadata": {},
   "outputs": [
    {
     "name": "stdout",
     "output_type": "stream",
     "text": [
      "my name is manu, i am 22 years old, i am from hyd\n"
     ]
    }
   ],
   "source": [
    "name='manu'\n",
    "age=22\n",
    "city='hyd'\n",
    "print(\"my name is {}, i am {} years old, i am from {}\".format(name,age,city))\n"
   ]
  },
  {
   "cell_type": "code",
   "execution_count": 17,
   "id": "96667149-2471-4cd6-9f9e-caf977bbd7a2",
   "metadata": {},
   "outputs": [
    {
     "name": "stdout",
     "output_type": "stream",
     "text": [
      "employ name Manohar,my role doveloper and my company name is wipro\n"
     ]
    }
   ],
   "source": [
    "employ_name=\"Manohar\"\n",
    "role=\"doveloper\"\n",
    "company=\"wipro\"\n",
    "print(\"employ name {},my role {} and my company name is {}\".format(employ_name,role,company))"
   ]
  },
  {
   "cell_type": "markdown",
   "id": "a5d46ef9-9118-4d94-9a3e-a7d872221ef8",
   "metadata": {},
   "source": [
    "- instead of format method we can use the below process"
   ]
  },
  {
   "cell_type": "code",
   "execution_count": 20,
   "id": "387bde50-16f2-4226-b4f4-ca738b639ea6",
   "metadata": {},
   "outputs": [
    {
     "name": "stdout",
     "output_type": "stream",
     "text": [
      "the addition of 10 and 10 is 20\n"
     ]
    }
   ],
   "source": [
    "a=10\n",
    "b=10\n",
    "c=a+b\n",
    "print(f\"the addition of {a} and {b} is {c}\")"
   ]
  },
  {
   "cell_type": "code",
   "execution_count": 5,
   "id": "5a52003b-8eee-455e-8ac6-2b9c12fe7536",
   "metadata": {},
   "outputs": [
    {
     "name": "stdout",
     "output_type": "stream",
     "text": [
      "the average of 100 and 200 is 150.0\n",
      "the avergae of 100 and 200 is 150\n"
     ]
    }
   ],
   "source": [
    "n1=100\n",
    "n2=200\n",
    "average=(n1+n2)/2\n",
    "print(f\"the average of {n1} and {n2} is {average}\")\n",
    "print(\"the avergae of {} and {} is {}\".format(n1,n2,int(average)))"
   ]
  },
  {
   "cell_type": "code",
   "execution_count": 14,
   "id": "749fd532-1fcb-4869-81e0-43a3d0c1962d",
   "metadata": {},
   "outputs": [
    {
     "name": "stdout",
     "output_type": "stream",
     "text": [
      "314.0\n",
      "the area of the circle is : 314.0\n",
      "The area of the circle is : 314.0\n"
     ]
    }
   ],
   "source": [
    "#take the radius of the circle and take the pi value 3.14\n",
    "#find the area of the circle  = pi*\n",
    "radius=10\n",
    "pi=3.14\n",
    "area  =pi*radius*radius\n",
    "print(area)\n",
    "print(f\"the area of the circle is : {area}\")\n",
    "print(\"The area of the circle is : {}\".format(area))"
   ]
  },
  {
   "cell_type": "code",
   "execution_count": 17,
   "id": "043b1482-cfb0-49c4-acfa-364d04d7a53c",
   "metadata": {},
   "outputs": [
    {
     "name": "stdout",
     "output_type": "stream",
     "text": [
      "100.0\n",
      "the area of the triangle is : 100.0\n",
      "The area of the triangle is : 100.0\n"
     ]
    }
   ],
   "source": [
    "#take the base of the triangle \n",
    "# take the height of the triangle\n",
    "#area of the triangle = 1/2*base*height\n",
    "base=10\n",
    "height=20 \n",
    "area = 1/2*base*height\n",
    "print(area)\n",
    "print(\"the area of the triangle is : {}\".format(area))\n",
    "print(f\"The area of the triangle is : {area}\")"
   ]
  },
  {
   "cell_type": "code",
   "execution_count": 29,
   "id": "903ae678-b70d-4c6a-8f0e-571963e26fdb",
   "metadata": {},
   "outputs": [
    {
     "name": "stdout",
     "output_type": "stream",
     "text": [
      "1100.0\n",
      "The total bill amount is: 1100.0\n",
      "The total bill amount is : 1100.0\n"
     ]
    }
   ],
   "source": [
    "#bill amount \n",
    "#take the tip percentage\n",
    "#calculate tip ammount\n",
    "#calculate the total bill\n",
    "#print the total bill\n",
    "bill=1000\n",
    "tip=10\n",
    "total=bill*tip/100\n",
    "#total=1000*10/100\n",
    "amount= bill +total\n",
    "print(amount)\n",
    "print(f\"The total bill amount is: {amount}\")\n",
    "print(\"The total bill amount is : {}\".format(amount))"
   ]
  },
  {
   "cell_type": "markdown",
   "id": "915a6ebc-3931-4dbb-adc9-55ef94ba794d",
   "metadata": {},
   "source": [
    "**END OPERATOR**"
   ]
  },
  {
   "cell_type": "code",
   "execution_count": 32,
   "id": "efa2d282-9bce-4441-9c6a-b48857164041",
   "metadata": {},
   "outputs": [
    {
     "name": "stdout",
     "output_type": "stream",
     "text": [
      "10 20\n"
     ]
    }
   ],
   "source": [
    "print(10,end=' ')\n",
    "print(20)"
   ]
  },
  {
   "cell_type": "code",
   "execution_count": 33,
   "id": "f73fda86-d845-427e-a7bd-217c36830ffc",
   "metadata": {},
   "outputs": [
    {
     "name": "stdout",
     "output_type": "stream",
     "text": [
      "10 20 30\n"
     ]
    }
   ],
   "source": [
    "print(10, end=' ')\n",
    "print(20, end=' ')\n",
    "print(30)"
   ]
  },
  {
   "cell_type": "markdown",
   "id": "759085a9-0bbf-4978-a2da-ea58b6997b3e",
   "metadata": {},
   "source": [
    "**separator operator**"
   ]
  },
  {
   "cell_type": "markdown",
   "id": "1641f2b1-7377-43d6-bed3-1bae44702ef4",
   "metadata": {},
   "source": [
    "$sep$\n",
    "\n",
    "- seperate the multiple values in a single print statement"
   ]
  },
  {
   "cell_type": "code",
   "execution_count": 36,
   "id": "21d57aef-b610-46ea-ad73-2f783f57ed22",
   "metadata": {},
   "outputs": [
    {
     "name": "stdout",
     "output_type": "stream",
     "text": [
      "10&20&30\n"
     ]
    }
   ],
   "source": [
    "print(10,20,30,sep='&')"
   ]
  },
  {
   "cell_type": "code",
   "execution_count": 38,
   "id": "f480d441-af93-49f3-a086-7b9bc0256c4e",
   "metadata": {},
   "outputs": [
    {
     "name": "stdout",
     "output_type": "stream",
     "text": [
      "the addition of 5 and 3 is 8 .\n"
     ]
    }
   ],
   "source": [
    "print('the addition of 5 and 3 is 8','.')"
   ]
  },
  {
   "cell_type": "markdown",
   "id": "ee17b8f5-0656-4184-a4a2-a264ae12e250",
   "metadata": {},
   "source": [
    "- here we can see that the dot is far from 8 to deal this probelm we use separotor"
   ]
  },
  {
   "cell_type": "code",
   "execution_count": 37,
   "id": "18245982-8a35-48e1-9725-ae8b79444056",
   "metadata": {},
   "outputs": [
    {
     "name": "stdout",
     "output_type": "stream",
     "text": [
      "the addition of 5 and 3 is 8.\n"
     ]
    }
   ],
   "source": [
    "print('the addition of 5 and 3 is 8','.',sep='')"
   ]
  },
  {
   "cell_type": "code",
   "execution_count": 12,
   "id": "bedfa3e8-a601-4f02-a469-ee5bb7573a59",
   "metadata": {},
   "outputs": [
    {
     "name": "stdin",
     "output_type": "stream",
     "text": [
      "Enter a number:  7\n"
     ]
    },
    {
     "name": "stdout",
     "output_type": "stream",
     "text": [
      "(7, 14, 21, 28, 35)\n"
     ]
    }
   ],
   "source": [
    "# Prompt the user to enter a number\n",
    "x =eval(input(\"Enter a number: \"))\n",
    "output = x,2*x,3*x,4*x,5*x\n",
    "\n",
    "# Print the result\n",
    "print(output)"
   ]
  },
  {
   "cell_type": "code",
   "execution_count": null,
   "id": "0926e80f-8c5a-4f04-863d-6407e42668cd",
   "metadata": {},
   "outputs": [],
   "source": []
  }
 ],
 "metadata": {
  "kernelspec": {
   "display_name": "Python 3 (ipykernel)",
   "language": "python",
   "name": "python3"
  },
  "language_info": {
   "codemirror_mode": {
    "name": "ipython",
    "version": 3
   },
   "file_extension": ".py",
   "mimetype": "text/x-python",
   "name": "python",
   "nbconvert_exporter": "python",
   "pygments_lexer": "ipython3",
   "version": "3.11.7"
  }
 },
 "nbformat": 4,
 "nbformat_minor": 5
}
