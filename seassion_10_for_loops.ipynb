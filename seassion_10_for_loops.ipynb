{
 "cells": [
  {
   "cell_type": "markdown",
   "id": "d3d3695f-d694-4535-9145-d244d9c70cde",
   "metadata": {},
   "source": [
    "**Loops**\n",
    "\n",
    "- Iterate a piece of code untill the condition satisfy\n",
    "\n",
    "- we can a code normally\n",
    "\n",
    "- we can run a same code by using function wrapper(**function**)\n",
    "\n",
    "- we can run a code multiple times(**loops**)\n",
    "\n",
    "- we can run a code by using condition(**conditions**)"
   ]
  },
  {
   "cell_type": "markdown",
   "id": "61c350ae-e6d4-4025-a4e3-db9e5dace749",
   "metadata": {},
   "source": [
    "- for loop\n",
    "- while loop\n",
    "- any lopp \n",
    "     - intial point\n",
    "     - increment or decrement\n",
    "     - condition to stop the loop"
   ]
  },
  {
   "cell_type": "markdown",
   "id": "04a25289-3b29-437e-97c1-08dac2d5dede",
   "metadata": {},
   "source": [
    "## forloop"
   ]
  },
  {
   "cell_type": "markdown",
   "id": "9513d5d2-6106-44e2-b5c9-2e297c055eee",
   "metadata": {},
   "source": [
    "$$pattern-1$$"
   ]
  },
  {
   "cell_type": "markdown",
   "id": "7396ae45-9eb5-4b92-8c2c-a08b406f11d2",
   "metadata": {},
   "source": [
    "**range(stop)**"
   ]
  },
  {
   "cell_type": "code",
   "execution_count": null,
   "id": "9bb5157f-c224-43c7-a39f-8a904323d719",
   "metadata": {},
   "outputs": [],
   "source": [
    "#syntax \n",
    "for i in range(<value>):\n",
    "    # start write your code "
   ]
  },
  {
   "cell_type": "markdown",
   "id": "66435966-804f-4924-b83c-dd22118e7ebd",
   "metadata": {},
   "source": [
    "- when ever you see the word range it belongs to math family \n",
    "- inside range we need to provide one value ex: range(3)\n",
    "- if you provide only one value \n",
    "  - start value =0\n",
    "  - increment=+1\n",
    "  - last = stop-1\n",
    "- range(3)\n",
    "   - start value = 0\n",
    "   - increment =1\n",
    "   - last = 3-1 =2\n",
    "   - answers are : 0 1 2\n",
    "**Note**:In python the index always start with zero"
   ]
  },
  {
   "cell_type": "code",
   "execution_count": 4,
   "id": "b8df99c6-f3c6-404c-afed-834619ce60e3",
   "metadata": {},
   "outputs": [
    {
     "name": "stdout",
     "output_type": "stream",
     "text": [
      "0\n",
      "1\n",
      "2\n"
     ]
    }
   ],
   "source": [
    "for i in range(3):\n",
    "    print(i)"
   ]
  },
  {
   "cell_type": "code",
   "execution_count": 3,
   "id": "fc6e5392-7007-4c5d-be6b-b1dce1c86578",
   "metadata": {},
   "outputs": [
    {
     "name": "stdout",
     "output_type": "stream",
     "text": [
      "0\n",
      "1\n",
      "2\n",
      "3\n",
      "4\n"
     ]
    }
   ],
   "source": [
    "print(0)\n",
    "print(1)\n",
    "print(2)\n",
    "print(3)\n",
    "print(4)"
   ]
  },
  {
   "cell_type": "code",
   "execution_count": 5,
   "id": "cbcec2df-1c1c-4f0b-80a3-43710523d6c3",
   "metadata": {},
   "outputs": [
    {
     "name": "stdout",
     "output_type": "stream",
     "text": [
      "hello\n",
      "hello\n",
      "hello\n",
      "hello\n",
      "hello\n"
     ]
    }
   ],
   "source": [
    "# i want to print hello 5 times\n",
    "for i in range(5):\n",
    "    print(\"hello\")"
   ]
  },
  {
   "cell_type": "code",
   "execution_count": 11,
   "id": "1c5dbbc5-769e-4caa-b3cb-a9fc54d042c5",
   "metadata": {},
   "outputs": [
    {
     "name": "stdout",
     "output_type": "stream",
     "text": [
      "num is odd 45\n",
      "num is even 78\n",
      "num is even 18\n"
     ]
    }
   ],
   "source": [
    "#for example \n",
    "#take a random number between 1 to 100\n",
    "#print it is even number and add number\n",
    "#you need to generate 3 random number\n",
    "import random\n",
    "for i in range(3):\n",
    "    num=random.randint(1,100)\n",
    "    if num%2==0:\n",
    "        print(f\"num is even {num}\")\n",
    "    else:\n",
    "        print(f\"num is odd {num}\")"
   ]
  },
  {
   "cell_type": "code",
   "execution_count": 12,
   "id": "e4727c05-c6e6-4982-9891-20e6c7335f08",
   "metadata": {},
   "outputs": [
    {
     "name": "stdout",
     "output_type": "stream",
     "text": [
      "0\n",
      "1\n",
      "2\n",
      "3\n",
      "4\n",
      "5\n",
      "6\n",
      "7\n",
      "8\n",
      "9\n"
     ]
    }
   ],
   "source": [
    "for i in range(10):\n",
    "    print(i)"
   ]
  },
  {
   "cell_type": "code",
   "execution_count": 14,
   "id": "397b18f1-2511-48b8-9403-cabf19149de6",
   "metadata": {},
   "outputs": [
    {
     "name": "stdout",
     "output_type": "stream",
     "text": [
      "0 1 2 3 4 5 6 7 8 9 "
     ]
    }
   ],
   "source": [
    "for i in range(10):\n",
    "    print(i,end=' ')"
   ]
  },
  {
   "cell_type": "markdown",
   "id": "1d4c3e78-5b42-4afe-8d92-fbf4e8bfb8af",
   "metadata": {},
   "source": [
    "$$pattern-2$$"
   ]
  },
  {
   "cell_type": "markdown",
   "id": "e2a18261-8a2a-406b-bc6a-cc6eb1c9cb8c",
   "metadata": {},
   "source": [
    "**range (start,stop):**\n",
    "- range(10,20)\n",
    "  - start value=10\n",
    "  - increment = 1\n",
    "  - last=stop-1=20-1=19\n",
    "  - ans: 10 11 12 13 14 15 16 17 18 19"
   ]
  },
  {
   "cell_type": "code",
   "execution_count": 16,
   "id": "89fc2893-1e9f-463b-9f1e-7e0b4b49d571",
   "metadata": {},
   "outputs": [
    {
     "name": "stdout",
     "output_type": "stream",
     "text": [
      "10 11 12 13 14 15 16 17 18 19 "
     ]
    }
   ],
   "source": [
    "for i in range(10,20):\n",
    "    print(i,end=' ')"
   ]
  },
  {
   "cell_type": "code",
   "execution_count": 24,
   "id": "6beb6f5a-44bb-46ba-bb27-ed862ef94901",
   "metadata": {},
   "outputs": [
    {
     "name": "stdout",
     "output_type": "stream",
     "text": [
      "20--400\n",
      "21--441\n",
      "22--484\n",
      "23--529\n",
      "24--576\n",
      "25--625\n"
     ]
    }
   ],
   "source": [
    "#wap ask the user print the square of the number betwwen\n",
    "# 20 to 25\n",
    "for i in range(20,26):\n",
    "    square=i*i\n",
    "    print(i,square,sep='--')"
   ]
  },
  {
   "cell_type": "code",
   "execution_count": 27,
   "id": "0bfb253d-ab06-4871-9e5d-ad1715b1624f",
   "metadata": {},
   "outputs": [
    {
     "name": "stdout",
     "output_type": "stream",
     "text": [
      "the square od 20 is 400\n",
      "the square od 21 is 441\n",
      "the square od 22 is 484\n",
      "the square od 23 is 529\n",
      "the square od 24 is 576\n",
      "the square od 25 is 625\n"
     ]
    }
   ],
   "source": [
    "for i in range(20,26):\n",
    "    print(f\"the square od {i} is {i*i}\")"
   ]
  },
  {
   "cell_type": "code",
   "execution_count": 26,
   "id": "f51df14e-0996-40c2-8065-b0f10ebab318",
   "metadata": {},
   "outputs": [
    {
     "name": "stdout",
     "output_type": "stream",
     "text": [
      "10 even 11 odd 12 even 13 odd 14 even 15 odd 16 even 17 odd 18 even 19 odd 20 even "
     ]
    }
   ],
   "source": [
    "#wap ask the user print the number is even or oddd between 10 to 20\n",
    "for i in range(10,21):\n",
    "    if i%2==0:\n",
    "        print(i,\"even\",end=' ')\n",
    "    else:\n",
    "        print(i,\"odd\",end=' ')"
   ]
  },
  {
   "cell_type": "markdown",
   "id": "d6cb06fa-8541-46f9-b1d5-e9c4c0751885",
   "metadata": {},
   "source": [
    "$$pattern-3$$"
   ]
  },
  {
   "cell_type": "markdown",
   "id": "d124974e-33be-46cf-9ae4-68712cc82d5d",
   "metadata": {},
   "source": [
    "**range(start,stop,step)**\n",
    "\n",
    "- start value = start values\n",
    "- step value\n",
    "  \n",
    "    - positive value:\n",
    "\n",
    "       - if step value is positive: incremant\n",
    "\n",
    "       - last = stop-1\n",
    "\n",
    "    - negative value:\n",
    "\n",
    "        - if step value is negative : decremant\n",
    "\n",
    "        - last = stop+1\n",
    "        \n"
   ]
  },
  {
   "cell_type": "code",
   "execution_count": 28,
   "id": "235443d0-43ea-46c1-b32d-8bab47ee98e2",
   "metadata": {},
   "outputs": [
    {
     "name": "stdout",
     "output_type": "stream",
     "text": [
      "2 4 6 8 10 12 14 16 18 "
     ]
    }
   ],
   "source": [
    "#case-1\n",
    "for i in range(2,20,2):\n",
    "    print(i,end=' ')"
   ]
  },
  {
   "cell_type": "code",
   "execution_count": 30,
   "id": "536a1568-d944-4448-bb5e-24d78b18cf6e",
   "metadata": {},
   "outputs": [
    {
     "name": "stdout",
     "output_type": "stream",
     "text": [
      "10\n",
      "12\n",
      "14\n",
      "16\n",
      "18\n"
     ]
    }
   ],
   "source": [
    "#case-2\n",
    "for i in range(10,20,2):\n",
    "    print(i)"
   ]
  },
  {
   "cell_type": "code",
   "execution_count": 37,
   "id": "c3dd3118-4429-4bc3-9183-56a369666518",
   "metadata": {},
   "outputs": [],
   "source": [
    "#case-2\n",
    "for i in range(2,20,-2):\n",
    "    print(i,end=' ')\n",
    "\n",
    "##no error no ans bcz it is in negative direction"
   ]
  },
  {
   "cell_type": "code",
   "execution_count": 39,
   "id": "adeb463a-3b33-4437-a53d-74f4922a3a47",
   "metadata": {},
   "outputs": [
    {
     "name": "stdout",
     "output_type": "stream",
     "text": [
      "20 18 16 14 12 10 8 6 4 "
     ]
    }
   ],
   "source": [
    "# case-3\n",
    "for i in range(20,2,-2):\n",
    "    print(i,end=' ')\n",
    "\n",
    "#start=20\n",
    "#step = -2 negative\n",
    "#last= stop+1 = 2+1 =3\n",
    "#20 18 16 14 12 10 8 6 4 "
   ]
  },
  {
   "cell_type": "code",
   "execution_count": 41,
   "id": "bfc22fd9-da6d-4bd0-a78d-f9e3dc6ca051",
   "metadata": {},
   "outputs": [],
   "source": [
    "# case-4\n",
    "for i in range(-20,2,-2):\n",
    "    print(i,end=' ')\n",
    "\n",
    "#start=-20\n",
    "#step = -2 neg\n",
    "#last= stop+1 = 2+1"
   ]
  },
  {
   "cell_type": "code",
   "execution_count": null,
   "id": "7526fc5d-ebec-4c33-a132-cb191fa66f8e",
   "metadata": {},
   "outputs": [],
   "source": [
    "range(3,20,2) #p\n",
    "range(3,20,-2) #n\n",
    "range(3,-20,2) #n\n",
    "range(3,-20,-2) #p\n",
    "range(-3,20,2) #p\n",
    "range(-3,-20,2) #n\n",
    "range(-3,20,-2) #n\n",
    "range(-3,-20,-2) #p\n",
    "range(20,3,2) #n\n",
    "range(20,3,-2) #p\n",
    "range(20,-3,-2) #p\n",
    "range(-20,-3,-2) #n"
   ]
  },
  {
   "cell_type": "code",
   "execution_count": 1,
   "id": "c2be11a5-32b7-4a15-bb80-0dcacef6293f",
   "metadata": {},
   "outputs": [
    {
     "name": "stdin",
     "output_type": "stream",
     "text": [
      "enter a number 8\n"
     ]
    },
    {
     "name": "stdout",
     "output_type": "stream",
     "text": [
      "the square of 8 is 64\n"
     ]
    },
    {
     "name": "stdin",
     "output_type": "stream",
     "text": [
      "enter a number 9\n"
     ]
    },
    {
     "name": "stdout",
     "output_type": "stream",
     "text": [
      "the square of 9 is 81\n"
     ]
    },
    {
     "name": "stdin",
     "output_type": "stream",
     "text": [
      "enter a number 10\n"
     ]
    },
    {
     "name": "stdout",
     "output_type": "stream",
     "text": [
      "the square of 10 is 100\n"
     ]
    }
   ],
   "source": [
    "#4Q) wap ask the user enter three times find the sqaare of the number\n",
    "for i in range(3):\n",
    "    number1=eval(input(\"enter a number\"))\n",
    "    print(f\"the square of {number1} is {number1*number1}\")"
   ]
  },
  {
   "cell_type": "code",
   "execution_count": 3,
   "id": "78b2fde2-d9c0-4c87-aa29-78d76a0f7c8e",
   "metadata": {},
   "outputs": [
    {
     "name": "stdin",
     "output_type": "stream",
     "text": [
      "enter the number: 14\n"
     ]
    },
    {
     "name": "stdout",
     "output_type": "stream",
     "text": [
      "14 X 1 = 14\n",
      "14 X 2 = 28\n",
      "14 X 3 = 42\n",
      "14 X 4 = 56\n",
      "14 X 5 = 70\n",
      "14 X 6 = 84\n",
      "14 X 7 = 98\n",
      "14 X 8 = 112\n",
      "14 X 9 = 126\n",
      "14 X 10 = 140\n"
     ]
    }
   ],
   "source": [
    "number=eval(input(\"enter the number:\"))\n",
    "for i in range(1,11):\n",
    "    table=number*i\n",
    "    print(f\"{number} X {i} = {table}\")"
   ]
  },
  {
   "cell_type": "code",
   "execution_count": 35,
   "id": "0a5909ac-138c-4dbb-8f70-b79d52141577",
   "metadata": {},
   "outputs": [
    {
     "name": "stdin",
     "output_type": "stream",
     "text": [
      "enter a number: 75\n"
     ]
    },
    {
     "name": "stdout",
     "output_type": "stream",
     "text": [
      "the factors of 75 is 1\n",
      "the factors of 75 is 3\n",
      "the factors of 75 is 5\n",
      "the factors of 75 is 15\n",
      "the factors of 75 is 25\n",
      "the factors of 75 is 75\n",
      "20\n"
     ]
    }
   ],
   "source": [
    "#6 find the factors of 75\n",
    "#step-1 iterate the loop = which number factors \n",
    "#step-2 aplly the if condition\n",
    "#       cond =dividethe number with ecan i\n",
    "number=eval(input(\"enter a number:\"))\n",
    "for i in range(1,number+1):\n",
    "    if number%i==0:\n",
    "        print(f\"the factors of {number} is {i}\")\n"
   ]
  },
  {
   "cell_type": "code",
   "execution_count": 16,
   "id": "9f0781ea-75c7-4eea-9df6-54458af17254",
   "metadata": {},
   "outputs": [
    {
     "name": "stdout",
     "output_type": "stream",
     "text": [
      "the sum of 0+1=1\n",
      "the sum of 1+2=3\n",
      "the sum of 3+3=6\n",
      "the sum of 6+4=10\n",
      "the sum of 10+5=15\n",
      "the sum of 15+6=21\n",
      "the sum of 21+7=28\n",
      "the sum of 28+8=36\n",
      "the sum of 36+9=45\n",
      "the sum of 45+10=55\n"
     ]
    }
   ],
   "source": [
    "#7q wap the sum of first 10 natural numbers\n",
    "n=0\n",
    "for i in range(1,11):\n",
    "    n=n+i\n",
    "    print(f\"the sum of {n-i}+{i}={n}\")"
   ]
  },
  {
   "cell_type": "markdown",
   "id": "99427084-a922-43be-8c4b-99f240adabe4",
   "metadata": {},
   "source": [
    "# **summation wrapper**"
   ]
  },
  {
   "cell_type": "markdown",
   "id": "37d01680-28e0-4616-ae89-15cadf41d573",
   "metadata": {},
   "source": [
    "- initially we need to keep summ=0\n",
    "- make sure that do not provide sum\n",
    "- because sum is keyword \n",
    "- inside for loop : summ=summ+i"
   ]
  },
  {
   "cell_type": "markdown",
   "id": "019a5cee-702f-4e95-b7e2-70129de59ae6",
   "metadata": {},
   "source": [
    "**Note**\n",
    "\n",
    "- if we print answer from out of for loop, last answer will print"
   ]
  },
  {
   "cell_type": "code",
   "execution_count": 29,
   "id": "bbd9e478-4824-4ced-84eb-910f87c56746",
   "metadata": {},
   "outputs": [
    {
     "name": "stdin",
     "output_type": "stream",
     "text": [
      "enter a number: 10\n"
     ]
    },
    {
     "name": "stdout",
     "output_type": "stream",
     "text": [
      "5.5\n"
     ]
    }
   ],
   "source": [
    "#8 avergae of fist 10 numbers\n",
    "sum=0\n",
    "num=eval(input(\"enter a number:\"))\n",
    "for i in range(1,num+1):\n",
    "    sum=sum+i\n",
    "    avg=sum/num\n",
    "print(avg)\n",
    "    "
   ]
  },
  {
   "cell_type": "markdown",
   "id": "4ba42431-0050-4327-b813-13bb72c7bb94",
   "metadata": {},
   "source": [
    "**counter wrapper**\n",
    "\n",
    "- Before foe loop[ initilaise with count=0\n",
    "- under for loop count=count+1\n",
    "- counter always increase by 1 only"
   ]
  },
  {
   "cell_type": "code",
   "execution_count": 39,
   "id": "31dfaed2-20c6-435b-8aed-acfe1ff6be46",
   "metadata": {},
   "outputs": [
    {
     "name": "stdin",
     "output_type": "stream",
     "text": [
      "enter a number: 75\n"
     ]
    },
    {
     "name": "stdout",
     "output_type": "stream",
     "text": [
      "6\n"
     ]
    }
   ],
   "source": [
    "count=0\n",
    "n=eval(input(\"enter a number:\"))\n",
    "for i in range(1,number+1):\n",
    "    if number%i==0:\n",
    "        count=count+1\n",
    "print(count)"
   ]
  },
  {
   "cell_type": "code",
   "execution_count": 4,
   "id": "49c70b29-3a39-448b-be93-cdb8c4107425",
   "metadata": {},
   "outputs": [
    {
     "name": "stdin",
     "output_type": "stream",
     "text": [
      "enter anumber: 3\n"
     ]
    },
    {
     "name": "stdout",
     "output_type": "stream",
     "text": [
      "lose\n"
     ]
    },
    {
     "name": "stdin",
     "output_type": "stream",
     "text": [
      "enter anumber: 3\n"
     ]
    },
    {
     "name": "stdout",
     "output_type": "stream",
     "text": [
      "won\n"
     ]
    },
    {
     "name": "stdin",
     "output_type": "stream",
     "text": [
      "enter anumber: 4\n"
     ]
    },
    {
     "name": "stdout",
     "output_type": "stream",
     "text": [
      "lose\n"
     ]
    }
   ],
   "source": [
    "#10Q) \n",
    "#get a random number between 1 to 10: num1\n",
    "#ask the user enter a number : num2\n",
    "#if num1=num2 then print won\n",
    "#wlse print fail\n",
    "import random\n",
    "for i in range(3):\n",
    "    num1=random.randint(1,10)\n",
    "    num2=eval(input(\"enter anumber:\"))\n",
    "    if num1==num2:\n",
    "        print(\"won\")\n",
    "    else:\n",
    "        print(\"lose\")"
   ]
  },
  {
   "cell_type": "code",
   "execution_count": null,
   "id": "fabe96db-13c5-4f3b-abcf-52ab281a3a06",
   "metadata": {},
   "outputs": [],
   "source": [
    "#case-2 when ever u won the code should stop\n",
    "import random\n",
    "for i in range(3):\n",
    "    num1=random.randint(1,10)\n",
    "    num2=eval(input(\"enter anumber:\"))\n",
    "    if num1==num2:\n",
    "        print(\"won\")\n",
    "        break\n",
    "    else:\n",
    "        print(\"lose\")"
   ]
  },
  {
   "cell_type": "code",
   "execution_count": 7,
   "id": "eadf9f9f-5c7f-46c9-8b50-2409cf9a8de3",
   "metadata": {},
   "outputs": [
    {
     "name": "stdin",
     "output_type": "stream",
     "text": [
      "enter anumber: 4\n"
     ]
    },
    {
     "name": "stdout",
     "output_type": "stream",
     "text": [
      "you lost\n",
      "3\n"
     ]
    },
    {
     "name": "stdin",
     "output_type": "stream",
     "text": [
      "enter anumber: 5\n"
     ]
    },
    {
     "name": "stdout",
     "output_type": "stream",
     "text": [
      "you lost\n",
      "2\n"
     ]
    },
    {
     "name": "stdin",
     "output_type": "stream",
     "text": [
      "enter anumber: 6\n"
     ]
    },
    {
     "name": "stdout",
     "output_type": "stream",
     "text": [
      "you lost\n",
      "1\n"
     ]
    },
    {
     "name": "stdin",
     "output_type": "stream",
     "text": [
      "enter anumber: 7\n"
     ]
    },
    {
     "name": "stdout",
     "output_type": "stream",
     "text": [
      "you lost\n",
      "0\n",
      "try again after 24 hours\n"
     ]
    }
   ],
   "source": [
    "#case-3\n",
    "#suppose i want to give 4 chances\n",
    "#every time you fail i want to display\n",
    "#  number of chnaces left\n",
    "#if all the chances you are used \n",
    "# try again after 24 hours\n",
    "# if you are win\n",
    "count=4\n",
    "import random\n",
    "for i in range(4):\n",
    "    num1=random.randint(1,10)\n",
    "    num2=eval(input(\"enter anumber:\"))\n",
    "    if num1==num2:\n",
    "        print(\"win\")\n",
    "        break\n",
    "    else:\n",
    "        print(\"you lost\")\n",
    "        count-=1\n",
    "        print(f\"{count}\")\n",
    "if count==0:\n",
    "    print(\"try again after 24 hours\")"
   ]
  },
  {
   "cell_type": "code",
   "execution_count": 4,
   "id": "071cb73c-d0fb-4ab9-aae7-497ea08d8b92",
   "metadata": {},
   "outputs": [
    {
     "name": "stdin",
     "output_type": "stream",
     "text": [
      "enter a number: 30\n"
     ]
    },
    {
     "name": "stdout",
     "output_type": "stream",
     "text": [
      "the factors of 30 is 1\n",
      "the factors of 30 is 2\n",
      "the factors of 30 is 3\n",
      "the factors of 30 is 5\n",
      "the factors of 30 is 6\n",
      "the factors of 30 is 10\n",
      "the factors of 30 is 15\n",
      "the factors of 30 is 30\n"
     ]
    }
   ],
   "source": [
    "number=eval(input(\"enter a number:\"))\n",
    "for i in range(1,number+1):\n",
    "    if number%i==0:\n",
    "        print(f\"the factors of {number} is {i}\")\n"
   ]
  },
  {
   "cell_type": "code",
   "execution_count": 5,
   "id": "66dd07f0-1277-4bb2-ae8d-2b500759de36",
   "metadata": {},
   "outputs": [
    {
     "name": "stdin",
     "output_type": "stream",
     "text": [
      "Enter a number: 30\n"
     ]
    },
    {
     "name": "stdout",
     "output_type": "stream",
     "text": [
      "1\n",
      "2\n",
      "3\n",
      "5\n",
      "6\n",
      "10\n",
      "15\n"
     ]
    }
   ],
   "source": [
    "import random\n",
    "num=eval(input(\"Enter a number:\"))\n",
    "for i in range(1,num):\n",
    "    if num%i==0:\n",
    "        print(i)"
   ]
  },
  {
   "cell_type": "code",
   "execution_count": 10,
   "id": "2169245d-3b69-4c4c-b8d6-9b7f83bf1593",
   "metadata": {},
   "outputs": [
    {
     "name": "stdout",
     "output_type": "stream",
     "text": [
      "numver is odd and the  count of odd is 1\n",
      "number is even and the count of even is 1\n",
      "number is even and the count of even is 2\n",
      "numver is odd and the  count of odd is 2\n",
      "number is even and the count of even is 3\n",
      "the total numbers of even number are :3\n",
      "2\n"
     ]
    }
   ],
   "source": [
    "#wap ask the user get 5 random numbers\n",
    "#get it is even number or odd number\n",
    "#also count how many even numbers are there\n",
    "#and count how many odd numbers are there\n",
    "import random\n",
    "even_count=0\n",
    "odd_count=0\n",
    "for i in range(5):\n",
    "    number=random.randint(1,6)\n",
    "    if number%2==0:\n",
    "        even_count+=1\n",
    "        print(f\"number is even and the count of even is {even_count}\")\n",
    "    else:\n",
    "        odd_count+=1\n",
    "        print(f\"numver is odd and the  count of odd is {odd_count}\")\n",
    "print(f\"the total numbers of even number are :{even_count}\")\n",
    "print(odd_count)"
   ]
  },
  {
   "cell_type": "code",
   "execution_count": 20,
   "id": "daea9f6f-0a95-486f-aa98-83ddd9135cbd",
   "metadata": {},
   "outputs": [
    {
     "name": "stdout",
     "output_type": "stream",
     "text": [
      "number is even and the count of even is 1\n",
      "numver is odd and the  count of odd is 1\n",
      "number is even and the count of even is 2\n",
      "numver is odd and the  count of odd is 2\n",
      "number is even and the count of even is 3\n",
      "the total numbers of even number are :3\n",
      "the total numbers of even number are :2\n",
      "the sum of even numbers are :6\n",
      "the sum of odd numbers are : 3\n"
     ]
    }
   ],
   "source": [
    "#wap ask the user get 5 random numbers\n",
    "#get it is even number or odd number\n",
    "#also count how many even numbers are there\n",
    "#and count how many odd numbers are there\n",
    "#and print even sum and odd sum\n",
    "import random\n",
    "even_count=0\n",
    "odd_count=0\n",
    "even_sum=0\n",
    "odd_sum=0\n",
    "for i in range(5):\n",
    "    number=random.randint(1,6)\n",
    "    if number%2==0:\n",
    "        even_count+=1\n",
    "        even_sum+=even_count\n",
    "        print(f\"number is even and the count of even is {even_count}\")\n",
    "    else:\n",
    "        odd_count+=1\n",
    "        odd_sum+=even_count\n",
    "        print(f\"numver is odd and the  count of odd is {odd_count}\")\n",
    "print(f\"the total numbers of even number are :{even_count}\")\n",
    "print(f\"the total numbers of even number are :{odd_count}\")\n",
    "print(f\"the sum of even numbers are :{even_sum}\")\n",
    "print(f\"the sum of odd numbers are : {odd_sum}\")"
   ]
  },
  {
   "cell_type": "code",
   "execution_count": 62,
   "id": "768f73a2-ee20-410f-9850-73c75e5255fc",
   "metadata": {},
   "outputs": [],
   "source": [
    "#wap ask the user get 5 random numbers\n",
    "#get it is even number or odd number\n",
    "#also count how many even numbers are there\n",
    "#and count how many odd numbers are there\n",
    "#and print even sum and odd sum\n",
    "#create a dfunction\n",
    "#return all\n",
    "#print 4 values\n",
    "import random\n",
    "def even_odd():\n",
    "    even_count,odd_count=0,0\n",
    "    even_sum,odd_sum=0,0\n",
    "    for i in range(5):\n",
    "        number=random.randint(1,6)\n",
    "        if number%2==0:\n",
    "            even_count+=1\n",
    "            even_sum+=even_count\n",
    "        else:\n",
    "            odd_count+=1\n",
    "            odd_sum+=even_count\n",
    "    return(even_count,odd_count,even_sum,odd_sum)\n"
   ]
  },
  {
   "cell_type": "code",
   "execution_count": 71,
   "id": "7259badd-30c9-4a2d-9852-193c69057888",
   "metadata": {
    "scrolled": true
   },
   "outputs": [
    {
     "name": "stdout",
     "output_type": "stream",
     "text": [
      "number is even and the count of even is 1\n",
      "number is even and the count of even is 2\n",
      "numver is odd and the  count of odd is 3\n",
      "number is even and the count of even is 2\n",
      "the sum of even numbers are :3\n",
      "the sum of odd numbers are : 3\n"
     ]
    }
   ],
   "source": [
    "even_count,odd_count,even_sum,odd_sum=even_odd()\n",
    "print(f\"numver is odd and the  count of odd is {odd_count}\")\n",
    "print(f\"number is even and the count of even is {even_count}\")\n",
    "print(f\"the sum of even numbers are :{even_sum}\")\n",
    "print(f\"the sum of odd numbers are : {odd_sum}\")"
   ]
  },
  {
   "cell_type": "code",
   "execution_count": null,
   "id": "1ad3eff5-60b2-4edb-9e31-5326a7154032",
   "metadata": {},
   "outputs": [],
   "source": []
  },
  {
   "cell_type": "code",
   "execution_count": 67,
   "id": "969404ed-8aea-47d7-a2a3-ce36325a1089",
   "metadata": {},
   "outputs": [
    {
     "ename": "TypeError",
     "evalue": "'in <string>' requires string as left operand, not int",
     "output_type": "error",
     "traceback": [
      "\u001b[1;31m---------------------------------------------------------------------------\u001b[0m",
      "\u001b[1;31mTypeError\u001b[0m                                 Traceback (most recent call last)",
      "Cell \u001b[1;32mIn[67], line 6\u001b[0m\n\u001b[0;32m      3\u001b[0m \u001b[38;5;124m'\u001b[39m\u001b[38;5;124my\u001b[39m\u001b[38;5;124m'\u001b[39m\u001b[38;5;129;01min\u001b[39;00m string1\n\u001b[0;32m      4\u001b[0m \u001b[38;5;124m'\u001b[39m\u001b[38;5;124mt\u001b[39m\u001b[38;5;124m'\u001b[39m\u001b[38;5;129;01min\u001b[39;00m string1\n\u001b[1;32m----> 6\u001b[0m i \u001b[38;5;129;01min\u001b[39;00m string1\n",
      "\u001b[1;31mTypeError\u001b[0m: 'in <string>' requires string as left operand, not int"
     ]
    }
   ],
   "source": [
    "string1='python'\n",
    "'p'in string1\n",
    "'y'in string1\n",
    "'t'in string1\n",
    "\n",
    "i in string1\n"
   ]
  },
  {
   "cell_type": "markdown",
   "id": "0947fddb-f967-4082-81c7-8f1bcc6f4803",
   "metadata": {},
   "source": [
    "**Difference between in operator and range operator**\n",
    "- range belongd=s to math family\n",
    "- inside the range we need to keep numbers only \n",
    "- whenever if we want iterate througha english letter\n",
    "- we need to choose\n",
    "- i\n"
   ]
  },
  {
   "cell_type": "code",
   "execution_count": 45,
   "id": "cccbd43b-4144-497f-81d4-acc1a4ba3691",
   "metadata": {},
   "outputs": [
    {
     "data": {
      "text/plain": [
       "True"
      ]
     },
     "execution_count": 45,
     "metadata": {},
     "output_type": "execute_result"
    }
   ],
   "source": [
    "'p'>'P'"
   ]
  },
  {
   "cell_type": "markdown",
   "id": "c0b98923-6f42-40ca-9a62-14b6d1c2e1ef",
   "metadata": {},
   "source": [
    "- every english letter\n",
    "- every spcl character how machine will understand\n",
    "- machine language always consider as numbers\n",
    "- every non numeric assign a number\n",
    "- ASCII: American standard code for information interchange\n",
    "- A:65,a:97\n"
   ]
  },
  {
   "cell_type": "markdown",
   "id": "14121303-8707-41f0-ae90-1bfc13b2a453",
   "metadata": {},
   "source": [
    "**ord-chr**"
   ]
  },
  {
   "cell_type": "code",
   "execution_count": null,
   "id": "02b2ab61-94ec-45ea-a65a-b3ff0696a9a9",
   "metadata": {},
   "outputs": [],
   "source": [
    "A === 65 ====0b1000001"
   ]
  },
  {
   "cell_type": "code",
   "execution_count": 50,
   "id": "72a4b4e4-39b1-44c7-b74e-d8166b4643da",
   "metadata": {},
   "outputs": [
    {
     "data": {
      "text/plain": [
       "(65, 97)"
      ]
     },
     "execution_count": 50,
     "metadata": {},
     "output_type": "execute_result"
    }
   ],
   "source": [
    "ord('A'),ord('a')"
   ]
  },
  {
   "cell_type": "code",
   "execution_count": 51,
   "id": "f8d891ac-0798-4819-9f2d-658206c6580f",
   "metadata": {},
   "outputs": [
    {
     "data": {
      "text/plain": [
       "(112, 80)"
      ]
     },
     "execution_count": 51,
     "metadata": {},
     "output_type": "execute_result"
    }
   ],
   "source": [
    "ord('p'),ord('P')"
   ]
  },
  {
   "cell_type": "code",
   "execution_count": 54,
   "id": "38946bd6-e42e-46dd-9752-b8272417a624",
   "metadata": {},
   "outputs": [
    {
     "data": {
      "text/plain": [
       "'p'"
      ]
     },
     "execution_count": 54,
     "metadata": {},
     "output_type": "execute_result"
    }
   ],
   "source": [
    "chr(112)"
   ]
  },
  {
   "cell_type": "code",
   "execution_count": 55,
   "id": "b8e7ee08-d1c1-410f-869b-8bf2c33bb3a6",
   "metadata": {},
   "outputs": [
    {
     "data": {
      "text/plain": [
       "'A'"
      ]
     },
     "execution_count": 55,
     "metadata": {},
     "output_type": "execute_result"
    }
   ],
   "source": []
  },
  {
   "cell_type": "code",
   "execution_count": 72,
   "id": "c35ee891-bac1-4b41-b9d2-26e6c5fcee37",
   "metadata": {},
   "outputs": [
    {
     "name": "stdout",
     "output_type": "stream",
     "text": [
      "the summation is 674\n"
     ]
    }
   ],
   "source": [
    "ascii_sum=0\n",
    "for i in 'python':\n",
    "    ascii_sum=ascii_sum+ord(i)\n",
    "print(f\"the summation is {ascii_sum}\")"
   ]
  },
  {
   "cell_type": "code",
   "execution_count": 73,
   "id": "586db731-9bb4-407f-bf5a-719ac342a87a",
   "metadata": {},
   "outputs": [
    {
     "name": "stdout",
     "output_type": "stream",
     "text": [
      "the summation is 2689\n"
     ]
    }
   ],
   "source": [
    "#i want to know all ascii number A to Z\n",
    "for i in 'ABCDEFGHIJKLMNOPQRSTUVWXYZ':\n",
    "    ascii_sum=ascii_sum+ord(i)\n",
    "print(f\"the summation is {ascii_sum}\")"
   ]
  },
  {
   "cell_type": "code",
   "execution_count": 81,
   "id": "9379c1b5-2c58-49dc-91b6-0a9dcc04be4e",
   "metadata": {},
   "outputs": [
    {
     "name": "stdout",
     "output_type": "stream",
     "text": [
      "No Python documentation found for 'ABCDEFGHIJKLMNOPQRSTUVWXYZ'.\n",
      "Use help() to get the interactive help utility.\n",
      "Use help(str) for help on the str class.\n",
      "\n"
     ]
    }
   ],
   "source": [
    "#package called:string\n",
    "#import the package\n",
    "#appy the dir\n",
    "#there are some methods are there\n",
    "#in that one method will capital letters\n",
    "import string\n",
    "dir(string)\n",
    "help(string.ascii_uppercase)"
   ]
  },
  {
   "cell_type": "code",
   "execution_count": 83,
   "id": "ecb5a06a-5330-4051-9d09-6299bc1656d3",
   "metadata": {},
   "outputs": [
    {
     "data": {
      "text/plain": [
       "'ABCDEFGHIJKLMNOPQRSTUVWXYZ'"
      ]
     },
     "execution_count": 83,
     "metadata": {},
     "output_type": "execute_result"
    }
   ],
   "source": [
    "string.ascii_uppercase"
   ]
  },
  {
   "cell_type": "code",
   "execution_count": 84,
   "id": "8acdb752-2b76-4823-8e94-a28f29297834",
   "metadata": {},
   "outputs": [
    {
     "data": {
      "text/plain": [
       "'abcdefghijklmnopqrstuvwxyz'"
      ]
     },
     "execution_count": 84,
     "metadata": {},
     "output_type": "execute_result"
    }
   ],
   "source": [
    "string.ascii_lowercase"
   ]
  },
  {
   "cell_type": "code",
   "execution_count": 90,
   "id": "478a0057-4f04-4e23-9101-a1d83880e9f9",
   "metadata": {},
   "outputs": [
    {
     "name": "stdout",
     "output_type": "stream",
     "text": [
      "A 65\n",
      "B 66\n",
      "C 67\n",
      "D 68\n",
      "E 69\n",
      "F 70\n",
      "G 71\n",
      "H 72\n",
      "I 73\n",
      "J 74\n",
      "K 75\n",
      "L 76\n",
      "M 77\n",
      "N 78\n",
      "O 79\n",
      "P 80\n",
      "Q 81\n",
      "R 82\n",
      "S 83\n",
      "T 84\n",
      "U 85\n",
      "V 86\n",
      "W 87\n",
      "X 88\n",
      "Y 89\n",
      "Z 90\n"
     ]
    }
   ],
   "source": [
    "ascii_values=string.ascii_uppercase\n",
    "for i in ascii_values:\n",
    "    print(i,ord(i))"
   ]
  },
  {
   "cell_type": "code",
   "execution_count": 91,
   "id": "34d26241-04af-47dd-9c3d-6130799525e2",
   "metadata": {},
   "outputs": [
    {
     "name": "stdout",
     "output_type": "stream",
     "text": [
      "a 97\n",
      "b 98\n",
      "c 99\n",
      "d 100\n",
      "e 101\n",
      "f 102\n",
      "g 103\n",
      "h 104\n",
      "i 105\n",
      "j 106\n",
      "k 107\n",
      "l 108\n",
      "m 109\n",
      "n 110\n",
      "o 111\n",
      "p 112\n",
      "q 113\n",
      "r 114\n",
      "s 115\n",
      "t 116\n",
      "u 117\n",
      "v 118\n",
      "w 119\n",
      "x 120\n",
      "y 121\n",
      "z 122\n"
     ]
    }
   ],
   "source": [
    "ascii_values=string.ascii_lowercase\n",
    "for i in ascii_values:\n",
    "    print(i,ord(i))"
   ]
  },
  {
   "cell_type": "code",
   "execution_count": 92,
   "id": "8d3b4886-0425-4b8f-9418-75687c151c8d",
   "metadata": {},
   "outputs": [
    {
     "name": "stdout",
     "output_type": "stream",
     "text": [
      "20 \u0014 21 \u0015 22 \u0016 23 \u0017 24 \u0018 25 \u0019 26 \u001a 27 \u001b 28 \u001c",
      " 29 \u001d",
      " 30 \u001e",
      " 31 \u001f 32   33 ! 34 \" 35 # 36 $ 37 % 38 & 39 ' 40 ( 41 ) 42 * 43 + 44 , 45 - 46 . 47 / 48 0 49 1 50 2 51 3 52 4 53 5 54 6 55 7 56 8 57 9 58 : 59 ; 60 < 61 = 62 > 63 ? 64 @ 65 A 66 B 67 C 68 D 69 E 70 F 71 G 72 H 73 I 74 J 75 K 76 L 77 M 78 N 79 O 80 P 81 Q 82 R 83 S 84 T 85 U 86 V 87 W 88 X 89 Y 90 Z 91 [ 92 \\ 93 ] 94 ^ 95 _ 96 ` 97 a 98 b 99 c 100 d 101 e 102 f 103 g 104 h 105 i 106 j 107 k 108 l 109 m 110 n 111 o 112 p 113 q 114 r 115 s 116 t 117 u 118 v 119 w 120 x 121 y 122 z 123 { 124 | 125 } 126 ~ 127  128  129  130  131  132  133 ",
      " 134  135  136  137  138  139  140  141  142  143  144  145  146  147  148  149  150  151  152  153  154  155  156  157  158  159  160   161 ¡ 162 ¢ 163 £ 164 ¤ 165 ¥ 166 ¦ 167 § 168 ¨ 169 © 170 ª 171 « 172 ¬ 173 ­ 174 ® 175 ¯ 176 ° 177 ± 178 ² 179 ³ 180 ´ 181 µ 182 ¶ 183 · 184 ¸ 185 ¹ 186 º 187 » 188 ¼ 189 ½ 190 ¾ 191 ¿ 192 À 193 Á 194 Â 195 Ã 196 Ä 197 Å 198 Æ 199 Ç "
     ]
    }
   ],
   "source": [
    "for i in range(20,200):\n",
    "    print(i,chr(i),end=' ')"
   ]
  },
  {
   "cell_type": "code",
   "execution_count": 1,
   "id": "25f94a4b-0af3-423d-bb51-2c589e9ac530",
   "metadata": {},
   "outputs": [
    {
     "name": "stdout",
     "output_type": "stream",
     "text": [
      "3078 ఆ\n",
      "3079 ఇ\n",
      "3080 ఈ\n",
      "3081 ఉ\n",
      "3082 ఊ\n",
      "3083 ఋ\n",
      "3084 ఌ\n",
      "3085 ఍\n",
      "3086 ఎ\n",
      "3087 ఏ\n",
      "3088 ఐ\n",
      "3089 ఑\n",
      "3090 ఒ\n",
      "3091 ఓ\n",
      "3092 ఔ\n",
      "3093 క\n",
      "3094 ఖ\n",
      "3095 గ\n",
      "3096 ఘ\n",
      "3097 ఙ\n",
      "3098 చ\n",
      "3099 ఛ\n",
      "3100 జ\n",
      "3101 ఝ\n",
      "3102 ఞ\n",
      "3103 ట\n",
      "3104 ఠ\n",
      "3105 డ\n",
      "3106 ఢ\n",
      "3107 ణ\n",
      "3108 త\n",
      "3109 థ\n",
      "3110 ద\n",
      "3111 ధ\n",
      "3112 న\n",
      "3113 ఩\n",
      "3114 ప\n",
      "3115 ఫ\n",
      "3116 బ\n",
      "3117 భ\n",
      "3118 మ\n",
      "3119 య\n",
      "3120 ర\n",
      "3121 ఱ\n",
      "3122 ల\n",
      "3123 ళ\n",
      "3124 ఴ\n",
      "3125 వ\n",
      "3126 శ\n",
      "3127 ష\n",
      "3128 స\n",
      "3129 హ\n",
      "3130 ఺\n",
      "3131 ఻\n",
      "3132 ఼\n",
      "3133 ఽ\n",
      "3134 ా\n",
      "3135 ి\n",
      "3136 ీ\n",
      "3137 ు\n",
      "3138 ూ\n",
      "3139 ృ\n",
      "3140 ౄ\n",
      "3141 ౅\n",
      "3142 ె\n",
      "3143 ే\n",
      "3144 ై\n",
      "3145 ౉\n",
      "3146 ొ\n",
      "3147 ో\n",
      "3148 ౌ\n",
      "3149 ్\n",
      "3150 ౎\n",
      "3151 ౏\n",
      "3152 ౐\n",
      "3153 ౑\n",
      "3154 ౒\n",
      "3155 ౓\n",
      "3156 ౔\n",
      "3157 ౕ\n",
      "3158 ౖ\n",
      "3159 ౗\n",
      "3160 ౘ\n",
      "3161 ౙ\n",
      "3162 ౚ\n",
      "3163 ౛\n",
      "3164 ౜\n",
      "3165 ౝ\n",
      "3166 ౞\n",
      "3167 ౟\n",
      "3168 ౠ\n",
      "3169 ౡ\n",
      "3170 ౢ\n",
      "3171 ౣ\n",
      "3172 ౤\n",
      "3173 ౥\n",
      "3174 ౦\n",
      "3175 ౧\n",
      "3176 ౨\n",
      "3177 ౩\n"
     ]
    }
   ],
   "source": [
    "for i in range(3078,3178):\n",
    "    print(i,chr(i))"
   ]
  },
  {
   "cell_type": "code",
   "execution_count": null,
   "id": "da31d18d-cb68-4bb0-b0e7-e12c1368d9d9",
   "metadata": {},
   "outputs": [],
   "source": []
  }
 ],
 "metadata": {
  "kernelspec": {
   "display_name": "Python 3 (ipykernel)",
   "language": "python",
   "name": "python3"
  },
  "language_info": {
   "codemirror_mode": {
    "name": "ipython",
    "version": 3
   },
   "file_extension": ".py",
   "mimetype": "text/x-python",
   "name": "python",
   "nbconvert_exporter": "python",
   "pygments_lexer": "ipython3",
   "version": "3.11.7"
  }
 },
 "nbformat": 4,
 "nbformat_minor": 5
}
