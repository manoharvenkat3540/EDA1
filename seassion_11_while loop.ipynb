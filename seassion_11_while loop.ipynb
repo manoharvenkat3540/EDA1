{
 "cells": [
  {
   "cell_type": "markdown",
   "id": "4e052242-bb2e-44db-a546-d1f876986449",
   "metadata": {},
   "source": [
    "**while loop**"
   ]
  },
  {
   "cell_type": "markdown",
   "id": "ab28b77d-6613-4839-8bae-873fa741d2de",
   "metadata": {},
   "source": [
    "- while loop: if we want to run an infinite iterations will choose while loop\n",
    "- every loop we need three thing\n",
    "\n",
    "    - initial point(starting point)\n",
    "      \n",
    "    - increment or decrement\n",
    "      \n",
    "    - condition(stop)"
   ]
  },
  {
   "cell_type": "code",
   "execution_count": null,
   "id": "57afc042-d321-463d-ae97-e535c979c7bb",
   "metadata": {},
   "outputs": [],
   "source": [
    "for i in range(1,10):\n",
    "    print(i,end=' ')"
   ]
  },
  {
   "cell_type": "code",
   "execution_count": null,
   "id": "66fb0947-2b42-441b-a636-d13afddd6ff3",
   "metadata": {},
   "outputs": [],
   "source": [
    "<start point>\n",
    "while <how to stop>\n",
    "    codeline1\n",
    "    codeline2\n",
    "    <increment or decrement>\n"
   ]
  },
  {
   "cell_type": "code",
   "execution_count": null,
   "id": "73f988ca-288f-403c-a227-58036cfc7377",
   "metadata": {},
   "outputs": [],
   "source": [
    "for i in range(1,10):\n",
    "    print(i,end=' ')"
   ]
  },
  {
   "cell_type": "code",
   "execution_count": null,
   "id": "d1470378-d32a-4f2b-86a5-24adeafb17fb",
   "metadata": {},
   "outputs": [],
   "source": [
    "#start i=1\n",
    "#while <condition to stop>\n",
    "#       i=i+1"
   ]
  },
  {
   "cell_type": "code",
   "execution_count": null,
   "id": "17105908-1330-4079-9cd1-df9abadf27a0",
   "metadata": {},
   "outputs": [],
   "source": [
    "i=1\n",
    "while i<2:\n",
    "    print(i,end=' ')\n",
    "    i=i+1"
   ]
  },
  {
   "cell_type": "code",
   "execution_count": null,
   "id": "7e521886-30de-4f16-ba3b-fcc70166cc33",
   "metadata": {},
   "outputs": [],
   "source": [
    "i=1\n",
    "while i<3:\n",
    "    print(i,end=' ')\n",
    "    i=i+1"
   ]
  },
  {
   "cell_type": "code",
   "execution_count": null,
   "id": "698580c0-79d6-45b6-aa7b-bc1d669a8cf1",
   "metadata": {},
   "outputs": [],
   "source": [
    "i=1\n",
    "while i<4:\n",
    "    print(i,end=' ')\n",
    "    i=i+1"
   ]
  },
  {
   "cell_type": "code",
   "execution_count": null,
   "id": "74f40f03-a7a9-48fc-9a41-5559ae4f01f6",
   "metadata": {},
   "outputs": [],
   "source": [
    "i=1\n",
    "while i<5:\n",
    "    print(i,end=' ')\n",
    "    i=i+1"
   ]
  },
  {
   "cell_type": "code",
   "execution_count": null,
   "id": "566bd220-7d8b-4dba-82c7-86d15f38b4d1",
   "metadata": {},
   "outputs": [],
   "source": [
    "i=1\n",
    "while i<6:\n",
    "    print(i,end=' ')\n",
    "    i=i+1"
   ]
  },
  {
   "cell_type": "code",
   "execution_count": null,
   "id": "bb3f8b7c-47ea-4ae6-a1c9-f2d4051a3e7d",
   "metadata": {},
   "outputs": [],
   "source": [
    "i=1\n",
    "while i<7:\n",
    "    print(i,end=' ')\n",
    "    i=i+1"
   ]
  },
  {
   "cell_type": "code",
   "execution_count": null,
   "id": "0aa843c0-6faf-49d4-80de-f5c313796c09",
   "metadata": {},
   "outputs": [],
   "source": [
    "i=1\n",
    "while i<8:\n",
    "    print(i,end=' ')\n",
    "    i=i+1"
   ]
  },
  {
   "cell_type": "code",
   "execution_count": null,
   "id": "7d0c7fb1-e024-4b01-aa76-6e39dedbc5f6",
   "metadata": {},
   "outputs": [],
   "source": [
    "i=1\n",
    "while i<9:\n",
    "    print(i,end=' ')\n",
    "    i=i+1"
   ]
  },
  {
   "cell_type": "code",
   "execution_count": null,
   "id": "4ba92abe-8b60-4dde-881f-30ce4991dcaf",
   "metadata": {},
   "outputs": [],
   "source": [
    "i=1\n",
    "while i<10:\n",
    "    print(i,end=' ')\n",
    "    i=i+1"
   ]
  },
  {
   "cell_type": "code",
   "execution_count": null,
   "id": "7b1872fb-42d3-4b5d-b4f8-cacb0d05fa76",
   "metadata": {},
   "outputs": [],
   "source": [
    "#step-3\n",
    "i=1\n",
    "while i==10:\n",
    "    print(i,end=' ' )\n",
    "    i=i+1\n",
    "    "
   ]
  },
  {
   "cell_type": "code",
   "execution_count": null,
   "id": "48dbcab9-1b4d-4471-b674-dda7a31e67bd",
   "metadata": {},
   "outputs": [],
   "source": [
    "#step-2\n",
    "i=1\n",
    "while i<11:\n",
    "    print(i,end=' ')\n",
    "    i=i-1"
   ]
  },
  {
   "cell_type": "code",
   "execution_count": null,
   "id": "efb29c18-1628-474f-8bf8-0bc08b70e8e5",
   "metadata": {},
   "outputs": [],
   "source": [
    "i=1\n",
    "while i<11:\n",
    "    print(i,end=' ')\n",
    "    i=i-1\n",
    "    if i==-10:\n",
    "        break"
   ]
  },
  {
   "cell_type": "code",
   "execution_count": null,
   "id": "e6614387-fa87-474d-b731-772dd1e73122",
   "metadata": {},
   "outputs": [],
   "source": [
    "#20 t0 1\n",
    "i=20\n",
    "while i>0:\n",
    "    print(i,end=' ')\n",
    "    i=i-1"
   ]
  },
  {
   "cell_type": "code",
   "execution_count": null,
   "id": "9466d0eb-e2a6-4747-a62e-c1ece7db66f6",
   "metadata": {},
   "outputs": [],
   "source": [
    "#-20 to 1\n",
    "i=-20\n",
    "while i<1:\n",
    "    print(i,end=' ')\n",
    "    i=i+1"
   ]
  },
  {
   "cell_type": "code",
   "execution_count": null,
   "id": "dd6235fd-34fc-4afa-8809-a252567dc595",
   "metadata": {},
   "outputs": [],
   "source": [
    "#step-1 : i=1 while 1<11 true print(1) i=1-1 i=0\n",
    "#step-2 : i=0 while 0<11 true print"
   ]
  },
  {
   "cell_type": "markdown",
   "id": "95119f13-794a-4218-bdd8-52743d694227",
   "metadata": {},
   "source": [
    "**True**\n",
    "- if u dont know about validcondition to enter inside while loop\n",
    "- then use  **Ture**\n",
    "- True will give entry pass irrrespective of the condition\n",
    "- but if want to come out we need to apply if condition and break inside the while loop\n",
    "- if you dont apply inside, then \n"
   ]
  },
  {
   "cell_type": "code",
   "execution_count": null,
   "id": "7a6063b0-7833-43b2-8950-92c5d76a2eb1",
   "metadata": {},
   "outputs": [],
   "source": [
    "i=-20\n",
    "while True:\n",
    "    print(i,end=' ')\n",
    "    i=i+1\n",
    "    if i==1:\n",
    "        break"
   ]
  },
  {
   "cell_type": "code",
   "execution_count": null,
   "id": "a898ebe5-c3ee-4e3c-a6d1-82fd240c8685",
   "metadata": {},
   "outputs": [],
   "source": [
    "i=20\n",
    "while True:\n",
    "    print(i,end=' ')\n",
    "    i=i-1\n",
    "    if i==0:\n",
    "        break"
   ]
  },
  {
   "cell_type": "code",
   "execution_count": null,
   "id": "1c5060d9-0f40-4dbd-9ab7-4c8d0a8bba38",
   "metadata": {},
   "outputs": [],
   "source": [
    "i=-20\n",
    "while True:\n",
    "    print(i,end=' ')\n",
    "    i=i+1\n",
    "    if i==0:\n",
    "        break"
   ]
  },
  {
   "cell_type": "code",
   "execution_count": null,
   "id": "a1d20ae7-a121-4a18-9c05-a8f04761d5c0",
   "metadata": {},
   "outputs": [],
   "source": [
    "import random\n",
    "i=0\n",
    "while i<3:\n",
    "    i=i+1\n",
    "    number=random.randint(1,100)\n",
    "    if number%2==0:\n",
    "        print(f\"the number is even {number}\")\n",
    "    else:\n",
    "        print(f\"the number is odd {number}\")"
   ]
  },
  {
   "cell_type": "code",
   "execution_count": null,
   "id": "aea1a625-37f3-4b3a-81fa-573ad4123a56",
   "metadata": {},
   "outputs": [],
   "source": [
    "import random\n",
    "num=random.randint(10,20)\n",
    "i=0\n",
    "while num:\n",
    "    i=i+1\n",
    "    if num%2==0:\n",
    "        print(f\"the number is even {num}\")\n",
    "        break\n",
    "else:\n",
    "    print(f\"the number is odd {num}\")\n",
    "    "
   ]
  },
  {
   "cell_type": "code",
   "execution_count": null,
   "id": "e5c41cd0-72ed-4925-9a21-ff77cbe877f9",
   "metadata": {},
   "outputs": [],
   "source": [
    "#3Q) wap ask the user print the square of the number between\n",
    "# 20 to 25\n",
    "import random\n",
    "square=random.randint(20,25)\n",
    "i=0\n",
    "while i<25:\n",
    "     i=i+1\n",
    "     print(f\"the square random number is {square*square}\")\n",
    "     break\n",
    "     if i==25:\n",
    "         break"
   ]
  },
  {
   "cell_type": "code",
   "execution_count": null,
   "id": "d0b00e2a-1c12-4748-b6d0-bc0270d37242",
   "metadata": {},
   "outputs": [],
   "source": [
    "#4Q) WAP ask the user enter number three times find the square of the number\n",
    "# How many times loop should run\n",
    "i=0\n",
    "while i<3:\n",
    "    number=eval(input(\"enter a number:\"))\n",
    "    i=i+1\n",
    "    tabel=number*number\n",
    "    print(f\"the square of the number is {tabel}\")"
   ]
  },
  {
   "cell_type": "code",
   "execution_count": null,
   "id": "114668c9-be1e-4b60-95a2-00e06205947f",
   "metadata": {},
   "outputs": [],
   "source": [
    "#5Q) Print the 14th table\n",
    "# ans:   14 x 1 = 14\n",
    "#        14 x 2 = 28\n",
    "#        14 x 3 = 42\n",
    "#\n",
    "#\n",
    "#        14 x10 = 140\n",
    "# How many times 10\n",
    "number=eval(input(\"enter a number:\"))\n",
    "i=0\n",
    "while i<11:\n",
    "    i=i+1\n",
    "    tab=number*i\n",
    "    print(f\"{number} X {i} = {tab}\")"
   ]
  },
  {
   "cell_type": "code",
   "execution_count": null,
   "id": "15d845c6-1927-4758-8262-659be001c16e",
   "metadata": {},
   "outputs": [],
   "source": [
    "#6 Q) Find the factors of 75\n",
    "# step-1: Iterate the loop = which numbers factor you want\n",
    "# step-2: Apply the if condition\n",
    "#         cond= divide the number with each i\n",
    "number=eval(input(\"enter a number:\"))\n",
    "i=0\n",
    "while i<number:\n",
    "    i=i+1\n",
    "    if number%i==0:\n",
    "        print(f\"the factorial of {number} is {i}\")"
   ]
  },
  {
   "cell_type": "code",
   "execution_count": null,
   "id": "a8e1274d-b90f-4510-b971-b5a545e1fbce",
   "metadata": {},
   "outputs": [],
   "source": [
    "#7Q) Write the sum of first 10 Natural numbers\n",
    "# 1 to 10\n",
    "# 1+2+3+4+5+6+7+8+9+10=55\n",
    "sum=0\n",
    "i=0\n",
    "while i<10:\n",
    "    i=i+1\n",
    "    sum+=i\n",
    "    addition=(sum-i)+(i)\n",
    "    print(f\"{sum-i}+{i}={addition}\",end=' ')"
   ]
  },
  {
   "cell_type": "code",
   "execution_count": null,
   "id": "b137fc24-1fec-445c-a686-f700bdc1ad43",
   "metadata": {},
   "outputs": [],
   "source": [
    "# 8Q) Average first 1 to 10 numbers\n",
    "# avg= summation of all the numbers/total number\n",
    "sum=0\n",
    "i=0\n",
    "natural=eval(input(\"enter a number:\"))\n",
    "while i<10:\n",
    "    i=i+1\n",
    "    sum+=i\n",
    "    avg=sum/natural\n",
    "print(avg)"
   ]
  },
  {
   "cell_type": "code",
   "execution_count": null,
   "id": "889f53f1-39a2-4aa5-b5ad-5ed61749e408",
   "metadata": {},
   "outputs": [],
   "source": [
    "#Wap to find the average of ' N ' numbers in \n",
    "n=eval(input(\"enter a number:\"))\n",
    "sum=0\n",
    "i=0\n",
    "while i<n:\n",
    "    i=i+1\n",
    "    sum=sum+i\n",
    "    avg=sum/n\n",
    "print(avg)"
   ]
  },
  {
   "cell_type": "code",
   "execution_count": null,
   "id": "75952e86-fe40-4ad7-b629-77124d5d7027",
   "metadata": {},
   "outputs": [],
   "source": [
    "#9Q) Find the number of divisors of 75\n",
    "# ans: 1,3,5,15,25,75\n",
    "# Number =6\n",
    "number=eval(input(\"enter a number:\"))\n",
    "divisiors=0\n",
    "i=0\n",
    "while i<number:\n",
    "    i=i+1\n",
    "    if number%i==0:\n",
    "        divisiors+=1\n",
    "print(f\"number of divisiors are {divisiors}\")\n"
   ]
  },
  {
   "cell_type": "code",
   "execution_count": 5,
   "id": "c43195d3-13fc-4609-acb4-a097a7957b48",
   "metadata": {},
   "outputs": [
    {
     "name": "stdin",
     "output_type": "stream",
     "text": [
      "enter num2: 3\n"
     ]
    },
    {
     "name": "stdout",
     "output_type": "stream",
     "text": [
      "8 is fail\n"
     ]
    },
    {
     "name": "stdin",
     "output_type": "stream",
     "text": [
      "enter num2: 4\n"
     ]
    },
    {
     "name": "stdout",
     "output_type": "stream",
     "text": [
      "8 is fail\n"
     ]
    },
    {
     "name": "stdin",
     "output_type": "stream",
     "text": [
      "enter num2: 5\n"
     ]
    },
    {
     "name": "stdout",
     "output_type": "stream",
     "text": [
      "9 is fail\n"
     ]
    }
   ],
   "source": [
    "# 10Q)\n",
    "# Get a random number between  1 to 10 :  num1\n",
    "# Ask the user enter a number : num2\n",
    "# if num1 == num2  then print won\n",
    "# else print fail\n",
    "import random\n",
    "i=0\n",
    "while i<3:\n",
    "    num1=random.randint(1,10)\n",
    "    num2=eval(input(\"enter num2:\"))\n",
    "    i+=1\n",
    "    if num1==num2:\n",
    "        print(f\"{num1} is won\")\n",
    "    else:\n",
    "        print(f\"{num1} is fail\")"
   ]
  },
  {
   "cell_type": "code",
   "execution_count": null,
   "id": "10753ea5-b452-4a51-954c-df8f9ccf2786",
   "metadata": {},
   "outputs": [],
   "source": [
    "# Case-3:\n",
    "# Suppose i want to give 4 chances\n",
    "# Every time you fail I want to display\n",
    "#      Number of chances left\n",
    "\n",
    "# If all the chances you are used\n",
    "#    Try again after 24 hours\n",
    "\n",
    "# If you are win\n",
    "count=4\n",
    "(4):\n",
    "    num1=random.randint(1,10)\n",
    "    num2=eval(input(\"enter num2:\"))\n",
    "    if num1==num2:\n",
    "        count+=1\n",
    "        print(f\"{num1} is won\")\n",
    "        break\n",
    "    else:\n",
    "        print(f\"{num1} is fail\")\n",
    "        count=count-1\n",
    "        print(count)\n",
    "if count==0:\n",
    "    print(\"Try again after 24 hours\")"
   ]
  },
  {
   "cell_type": "code",
   "execution_count": 4,
   "id": "28bc25e0-ebf7-470f-ab4b-d0ac5fd1f757",
   "metadata": {},
   "outputs": [
    {
     "name": "stdout",
     "output_type": "stream",
     "text": [
      "numver is odd and the  count of odd is 1\n",
      "number is even and the count of even is 1\n",
      "numver is odd and the  count of odd is 2\n",
      "numver is odd and the  count of odd is 3\n",
      "numver is odd and the  count of odd is 4\n",
      "the total numbers of even number are :1\n",
      "the total numbers of even number are :4\n",
      "the sum of even numbers are :1\n",
      "the sum of odd numbers are : 10\n"
     ]
    }
   ],
   "source": [
    "#12Q) # wap ask the user get 5 random numbers\n",
    "# Get it is an even number or odd number\n",
    "# also count how many even numbers are there\n",
    "# and  count how many odd numbers are there\n",
    "# I want summ even numbers\n",
    "# I want summ odd numbers\n",
    "import random\n",
    "even_count=0\n",
    "odd_count=0\n",
    "even_sum=0\n",
    "odd_sum=0\n",
    "i=0\n",
    "while i<5:\n",
    "    number=random.randint(1,6)\n",
    "    i=i+1\n",
    "    if number%2==0:\n",
    "        even_count+=1\n",
    "        even_sum+=even_count\n",
    "        print(f\"number is even and the count of even is {even_count}\")\n",
    "    else:\n",
    "        odd_count+=1\n",
    "        odd_sum+=odd_count\n",
    "        print(f\"numver is odd and the  count of odd is {odd_count}\")\n",
    "print(f\"the total numbers of even number are :{even_count}\")\n",
    "print(f\"the total numbers of even number are :{odd_count}\")\n",
    "print(f\"the sum of even numbers are :{even_sum}\")\n",
    "print(f\"the sum of odd numbers are : {odd_sum}\")"
   ]
  },
  {
   "cell_type": "code",
   "execution_count": null,
   "id": "2dfbc446-0648-4ba6-bc47-bf5cac341ee3",
   "metadata": {},
   "outputs": [],
   "source": [
    "+1"
   ]
  }
 ],
 "metadata": {
  "kernelspec": {
   "display_name": "Python 3 (ipykernel)",
   "language": "python",
   "name": "python3"
  },
  "language_info": {
   "codemirror_mode": {
    "name": "ipython",
    "version": 3
   },
   "file_extension": ".py",
   "mimetype": "text/x-python",
   "name": "python",
   "nbconvert_exporter": "python",
   "pygments_lexer": "ipython3",
   "version": "3.11.7"
  }
 },
 "nbformat": 4,
 "nbformat_minor": 5
}
