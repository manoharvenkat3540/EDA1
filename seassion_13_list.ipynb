{
 "cells": [
  {
   "cell_type": "markdown",
   "id": "49a04b0d-b79e-4c98-ab15-9847bc746880",
   "metadata": {},
   "source": [
    "- Representation\n",
    "- type\n",
    "- len\n",
    "- max\n",
    "- min\n",
    "- sorted\n",
    "- reversed\n",
    "- in\n",
    "- forloop\n",
    "- for loop in\n",
    "- index\n",
    "- for loop index\n",
    "- mutable\n",
    "- concatenation\n",
    "- slicing\n",
    "- methods"
   ]
  },
  {
   "cell_type": "markdown",
   "id": "310620da-52f2-4d38-a88b-d591f749190c",
   "metadata": {},
   "source": [
    "**Representation**\n",
    "\n",
    "- string representation with quotes **'' \"\"**\n",
    "- list representation with square brackets []"
   ]
  },
  {
   "cell_type": "code",
   "execution_count": 1,
   "id": "8cf1ad29-08fe-4c59-b138-2232a3680070",
   "metadata": {},
   "outputs": [
    {
     "data": {
      "text/plain": [
       "[1, 2, 3, 4]"
      ]
     },
     "execution_count": 1,
     "metadata": {},
     "output_type": "execute_result"
    }
   ],
   "source": [
    "l1=[1,2,3,4]\n",
    "l1"
   ]
  },
  {
   "cell_type": "code",
   "execution_count": 2,
   "id": "3b410819-ea09-4e69-85f7-53d7b75db6fb",
   "metadata": {},
   "outputs": [
    {
     "data": {
      "text/plain": [
       "list"
      ]
     },
     "execution_count": 2,
     "metadata": {},
     "output_type": "execute_result"
    }
   ],
   "source": [
    "type(l1)"
   ]
  },
  {
   "cell_type": "code",
   "execution_count": 4,
   "id": "e0b26c7d-90c0-490f-ae2d-6fcc51e21c48",
   "metadata": {},
   "outputs": [
    {
     "data": {
      "text/plain": [
       "['A', 'B', 'c', 'D']"
      ]
     },
     "execution_count": 4,
     "metadata": {},
     "output_type": "execute_result"
    }
   ],
   "source": [
    "l2=['A','B','c','D']\n",
    "l2"
   ]
  },
  {
   "cell_type": "code",
   "execution_count": 5,
   "id": "ae5963ce-28af-44ea-8bb5-50ada1ac1360",
   "metadata": {},
   "outputs": [
    {
     "data": {
      "text/plain": [
       "[1, 2, 3, 4, 'A', 'B', 'c', 'D']"
      ]
     },
     "execution_count": 5,
     "metadata": {},
     "output_type": "execute_result"
    }
   ],
   "source": [
    "l3=[1, 2, 3, 4,'A', 'B', 'c', 'D']\n",
    "l3"
   ]
  },
  {
   "cell_type": "code",
   "execution_count": 6,
   "id": "813ef26d-b843-41cf-82ce-127e188200df",
   "metadata": {},
   "outputs": [
    {
     "data": {
      "text/plain": [
       "['naresh it']"
      ]
     },
     "execution_count": 6,
     "metadata": {},
     "output_type": "execute_result"
    }
   ],
   "source": [
    "name='naresh it'\n",
    "l5=[name]\n",
    "l5"
   ]
  },
  {
   "cell_type": "code",
   "execution_count": null,
   "id": "5a08cf28-26b0-43fe-8977-dc7d0a99030d",
   "metadata": {},
   "outputs": [],
   "source": [
    "l1=[1,2,3,4]\n",
    "l2=['A','B','C','D']\n",
    "l3=[1,2,3,4,'A','B','C','D']\n",
    "l4=[1,2,3,'Apple','Ball','Cat',True,False]\n",
    "name='naresh it'\n",
    "l5=[name]\n",
    "l6=[100,100,100]\n",
    "l7=[100,'Apple',['A',2]]"
   ]
  },
  {
   "cell_type": "markdown",
   "id": "7de40e75-4f16-45c8-9b6b-6ae24079f18c",
   "metadata": {},
   "source": [
    "- list are array of elements\n",
    "- list elements are heterogenous all data types we can represent in a list\n",
    "- list elemnts are allowed duplicates\n",
    "- list in list is possible\n",
    "- variable assignment also possible in the list"
   ]
  },
  {
   "cell_type": "markdown",
   "id": "63af5dee-99e3-46af-bbac-471a63b216cd",
   "metadata": {},
   "source": [
    "- len\n",
    "- max\n",
    "- min\n",
    "- sorted\n",
    "- reversed"
   ]
  },
  {
   "cell_type": "code",
   "execution_count": null,
   "id": "20eb8c6b-d9b2-4754-a512-3ba2100704ee",
   "metadata": {},
   "outputs": [],
   "source": [
    "l1=[1,2,3,4]\n",
    "l2=['A','B','C','D']\n",
    "l3=[1,2,3,4,'A','B','C','D']\n",
    "l4=[1,2,3,'Apple','Ball','Cat',True,False]\n",
    "name='naresh it'\n",
    "l5=[name]\n",
    "l6=[100,100,100]\n",
    "l7=[100,'Apple',['A',2]]\n",
    "len()\n",
    "max()\n",
    "min()\n",
    "sorted()\n",
    "reversed()\n"
   ]
  },
  {
   "cell_type": "code",
   "execution_count": 9,
   "id": "ee98d281-64b1-41c6-b1bf-a14a2a1e14c6",
   "metadata": {},
   "outputs": [
    {
     "data": {
      "text/plain": [
       "<list_reverseiterator at 0x29a9cee9bd0>"
      ]
     },
     "execution_count": 9,
     "metadata": {},
     "output_type": "execute_result"
    }
   ],
   "source": [
    "l4=[1,2,3,'Apple','Ball','Cat',True,False]\n",
    "reversed(l4)"
   ]
  },
  {
   "cell_type": "code",
   "execution_count": 13,
   "id": "d1bb945b-b796-472d-bdc0-2e8486db1295",
   "metadata": {},
   "outputs": [
    {
     "name": "stdout",
     "output_type": "stream",
     "text": [
      "False\n",
      "True\n",
      "Cat\n",
      "Ball\n",
      "Apple\n",
      "3\n",
      "2\n",
      "1\n"
     ]
    }
   ],
   "source": [
    "for i in reversed(l4):\n",
    "    print(i)"
   ]
  },
  {
   "cell_type": "code",
   "execution_count": 14,
   "id": "9cb8ae64-085a-4d2d-bfeb-c887a67a3cfd",
   "metadata": {},
   "outputs": [
    {
     "name": "stdout",
     "output_type": "stream",
     "text": [
      "the positive index of 1 is 0\n",
      "the positive index of 1 is -8\n",
      "the positive index of 2 is 1\n",
      "the positive index of 2 is -7\n",
      "the positive index of 3 is 2\n",
      "the positive index of 3 is -6\n",
      "the positive index of A is 3\n",
      "the positive index of A is -5\n",
      "the positive index of B is 4\n",
      "the positive index of B is -4\n",
      "the positive index of C is 5\n",
      "the positive index of C is -3\n",
      "the positive index of True is 6\n",
      "the positive index of True is -2\n",
      "the positive index of False is 7\n",
      "the positive index of False is -1\n"
     ]
    }
   ],
   "source": [
    "l4=[1,2,3,'A','B','C',True,False]\n",
    "for i in range(len(l4)):\n",
    "    print(f\"the positive index of {l4[i]} is {i}\")\n",
    "    print(f\"the positive index of {l4[i]} is {i-(len(l4))}\")\n",
    "    "
   ]
  },
  {
   "cell_type": "code",
   "execution_count": 2,
   "id": "584b9cd6-b81f-45e5-bd4f-4b6a34a3a444",
   "metadata": {},
   "outputs": [
    {
     "name": "stdout",
     "output_type": "stream",
     "text": [
      "the positive index of 1 is -8\n",
      "the positive index of 2 is -7\n",
      "the positive index of 3 is -6\n",
      "the positive index of A is -5\n",
      "the positive index of B is -4\n",
      "the positive index of C is -3\n",
      "the positive index of True is -2\n",
      "the positive index of False is -1\n"
     ]
    }
   ],
   "source": [
    "l4=[1,2,3,'A','B','C',True,False]\n",
    "for i in range(len(l4)):\n",
    "    print(f\"the positive index of {l4[i]} is {i-(len(l4))}\")"
   ]
  },
  {
   "cell_type": "code",
   "execution_count": 3,
   "id": "27901a4b-90f0-4a65-b868-b0a12be739e8",
   "metadata": {},
   "outputs": [
    {
     "data": {
      "text/plain": [
       "[]"
      ]
     },
     "execution_count": 3,
     "metadata": {},
     "output_type": "execute_result"
    }
   ],
   "source": [
    "l=[1,2,3,4,'A','B','C','D','E','F','G']\n",
    "l[-3:9:-2]"
   ]
  },
  {
   "cell_type": "markdown",
   "id": "caa4f118-4309-4332-95f4-d487cd20c0f7",
   "metadata": {},
   "source": [
    "**List Methods**"
   ]
  },
  {
   "cell_type": "code",
   "execution_count": 4,
   "id": "a9b88416-9c0b-45c6-9698-b93791f2b246",
   "metadata": {},
   "outputs": [
    {
     "data": {
      "text/plain": [
       "['__add__',\n",
       " '__class__',\n",
       " '__class_getitem__',\n",
       " '__contains__',\n",
       " '__delattr__',\n",
       " '__delitem__',\n",
       " '__dir__',\n",
       " '__doc__',\n",
       " '__eq__',\n",
       " '__format__',\n",
       " '__ge__',\n",
       " '__getattribute__',\n",
       " '__getitem__',\n",
       " '__getstate__',\n",
       " '__gt__',\n",
       " '__hash__',\n",
       " '__iadd__',\n",
       " '__imul__',\n",
       " '__init__',\n",
       " '__init_subclass__',\n",
       " '__iter__',\n",
       " '__le__',\n",
       " '__len__',\n",
       " '__lt__',\n",
       " '__mul__',\n",
       " '__ne__',\n",
       " '__new__',\n",
       " '__reduce__',\n",
       " '__reduce_ex__',\n",
       " '__repr__',\n",
       " '__reversed__',\n",
       " '__rmul__',\n",
       " '__setattr__',\n",
       " '__setitem__',\n",
       " '__sizeof__',\n",
       " '__str__',\n",
       " '__subclasshook__',\n",
       " 'append',\n",
       " 'clear',\n",
       " 'copy',\n",
       " 'count',\n",
       " 'extend',\n",
       " 'index',\n",
       " 'insert',\n",
       " 'pop',\n",
       " 'remove',\n",
       " 'reverse',\n",
       " 'sort']"
      ]
     },
     "execution_count": 4,
     "metadata": {},
     "output_type": "execute_result"
    }
   ],
   "source": [
    "dir(list)"
   ]
  },
  {
   "cell_type": "code",
   "execution_count": 5,
   "id": "6f7127cf-c173-4d2a-a298-cce8bc1c4f44",
   "metadata": {},
   "outputs": [
    {
     "ename": "IndentationError",
     "evalue": "unexpected indent (4229069093.py, line 2)",
     "output_type": "error",
     "traceback": [
      "\u001b[1;36m  Cell \u001b[1;32mIn[5], line 2\u001b[1;36m\u001b[0m\n\u001b[1;33m    'clear',\u001b[0m\n\u001b[1;37m    ^\u001b[0m\n\u001b[1;31mIndentationError\u001b[0m\u001b[1;31m:\u001b[0m unexpected indent\n"
     ]
    }
   ],
   "source": [
    "'append',\n",
    " 'clear',\n",
    " 'copy',\n",
    " 'count',\n",
    " 'extend',\n",
    " 'index',\n",
    " 'insert',\n",
    " 'pop',\n",
    " 'remove',\n",
    " 'reverse',\n",
    " 'sort'"
   ]
  },
  {
   "cell_type": "markdown",
   "id": "99a736b2-3782-417b-b668-ed4010253b9a",
   "metadata": {},
   "source": [
    "**Append**\n",
    "- adding elements in a list at last index\n",
    "- append method is vrey important\n",
    "- most of the time we will use append in the real time\n",
    "- when you add the value the original list willl be overwrite"
   ]
  },
  {
   "cell_type": "code",
   "execution_count": 8,
   "id": "00797749-a759-4f53-9247-9247688302fe",
   "metadata": {},
   "outputs": [
    {
     "data": {
      "text/plain": [
       "['Apple', 'Ball', 'cat', 'Dog']"
      ]
     },
     "execution_count": 8,
     "metadata": {},
     "output_type": "execute_result"
    }
   ],
   "source": [
    "l=['Apple','Ball','cat']\n",
    "l.append('Dog')\n",
    "l"
   ]
  },
  {
   "cell_type": "code",
   "execution_count": 10,
   "id": "e2ebf847-c80d-4de1-a768-f7b89f20d4d4",
   "metadata": {},
   "outputs": [
    {
     "data": {
      "text/plain": [
       "4"
      ]
     },
     "execution_count": 10,
     "metadata": {},
     "output_type": "execute_result"
    }
   ],
   "source": [
    "len(l)\n"
   ]
  },
  {
   "cell_type": "code",
   "execution_count": 11,
   "id": "7e4006f5-5ac2-4553-89f4-2e15d63a67b2",
   "metadata": {},
   "outputs": [
    {
     "ename": "TypeError",
     "evalue": "list.append() takes exactly one argument (3 given)",
     "output_type": "error",
     "traceback": [
      "\u001b[1;31m---------------------------------------------------------------------------\u001b[0m",
      "\u001b[1;31mTypeError\u001b[0m                                 Traceback (most recent call last)",
      "Cell \u001b[1;32mIn[11], line 1\u001b[0m\n\u001b[1;32m----> 1\u001b[0m l\u001b[38;5;241m.\u001b[39mappend(\u001b[38;5;241m10\u001b[39m,\u001b[38;5;241m20\u001b[39m,\u001b[38;5;241m30\u001b[39m)\n",
      "\u001b[1;31mTypeError\u001b[0m: list.append() takes exactly one argument (3 given)"
     ]
    }
   ],
   "source": [
    "l.append(10,20,30)"
   ]
  },
  {
   "cell_type": "markdown",
   "id": "461e5c28-f064-4758-b432-6f040de2ddc0",
   "metadata": {},
   "source": [
    "- where the list append method can only add the one argument only"
   ]
  },
  {
   "cell_type": "markdown",
   "id": "8354766f-9efb-4efe-840e-fdd2c83fffbb",
   "metadata": {},
   "source": [
    "**Append method used to save the output in alist**"
   ]
  },
  {
   "cell_type": "code",
   "execution_count": 14,
   "id": "36eb24b1-088d-482b-be1c-f5087ebed12d",
   "metadata": {},
   "outputs": [
    {
     "name": "stdout",
     "output_type": "stream",
     "text": [
      "1\n",
      "4\n",
      "9\n",
      "16\n",
      "25\n"
     ]
    }
   ],
   "source": [
    "for i in range(1,6):\n",
    "    print(i*i)"
   ]
  },
  {
   "cell_type": "code",
   "execution_count": 19,
   "id": "2ab90cee-5f40-491a-9403-c61f81531677",
   "metadata": {},
   "outputs": [
    {
     "data": {
      "text/plain": [
       "[1, 4, 9, 16, 25]"
      ]
     },
     "execution_count": 19,
     "metadata": {},
     "output_type": "execute_result"
    }
   ],
   "source": [
    "square_list=[]\n",
    "for i in range(1,6):\n",
    "    square_list.append(i*i)\n",
    "square_list"
   ]
  },
  {
   "cell_type": "code",
   "execution_count": 26,
   "id": "edb64a48-9925-4986-8117-b618e34171ec",
   "metadata": {},
   "outputs": [
    {
     "ename": "TypeError",
     "evalue": "'int' object is not callable",
     "output_type": "error",
     "traceback": [
      "\u001b[1;31m---------------------------------------------------------------------------\u001b[0m",
      "\u001b[1;31mTypeError\u001b[0m                                 Traceback (most recent call last)",
      "Cell \u001b[1;32mIn[26], line 7\u001b[0m\n\u001b[0;32m      4\u001b[0m     \u001b[38;5;28;01mif\u001b[39;00m str1[i]\u001b[38;5;241m==\u001b[39m\u001b[38;5;124m'\u001b[39m\u001b[38;5;124ma\u001b[39m\u001b[38;5;124m'\u001b[39m:\n\u001b[0;32m      5\u001b[0m         id_list\u001b[38;5;241m.\u001b[39mappend(i)\n\u001b[1;32m----> 7\u001b[0m id_list,\u001b[38;5;28msum\u001b[39m(id_list)\n",
      "\u001b[1;31mTypeError\u001b[0m: 'int' object is not callable"
     ]
    }
   ],
   "source": [
    "str1='hai hai hai'\n",
    "id_list=[]\n",
    "for i in range(len(str1)):\n",
    "    if str1[i]=='a':\n",
    "        id_list.append(i)\n",
    "\n",
    "id_list,sum(id_list)"
   ]
  },
  {
   "cell_type": "code",
   "execution_count": 22,
   "id": "7b3231e0-2b7e-4b1b-932c-5e5825dd52cb",
   "metadata": {},
   "outputs": [
    {
     "data": {
      "text/plain": [
       "15"
      ]
     },
     "execution_count": 22,
     "metadata": {},
     "output_type": "execute_result"
    }
   ],
   "source": [
    "sum=0\n",
    "str1='hai hai hai'\n",
    "for i in range(len(str1)):\n",
    "    if str1[i]=='a':\n",
    "        sum+=i\n",
    "sum\n"
   ]
  },
  {
   "cell_type": "code",
   "execution_count": 1,
   "id": "49fa78dc-0d48-41cf-ac4e-841877e32dd1",
   "metadata": {},
   "outputs": [
    {
     "data": {
      "text/plain": [
       "True"
      ]
     },
     "execution_count": 1,
     "metadata": {},
     "output_type": "execute_result"
    }
   ],
   "source": [
    "'manu' in '#' # manu is avaialable in #'\n",
    "'#'   in 'manu' #  is available un manu\n",
    "'ma#nu' in '#' # is ma#nu available in #\n",
    "'#' in 'ma#nu' #is '#' avaialable in 'ma#nu'"
   ]
  },
  {
   "cell_type": "markdown",
   "id": "214ae522-64c4-448f-b63e-2a2ac2e5a26d",
   "metadata": {},
   "source": [
    "**split-join**"
   ]
  },
  {
   "cell_type": "markdown",
   "id": "86b0311a-87f3-4eff-b4e0-b6fcd795e28d",
   "metadata": {},
   "source": [
    "- split will apply for strings, to divide the words or characters\n",
    "- when we split the elements will be stored in a list format\n",
    "- join is used to combine the elements of a list in a string format\n",
    "- **split -strings**\n",
    "- **join-list**\n"
   ]
  },
  {
   "cell_type": "code",
   "execution_count": null,
   "id": "5ec0e58a-e88b-4636-bf6a-db92ac7415b6",
   "metadata": {},
   "outputs": [],
   "source": [
    "#do the same using capitalize method\n",
    "#step-1: split the string\n",
    "#step-2: take the empty list\n",
    "#step-3: iterate the each letter apply capitalize and append it\n",
    "#step-4: join the list"
   ]
  },
  {
   "cell_type": "code",
   "execution_count": 4,
   "id": "7a8780f0-7fd4-4498-ac39-a078f85ee533",
   "metadata": {},
   "outputs": [
    {
     "data": {
      "text/plain": [
       "'Hello Im Learning Python'"
      ]
     },
     "execution_count": 4,
     "metadata": {},
     "output_type": "execute_result"
    }
   ],
   "source": [
    "str1= \"hello im learning python\"\n",
    "words=str1.split()\n",
    "new_words=[]\n",
    "for i in words:\n",
    "    new_words.append(i.capitalize())\n",
    "\n",
    "' '.join(new_words)\n",
    "    "
   ]
  },
  {
   "cell_type": "code",
   "execution_count": 17,
   "id": "3f25b974-f4de-4afc-85a8-1cf2c623f79d",
   "metadata": {},
   "outputs": [
    {
     "data": {
      "text/plain": [
       "3.0"
      ]
     },
     "execution_count": 17,
     "metadata": {},
     "output_type": "execute_result"
    }
   ],
   "source": [
    "#calculate the distance between two points\n",
    "#a=[1,2]\n",
    "#b=[4,5]\n",
    "#a=[x1,x2]\n",
    "#b=[y1,y2]\n",
    "#step-0 : import math\n",
    "#step-1: v1= x2-x1=a[2]-a[1] === index\n",
    "#step-2: v2= y2-y1=b[2]-b[1] ==== index\n",
    "#step-3: v11=v1**2\n",
    "#step-4: v22=v2**2\n",
    "#step-5: ans=math.sqrt(v11+v22)\n",
    "\n",
    "import math\n",
    "a=[1,2]\n",
    "b=[1,5]\n",
    "v1=b[0]-a[0]\n",
    "v2=b[1]-a[1]\n",
    "v11=v1**2\n",
    "v22=v2**2\n",
    "ans=math.sqrt(v11+v22)\n",
    "ans"
   ]
  },
  {
   "cell_type": "code",
   "execution_count": 33,
   "id": "786b657a-e5e3-4932-94f7-5ef2678adefc",
   "metadata": {},
   "outputs": [
    {
     "name": "stdout",
     "output_type": "stream",
     "text": [
      "1 2\n",
      "2 3\n",
      "2-1=1 3-2=1\n",
      "4.242640687119285\n",
      "2 3\n",
      "2 3\n",
      "2-2=0 3-3=0\n",
      "4.242640687119285\n",
      "5 6\n",
      "2 3\n",
      "2-5=-3 3-6=-3\n",
      "4.242640687119285\n"
     ]
    }
   ],
   "source": [
    "points=[[1,2],[2,3],[5,6]]\n",
    "val=[2,3]\n",
    "for i in points:\n",
    "    print(i[0],i[1])\n",
    "    print(val[0],val[1])\n",
    "    v1=val[0]-i[0]\n",
    "    v2=val[1]-i[1]\n",
    "    print(f\"{val[0]}-{i[0]}={v1} {val[1]}-{i[1]}={v2}\")\n",
    "    print(math.sqrt(v11+v22))"
   ]
  },
  {
   "cell_type": "code",
   "execution_count": 28,
   "id": "2ce18563-aaa1-4bc2-8c72-bed8a6cd8d39",
   "metadata": {},
   "outputs": [
    {
     "name": "stdout",
     "output_type": "stream",
     "text": [
      "9 9\n",
      "4.242640687119285\n"
     ]
    }
   ],
   "source": [
    "points=[[1,2],[2,3],[5,6]]\n",
    "val=[2,3]\n",
    "for i in points:\n",
    "    v1=val[0]-i[0]\n",
    "    v2=val[1]-i[1]\n",
    "    v11=v1**2\n",
    "    v22=v2**2\n",
    "print(v11,v22)\n",
    "print(math.sqrt(v11+v22))\n",
    "    "
   ]
  },
  {
   "cell_type": "code",
   "execution_count": 1,
   "id": "d0f85867-1a18-4a8b-b81a-fdce50632ea6",
   "metadata": {},
   "outputs": [
    {
     "data": {
      "text/plain": [
       "['__add__',\n",
       " '__class__',\n",
       " '__class_getitem__',\n",
       " '__contains__',\n",
       " '__delattr__',\n",
       " '__delitem__',\n",
       " '__dir__',\n",
       " '__doc__',\n",
       " '__eq__',\n",
       " '__format__',\n",
       " '__ge__',\n",
       " '__getattribute__',\n",
       " '__getitem__',\n",
       " '__getstate__',\n",
       " '__gt__',\n",
       " '__hash__',\n",
       " '__iadd__',\n",
       " '__imul__',\n",
       " '__init__',\n",
       " '__init_subclass__',\n",
       " '__iter__',\n",
       " '__le__',\n",
       " '__len__',\n",
       " '__lt__',\n",
       " '__mul__',\n",
       " '__ne__',\n",
       " '__new__',\n",
       " '__reduce__',\n",
       " '__reduce_ex__',\n",
       " '__repr__',\n",
       " '__reversed__',\n",
       " '__rmul__',\n",
       " '__setattr__',\n",
       " '__setitem__',\n",
       " '__sizeof__',\n",
       " '__str__',\n",
       " '__subclasshook__',\n",
       " 'append',\n",
       " 'clear',\n",
       " 'copy',\n",
       " 'count',\n",
       " 'extend',\n",
       " 'index',\n",
       " 'insert',\n",
       " 'pop',\n",
       " 'remove',\n",
       " 'reverse',\n",
       " 'sort']"
      ]
     },
     "execution_count": 1,
     "metadata": {},
     "output_type": "execute_result"
    }
   ],
   "source": [
    "dir(list)"
   ]
  },
  {
   "cell_type": "code",
   "execution_count": 4,
   "id": "7c3b299c-7a09-4283-9360-b86fb18e6715",
   "metadata": {},
   "outputs": [
    {
     "data": {
      "text/plain": [
       "[]"
      ]
     },
     "execution_count": 4,
     "metadata": {},
     "output_type": "execute_result"
    }
   ],
   "source": [
    "list1=[1,2,3,4]\n",
    "list1.clear()\n",
    "list1"
   ]
  },
  {
   "cell_type": "code",
   "execution_count": 8,
   "id": "20e88add-b2ca-44f0-a00e-7cca78af8e1c",
   "metadata": {},
   "outputs": [
    {
     "data": {
      "text/plain": [
       "[2, 3, 4, 5, [6, 7, 8, 9]]"
      ]
     },
     "execution_count": 8,
     "metadata": {},
     "output_type": "execute_result"
    }
   ],
   "source": [
    "#append\n",
    "list2=[2,3,4,5]\n",
    "list3=[6,7,8,9]\n",
    "list2.append(list3)\n",
    "list2"
   ]
  },
  {
   "cell_type": "code",
   "execution_count": 10,
   "id": "71bfe4f4-bfb4-42b0-be14-f2dc38cc60df",
   "metadata": {},
   "outputs": [
    {
     "data": {
      "text/plain": [
       "[2, 3, 4, 5, 6, 7, 8, 9]"
      ]
     },
     "execution_count": 10,
     "metadata": {},
     "output_type": "execute_result"
    }
   ],
   "source": [
    "#extend\n",
    "list2=[2,3,4,5]\n",
    "list3=[6,7,8,9]\n",
    "list2.extend(list3)\n",
    "list2"
   ]
  },
  {
   "cell_type": "code",
   "execution_count": 15,
   "id": "42aa4b54-2e85-498e-8cfd-8cbab06cb5b6",
   "metadata": {},
   "outputs": [
    {
     "data": {
      "text/plain": [
       "[2, 3, 4, 5, [6, 7, 8, 9]]"
      ]
     },
     "execution_count": 15,
     "metadata": {},
     "output_type": "execute_result"
    }
   ],
   "source": [
    "#inser\n",
    "list2=[2,3,4,5]\n",
    "list3=[6,7,8,9]\n",
    "list2.insert(4,list3)\n",
    "list2"
   ]
  },
  {
   "cell_type": "code",
   "execution_count": 31,
   "id": "2f621412-fd03-4a08-adda-b2792c78c50a",
   "metadata": {},
   "outputs": [
    {
     "ename": "TypeError",
     "evalue": "'int' object is not callable",
     "output_type": "error",
     "traceback": [
      "\u001b[1;31m---------------------------------------------------------------------------\u001b[0m",
      "\u001b[1;31mTypeError\u001b[0m                                 Traceback (most recent call last)",
      "Cell \u001b[1;32mIn[31], line 4\u001b[0m\n\u001b[0;32m      2\u001b[0m count\u001b[38;5;241m=\u001b[39m\u001b[38;5;241m0\u001b[39m\n\u001b[0;32m      3\u001b[0m list2\u001b[38;5;241m=\u001b[39m[\u001b[38;5;241m2\u001b[39m,\u001b[38;5;241m3\u001b[39m,\u001b[38;5;241m4\u001b[39m,\u001b[38;5;241m5\u001b[39m]\n\u001b[1;32m----> 4\u001b[0m count(list2)\n",
      "\u001b[1;31mTypeError\u001b[0m: 'int' object is not callable"
     ]
    }
   ],
   "source": [
    "#count\n",
    "count=0\n",
    "list2=[2,3,4,5]\n",
    "count(list2)"
   ]
  },
  {
   "cell_type": "code",
   "execution_count": 28,
   "id": "157661d0-5def-4171-8691-fb080c57e71e",
   "metadata": {},
   "outputs": [
    {
     "data": {
      "text/plain": [
       "[2, 3, 4, 5]"
      ]
     },
     "execution_count": 28,
     "metadata": {},
     "output_type": "execute_result"
    }
   ],
   "source": [
    "list2=[2,3,4,5]\n",
    "list3=[6,7,8,9]\n",
    "list2.copy()"
   ]
  },
  {
   "cell_type": "markdown",
   "id": "91a578a9-6ef8-4175-96e0-ac4b98f6df57",
   "metadata": {},
   "source": [
    "**index**"
   ]
  },
  {
   "cell_type": "markdown",
   "id": "d7149842-da1c-4681-8d61-b3ed2471833e",
   "metadata": {},
   "source": [
    "- will insert the element based on index\n",
    "- append will add the element at last only"
   ]
  },
  {
   "cell_type": "code",
   "execution_count": 4,
   "id": "cd0dc95f-d323-4c9c-927c-2f3032ed844b",
   "metadata": {},
   "outputs": [
    {
     "data": {
      "text/plain": [
       "[1, 2, 3, 'banana', 'Apple', 10, 20, 'Apple', 40]"
      ]
     },
     "execution_count": 4,
     "metadata": {},
     "output_type": "execute_result"
    }
   ],
   "source": [
    "l1=[1,2,3,'Apple',10,20,'Apple',40]\n",
    "i1=l1.index('Apple')\n",
    "l1.insert(i1,'banana')\n",
    "l1"
   ]
  },
  {
   "cell_type": "code",
   "execution_count": 16,
   "id": "df715d57-0f13-4ded-a375-977b5841e2b8",
   "metadata": {},
   "outputs": [
    {
     "data": {
      "text/plain": [
       "[1, 2, 3, 'Apple', 10, 20, 'cherry', 'Apple', 40]"
      ]
     },
     "execution_count": 16,
     "metadata": {},
     "output_type": "execute_result"
    }
   ],
   "source": [
    "#if we want to add the cherry before the 2md apple\n",
    "l1=[1,2,3,'Apple',10,20,'Apple',40]\n",
    "#step-1: we want to find the index pf the 2md 'Apple'\n",
    "#step-2: how to find the second Apple index\n",
    "i1=l1.index('Apple')\n",
    "l2=l1.index('Apple',i1+1)\n",
    "l1.insert(6,'cherry')\n",
    "l1\n"
   ]
  },
  {
   "cell_type": "markdown",
   "id": "d11728f6-e68f-4bb5-9d49-68d004f85802",
   "metadata": {},
   "source": [
    "**pop-remove-del**\n",
    "\n",
    "\n",
    "**pop**\n",
    "- pop will remove the item\n",
    "- pop also display  the item which is removing\n",
    "- pop will take one argument: index\n",
    "- pop will remove the item based on index\n",
    "- if you dont provide any index,by default it will rwmove last value\n",
    "- because the default index value is -1"
   ]
  },
  {
   "cell_type": "code",
   "execution_count": 18,
   "id": "ae552f55-13a6-4609-9478-8f38420f4c1b",
   "metadata": {},
   "outputs": [
    {
     "data": {
      "text/plain": [
       "40"
      ]
     },
     "execution_count": 18,
     "metadata": {},
     "output_type": "execute_result"
    }
   ],
   "source": [
    "l1=[1,2,3,'Apple',10,20,'Apple',40]\n",
    "l1.pop()"
   ]
  },
  {
   "cell_type": "code",
   "execution_count": 26,
   "id": "507985df-682f-4740-bf1d-0900705b96d6",
   "metadata": {},
   "outputs": [
    {
     "data": {
      "text/plain": [
       "[1, 2, 3, 10, 20, 'Apple', 40]"
      ]
     },
     "execution_count": 26,
     "metadata": {},
     "output_type": "execute_result"
    }
   ],
   "source": [
    "l1=[1,2,3,'Apple',10,20,'Apple',40]\n",
    "l1.pop(3)\n",
    "l1"
   ]
  },
  {
   "cell_type": "code",
   "execution_count": 29,
   "id": "9ee49d8a-aca8-4316-add3-976fb35b1009",
   "metadata": {},
   "outputs": [
    {
     "data": {
      "text/plain": [
       "[1, 2, 3, 'Apple', 10, 20, 40]"
      ]
     },
     "execution_count": 29,
     "metadata": {},
     "output_type": "execute_result"
    }
   ],
   "source": [
    "l1=[1,2,3,'Apple',10,20,'Apple',40]\n",
    "l1.pop(6)\n",
    "l1"
   ]
  },
  {
   "cell_type": "code",
   "execution_count": 33,
   "id": "c2b317ff-fb06-4f71-a195-b9436271c80e",
   "metadata": {},
   "outputs": [
    {
     "data": {
      "text/plain": [
       "[1, 2, 3, 10, 20, 'Apple', 40]"
      ]
     },
     "execution_count": 33,
     "metadata": {},
     "output_type": "execute_result"
    }
   ],
   "source": [
    "#only on first apple\n",
    "\n",
    "l1=[1,2,3,'Apple',10,20,'Apple',40]\n",
    "i1=l1.index('Apple')\n",
    "l1.pop(i1)\n",
    "l1"
   ]
  },
  {
   "cell_type": "code",
   "execution_count": 38,
   "id": "d0a3ee1c-c265-4ecc-86cf-f1daea29f936",
   "metadata": {},
   "outputs": [
    {
     "data": {
      "text/plain": [
       "[1, 2, 3, 'Apple', 10, 20, 40]"
      ]
     },
     "execution_count": 38,
     "metadata": {},
     "output_type": "execute_result"
    }
   ],
   "source": [
    "#only on second apple\n",
    "\n",
    "l1=[1,2,3,'Apple',10,20,'Apple',40]\n",
    "i1=l1.index('Apple')\n",
    "l2=l1.index('Apple',i1+1)\n",
    "l1.pop(l2)\n",
    "l1"
   ]
  },
  {
   "cell_type": "code",
   "execution_count": 42,
   "id": "6a80f2be-7050-4cf3-bb06-f7fbbc0c5a7c",
   "metadata": {},
   "outputs": [
    {
     "data": {
      "text/plain": [
       "[1, 2, 3, 10, 20, 40]"
      ]
     },
     "execution_count": 42,
     "metadata": {},
     "output_type": "execute_result"
    }
   ],
   "source": [
    "#both the apples\n",
    "l1=[1,2,3,'Apple',10,20,'Apple',40]\n",
    "i1=l1.index('Apple')\n",
    "l1.pop(i1)\n",
    "l2=l1.index('Apple')\n",
    "l1.pop(l2)\n",
    "l1"
   ]
  },
  {
   "cell_type": "code",
   "execution_count": 44,
   "id": "bb74183d-3ddf-4100-8784-fb9c47d717a2",
   "metadata": {},
   "outputs": [
    {
     "ename": "ValueError",
     "evalue": "'Apple' is not in list",
     "output_type": "error",
     "traceback": [
      "\u001b[1;31m---------------------------------------------------------------------------\u001b[0m",
      "\u001b[1;31mValueError\u001b[0m                                Traceback (most recent call last)",
      "Cell \u001b[1;32mIn[44], line 3\u001b[0m\n\u001b[0;32m      1\u001b[0m l1\u001b[38;5;241m=\u001b[39m[\u001b[38;5;241m1\u001b[39m,\u001b[38;5;241m2\u001b[39m,\u001b[38;5;241m3\u001b[39m,\u001b[38;5;124m'\u001b[39m\u001b[38;5;124mApple\u001b[39m\u001b[38;5;124m'\u001b[39m,\u001b[38;5;241m10\u001b[39m,\u001b[38;5;241m20\u001b[39m,\u001b[38;5;124m'\u001b[39m\u001b[38;5;124mApple\u001b[39m\u001b[38;5;124m'\u001b[39m,\u001b[38;5;241m40\u001b[39m]\n\u001b[0;32m      2\u001b[0m \u001b[38;5;28;01mfor\u001b[39;00m i \u001b[38;5;129;01min\u001b[39;00m l1:\n\u001b[1;32m----> 3\u001b[0m     i1\u001b[38;5;241m=\u001b[39ml1\u001b[38;5;241m.\u001b[39mindex(\u001b[38;5;124m'\u001b[39m\u001b[38;5;124mApple\u001b[39m\u001b[38;5;124m'\u001b[39m)\n\u001b[0;32m      4\u001b[0m     l1\u001b[38;5;241m.\u001b[39mpop(i1)\n\u001b[0;32m      5\u001b[0m l1\n",
      "\u001b[1;31mValueError\u001b[0m: 'Apple' is not in list"
     ]
    }
   ],
   "source": [
    "l1=[1,2,3,'Apple',10,20,'Apple',40]\n",
    "for i in l1:\n",
    "    i1=l1.index('Apple')\n",
    "    l1.pop(i1)\n",
    "l1"
   ]
  },
  {
   "cell_type": "code",
   "execution_count": 59,
   "id": "2c202f84-cf94-4961-b193-a8c0bbfa2e35",
   "metadata": {},
   "outputs": [
    {
     "data": {
      "text/plain": [
       "'hai how are you im good thank you'"
      ]
     },
     "execution_count": 59,
     "metadata": {},
     "output_type": "execute_result"
    }
   ],
   "source": [
    "str='hai apple how are you apple im good apple thank you apple'\n",
    "word=str.split(' ')\n",
    "count=word.count('apple')\n",
    "for i in range(count):\n",
    "    i1=word.index('apple')\n",
    "    word.pop(i1)\n",
    "' '.join(word)"
   ]
  },
  {
   "cell_type": "markdown",
   "id": "68c07b69-f73f-4a89-b09c-2274c43f4f63",
   "metadata": {},
   "source": [
    "**remove**\n",
    "- popwill take the index\n",
    "\n",
    "- remove will take the value\n",
    "- remove will delete the first occurance of the element"
   ]
  },
  {
   "cell_type": "code",
   "execution_count": 62,
   "id": "acf2194f-506e-4264-8990-53169614a66b",
   "metadata": {},
   "outputs": [
    {
     "data": {
      "text/plain": [
       "[1, 2, 3, 10, 20, 40]"
      ]
     },
     "execution_count": 62,
     "metadata": {},
     "output_type": "execute_result"
    }
   ],
   "source": [
    "l1=[1,2,3,'Apple',10,20,'Apple',40]\n",
    "l1.remove('Apple')\n",
    "l1\n",
    "l1.remove('Apple')\n",
    "l1"
   ]
  },
  {
   "cell_type": "code",
   "execution_count": 64,
   "id": "c894c4df-eddd-4eb8-b9a2-d01e42989449",
   "metadata": {},
   "outputs": [
    {
     "data": {
      "text/plain": [
       "'hai how are you im good thank you'"
      ]
     },
     "execution_count": 64,
     "metadata": {},
     "output_type": "execute_result"
    }
   ],
   "source": [
    "str='hai apple how are you apple im good apple thank you apple'\n",
    "word=str.split(' ')\n",
    "count=word.count('apple')\n",
    "for i in range(count):\n",
    "    word.remove('apple')\n",
    "' '.join(word)"
   ]
  },
  {
   "cell_type": "markdown",
   "id": "934f1b01-92f0-4576-b240-76d9576a03bf",
   "metadata": {},
   "source": [
    "**del**"
   ]
  },
  {
   "cell_type": "code",
   "execution_count": 65,
   "id": "17b60efd-5990-4d87-85f2-2c44f5693176",
   "metadata": {},
   "outputs": [
    {
     "ename": "SyntaxError",
     "evalue": "invalid syntax (3180383652.py, line 2)",
     "output_type": "error",
     "traceback": [
      "\u001b[1;36m  Cell \u001b[1;32mIn[65], line 2\u001b[1;36m\u001b[0m\n\u001b[1;33m    l1.del(3)\u001b[0m\n\u001b[1;37m       ^\u001b[0m\n\u001b[1;31mSyntaxError\u001b[0m\u001b[1;31m:\u001b[0m invalid syntax\n"
     ]
    }
   ],
   "source": [
    "l1=[1,2,3,'Apple',10,20,'Apple',40]\n",
    "l1.del()"
   ]
  },
  {
   "cell_type": "markdown",
   "id": "43535816-a631-4c62-a2ec-53f79840d3f9",
   "metadata": {},
   "source": [
    "- append / extend /insert/ concatenation\n",
    "\n",
    "- pop/ remove/del\n",
    "  \n",
    "- sort/sorted\n",
    "  \n",
    "- reverse/reversed\n",
    "  \n",
    "- count and index"
   ]
  },
  {
   "cell_type": "code",
   "execution_count": null,
   "id": "f6e927d0-5548-4e53-9e17-4c002b3971b2",
   "metadata": {},
   "outputs": [],
   "source": []
  }
 ],
 "metadata": {
  "kernelspec": {
   "display_name": "Python 3 (ipykernel)",
   "language": "python",
   "name": "python3"
  },
  "language_info": {
   "codemirror_mode": {
    "name": "ipython",
    "version": 3
   },
   "file_extension": ".py",
   "mimetype": "text/x-python",
   "name": "python",
   "nbconvert_exporter": "python",
   "pygments_lexer": "ipython3",
   "version": "3.11.7"
  }
 },
 "nbformat": 4,
 "nbformat_minor": 5
}
