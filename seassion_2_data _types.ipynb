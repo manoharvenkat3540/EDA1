{
 "cells": [
  {
   "cell_type": "markdown",
   "id": "14b40e9b-6ba6-4996-8f13-fed3ba8ca937",
   "metadata": {},
   "source": [
    "**Data types**\n",
    "- In python type declare not required\n",
    "- python will automatically takes based on provided value \n",
    "- we have many data types\n",
    "- The main data types are\n",
    "  - integer\n",
    "  - float\n",
    "  - boolean\n",
    "  - string\n",
    "  - list\n",
    "  - dictionary\n",
    "  - tuple\n",
    "  - complex"
   ]
  },
  {
   "cell_type": "markdown",
   "id": "b36b9ceb-d285-405c-881d-453791763286",
   "metadata": {},
   "source": [
    "**integer**"
   ]
  },
  {
   "cell_type": "code",
   "execution_count": 1,
   "id": "534c6014-41bc-4bc3-9320-0d12a5797ef2",
   "metadata": {},
   "outputs": [
    {
     "data": {
      "text/plain": [
       "int"
      ]
     },
     "execution_count": 1,
     "metadata": {},
     "output_type": "execute_result"
    }
   ],
   "source": [
    "n=100\n",
    "type(n)"
   ]
  },
  {
   "cell_type": "markdown",
   "id": "641ab6cc-1c82-4de4-b643-ec844b82f0c0",
   "metadata": {},
   "source": [
    "- **based on integer datatype**\n",
    "    - binary representation\n",
    "    - octa representation\n",
    "    - hexa representation"
   ]
  },
  {
   "cell_type": "markdown",
   "id": "eb61c486-4439-4879-8f89-15a58b1cea89",
   "metadata": {},
   "source": [
    "**binary representation**"
   ]
  },
  {
   "cell_type": "markdown",
   "id": "76989977-61ee-4966-acf7-43ba4dc6e567",
   "metadata": {},
   "source": [
    "- bi means 2(0,1)\n",
    "- b means binary it can be ((b),(B))\n",
    "- so it requires 2 digits\n",
    "- Generally we have 0 1 2 3 4 5 6 7 8 9\n",
    "- so it will repersent with 0 and 1\n",
    "- representation is 0b10,0b01111\n",
    "- wrong representation is 0b102, 0b007"
   ]
  },
  {
   "cell_type": "code",
   "execution_count": 8,
   "id": "a3651490-7f10-4824-ad83-ec869fc3dd3d",
   "metadata": {},
   "outputs": [
    {
     "ename": "SyntaxError",
     "evalue": "invalid syntax (4089864671.py, line 1)",
     "output_type": "error",
     "traceback": [
      "\u001b[1;36m  Cell \u001b[1;32mIn[8], line 1\u001b[1;36m\u001b[0m\n\u001b[1;33m    **examples:**\u001b[0m\n\u001b[1;37m    ^\u001b[0m\n\u001b[1;31mSyntaxError\u001b[0m\u001b[1;31m:\u001b[0m invalid syntax\n"
     ]
    }
   ],
   "source": [
    "**examples:**"
   ]
  },
  {
   "cell_type": "code",
   "execution_count": 4,
   "id": "0ef1f82a-fdee-4866-a960-3ddb49031dde",
   "metadata": {},
   "outputs": [
    {
     "data": {
      "text/plain": [
       "5"
      ]
     },
     "execution_count": 4,
     "metadata": {},
     "output_type": "execute_result"
    }
   ],
   "source": [
    "0b101"
   ]
  },
  {
   "cell_type": "code",
   "execution_count": 5,
   "id": "d04e1c03-f8fb-4874-b39e-03db8bc33346",
   "metadata": {},
   "outputs": [
    {
     "data": {
      "text/plain": [
       "7"
      ]
     },
     "execution_count": 5,
     "metadata": {},
     "output_type": "execute_result"
    }
   ],
   "source": [
    "0b111"
   ]
  },
  {
   "cell_type": "code",
   "execution_count": 6,
   "id": "3f321124-a15e-4904-8d9a-0f25d1ef7d29",
   "metadata": {},
   "outputs": [
    {
     "data": {
      "text/plain": [
       "9"
      ]
     },
     "execution_count": 6,
     "metadata": {},
     "output_type": "execute_result"
    }
   ],
   "source": [
    "0b1001"
   ]
  },
  {
   "cell_type": "code",
   "execution_count": 1,
   "id": "3bc4aa29-33ca-44b8-bd42-8c186cac0425",
   "metadata": {},
   "outputs": [],
   "source": [
    "import os\n"
   ]
  },
  {
   "cell_type": "code",
   "execution_count": 2,
   "id": "a3b1d165-31b2-4add-a898-1d57d290194d",
   "metadata": {},
   "outputs": [
    {
     "data": {
      "text/plain": [
       "'C:\\\\Users\\\\INDIA\\\\Documents\\\\Naresh IT'"
      ]
     },
     "execution_count": 2,
     "metadata": {},
     "output_type": "execute_result"
    }
   ],
   "source": [
    "os.getcwd()\n",
    "#get current working directory\n",
    "#it will give the path\n",
    "#where our python file located\n"
   ]
  },
  {
   "cell_type": "code",
   "execution_count": 3,
   "id": "c11b2482-decb-43b8-8594-77cb1bf93fff",
   "metadata": {},
   "outputs": [
    {
     "data": {
      "text/plain": [
       "15"
      ]
     },
     "execution_count": 3,
     "metadata": {},
     "output_type": "execute_result"
    }
   ],
   "source": [
    "0b1111 #0 1 2 4 6 8 10...\n",
    "#0b2^32^22^12^0\n",
    "#008421"
   ]
  },
  {
   "cell_type": "code",
   "execution_count": null,
   "id": "be266778-7e2e-4b65-8a84-ee7642b5af6f",
   "metadata": {},
   "outputs": [],
   "source": [
    "8    4 2 1   num\n",
    "\n",
    "0    0 0 0    0\n",
    "0    0 0 1    1\n",
    "0    0 1 0    2\n",
    "0    0 1 1    3\n",
    "0    1 0 0    4\n",
    "0    1 0 1    5\n",
    "0    1 1 0    6\n",
    "0    1 1 1    7\n",
    "1    0 0 0    8\n",
    "1    0 0 1    9\n",
    "1    0 1 0    10\n",
    "1    0 1 1    11\n",
    "1    1 0 0    12\n",
    "1    1 0 1    13\n",
    "1    1 1 0    14\n",
    "1    1 1 1    15"
   ]
  },
  {
   "cell_type": "code",
   "execution_count": 4,
   "id": "d7670777-2a7c-45ad-8d2f-3dcd36dd4a20",
   "metadata": {},
   "outputs": [
    {
     "data": {
      "text/plain": [
       "29"
      ]
     },
     "execution_count": 4,
     "metadata": {},
     "output_type": "execute_result"
    }
   ],
   "source": [
    "0b11101"
   ]
  },
  {
   "cell_type": "code",
   "execution_count": 5,
   "id": "169e1385-4176-438b-b373-901f75b99acb",
   "metadata": {},
   "outputs": [
    {
     "data": {
      "text/plain": [
       "59"
      ]
     },
     "execution_count": 5,
     "metadata": {},
     "output_type": "execute_result"
    }
   ],
   "source": [
    "0b111011\n",
    "# 64+32+16+2+1"
   ]
  },
  {
   "cell_type": "markdown",
   "id": "00b8d00b-cc55-48bf-9529-1e385acf90a2",
   "metadata": {},
   "source": [
    "**Octal**"
   ]
  },
  {
   "cell_type": "markdown",
   "id": "59733198-8780-4210-a276-bba9dbc46a71",
   "metadata": {},
   "source": [
    "- ocatal means 8 \n",
    "- so it requires 8 digits\n",
    "- generally we have 0 1 2 3 4 5 6 7 8 9  \n",
    "- so it will represents with only 0-9  \n",
    "- representation is 0o123,0o012345,0o7654321 \n",
    "- wromg representation 0o108,009123"
   ]
  },
  {
   "cell_type": "code",
   "execution_count": 9,
   "id": "73e03296-990d-443e-a294-faa615e73088",
   "metadata": {},
   "outputs": [
    {
     "data": {
      "text/plain": [
       "83"
      ]
     },
     "execution_count": 9,
     "metadata": {},
     "output_type": "execute_result"
    }
   ],
   "source": [
    "0o123 #here 8^2+8^1+8^0\n",
    "            "
   ]
  },
  {
   "cell_type": "code",
   "execution_count": 10,
   "id": "aea00771-d3e9-431d-aadf-4eebe6dc4554",
   "metadata": {},
   "outputs": [
    {
     "data": {
      "text/plain": [
       "668"
      ]
     },
     "execution_count": 10,
     "metadata": {},
     "output_type": "execute_result"
    }
   ],
   "source": [
    "0o1234"
   ]
  },
  {
   "cell_type": "code",
   "execution_count": 11,
   "id": "7909471e-49a8-4dc8-b1ee-9d8aeee11287",
   "metadata": {},
   "outputs": [
    {
     "ename": "SyntaxError",
     "evalue": "invalid digit '8' in octal literal (1832353824.py, line 1)",
     "output_type": "error",
     "traceback": [
      "\u001b[1;36m  Cell \u001b[1;32mIn[11], line 1\u001b[1;36m\u001b[0m\n\u001b[1;33m    0o108\u001b[0m\n\u001b[1;37m        ^\u001b[0m\n\u001b[1;31mSyntaxError\u001b[0m\u001b[1;31m:\u001b[0m invalid digit '8' in octal literal\n"
     ]
    }
   ],
   "source": [
    "0o108"
   ]
  },
  {
   "cell_type": "code",
   "execution_count": null,
   "id": "9ec515db-8ab5-4b54-8fa2-566873107c77",
   "metadata": {},
   "outputs": [],
   "source": []
  },
  {
   "cell_type": "markdown",
   "id": "ad034520-62fc-4f19-beb4-81f60aa6db52",
   "metadata": {},
   "source": [
    "**Hexa**"
   ]
  },
  {
   "cell_type": "code",
   "execution_count": null,
   "id": "e9c7abdb-1e81-4032-9720-2434bd5e2a83",
   "metadata": {},
   "outputs": [],
   "source": [
    "- hexa means 16\n",
    "- so it requires 16 digits\n",
    "- generally we have 0 1 2 3 4 5 6 7 8 9  A(10) B(11) C(12) D(13) E(14) F(15)\n",
    "- so it will represents with only 0-9  A-F\n",
    "- representation is  0X1223,0Xabc\n",
    "- wromg representation 0X108,0X09123\n",
    "- wrong representation is 0XGH,OABCDEGH"
   ]
  },
  {
   "cell_type": "code",
   "execution_count": 16,
   "id": "cf3c9828-cd05-4225-8055-0eae9124f62b",
   "metadata": {},
   "outputs": [
    {
     "data": {
      "text/plain": [
       "2748"
      ]
     },
     "execution_count": 16,
     "metadata": {},
     "output_type": "execute_result"
    }
   ],
   "source": [
    "0Xabc"
   ]
  },
  {
   "cell_type": "markdown",
   "id": "9c5bc3e7-8579-43a8-a2d8-02c26bea68c9",
   "metadata": {},
   "source": [
    "**FLOAT**"
   ]
  },
  {
   "cell_type": "code",
   "execution_count": 18,
   "id": "b71928ea-d392-4238-a765-bb82f42da020",
   "metadata": {},
   "outputs": [
    {
     "data": {
      "text/plain": [
       "float"
      ]
     },
     "execution_count": 18,
     "metadata": {},
     "output_type": "execute_result"
    }
   ],
   "source": [
    "n1=35.40\n",
    "type(n1)"
   ]
  },
  {
   "cell_type": "code",
   "execution_count": 20,
   "id": "d7b6aec5-d795-403f-83c7-a0dccd4aed12",
   "metadata": {},
   "outputs": [
    {
     "data": {
      "text/plain": [
       "(10.0, 100.0, 1000.0, 10000.0)"
      ]
     },
     "execution_count": 20,
     "metadata": {},
     "output_type": "execute_result"
    }
   ],
   "source": [
    "1e1,1e2,1e3,1e4\n",
    "#kep=k*10^p"
   ]
  },
  {
   "cell_type": "code",
   "execution_count": 22,
   "id": "b5b22423-e341-4440-9dfa-f2a5e61c6c11",
   "metadata": {},
   "outputs": [
    {
     "data": {
      "text/plain": [
       "24000.0"
      ]
     },
     "execution_count": 22,
     "metadata": {},
     "output_type": "execute_result"
    }
   ],
   "source": [
    "24e3\n",
    "#24*10^3"
   ]
  },
  {
   "cell_type": "markdown",
   "id": "33442962-478c-443f-acda-3f6ee892cc7c",
   "metadata": {},
   "source": [
    "1e+1,1e+2,1e+3,1e+4"
   ]
  },
  {
   "cell_type": "code",
   "execution_count": 23,
   "id": "cb224e87-98eb-4c86-986c-b817e62a703d",
   "metadata": {},
   "outputs": [
    {
     "data": {
      "text/plain": [
       "0.024"
      ]
     },
     "execution_count": 23,
     "metadata": {},
     "output_type": "execute_result"
    }
   ],
   "source": [
    "24e-3"
   ]
  },
  {
   "cell_type": "markdown",
   "id": "730b1662-810e-41cf-a275-91c3d876aff1",
   "metadata": {},
   "source": [
    "- positive sign means multiply\n",
    "- negative means devide"
   ]
  },
  {
   "cell_type": "markdown",
   "id": "daac8a83-4cd7-48a2-8edf-68370e736379",
   "metadata": {},
   "source": [
    "**strings**"
   ]
  },
  {
   "cell_type": "markdown",
   "id": "5294e13b-2e82-485c-ba36-c3ea9ab4ebaf",
   "metadata": {},
   "source": [
    "- strings are used to represent the english characters generally\n",
    "- strings will represent in\n",
    "    - single quotes\n",
    "    - double quotes\n",
    "    - triple quotes"
   ]
  },
  {
   "cell_type": "code",
   "execution_count": 24,
   "id": "fb5887fa-c206-456b-b994-1b5669771004",
   "metadata": {},
   "outputs": [
    {
     "data": {
      "text/plain": [
       "str"
      ]
     },
     "execution_count": 24,
     "metadata": {},
     "output_type": "execute_result"
    }
   ],
   "source": [
    "name='python'\n",
    "type(name)"
   ]
  },
  {
   "cell_type": "code",
   "execution_count": 25,
   "id": "1ff90751-0ddf-43b8-9535-69de657fcbe8",
   "metadata": {},
   "outputs": [
    {
     "data": {
      "text/plain": [
       "str"
      ]
     },
     "execution_count": 25,
     "metadata": {},
     "output_type": "execute_result"
    }
   ],
   "source": [
    "name1=\"manu\"\n",
    "type(name1)\n"
   ]
  },
  {
   "cell_type": "code",
   "execution_count": 26,
   "id": "ea82bb2c-c6f6-41b7-a77f-8b58efdd1d7e",
   "metadata": {},
   "outputs": [],
   "source": [
    "name='python'\n",
    "name1=\"python\""
   ]
  },
  {
   "cell_type": "code",
   "execution_count": 27,
   "id": "cb54ae79-1c76-4cb0-9086-5d2a741ed26a",
   "metadata": {},
   "outputs": [
    {
     "data": {
      "text/plain": [
       "'python'"
      ]
     },
     "execution_count": 27,
     "metadata": {},
     "output_type": "execute_result"
    }
   ],
   "source": [
    "name"
   ]
  },
  {
   "cell_type": "markdown",
   "id": "9a8b5c1d-86ca-44cf-9f4d-af5ab4475b7a",
   "metadata": {},
   "source": [
    "- output always in single quotes\n",
    "- when ever we use print statement quotes will not visible"
   ]
  },
  {
   "cell_type": "code",
   "execution_count": 29,
   "id": "184e4de7-10ef-45ad-a19c-3e4f529f7049",
   "metadata": {},
   "outputs": [
    {
     "name": "stdout",
     "output_type": "stream",
     "text": [
      "python\n"
     ]
    }
   ],
   "source": [
    "print(name)"
   ]
  },
  {
   "cell_type": "code",
   "execution_count": 32,
   "id": "6543c386-4f26-4119-85a1-2ed9d66d3fbe",
   "metadata": {},
   "outputs": [
    {
     "name": "stdout",
     "output_type": "stream",
     "text": [
      "i like \"python\"\n"
     ]
    }
   ],
   "source": [
    "name='i like \"python\"'\n",
    "print(name)"
   ]
  },
  {
   "cell_type": "code",
   "execution_count": 33,
   "id": "e9e74927-37ca-430c-9c39-c6074d1d9857",
   "metadata": {},
   "outputs": [
    {
     "name": "stdout",
     "output_type": "stream",
     "text": [
      "i like 'python'\n"
     ]
    }
   ],
   "source": [
    "name=\"i like 'python'\"\n",
    "print(name)"
   ]
  },
  {
   "cell_type": "markdown",
   "id": "90201cfe-1e1c-405b-ba2a-a020863680d4",
   "metadata": {},
   "source": [
    "- entire string in double quotes the highlitedte  word in single quotes vice versa"
   ]
  },
  {
   "cell_type": "markdown",
   "id": "35da6771-d931-443d-bd73-335e57ce061f",
   "metadata": {},
   "source": [
    "***Triple qutoes***\n",
    "\n",
    "- Triple quotes is not used for coading\n",
    "\n",
    "- triple quotes in order the information in jupyter notebook we will markdown\n",
    "- in vscode or pycharm there is no markdown option\n",
    "- that why the world stsrt used to write the information in triple quotes\n",
    "- this entire process is called **DOC STRING**"
   ]
  },
  {
   "cell_type": "code",
   "execution_count": 2,
   "id": "9a9bd83a-d754-410a-b0f2-3ce2ba0539e8",
   "metadata": {},
   "outputs": [
    {
     "data": {
      "text/plain": [
       "'\\nHELLO\\nIM WRITING PYTHON CODE\\nTHIS PYTHON\\n'"
      ]
     },
     "execution_count": 2,
     "metadata": {},
     "output_type": "execute_result"
    }
   ],
   "source": [
    "\"\"\"\n",
    "HELLO\n",
    "IM WRITING PYTHON CODE\n",
    "THIS PYTHON\n",
    "\"\"\""
   ]
  },
  {
   "cell_type": "markdown",
   "id": "c529798c-30cc-47c0-b258-297b30250277",
   "metadata": {},
   "source": [
    "**BOOLEAN**"
   ]
  },
  {
   "cell_type": "code",
   "execution_count": 4,
   "id": "3dfb90b0-520e-4534-831e-2b4f47c2032f",
   "metadata": {},
   "outputs": [
    {
     "data": {
      "text/plain": [
       "bool"
      ]
     },
     "execution_count": 4,
     "metadata": {},
     "output_type": "execute_result"
    }
   ],
   "source": [
    "value=True\n",
    "type(value)"
   ]
  },
  {
   "cell_type": "code",
   "execution_count": 5,
   "id": "4308f685-be2a-43d2-bf6a-9a0b50ef447c",
   "metadata": {},
   "outputs": [
    {
     "data": {
      "text/plain": [
       "bool"
      ]
     },
     "execution_count": 5,
     "metadata": {},
     "output_type": "execute_result"
    }
   ],
   "source": [
    "value1=False\n",
    "type(value)"
   ]
  },
  {
   "cell_type": "code",
   "execution_count": 6,
   "id": "7b7fe83e-4b8c-4d7d-a03e-981d9457e577",
   "metadata": {},
   "outputs": [],
   "source": [
    "true=\"True\"\n",
    "false=False\n",
    "\n",
    "#true and false are variables\n",
    "#type true is string\n",
    "#type false is boolean"
   ]
  },
  {
   "cell_type": "code",
   "execution_count": null,
   "id": "ee9d6884-2978-4d15-8b6d-9407ecf1ce2c",
   "metadata": {},
   "outputs": [],
   "source": []
  }
 ],
 "metadata": {
  "kernelspec": {
   "display_name": "Python 3 (ipykernel)",
   "language": "python",
   "name": "python3"
  },
  "language_info": {
   "codemirror_mode": {
    "name": "ipython",
    "version": 3
   },
   "file_extension": ".py",
   "mimetype": "text/x-python",
   "name": "python",
   "nbconvert_exporter": "python",
   "pygments_lexer": "ipython3",
   "version": "3.11.7"
  }
 },
 "nbformat": 4,
 "nbformat_minor": 5
}
