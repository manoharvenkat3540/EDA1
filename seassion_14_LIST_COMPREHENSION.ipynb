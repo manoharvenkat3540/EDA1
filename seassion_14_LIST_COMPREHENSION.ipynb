{
 "cells": [
  {
   "cell_type": "markdown",
   "id": "e69fdda1-6d71-489c-8959-fe909ef184e2",
   "metadata": {},
   "source": [
    "- we can store the output values by using append operations\n",
    "\n",
    "- we are taking empty list\n",
    "  \n",
    "- we are iterating elements from a given llist\n",
    "\n",
    "- the result we are appending in new list"
   ]
  },
  {
   "cell_type": "code",
   "execution_count": null,
   "id": "491852f9-a1fd-44bf-8860-af11c583f55d",
   "metadata": {},
   "outputs": [],
   "source": [
    "square_list=[]\n",
    "for i in range(10):\n",
    "    square_list.append(i*i)\n",
    "square_list"
   ]
  },
  {
   "cell_type": "markdown",
   "id": "0c2ded6c-2d1b-455b-8deb-f590bfb5a1de",
   "metadata": {},
   "source": [
    "- there are almost 3 lines are in the process\n",
    "\n",
    "- The three lines we can make into a single line\n",
    "\n",
    "- This is called a **LIST COMPREHENSION**"
   ]
  },
  {
   "cell_type": "markdown",
   "id": "ea251911-7a88-4091-bd9c-198962a978a6",
   "metadata": {},
   "source": [
    "$pattern-1$"
   ]
  },
  {
   "cell_type": "code",
   "execution_count": null,
   "id": "3ec0504f-eacf-4af8-8595-a3276231998f",
   "metadata": {},
   "outputs": [],
   "source": [
    "#syntax\n",
    "#[<output> and <forloop>]\n"
   ]
  },
  {
   "cell_type": "code",
   "execution_count": null,
   "id": "d3e2481c-f5ca-4483-b3d6-4b8560f81a76",
   "metadata": {},
   "outputs": [],
   "source": [
    "square_list=[]\n",
    "for i in range(10):\n",
    "    square_list.append(i*i)\n",
    "square_list\n",
    "\n",
    "#q1) what is the output ? i*i\n",
    "#Q2) what is ouput list name? square_list\n",
    "#Q3) what is the for loop ? for i in range(10)\n",
    "##[<output> and <forloop>]\n",
    "sq_list=[i*i for i in range(10)]"
   ]
  },
  {
   "cell_type": "code",
   "execution_count": null,
   "id": "5d1f5381-606b-4154-b2cb-09de20057b46",
   "metadata": {},
   "outputs": [],
   "source": [
    "#Q2) l1=['hyd','mumbai','chennai','blr']\n",
    "#   upper_list=['Hyd','Mumbai','Chennai','Blr']\n",
    "l1=['hyd','mumbai','chennai','blr']\n",
    "upper_list=[]\n",
    "for i in l1:\n",
    "    upper_list.append(i.upper())\n",
    "\n",
    "upper_list"
   ]
  },
  {
   "cell_type": "code",
   "execution_count": null,
   "id": "c0629590-70b6-407d-bb75-04846fbfe837",
   "metadata": {},
   "outputs": [],
   "source": [
    "l1=['hyd','mumbai','chennai','blr']\n",
    "upper_list=[i.upper() for i in l1]\n",
    "upper_list"
   ]
  },
  {
   "cell_type": "code",
   "execution_count": null,
   "id": "e5e51652-f7b4-41ce-872e-9f9a2895c3c3",
   "metadata": {},
   "outputs": [],
   "source": [
    "#Q3) l1=['Hyd','Mumbai','Chennai','Blr']\n",
    "#  lower_list=['hyd','mumbai','chennai','blr']\n",
    "\n",
    "l1=['Hyd','Mumbai','Chennai','Blr']\n",
    "lower_list=[]\n",
    "for i in l1:\n",
    "    lower_list.append(i.lower())\n",
    "\n",
    "lower_list"
   ]
  },
  {
   "cell_type": "code",
   "execution_count": null,
   "id": "095f0f81-90a4-4f66-b1ae-5cdc97b41bbe",
   "metadata": {},
   "outputs": [],
   "source": [
    "l1=['Hyd','Mumbai','Chennai','Blr']\n",
    "lower_list=[i.lower() for i in l1]\n",
    "lower_list"
   ]
  },
  {
   "cell_type": "code",
   "execution_count": 8,
   "id": "a363efa0-35d3-4382-afb5-144518efbf67",
   "metadata": {},
   "outputs": [
    {
     "ename": "TypeError",
     "evalue": "must be str, not list",
     "output_type": "error",
     "traceback": [
      "\u001b[1;31m---------------------------------------------------------------------------\u001b[0m",
      "\u001b[1;31mTypeError\u001b[0m                                 Traceback (most recent call last)",
      "Cell \u001b[1;32mIn[8], line 5\u001b[0m\n\u001b[0;32m      3\u001b[0m l2\u001b[38;5;241m=\u001b[39m[\u001b[38;5;124m'\u001b[39m\u001b[38;5;124mHyd\u001b[39m\u001b[38;5;124m'\u001b[39m,\u001b[38;5;124m'\u001b[39m\u001b[38;5;124mMumbai\u001b[39m\u001b[38;5;124m'\u001b[39m,\u001b[38;5;124m'\u001b[39m\u001b[38;5;124mChennai\u001b[39m\u001b[38;5;124m'\u001b[39m,\u001b[38;5;124m'\u001b[39m\u001b[38;5;124mBlr\u001b[39m\u001b[38;5;124m'\u001b[39m]\n\u001b[0;32m      4\u001b[0m l3\u001b[38;5;241m=\u001b[39m[]\n\u001b[1;32m----> 5\u001b[0m \u001b[38;5;28;01mfor\u001b[39;00m i \u001b[38;5;129;01min\u001b[39;00m l2:l3\u001b[38;5;241m.\u001b[39mappend(i\u001b[38;5;241m.\u001b[39mindex(l2))\n\u001b[0;32m      6\u001b[0m l3\n",
      "\u001b[1;31mTypeError\u001b[0m: must be str, not list"
     ]
    }
   ],
   "source": [
    "#Q4) l2=['Hyd','Mumbai','Chennai','Blr']\n",
    "#sum of the indexes of all elements\n",
    "l2=['Hyd','Mumbai','Chennai','Blr']\n",
    "l3=[]\n",
    "for i in l2:\n",
    "    $l3.append(i.index(l2))\n",
    "l3"
   ]
  },
  {
   "cell_type": "code",
   "execution_count": 3,
   "id": "1a8668d0-2855-47b2-85cd-14c7f8cdfd72",
   "metadata": {},
   "outputs": [
    {
     "data": {
      "text/plain": [
       "6"
      ]
     },
     "execution_count": 3,
     "metadata": {},
     "output_type": "execute_result"
    }
   ],
   "source": [
    "l2=['Hyd','Mumbai','Chennai','Blr']\n",
    "idx_list=[l2.index(i) for i in l2]\n",
    "sum(idx_list)"
   ]
  },
  {
   "cell_type": "markdown",
   "id": "747e5b08-950c-4a15-90ec-2c196ff6dcee",
   "metadata": {},
   "source": [
    "- making empty list will not work in list comprehension\n",
    "\n",
    "- initialization will not works in list comprehension\n",
    "\n",
    "- assignment operations also not works"
   ]
  },
  {
   "cell_type": "markdown",
   "id": "7ed913dd-3d03-4538-a404-0e8ce653dfeb",
   "metadata": {},
   "source": [
    "$pattern-2$\n",
    "\n",
    "- **for loop and if "
   ]
  },
  {
   "cell_type": "code",
   "execution_count": null,
   "id": "ea54d049-721d-491b-a3f8-93942d30acb4",
   "metadata": {},
   "outputs": [],
   "source": [
    "#syntav\n",
    "\n",
    "[<output> <for loop> <if condition>]"
   ]
  },
  {
   "cell_type": "code",
   "execution_count": 11,
   "id": "0175c52c-4c30-4775-8c20-7081a50f1817",
   "metadata": {},
   "outputs": [
    {
     "name": "stdout",
     "output_type": "stream",
     "text": [
      "Mumbai\n",
      "Chennai\n"
     ]
    }
   ],
   "source": [
    "#Q5) l1=['Hyd','Mumbai','Chennai','Blr']\n",
    "#ans=['Mumbai','Chennai']\n",
    "#we want elements which are len of element >4\n",
    "\n",
    "l1=['hyd','Mumbai','Chennai','Blr']\n",
    "for i in l1:\n",
    "    if len(i)>4:\n",
    "        print(i)"
   ]
  },
  {
   "cell_type": "code",
   "execution_count": 13,
   "id": "fe088776-8f93-489d-916a-a70d0fb765fc",
   "metadata": {},
   "outputs": [
    {
     "data": {
      "text/plain": [
       "['Mumbai', 'Chennai']"
      ]
     },
     "execution_count": 13,
     "metadata": {},
     "output_type": "execute_result"
    }
   ],
   "source": [
    "l1=['hyd','Mumbai','Chennai','Blr']\n",
    "op=[i for i in l1 if len(i)>4]\n",
    "op"
   ]
  },
  {
   "cell_type": "code",
   "execution_count": 14,
   "id": "0ec43d4c-ef23-45bd-8ece-cc545b6234bc",
   "metadata": {},
   "outputs": [
    {
     "name": "stdout",
     "output_type": "stream",
     "text": [
      "Mum#bai\n",
      "Chen#nai\n"
     ]
    }
   ],
   "source": [
    "#Q3)l1=['hyd','Mum#bai','Chen#nai','Blr']\n",
    "#ans_#=['Mum#bai'',Chen#nai']  \n",
    "#  ans_without_#=['Hyd'','blr']\n",
    "#  we want lements which are having '#'\n",
    "\n",
    "l1=['hyd','Mum#bai','Chen#nai','Blr']\n",
    "for i in l1:\n",
    "    if '#' in i:\n",
    "        print(i)"
   ]
  },
  {
   "cell_type": "code",
   "execution_count": 15,
   "id": "9c488c23-cac8-4e06-a8ca-2e714005ad9d",
   "metadata": {},
   "outputs": [
    {
     "data": {
      "text/plain": [
       "['Mum#bai', 'Chen#nai']"
      ]
     },
     "execution_count": 15,
     "metadata": {},
     "output_type": "execute_result"
    }
   ],
   "source": [
    "l1=['hyd','Mum#bai','Chen#nai','Blr']\n",
    "mp=[i for i in l1 if '#' in i]\n",
    "mp"
   ]
  },
  {
   "cell_type": "code",
   "execution_count": 24,
   "id": "023e1ec8-01c4-44ce-81ef-8582af503f53",
   "metadata": {},
   "outputs": [
    {
     "name": "stdout",
     "output_type": "stream",
     "text": [
      "['Hyd', 'Mumbai']\n"
     ]
    }
   ],
   "source": [
    "# Q5)l1=['Hyd','Mumbai','chennai','blr']\n",
    "#  ans= ['Hyd','Mumbai']\n",
    "#  we want lements which are having first letter capital\n",
    "l1=['Hyd','Mumbai','chennai','blr']\n",
    "ans=[]\n",
    "for i in l1:\n",
    "   if i[0].isupper():\n",
    "       ans.append(i)\n",
    "print(ans)\n",
    "   "
   ]
  },
  {
   "cell_type": "code",
   "execution_count": 29,
   "id": "3fdb674c-dcea-413b-a65e-de7551149ce8",
   "metadata": {},
   "outputs": [
    {
     "data": {
      "text/plain": [
       "['Hyd', 'Mumbai']"
      ]
     },
     "execution_count": 29,
     "metadata": {},
     "output_type": "execute_result"
    }
   ],
   "source": [
    "l1=['Hyd','Mumbai','chennai','blr']\n",
    "op=[i for i in l1 if i[0].isupper()]\n",
    "op"
   ]
  },
  {
   "cell_type": "code",
   "execution_count": 32,
   "id": "f84b4458-9e96-4c3a-928c-566f78cf5be7",
   "metadata": {},
   "outputs": [
    {
     "data": {
      "text/plain": [
       "['Hyd', 'Mumbai', 'Chennai']"
      ]
     },
     "execution_count": 32,
     "metadata": {},
     "output_type": "execute_result"
    }
   ],
   "source": [
    "l1=['Hyd','Mumbai','Chennai','blr']\n",
    "mp=[i for i in l1 if i.istitle()]\n",
    "mp"
   ]
  },
  {
   "cell_type": "markdown",
   "id": "791dad8a-bc6d-4d49-8c49-a59ad34d1b1d",
   "metadata": {},
   "source": [
    "$pattern-3$\n",
    "\n",
    "\n",
    "\n",
    "**if-else**"
   ]
  },
  {
   "cell_type": "code",
   "execution_count": null,
   "id": "04920ee4-9ea3-4017-8d72-15fd338fe965",
   "metadata": {},
   "outputs": [],
   "source": [
    "[<ifoutput> <if> <else> <elseoutput> <for>]:"
   ]
  },
  {
   "cell_type": "markdown",
   "id": "62547915-dc15-49ca-853b-7924e14ec9f7",
   "metadata": {},
   "source": [
    "**even-odd**"
   ]
  },
  {
   "cell_type": "code",
   "execution_count": 7,
   "id": "07df7858-9faf-4f53-a873-3ce48af2ab6b",
   "metadata": {},
   "outputs": [
    {
     "data": {
      "text/plain": [
       "['odd:19']"
      ]
     },
     "execution_count": 7,
     "metadata": {},
     "output_type": "execute_result"
    }
   ],
   "source": [
    "even_list,odd_list=[],[]\n",
    "for i in range(1,20):\n",
    "    if i%2==0:\n",
    "        even_list.append(f\"even:{i}\")\n",
    "else:\n",
    "    odd_list.append(f\"odd:{i}\")\n",
    "\n",
    "even_list\n",
    "odd_list"
   ]
  },
  {
   "cell_type": "code",
   "execution_count": 8,
   "id": "bb4d652a-e07a-4b3f-a76e-f99880f0b47b",
   "metadata": {},
   "outputs": [
    {
     "data": {
      "text/plain": [
       "['even:2',\n",
       " 'even:4',\n",
       " 'even:6',\n",
       " 'even:8',\n",
       " 'even:10',\n",
       " 'even:12',\n",
       " 'even:14',\n",
       " 'even:16',\n",
       " 'even:18',\n",
       " 'odd:19']"
      ]
     },
     "execution_count": 8,
     "metadata": {},
     "output_type": "execute_result"
    }
   ],
   "source": [
    "op_list=[]\n",
    "for i in range(1,20):\n",
    "    if i%2==0:\n",
    "        op_list.append(f\"even:{i}\")\n",
    "else:\n",
    "    op_list.append(f\"odd:{i}\")\n",
    "\n",
    "op_list\n"
   ]
  },
  {
   "cell_type": "code",
   "execution_count": 9,
   "id": "90614ba6-5219-4c51-931f-c3e1c50e5c17",
   "metadata": {},
   "outputs": [
    {
     "data": {
      "text/plain": [
       "[['even:2',\n",
       "  'even:4',\n",
       "  'even:6',\n",
       "  'even:8',\n",
       "  'even:10',\n",
       "  'even:12',\n",
       "  'even:14',\n",
       "  'even:16',\n",
       "  'even:18',\n",
       "  'odd:19'],\n",
       " ['even:2',\n",
       "  'even:4',\n",
       "  'even:6',\n",
       "  'even:8',\n",
       "  'even:10',\n",
       "  'even:12',\n",
       "  'even:14',\n",
       "  'even:16',\n",
       "  'even:18',\n",
       "  'odd:19'],\n",
       " ['even:2',\n",
       "  'even:4',\n",
       "  'even:6',\n",
       "  'even:8',\n",
       "  'even:10',\n",
       "  'even:12',\n",
       "  'even:14',\n",
       "  'even:16',\n",
       "  'even:18',\n",
       "  'odd:19'],\n",
       " ['even:2',\n",
       "  'even:4',\n",
       "  'even:6',\n",
       "  'even:8',\n",
       "  'even:10',\n",
       "  'even:12',\n",
       "  'even:14',\n",
       "  'even:16',\n",
       "  'even:18',\n",
       "  'odd:19'],\n",
       " ['even:2',\n",
       "  'even:4',\n",
       "  'even:6',\n",
       "  'even:8',\n",
       "  'even:10',\n",
       "  'even:12',\n",
       "  'even:14',\n",
       "  'even:16',\n",
       "  'even:18',\n",
       "  'odd:19'],\n",
       " ['even:2',\n",
       "  'even:4',\n",
       "  'even:6',\n",
       "  'even:8',\n",
       "  'even:10',\n",
       "  'even:12',\n",
       "  'even:14',\n",
       "  'even:16',\n",
       "  'even:18',\n",
       "  'odd:19'],\n",
       " ['even:2',\n",
       "  'even:4',\n",
       "  'even:6',\n",
       "  'even:8',\n",
       "  'even:10',\n",
       "  'even:12',\n",
       "  'even:14',\n",
       "  'even:16',\n",
       "  'even:18',\n",
       "  'odd:19'],\n",
       " ['even:2',\n",
       "  'even:4',\n",
       "  'even:6',\n",
       "  'even:8',\n",
       "  'even:10',\n",
       "  'even:12',\n",
       "  'even:14',\n",
       "  'even:16',\n",
       "  'even:18',\n",
       "  'odd:19'],\n",
       " ['even:2',\n",
       "  'even:4',\n",
       "  'even:6',\n",
       "  'even:8',\n",
       "  'even:10',\n",
       "  'even:12',\n",
       "  'even:14',\n",
       "  'even:16',\n",
       "  'even:18',\n",
       "  'odd:19'],\n",
       " ['even:2',\n",
       "  'even:4',\n",
       "  'even:6',\n",
       "  'even:8',\n",
       "  'even:10',\n",
       "  'even:12',\n",
       "  'even:14',\n",
       "  'even:16',\n",
       "  'even:18',\n",
       "  'odd:19'],\n",
       " ['even:2',\n",
       "  'even:4',\n",
       "  'even:6',\n",
       "  'even:8',\n",
       "  'even:10',\n",
       "  'even:12',\n",
       "  'even:14',\n",
       "  'even:16',\n",
       "  'even:18',\n",
       "  'odd:19'],\n",
       " ['even:2',\n",
       "  'even:4',\n",
       "  'even:6',\n",
       "  'even:8',\n",
       "  'even:10',\n",
       "  'even:12',\n",
       "  'even:14',\n",
       "  'even:16',\n",
       "  'even:18',\n",
       "  'odd:19'],\n",
       " ['even:2',\n",
       "  'even:4',\n",
       "  'even:6',\n",
       "  'even:8',\n",
       "  'even:10',\n",
       "  'even:12',\n",
       "  'even:14',\n",
       "  'even:16',\n",
       "  'even:18',\n",
       "  'odd:19'],\n",
       " ['even:2',\n",
       "  'even:4',\n",
       "  'even:6',\n",
       "  'even:8',\n",
       "  'even:10',\n",
       "  'even:12',\n",
       "  'even:14',\n",
       "  'even:16',\n",
       "  'even:18',\n",
       "  'odd:19'],\n",
       " ['even:2',\n",
       "  'even:4',\n",
       "  'even:6',\n",
       "  'even:8',\n",
       "  'even:10',\n",
       "  'even:12',\n",
       "  'even:14',\n",
       "  'even:16',\n",
       "  'even:18',\n",
       "  'odd:19'],\n",
       " ['even:2',\n",
       "  'even:4',\n",
       "  'even:6',\n",
       "  'even:8',\n",
       "  'even:10',\n",
       "  'even:12',\n",
       "  'even:14',\n",
       "  'even:16',\n",
       "  'even:18',\n",
       "  'odd:19'],\n",
       " ['even:2',\n",
       "  'even:4',\n",
       "  'even:6',\n",
       "  'even:8',\n",
       "  'even:10',\n",
       "  'even:12',\n",
       "  'even:14',\n",
       "  'even:16',\n",
       "  'even:18',\n",
       "  'odd:19'],\n",
       " ['even:2',\n",
       "  'even:4',\n",
       "  'even:6',\n",
       "  'even:8',\n",
       "  'even:10',\n",
       "  'even:12',\n",
       "  'even:14',\n",
       "  'even:16',\n",
       "  'even:18',\n",
       "  'odd:19'],\n",
       " ['even:2',\n",
       "  'even:4',\n",
       "  'even:6',\n",
       "  'even:8',\n",
       "  'even:10',\n",
       "  'even:12',\n",
       "  'even:14',\n",
       "  'even:16',\n",
       "  'even:18',\n",
       "  'odd:19']]"
      ]
     },
     "execution_count": 9,
     "metadata": {},
     "output_type": "execute_result"
    }
   ],
   "source": [
    "\n",
    "[op_list if i%2==0 else op_list for i in range(1,20)]"
   ]
  },
  {
   "cell_type": "code",
   "execution_count": 10,
   "id": "47d33eb2-ad6f-41dd-a180-eb6a5cc512af",
   "metadata": {},
   "outputs": [
    {
     "data": {
      "text/plain": [
       "['odd:1',\n",
       " 'even:2',\n",
       " 'odd:3',\n",
       " 'even:4',\n",
       " 'odd:5',\n",
       " 'even:6',\n",
       " 'odd:7',\n",
       " 'even:8',\n",
       " 'odd:9',\n",
       " 'even:10',\n",
       " 'odd:11',\n",
       " 'even:12',\n",
       " 'odd:13',\n",
       " 'even:14',\n",
       " 'odd:15',\n",
       " 'even:16',\n",
       " 'odd:17',\n",
       " 'even:18',\n",
       " 'odd:19']"
      ]
     },
     "execution_count": 10,
     "metadata": {},
     "output_type": "execute_result"
    }
   ],
   "source": [
    "[f\"even:{i}\" if i%2==0 else f\"odd:{i}\" for i in range(1,20)]"
   ]
  },
  {
   "cell_type": "code",
   "execution_count": null,
   "id": "2ae1a620-f87a-4c24-aa5a-5565318476c6",
   "metadata": {},
   "outputs": [],
   "source": []
  }
 ],
 "metadata": {
  "kernelspec": {
   "display_name": "Python 3 (ipykernel)",
   "language": "python",
   "name": "python3"
  },
  "language_info": {
   "codemirror_mode": {
    "name": "ipython",
    "version": 3
   },
   "file_extension": ".py",
   "mimetype": "text/x-python",
   "name": "python",
   "nbconvert_exporter": "python",
   "pygments_lexer": "ipython3",
   "version": "3.11.7"
  }
 },
 "nbformat": 4,
 "nbformat_minor": 5
}
