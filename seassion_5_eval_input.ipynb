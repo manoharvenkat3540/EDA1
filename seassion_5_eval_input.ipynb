{
 "cells": [
  {
   "cell_type": "markdown",
   "id": "cb39c98a-bbb1-4422-8933-95ed53734ff0",
   "metadata": {},
   "source": [
    "$input keyword$\n",
    "\n",
    "- input keyword is used to take input from user"
   ]
  },
  {
   "cell_type": "code",
   "execution_count": 3,
   "id": "4c99be17-059c-4ff7-b17e-3b8dbfac7112",
   "metadata": {},
   "outputs": [
    {
     "name": "stdin",
     "output_type": "stream",
     "text": [
      " 100\n"
     ]
    },
    {
     "data": {
      "text/plain": [
       "'100'"
      ]
     },
     "execution_count": 3,
     "metadata": {},
     "output_type": "execute_result"
    }
   ],
   "source": [
    "input()"
   ]
  },
  {
   "cell_type": "code",
   "execution_count": 5,
   "id": "332aee97-72c8-4627-94c7-1fc49e663840",
   "metadata": {},
   "outputs": [
    {
     "name": "stdin",
     "output_type": "stream",
     "text": [
      "enter the number: 40\n"
     ]
    },
    {
     "data": {
      "text/plain": [
       "'40'"
      ]
     },
     "execution_count": 5,
     "metadata": {},
     "output_type": "execute_result"
    }
   ],
   "source": [
    "input(\"enter the number:\")"
   ]
  },
  {
   "cell_type": "code",
   "execution_count": 6,
   "id": "6afa0ce7-cb79-4a9a-beca-9317fd2612a0",
   "metadata": {},
   "outputs": [
    {
     "name": "stdin",
     "output_type": "stream",
     "text": [
      " 2\n",
      " 3\n"
     ]
    },
    {
     "data": {
      "text/plain": [
       "'3'"
      ]
     },
     "execution_count": 6,
     "metadata": {},
     "output_type": "execute_result"
    }
   ],
   "source": [
    "input()\n",
    "input()"
   ]
  },
  {
   "cell_type": "code",
   "execution_count": 7,
   "id": "2da56d8a-9679-4455-b59c-6b1a54982a53",
   "metadata": {},
   "outputs": [
    {
     "name": "stdin",
     "output_type": "stream",
     "text": [
      " 3\n",
      " 4\n",
      " 5\n"
     ]
    },
    {
     "data": {
      "text/plain": [
       "'5'"
      ]
     },
     "execution_count": 7,
     "metadata": {},
     "output_type": "execute_result"
    }
   ],
   "source": [
    "input()\n",
    "input()\n",
    "input()"
   ]
  },
  {
   "cell_type": "code",
   "execution_count": 8,
   "id": "ee7531ad-f63b-45d1-9b29-6af28d33fdf9",
   "metadata": {},
   "outputs": [
    {
     "name": "stdin",
     "output_type": "stream",
     "text": [
      "enter the n1: 2\n",
      "enter the n2: 3\n"
     ]
    }
   ],
   "source": [
    "n1=input(\"enter the n1:\")\n",
    "n2=input(\"enter the n2:\")"
   ]
  },
  {
   "cell_type": "markdown",
   "id": "1e1492ac-33d0-4964-a303-b53a00325045",
   "metadata": {},
   "source": [
    "**Note**\n",
    "\n",
    "- In python the input is always the string data type  only\n",
    "\n",
    "- In order to perform math claculations we need to convert into numerical format i.e int or float\n",
    "\n",
    "- In python the **default data type** is **string data type**"
   ]
  },
  {
   "cell_type": "code",
   "execution_count": 12,
   "id": "dc15a78f-8ffe-4e14-96dc-f115c3c686ba",
   "metadata": {},
   "outputs": [
    {
     "name": "stdin",
     "output_type": "stream",
     "text": [
      "enter the n1: 100\n",
      "enter the n2: 200\n"
     ]
    },
    {
     "data": {
      "text/plain": [
       "300"
      ]
     },
     "execution_count": 12,
     "metadata": {},
     "output_type": "execute_result"
    }
   ],
   "source": [
    "n1=int(input(\"enter the n1:\"))\n",
    "n2=int(input(\"enter the n2:\"))\n",
    "n1 + n2"
   ]
  },
  {
   "cell_type": "code",
   "execution_count": 14,
   "id": "1ebb3388-1c6a-4064-81f2-1d724fe36527",
   "metadata": {},
   "outputs": [
    {
     "name": "stdin",
     "output_type": "stream",
     "text": [
      "enter a number 200\n",
      "enter a number 300\n"
     ]
    },
    {
     "data": {
      "text/plain": [
       "500"
      ]
     },
     "execution_count": 14,
     "metadata": {},
     "output_type": "execute_result"
    }
   ],
   "source": [
    "n1=input(\"enter a number\")\n",
    "n2=input(\"enter a number\")\n",
    "int(n1)+int(n2)\n"
   ]
  },
  {
   "cell_type": "markdown",
   "id": "00607102-1032-4138-8194-465e680996c6",
   "metadata": {},
   "source": [
    "$Eval$\n",
    "\n",
    "- eval means evaluate\n",
    "- what ever the number we enter, eval will convert to corresponding"
   ]
  },
  {
   "cell_type": "code",
   "execution_count": 16,
   "id": "7c0b84da-b3e1-4e12-b05f-cafafcd87161",
   "metadata": {},
   "outputs": [
    {
     "name": "stdin",
     "output_type": "stream",
     "text": [
      "Enter the num1: 100\n",
      "Enter the num2: 200\n"
     ]
    },
    {
     "name": "stdout",
     "output_type": "stream",
     "text": [
      "300\n"
     ]
    }
   ],
   "source": [
    "num1=eval(input(\"Enter the num1:\"))\n",
    "num2=eval(input(\"Enter the num2:\"))\n",
    "add=num1+num2\n",
    "print(add)\n"
   ]
  },
  {
   "cell_type": "code",
   "execution_count": 17,
   "id": "2b824628-8bea-4518-bb22-d3f4140ad048",
   "metadata": {},
   "outputs": [
    {
     "name": "stdin",
     "output_type": "stream",
     "text": [
      "Enter the num1: 100.5\n",
      "Enter the num2: 200.5\n"
     ]
    },
    {
     "name": "stdout",
     "output_type": "stream",
     "text": [
      "301.0\n"
     ]
    }
   ],
   "source": [
    "num1=eval(input(\"Enter the num1:\"))\n",
    "num2=eval(input(\"Enter the num2:\"))\n",
    "add=num1+num2\n",
    "print(add)\n"
   ]
  },
  {
   "cell_type": "code",
   "execution_count": null,
   "id": "806ebbd3-554e-4c85-a883-c5886c9e6b21",
   "metadata": {},
   "outputs": [],
   "source": [
    "#write a program user enter three numbers calculate the average\n",
    "#wap ask the user the 2 numbers fimd the substraction ,addition , multiplication\n",
    "#wap ask the user enter radius values find the area of the circle \n",
    "#wap ask the user bill amount\n",
    "#  ask the user how much tip you want pay in percentage\n",
    "#  calculate totalbill\n",
    "#wap ask the user bill amount in dollars \n",
    "#   ask the user an dollar\n",
    "#   print the bill amount in rupees\n",
    "# wap ask the user enter base height calculate area of the trianglle\n",
    "#wap ask the user enter lenght and breadth calculate area of the rectangle"
   ]
  },
  {
   "cell_type": "code",
   "execution_count": null,
   "id": "92ba22c9-b26d-470e-95f0-29d03b3046f3",
   "metadata": {},
   "outputs": [],
   "source": [
    "#Ask the user to enter a number. Print out the square of the number,\n",
    "#Sample output is shown below.\n",
    "#Enter a number: 5\n",
    "#The square of 5 is 25.\n",
    "number=eval(input("
   ]
  },
  {
   "cell_type": "code",
   "execution_count": 19,
   "id": "03240a5c-6f55-4e02-a7c2-edc3fd1bf7e5",
   "metadata": {},
   "outputs": [
    {
     "name": "stdin",
     "output_type": "stream",
     "text": [
      "enter the n1: 200\n",
      "enter the n2: 300\n",
      "enter the n3: 400\n"
     ]
    },
    {
     "name": "stdout",
     "output_type": "stream",
     "text": [
      "450.0\n"
     ]
    }
   ],
   "source": [
    "n1=eval(input(\"enter the n1:\"))\n",
    "n2=eval(input(\"enter the n2:\"))\n",
    "n3=eval(input(\"enter the n3:\"))\n",
    "average=(n1+n2+n3)/2\n",
    "print(average)"
   ]
  },
  {
   "cell_type": "code",
   "execution_count": 21,
   "id": "e76246ad-54f8-41d2-8b0d-366776290120",
   "metadata": {},
   "outputs": [
    {
     "name": "stdin",
     "output_type": "stream",
     "text": [
      "enter the n1: 100\n",
      "enter the n2: 200\n"
     ]
    },
    {
     "name": "stdout",
     "output_type": "stream",
     "text": [
      "300\n",
      "-100\n",
      "20000\n"
     ]
    }
   ],
   "source": [
    "n1=eval(input(\"enter the n1:\"))\n",
    "n2=eval(input(\"enter the n2:\"))\n",
    "add=n1+n2\n",
    "sub=n1-n2\n",
    "mult=n1*n2\n",
    "print(add)\n",
    "print(sub)\n",
    "print(mult)"
   ]
  },
  {
   "cell_type": "code",
   "execution_count": 23,
   "id": "3de3bd65-c870-4daf-a96f-005b0837e997",
   "metadata": {},
   "outputs": [
    {
     "name": "stdin",
     "output_type": "stream",
     "text": [
      "Enter the radius: 10\n",
      "enter the pi value: 3.14\n"
     ]
    },
    {
     "name": "stdout",
     "output_type": "stream",
     "text": [
      "314.0\n"
     ]
    }
   ],
   "source": [
    "radius=eval(input(\"Enter the radius:\"))\n",
    "pi=eval(input(\"enter the pi value:\"))\n",
    "area=pi*radius*radius\n",
    "print(area)"
   ]
  },
  {
   "cell_type": "code",
   "execution_count": 25,
   "id": "c1dfb19b-6268-4c9e-8df8-e3ced0e8aeeb",
   "metadata": {},
   "outputs": [
    {
     "name": "stdin",
     "output_type": "stream",
     "text": [
      "enter the bill amount: 1000\n",
      "enter the tip amount: 10\n"
     ]
    },
    {
     "name": "stdout",
     "output_type": "stream",
     "text": [
      "1100.0\n"
     ]
    }
   ],
   "source": [
    "bill=eval(input(\"enter the bill amount:\"))\n",
    "tip=eval(input(\"enter the tip amount:\"))\n",
    "total=(bill*tip)/100\n",
    "print(total+bill)"
   ]
  },
  {
   "cell_type": "code",
   "execution_count": 8,
   "id": "f5800843-d041-4f8e-94b8-bad906517346",
   "metadata": {},
   "outputs": [
    {
     "name": "stdin",
     "output_type": "stream",
     "text": [
      "enter the base: 10\n",
      "enter the height: 20\n"
     ]
    },
    {
     "name": "stdout",
     "output_type": "stream",
     "text": [
      "The area of the triangle is:100.0\n"
     ]
    }
   ],
   "source": [
    "base=eval(input(\"enter the base:\"))\n",
    "height=eval(input(\"enter the height:\"))\n",
    "area=1/2*base*height\n",
    "print(\"The area of the triangle is:{}\".format(area))"
   ]
  },
  {
   "cell_type": "code",
   "execution_count": 2,
   "id": "3e65248b-19e5-4638-8529-276e4883b356",
   "metadata": {},
   "outputs": [
    {
     "name": "stdin",
     "output_type": "stream",
     "text": [
      "enter the lenght: 10\n",
      "enter the breadth: 20\n"
     ]
    },
    {
     "name": "stdout",
     "output_type": "stream",
     "text": [
      "the area of the rectangle 200\n"
     ]
    }
   ],
   "source": [
    "length=eval(input(\"enter the lenght:\"))\n",
    "breadth=eval(input(\"enter the breadth:\"))\n",
    "area=length*breadth\n",
    "print(f\"the area of the rectangle {area}\")"
   ]
  },
  {
   "cell_type": "code",
   "execution_count": 11,
   "id": "a82fbc2f-d3de-471e-8c00-1f3b5a915681",
   "metadata": {},
   "outputs": [
    {
     "name": "stdin",
     "output_type": "stream",
     "text": [
      "enter the number: 10\n",
      "enter the 1 dollar in indian rupess: 83.65\n"
     ]
    },
    {
     "name": "stdout",
     "output_type": "stream",
     "text": [
      "836.5\n"
     ]
    }
   ],
   "source": [
    "bill_amount=eval(input(\"enter the number:\"))\n",
    "dollar=eval(input(\"enter the 1 dollar in indian rupess:\"))\n",
    "bill_in_indian_rupess=bill_amount*dollar\n",
    "print(bill_in_indian_rupess)"
   ]
  },
  {
   "cell_type": "code",
   "execution_count": 15,
   "id": "d0891da5-01fa-4d6c-bee1-6b9f116ee177",
   "metadata": {},
   "outputs": [
    {
     "name": "stdin",
     "output_type": "stream",
     "text": [
      "enter the number: 5\n"
     ]
    },
    {
     "name": "stdout",
     "output_type": "stream",
     "text": [
      "25\n"
     ]
    }
   ],
   "source": [
    "number=eval(input(\"enter the number:\"))\n",
    "square=number ** 2\n",
    "print(square)"
   ]
  },
  {
   "cell_type": "code",
   "execution_count": 17,
   "id": "025ae992-ca45-460e-8fdf-3879cccb41d1",
   "metadata": {},
   "outputs": [
    {
     "name": "stdin",
     "output_type": "stream",
     "text": [
      "Enter a number:  7\n"
     ]
    },
    {
     "name": "stdout",
     "output_type": "stream",
     "text": [
      "7---14---21---16384---78125\n"
     ]
    }
   ],
   "source": [
    "x = int(input(\"Enter a number: \"))\n",
    "\n",
    "print(x, 2*x, 3*x, 4**x, 5*x, sep='---')\n"
   ]
  },
  {
   "cell_type": "code",
   "execution_count": 21,
   "id": "d31f0447-bce5-4d66-8f18-f2d97ec5be8e",
   "metadata": {},
   "outputs": [
    {
     "name": "stdin",
     "output_type": "stream",
     "text": [
      "enter the kill0: 5\n"
     ]
    },
    {
     "name": "stdout",
     "output_type": "stream",
     "text": [
      "enter the killo 5 and pounds 2.20462 and the final result 11.0231\n"
     ]
    }
   ],
   "source": [
    "killograms=eval(input(\"enter the killo:\"))\n",
    "pounds_1killo=2.20462\n",
    "converts=killograms*pounds_1killo\n",
    "print(\"enter the killo {} and pounds {} and the final result {}\".format(killograms,pounds_1killo,converts))"
   ]
  },
  {
   "cell_type": "code",
   "execution_count": 23,
   "id": "2da962e1-5bde-45f9-8360-2137d49a9a16",
   "metadata": {},
   "outputs": [
    {
     "name": "stdin",
     "output_type": "stream",
     "text": [
      "enter n1: 2\n",
      "enter n2: 3\n",
      "enter n3: 4\n"
     ]
    },
    {
     "name": "stdout",
     "output_type": "stream",
     "text": [
      "The total sum is 9 and the average of three numbers is :3.0\n"
     ]
    }
   ],
   "source": [
    "n1=eval(input(\"enter n1:\"))\n",
    "n2=eval(input(\"enter n2:\"))\n",
    "n3=eval(input(\"enter n3:\"))\n",
    "total=n1+n2+n3\n",
    "average=total/3\n",
    "print(\"The total sum is {} and the average of three numbers is :{}\".format(total,average))"
   ]
  },
  {
   "cell_type": "code",
   "execution_count": 1,
   "id": "23e0b0a0-79f7-475c-9c30-ac7bbfa695f2",
   "metadata": {},
   "outputs": [
    {
     "name": "stdin",
     "output_type": "stream",
     "text": [
      "Father: h\n",
      "Daughter: h\n",
      "Father: h\n",
      "Daughter: h\n",
      "“Father: hh\n",
      "“Daughter: h\n",
      "“Father: h\n",
      "First Language: 90\n",
      "“Second language: 80\n",
      "Third language: 9\n",
      "Science: 0\n",
      "Maths: 9\n",
      "Daughter: 0\n"
     ]
    },
    {
     "ename": "ZeroDivisionError",
     "evalue": "division by zero",
     "output_type": "error",
     "traceback": [
      "\u001b[1;31m---------------------------------------------------------------------------\u001b[0m",
      "\u001b[1;31mZeroDivisionError\u001b[0m                         Traceback (most recent call last)",
      "Cell \u001b[1;32mIn[1], line 18\u001b[0m\n\u001b[0;32m     16\u001b[0m max_marks\u001b[38;5;241m=\u001b[39m\u001b[38;5;28meval\u001b[39m(\u001b[38;5;28minput\u001b[39m(\u001b[38;5;124m\"\u001b[39m\u001b[38;5;124mDaughter:\u001b[39m\u001b[38;5;124m\"\u001b[39m))\n\u001b[0;32m     17\u001b[0m total_max\u001b[38;5;241m=\u001b[39mmax_marks\u001b[38;5;241m*\u001b[39m\u001b[38;5;241m5\u001b[39m\n\u001b[1;32m---> 18\u001b[0m percentage\u001b[38;5;241m=\u001b[39m(total_marks\u001b[38;5;241m/\u001b[39mtotal_max)\u001b[38;5;241m*\u001b[39m\u001b[38;5;241m100\u001b[39m\n\u001b[0;32m     19\u001b[0m \u001b[38;5;28mprint\u001b[39m(\u001b[38;5;124mf\u001b[39m\u001b[38;5;124m\"\u001b[39m\u001b[38;5;124mthe percentage of marks \u001b[39m\u001b[38;5;132;01m{\u001b[39;00mpercentage\u001b[38;5;132;01m:\u001b[39;00m\u001b[38;5;124m.2f\u001b[39m\u001b[38;5;132;01m}\u001b[39;00m\u001b[38;5;124m\"\u001b[39m)\n",
      "\u001b[1;31mZeroDivisionError\u001b[0m: division by zero"
     ]
    }
   ],
   "source": [
    "input(\"Father:\")\n",
    "input(\"Daughter:\")\n",
    "input(\"Father:\")\n",
    "input(\"Daughter:\")\n",
    "input(\"“Father:\")\n",
    "input(\"“Daughter:\")\n",
    "input(\"“Father:\")\n",
    "sub1=eval(input(\"First Language:\"))\n",
    "sub2=eval(input(\"“Second language:\"))\n",
    "sub3=eval(input(\"Third language:\"))\n",
    "sub4=eval(input(\"Science:\"))\n",
    "sub5=eval(input(\"Maths:\"))\n",
    "#Daughter: Dad Now tell me how much percentage I gothi\n",
    "\n",
    "total_marks=sub1+sub2+sub3+sub4+sub5\n",
    "max_marks=eval(input(\"Daughter:\"))\n",
    "total_max=max_marks*5\n",
    "percentage=(total_marks/total_max)*100\n",
    "print(f\"the percentage of marks {percentage:}\")\n",
    "#Father: Tell me thex marks of each subject\n",
    "#max_marks=eval(input(“Daughter:”)) give=100\n",
    "\n",
    "#calculate the percentage of marks and print"
   ]
  },
  {
   "cell_type": "code",
   "execution_count": null,
   "id": "0966d2ff-9926-400d-bc94-95fbba49dd2a",
   "metadata": {},
   "outputs": [],
   "source": []
  }
 ],
 "metadata": {
  "kernelspec": {
   "display_name": "Python 3 (ipykernel)",
   "language": "python",
   "name": "python3"
  },
  "language_info": {
   "codemirror_mode": {
    "name": "ipython",
    "version": 3
   },
   "file_extension": ".py",
   "mimetype": "text/x-python",
   "name": "python",
   "nbconvert_exporter": "python",
   "pygments_lexer": "ipython3",
   "version": "3.11.7"
  }
 },
 "nbformat": 4,
 "nbformat_minor": 5
}
