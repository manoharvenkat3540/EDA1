{
 "cells": [
  {
   "cell_type": "code",
   "execution_count": null,
   "id": "4166c320-367f-44a2-b29b-d2b23dea43ab",
   "metadata": {},
   "outputs": [],
   "source": [
    "**Lambda Function**\n",
    "\n",
    "- lambda functions reoresents functon cncept\n",
    "\n",
    "- but we can write in a single\n",
    "\n",
    "- like list comprehension, lambda functions similar only\n",
    "\n",
    "- it will dcrease the time complexity\n",
    "\n",
    "- always remember if we use many for loops or many conditions using multiple line, the time complexity will increase"
   ]
  },
  {
   "cell_type": "markdown",
   "id": "4d5a54b2-cac7-4ce5-b9f8-33ac49f9d1ac",
   "metadata": {},
   "source": [
    "**It will use a keyword lambda**\n",
    "\n",
    "#lambda <arguments>: <expression>"
   ]
  },
  {
   "cell_type": "code",
   "execution_count": null,
   "id": "1453ffe7-1bc7-421a-a8e5-571edea1da71",
   "metadata": {},
   "outputs": [],
   "source": [
    "#syntax\n",
    "def"
   ]
  },
  {
   "cell_type": "code",
   "execution_count": null,
   "id": "9f73d9b4-0ea5-49fd-830e-95f6459c6002",
   "metadata": {},
   "outputs": [],
   "source": []
  },
  {
   "cell_type": "code",
   "execution_count": 2,
   "id": "a33e4461-7b74-4d4f-98c8-b5b69c009a7c",
   "metadata": {},
   "outputs": [
    {
     "data": {
      "text/plain": [
       "110"
      ]
     },
     "execution_count": 2,
     "metadata": {},
     "output_type": "execute_result"
    }
   ],
   "source": [
    "summ=lambda n:n+10\n",
    "summ(100)"
   ]
  },
  {
   "cell_type": "code",
   "execution_count": 3,
   "id": "7d16afca-81e3-44d6-932c-725234518dd9",
   "metadata": {},
   "outputs": [
    {
     "data": {
      "text/plain": [
       "1000"
      ]
     },
     "execution_count": 3,
     "metadata": {},
     "output_type": "execute_result"
    }
   ],
   "source": [
    "def cube(n):\n",
    "    return(n**3)\n",
    "cube(10)"
   ]
  },
  {
   "cell_type": "code",
   "execution_count": 4,
   "id": "1b4b2f97-e1b7-4090-abc3-c72f77925e6b",
   "metadata": {},
   "outputs": [
    {
     "data": {
      "text/plain": [
       "1000"
      ]
     },
     "execution_count": 4,
     "metadata": {},
     "output_type": "execute_result"
    }
   ],
   "source": [
    "cube= lambda n:n**3\n",
    "cube(10)"
   ]
  },
  {
   "cell_type": "markdown",
   "id": "b5651806-3296-42f3-966e-a8bfb889bf7f",
   "metadata": {},
   "source": [
    "**pattern-2**"
   ]
  },
  {
   "cell_type": "markdown",
   "id": "8d53e55d-a2c2-4edb-960f-a79db44fda42",
   "metadata": {},
   "source": [
    "**Two arguments**"
   ]
  },
  {
   "cell_type": "code",
   "execution_count": 6,
   "id": "aaefc6b9-6ce0-4b9f-a2b9-be6a4bae2db7",
   "metadata": {},
   "outputs": [
    {
     "data": {
      "text/plain": [
       "100"
      ]
     },
     "execution_count": 6,
     "metadata": {},
     "output_type": "execute_result"
    }
   ],
   "source": [
    "#syntax: <function name>= lambda <arg1>,<arg2>: <return output>\n",
    "def add(a,b):\n",
    "    return(a+b)\n",
    "add(50,50)"
   ]
  },
  {
   "cell_type": "code",
   "execution_count": 7,
   "id": "13af5922-43b8-400e-9cf6-b4a431970a05",
   "metadata": {},
   "outputs": [
    {
     "data": {
      "text/plain": [
       "110"
      ]
     },
     "execution_count": 7,
     "metadata": {},
     "output_type": "execute_result"
    }
   ],
   "source": [
    "add=lambda n1,n2: n1+n2\n",
    "add(60,50)"
   ]
  },
  {
   "cell_type": "code",
   "execution_count": 8,
   "id": "36333537-7ddf-4795-bb98-5371eca8ee35",
   "metadata": {},
   "outputs": [
    {
     "data": {
      "text/plain": [
       "20.0"
      ]
     },
     "execution_count": 8,
     "metadata": {},
     "output_type": "execute_result"
    }
   ],
   "source": [
    "average=lambda a,b,c:round((a+b+c)/3,2)\n",
    "average(10,20,30)"
   ]
  },
  {
   "cell_type": "markdown",
   "id": "b04da48e-5bbe-4e16-b697-7bc052fe5e81",
   "metadata": {},
   "source": [
    "**pattern 3**\n",
    "\n",
    "**Default arguments**"
   ]
  },
  {
   "cell_type": "code",
   "execution_count": 9,
   "id": "e165502d-6b38-4c5e-b4b7-78b96acb4336",
   "metadata": {},
   "outputs": [
    {
     "data": {
      "text/plain": [
       "20"
      ]
     },
     "execution_count": 9,
     "metadata": {},
     "output_type": "execute_result"
    }
   ],
   "source": [
    "def max(a,b):\n",
    "    if a>b:\n",
    "        return(a)\n",
    "    else:\n",
    "        return(b)\n",
    "max(10,20)"
   ]
  },
  {
   "cell_type": "code",
   "execution_count": null,
   "id": "9ee9bd62-57ec-4361-9e12-5a1f5e340dd9",
   "metadata": {},
   "outputs": [],
   "source": []
  }
 ],
 "metadata": {
  "kernelspec": {
   "display_name": "Python 3 (ipykernel)",
   "language": "python",
   "name": "python3"
  },
  "language_info": {
   "codemirror_mode": {
    "name": "ipython",
    "version": 3
   },
   "file_extension": ".py",
   "mimetype": "text/x-python",
   "name": "python",
   "nbconvert_exporter": "python",
   "pygments_lexer": "ipython3",
   "version": "3.11.7"
  }
 },
 "nbformat": 4,
 "nbformat_minor": 5
}
