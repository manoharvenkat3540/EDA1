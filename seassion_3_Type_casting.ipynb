{
 "cells": [
  {
   "cell_type": "code",
   "execution_count": 3,
   "id": "f23b0fd6-43a1-436a-94ea-d3c2d8c12959",
   "metadata": {},
   "outputs": [],
   "source": [
    "true=True\n",
    "\n",
    "#true is variable\n",
    "#True is a boolrean value we are storing in true"
   ]
  },
  {
   "cell_type": "code",
   "execution_count": 4,
   "id": "6f6bab42-ed4c-4b9e-89df-05c20eadef01",
   "metadata": {},
   "outputs": [
    {
     "data": {
      "text/plain": [
       "True"
      ]
     },
     "execution_count": 4,
     "metadata": {},
     "output_type": "execute_result"
    }
   ],
   "source": [
    "true"
   ]
  },
  {
   "cell_type": "markdown",
   "id": "7f87b6e8-49d8-4b61-9d98-d134014aa316",
   "metadata": {},
   "source": [
    "**Type casting**"
   ]
  },
  {
   "cell_type": "markdown",
   "id": "1e6bd80a-338b-4d93-b92a-4d21630610c7",
   "metadata": {},
   "source": [
    "- convert one data type to another data type is called as type casting\n",
    "- which means we want to convert\n",
    "    - integer type to all other(float,str,bool) data types\n",
    "    - float type to all other(int,str,bool) data types\n",
    "    - str type to all other(int,float,bool) data types\n",
    "    - bool type to all other(int,float,str) data types"
   ]
  },
  {
   "cell_type": "markdown",
   "id": "f5aecb7a-4eb6-4e2e-b329-be01d6fd4b3d",
   "metadata": {},
   "source": [
    "**Integer to other data types**"
   ]
  },
  {
   "cell_type": "markdown",
   "id": "0948586f-629f-46c9-a89a-6d97e8cfbff0",
   "metadata": {},
   "source": [
    "$int-float$"
   ]
  },
  {
   "cell_type": "code",
   "execution_count": 7,
   "id": "3ba1de72-c050-4b6e-850f-19e813dce7c7",
   "metadata": {},
   "outputs": [
    {
     "data": {
      "text/plain": [
       "int"
      ]
     },
     "execution_count": 7,
     "metadata": {},
     "output_type": "execute_result"
    }
   ],
   "source": [
    "num=100\n",
    "type(num)"
   ]
  },
  {
   "cell_type": "code",
   "execution_count": 9,
   "id": "3520914f-1e27-43ae-b492-8495a3d6f3ab",
   "metadata": {},
   "outputs": [
    {
     "data": {
      "text/plain": [
       "float"
      ]
     },
     "execution_count": 9,
     "metadata": {},
     "output_type": "execute_result"
    }
   ],
   "source": [
    "float_number=float(num)\n",
    "type(float_number)"
   ]
  },
  {
   "cell_type": "code",
   "execution_count": 14,
   "id": "0e10eb81-d7e4-4731-a0c1-96694950118c",
   "metadata": {},
   "outputs": [
    {
     "data": {
      "text/plain": [
       "'100'"
      ]
     },
     "execution_count": 14,
     "metadata": {},
     "output_type": "execute_result"
    }
   ],
   "source": [
    "str_number=str(num)\n",
    "str_number"
   ]
  },
  {
   "cell_type": "code",
   "execution_count": 15,
   "id": "7ceee51c-8aa1-4f36-a68b-5aef8cf9f832",
   "metadata": {},
   "outputs": [
    {
     "data": {
      "text/plain": [
       "str"
      ]
     },
     "execution_count": 15,
     "metadata": {},
     "output_type": "execute_result"
    }
   ],
   "source": [
    "type(str_number)"
   ]
  },
  {
   "cell_type": "code",
   "execution_count": 17,
   "id": "6ac4b868-e453-490a-a2f8-58890d9020c6",
   "metadata": {},
   "outputs": [
    {
     "data": {
      "text/plain": [
       "bool"
      ]
     },
     "execution_count": 17,
     "metadata": {},
     "output_type": "execute_result"
    }
   ],
   "source": [
    "bool_number=bool(num)\n",
    "type(bool_number)"
   ]
  },
  {
   "cell_type": "code",
   "execution_count": 18,
   "id": "e081806a-fd05-44f1-ab32-c99299200e06",
   "metadata": {},
   "outputs": [
    {
     "data": {
      "text/plain": [
       "(200.0, '200', True)"
      ]
     },
     "execution_count": 18,
     "metadata": {},
     "output_type": "execute_result"
    }
   ],
   "source": [
    "float(200),str(200),bool(200)"
   ]
  },
  {
   "cell_type": "code",
   "execution_count": 19,
   "id": "fcecef92-e084-46cd-871f-0f786112ce19",
   "metadata": {},
   "outputs": [
    {
     "data": {
      "text/plain": [
       "(-200.0, '-200', True)"
      ]
     },
     "execution_count": 19,
     "metadata": {},
     "output_type": "execute_result"
    }
   ],
   "source": [
    "float(-200),str(-200),bool(-200)"
   ]
  },
  {
   "cell_type": "code",
   "execution_count": 20,
   "id": "93116f36-ff78-42a5-b498-d743ec43cb3b",
   "metadata": {},
   "outputs": [],
   "source": [
    "#when integer of boolean converstion become  false"
   ]
  },
  {
   "cell_type": "code",
   "execution_count": 21,
   "id": "71876084-59d7-42dc-ae03-bd047f18f1aa",
   "metadata": {},
   "outputs": [
    {
     "data": {
      "text/plain": [
       "False"
      ]
     },
     "execution_count": 21,
     "metadata": {},
     "output_type": "execute_result"
    }
   ],
   "source": [
    "bool(0)"
   ]
  },
  {
   "cell_type": "markdown",
   "id": "c9c522a3-af0d-45fa-84ed-b6d6b9b8bb94",
   "metadata": {},
   "source": [
    "**Note**\n",
    "\n",
    "- integer =0 then only boolean converstion becomes false\n",
    "- otherwise for any positive number or an negative number it becomes True"
   ]
  },
  {
   "cell_type": "markdown",
   "id": "ae05aad1-4027-4798-8b61-0cd510b647fd",
   "metadata": {},
   "source": [
    "**Float to another data type**"
   ]
  },
  {
   "cell_type": "code",
   "execution_count": 25,
   "id": "84f26ae4-d504-40f7-9ce9-89efaec9fabe",
   "metadata": {},
   "outputs": [
    {
     "data": {
      "text/plain": [
       "(200, '200.5', True)"
      ]
     },
     "execution_count": 25,
     "metadata": {},
     "output_type": "execute_result"
    }
   ],
   "source": [
    "int(200.5),str(200.5),bool(200.5)"
   ]
  },
  {
   "cell_type": "markdown",
   "id": "a9f03d84-3863-4a3f-a8a5-9382790111ce",
   "metadata": {},
   "source": [
    "**String to another data type**"
   ]
  },
  {
   "cell_type": "code",
   "execution_count": 27,
   "id": "afadaa68-1012-425f-ab66-b030a3a917bb",
   "metadata": {},
   "outputs": [
    {
     "ename": "ValueError",
     "evalue": "invalid literal for int() with base 10: 'apple'",
     "output_type": "error",
     "traceback": [
      "\u001b[1;31m---------------------------------------------------------------------------\u001b[0m",
      "\u001b[1;31mValueError\u001b[0m                                Traceback (most recent call last)",
      "Cell \u001b[1;32mIn[27], line 1\u001b[0m\n\u001b[1;32m----> 1\u001b[0m \u001b[38;5;28mint\u001b[39m(\u001b[38;5;124m'\u001b[39m\u001b[38;5;124mapple\u001b[39m\u001b[38;5;124m'\u001b[39m)\n",
      "\u001b[1;31mValueError\u001b[0m: invalid literal for int() with base 10: 'apple'"
     ]
    }
   ],
   "source": [
    "int('apple')"
   ]
  },
  {
   "cell_type": "code",
   "execution_count": 28,
   "id": "8f22c008-2047-4c26-9671-b1d77e089da7",
   "metadata": {},
   "outputs": [
    {
     "ename": "ValueError",
     "evalue": "could not convert string to float: 'apple'",
     "output_type": "error",
     "traceback": [
      "\u001b[1;31m---------------------------------------------------------------------------\u001b[0m",
      "\u001b[1;31mValueError\u001b[0m                                Traceback (most recent call last)",
      "Cell \u001b[1;32mIn[28], line 1\u001b[0m\n\u001b[1;32m----> 1\u001b[0m \u001b[38;5;28mfloat\u001b[39m(\u001b[38;5;124m'\u001b[39m\u001b[38;5;124mapple\u001b[39m\u001b[38;5;124m'\u001b[39m)\n",
      "\u001b[1;31mValueError\u001b[0m: could not convert string to float: 'apple'"
     ]
    }
   ],
   "source": [
    "float('apple')"
   ]
  },
  {
   "cell_type": "code",
   "execution_count": 29,
   "id": "91a0aa12-0365-4ca8-87c3-29c64d024b2c",
   "metadata": {},
   "outputs": [
    {
     "data": {
      "text/plain": [
       "True"
      ]
     },
     "execution_count": 29,
     "metadata": {},
     "output_type": "execute_result"
    }
   ],
   "source": [
    "bool('apple')"
   ]
  },
  {
   "cell_type": "code",
   "execution_count": 30,
   "id": "2bca3cc5-0795-4abb-8d7a-3799dfcdb249",
   "metadata": {},
   "outputs": [
    {
     "data": {
      "text/plain": [
       "10"
      ]
     },
     "execution_count": 30,
     "metadata": {},
     "output_type": "execute_result"
    }
   ],
   "source": [
    "int(10)"
   ]
  },
  {
   "cell_type": "code",
   "execution_count": 31,
   "id": "41ae45c9-1f0e-4564-8036-2599312b2987",
   "metadata": {},
   "outputs": [
    {
     "data": {
      "text/plain": [
       "10.0"
      ]
     },
     "execution_count": 31,
     "metadata": {},
     "output_type": "execute_result"
    }
   ],
   "source": [
    "float(10)"
   ]
  },
  {
   "cell_type": "code",
   "execution_count": 32,
   "id": "76e8e10f-4d22-4870-93fe-f95764feceb5",
   "metadata": {},
   "outputs": [
    {
     "data": {
      "text/plain": [
       "True"
      ]
     },
     "execution_count": 32,
     "metadata": {},
     "output_type": "execute_result"
    }
   ],
   "source": [
    "bool(10)"
   ]
  },
  {
   "cell_type": "code",
   "execution_count": 33,
   "id": "405762d6-1a7f-40ad-80d3-b5e89932a0d6",
   "metadata": {},
   "outputs": [
    {
     "data": {
      "text/plain": [
       "10"
      ]
     },
     "execution_count": 33,
     "metadata": {},
     "output_type": "execute_result"
    }
   ],
   "source": [
    "int('10')"
   ]
  },
  {
   "cell_type": "markdown",
   "id": "fb2978e8-fe89-4c6d-8890-7d4806df2a1e",
   "metadata": {},
   "source": [
    "- Float is the boss\n",
    "- float of any value either it is integer in strings format\n",
    "- or flaot  in srings format will work\n",
    "- but integer will works only for integer in strings format\n",
    "- integer type casting will for flaot in strings format\n"
   ]
  },
  {
   "cell_type": "code",
   "execution_count": 37,
   "id": "027f1a1a-ffa7-4605-b674-ab8a03135f21",
   "metadata": {},
   "outputs": [
    {
     "data": {
      "text/plain": [
       "True"
      ]
     },
     "execution_count": 37,
     "metadata": {},
     "output_type": "execute_result"
    }
   ],
   "source": [
    "bool('0')    # something is there is always true "
   ]
  },
  {
   "cell_type": "code",
   "execution_count": 39,
   "id": "ecc3673e-796f-462d-b50c-8faa3eadbdc1",
   "metadata": {},
   "outputs": [
    {
     "data": {
      "text/plain": [
       "False"
      ]
     },
     "execution_count": 39,
     "metadata": {},
     "output_type": "execute_result"
    }
   ],
   "source": [
    "bool(0)     # false means nothing  either 0 or empty"
   ]
  },
  {
   "cell_type": "markdown",
   "id": "b3ef2d3d-8c44-42de-8e8c-59f356bb2119",
   "metadata": {},
   "source": [
    "**boolean to other datatypes**"
   ]
  },
  {
   "cell_type": "code",
   "execution_count": 41,
   "id": "2b0a8eb5-dd13-4230-9857-4dafb625e459",
   "metadata": {},
   "outputs": [
    {
     "data": {
      "text/plain": [
       "1"
      ]
     },
     "execution_count": 41,
     "metadata": {},
     "output_type": "execute_result"
    }
   ],
   "source": [
    "int(True)"
   ]
  },
  {
   "cell_type": "code",
   "execution_count": 1,
   "id": "85c66b74-421d-4eb4-99ac-944a4fbce298",
   "metadata": {},
   "outputs": [
    {
     "data": {
      "text/plain": [
       "1.0"
      ]
     },
     "execution_count": 1,
     "metadata": {},
     "output_type": "execute_result"
    }
   ],
   "source": [
    "float(True)"
   ]
  },
  {
   "cell_type": "code",
   "execution_count": 2,
   "id": "f6e41303-83da-4f07-a5d5-b096b5184555",
   "metadata": {},
   "outputs": [
    {
     "data": {
      "text/plain": [
       "'True'"
      ]
     },
     "execution_count": 2,
     "metadata": {},
     "output_type": "execute_result"
    }
   ],
   "source": [
    "str(True)"
   ]
  },
  {
   "cell_type": "code",
   "execution_count": 45,
   "id": "acce2074-4483-43ee-8b7b-c4e1bb996528",
   "metadata": {},
   "outputs": [
    {
     "data": {
      "text/plain": [
       "(0, 0.0, 'False')"
      ]
     },
     "execution_count": 45,
     "metadata": {},
     "output_type": "execute_result"
    }
   ],
   "source": [
    "int(False),float(False),str(False)"
   ]
  },
  {
   "cell_type": "code",
   "execution_count": 46,
   "id": "a0a8c609-8aa8-400f-9f64-b2df52530864",
   "metadata": {},
   "outputs": [
    {
     "data": {
      "text/plain": [
       "(10.0, '10', True)"
      ]
     },
     "execution_count": 46,
     "metadata": {},
     "output_type": "execute_result"
    }
   ],
   "source": [
    "num=10\n",
    "float(num),str(num),bool(num)"
   ]
  },
  {
   "cell_type": "code",
   "execution_count": 47,
   "id": "b2c5c7ad-a0a2-4d23-9827-933be1d977e2",
   "metadata": {},
   "outputs": [
    {
     "data": {
      "text/plain": [
       "(10, '10.0', 10.0)"
      ]
     },
     "execution_count": 47,
     "metadata": {},
     "output_type": "execute_result"
    }
   ],
   "source": [
    "int(10.0),str(10.0),float(10.0)"
   ]
  },
  {
   "cell_type": "code",
   "execution_count": 49,
   "id": "f92bc7aa-3149-4f17-b22a-2f6d6e38d8dc",
   "metadata": {},
   "outputs": [
    {
     "ename": "ValueError",
     "evalue": "invalid literal for int() with base 10: 'eri mani'",
     "output_type": "error",
     "traceback": [
      "\u001b[1;31m---------------------------------------------------------------------------\u001b[0m",
      "\u001b[1;31mValueError\u001b[0m                                Traceback (most recent call last)",
      "Cell \u001b[1;32mIn[49], line 2\u001b[0m\n\u001b[0;32m      1\u001b[0m manu\u001b[38;5;241m=\u001b[39m\u001b[38;5;124m\"\u001b[39m\u001b[38;5;124meri mani\u001b[39m\u001b[38;5;124m\"\u001b[39m\n\u001b[1;32m----> 2\u001b[0m \u001b[38;5;28mint\u001b[39m(manu),\u001b[38;5;28mfloat\u001b[39m(manu),\u001b[38;5;28mbool\u001b[39m(manu)\n",
      "\u001b[1;31mValueError\u001b[0m: invalid literal for int() with base 10: 'eri mani'"
     ]
    }
   ],
   "source": []
  },
  {
   "cell_type": "code",
   "execution_count": 3,
   "id": "5726fa70-ec34-48d3-91d8-ef1851cbb84a",
   "metadata": {},
   "outputs": [
    {
     "data": {
      "text/plain": [
       "1.0"
      ]
     },
     "execution_count": 3,
     "metadata": {},
     "output_type": "execute_result"
    }
   ],
   "source": [
    "float(True)"
   ]
  },
  {
   "cell_type": "code",
   "execution_count": null,
   "id": "a33192a4-55ca-4f70-ab3e-f9425eb3b0ae",
   "metadata": {},
   "outputs": [],
   "source": []
  }
 ],
 "metadata": {
  "kernelspec": {
   "display_name": "Python 3 (ipykernel)",
   "language": "python",
   "name": "python3"
  },
  "language_info": {
   "codemirror_mode": {
    "name": "ipython",
    "version": 3
   },
   "file_extension": ".py",
   "mimetype": "text/x-python",
   "name": "python",
   "nbconvert_exporter": "python",
   "pygments_lexer": "ipython3",
   "version": "3.11.7"
  }
 },
 "nbformat": 4,
 "nbformat_minor": 5
}
