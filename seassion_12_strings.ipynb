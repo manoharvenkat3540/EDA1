{
 "cells": [
  {
   "cell_type": "markdown",
   "id": "0b28cb12-3289-48c3-a686-c884df432e53",
   "metadata": {},
   "source": [
    "######### Python divided 3 parts #######################\n",
    "----- Basics\n",
    "- 1)variables\n",
    "- 2)Data types\n",
    "- 3)Type conversions\n",
    "- 4)eval input\n",
    "- 5)packages\n",
    "- 6)conditional statements\n",
    "- 7)try-except\n",
    "- 8)functions\n",
    "- 9)for\n",
    "- 10)while(you did this)\n",
    "\n",
    "------- Intermediate part-------------------------------------\n",
    "- 11)strings\n",
    "- 12)lists\n",
    "- 13)dictionary\n",
    "- 14)Tuples\n",
    "- 15)sets\n",
    "- 16)lambda functions\n",
    "- 17)File handling session\n",
    "\n",
    "-------Advanced--------------------------------------------------\n",
    "\n",
    "- 18)OOPS"
   ]
  },
  {
   "cell_type": "markdown",
   "id": "65489b82-71dc-4ad7-b3c3-69c745fd4acd",
   "metadata": {},
   "source": [
    "=======================PART-1==============================\n",
    "- Intaization \n",
    "- Type \n",
    "- len\n",
    "- max\n",
    "- min\n",
    "- sorted\n",
    "- reveresed\n",
    "- in\n",
    "- for loop using in\n",
    "- index\n",
    "- for loop using index\n",
    "- mutable\n",
    "- concatention\n",
    "#================== PART-2=====================\r\n",
    "# Methods"
   ]
  },
  {
   "cell_type": "markdown",
   "id": "8fed0eb2-9059-4529-a9f7-3aca10a027a8",
   "metadata": {},
   "source": [
    "**Intialization**"
   ]
  },
  {
   "cell_type": "code",
   "execution_count": 1,
   "id": "343125f9-e281-42cf-a092-b2ff9d8272b9",
   "metadata": {},
   "outputs": [
    {
     "data": {
      "text/plain": [
       "'python'"
      ]
     },
     "execution_count": 1,
     "metadata": {},
     "output_type": "execute_result"
    }
   ],
   "source": [
    "str1='python'\n",
    "str1"
   ]
  },
  {
   "cell_type": "code",
   "execution_count": 2,
   "id": "89adb039-0061-48f6-82d7-33b7a815bc0c",
   "metadata": {},
   "outputs": [
    {
     "data": {
      "text/plain": [
       "'python'"
      ]
     },
     "execution_count": 2,
     "metadata": {},
     "output_type": "execute_result"
    }
   ],
   "source": [
    "str2='python'\n",
    "str2"
   ]
  },
  {
   "cell_type": "code",
   "execution_count": 3,
   "id": "56e862ef-86fb-4626-8598-fc15d433cfaf",
   "metadata": {},
   "outputs": [
    {
     "name": "stdout",
     "output_type": "stream",
     "text": [
      "python\n"
     ]
    }
   ],
   "source": [
    "print(str1) # DO NOT CONFUSE IM NOT SEEING THE QUOTES"
   ]
  },
  {
   "cell_type": "markdown",
   "id": "1f46cf03-a49f-425d-89eb-f65a8e136b96",
   "metadata": {},
   "source": [
    "**Note**"
   ]
  },
  {
   "cell_type": "markdown",
   "id": "391b8341-6244-4924-8e82-a9d38af4a97f",
   "metadata": {},
   "source": [
    "- if we mentioned single quotes or double quotes by default python provides in single quotes only\n",
    "- if we print the strings, we will answer with out quotes"
   ]
  },
  {
   "cell_type": "markdown",
   "id": "c5109e3e-df5c-4723-a8d6-87df1ec51623",
   "metadata": {},
   "source": [
    "**Triple quotes**"
   ]
  },
  {
   "cell_type": "code",
   "execution_count": 4,
   "id": "802e9665-41bf-4807-bc39-a53d8ed04dee",
   "metadata": {},
   "outputs": [
    {
     "data": {
      "text/plain": [
       "'hi how are you\\n        im good'"
      ]
     },
     "execution_count": 4,
     "metadata": {},
     "output_type": "execute_result"
    }
   ],
   "source": [
    "str3=\"\"\"hi how are you\n",
    "        im good\"\"\"\n",
    "str3"
   ]
  },
  {
   "cell_type": "code",
   "execution_count": 5,
   "id": "1664b5bb-a2ab-4695-a574-2eabee3a43d1",
   "metadata": {},
   "outputs": [
    {
     "name": "stdout",
     "output_type": "stream",
     "text": [
      "hi how are you\n",
      "        im good\n"
     ]
    }
   ],
   "source": [
    "print(str3)"
   ]
  },
  {
   "cell_type": "markdown",
   "id": "971011f0-12b2-453b-b539-02f85e5812a3",
   "metadata": {},
   "source": [
    "**Note**"
   ]
  },
  {
   "cell_type": "markdown",
   "id": "f51767fd-7c04-4bd6-a3a9-c5d8aaa05b6b",
   "metadata": {},
   "source": [
    "- if we mentioned single quotes or double by default python provies in single quotes only\n",
    "- if we print the strings we will answer with out quotes\n",
    "- Triple quotes are using for doc string\n",
    "- in order to convey the information about coding part we will use doc string\n",
    "- anything inside the single or double quotes is considered as string in python\n"
   ]
  },
  {
   "cell_type": "markdown",
   "id": "7ee948d8-35e7-476c-838e-96aae2ce35a2",
   "metadata": {},
   "source": [
    "**type**"
   ]
  },
  {
   "cell_type": "code",
   "execution_count": 6,
   "id": "d0481585-132b-47ca-b1b9-18be1345967f",
   "metadata": {},
   "outputs": [
    {
     "data": {
      "text/plain": [
       "str"
      ]
     },
     "execution_count": 6,
     "metadata": {},
     "output_type": "execute_result"
    }
   ],
   "source": [
    "type(str1)"
   ]
  },
  {
   "cell_type": "code",
   "execution_count": 7,
   "id": "b9e97e77-1ed8-49ba-9c64-c7c5cf819e25",
   "metadata": {},
   "outputs": [],
   "source": [
    "str4='10' #integer value in the form of string\n",
    "str5='True' #boolean in the form of string\n",
    "str6='123abc'  #alpha numeric in the form of string\n",
    "str7=10.5 #float value in the form string\n"
   ]
  },
  {
   "cell_type": "markdown",
   "id": "bd17a14b-2286-4032-bb92-a5fa616f2d23",
   "metadata": {},
   "source": [
    "**len**"
   ]
  },
  {
   "cell_type": "code",
   "execution_count": 8,
   "id": "d63fc595-7c0d-41f2-a974-f962c88304b5",
   "metadata": {},
   "outputs": [
    {
     "data": {
      "text/plain": [
       "6"
      ]
     },
     "execution_count": 8,
     "metadata": {},
     "output_type": "execute_result"
    }
   ],
   "source": [
    "str1='python'\n",
    "len(str1)"
   ]
  },
  {
   "cell_type": "markdown",
   "id": "32f6cb98-6ba3-4318-bffe-46947a35003b",
   "metadata": {},
   "source": [
    "**max and min**"
   ]
  },
  {
   "cell_type": "code",
   "execution_count": 9,
   "id": "2da17648-260e-4689-a0be-1e06370293fb",
   "metadata": {},
   "outputs": [
    {
     "data": {
      "text/plain": [
       "'y'"
      ]
     },
     "execution_count": 9,
     "metadata": {},
     "output_type": "execute_result"
    }
   ],
   "source": [
    "str2='python'\n",
    "max(str2)"
   ]
  },
  {
   "cell_type": "code",
   "execution_count": 10,
   "id": "fc1cb47f-511b-4887-ae98-ed0df59da6ed",
   "metadata": {},
   "outputs": [
    {
     "data": {
      "text/plain": [
       "'h'"
      ]
     },
     "execution_count": 10,
     "metadata": {},
     "output_type": "execute_result"
    }
   ],
   "source": [
    "min(str2)"
   ]
  },
  {
   "cell_type": "code",
   "execution_count": 11,
   "id": "7cf88c6f-e917-44e6-affe-30c74d4a6b25",
   "metadata": {},
   "outputs": [
    {
     "data": {
      "text/plain": [
       "(112, 121, 116, 104, 111, 110)"
      ]
     },
     "execution_count": 11,
     "metadata": {},
     "output_type": "execute_result"
    }
   ],
   "source": [
    "ord('p'),ord('y'),ord('t'),ord('h'),ord('o'),ord('n')"
   ]
  },
  {
   "cell_type": "markdown",
   "id": "0554a46d-5e13-44f4-8aaa-5a4ff0277ed4",
   "metadata": {},
   "source": [
    "**Keywords vs Methods**"
   ]
  },
  {
   "cell_type": "code",
   "execution_count": 12,
   "id": "ec21cd80-9374-4d97-b802-a04a7609fb0f",
   "metadata": {},
   "outputs": [
    {
     "ename": "SyntaxError",
     "evalue": "invalid syntax (2324919650.py, line 1)",
     "output_type": "error",
     "traceback": [
      "\u001b[1;36m  Cell \u001b[1;32mIn[12], line 1\u001b[1;36m\u001b[0m\n\u001b[1;33m    type(<>)\u001b[0m\n\u001b[1;37m         ^\u001b[0m\n\u001b[1;31mSyntaxError\u001b[0m\u001b[1;31m:\u001b[0m invalid syntax\n"
     ]
    }
   ],
   "source": [
    "type(<>)\n",
    "print(<>)\n",
    "len(<>)\n",
    "max(<>)\n",
    "min(<>)\n",
    "eval(<>)\n",
    "input(<>)\n",
    "sum(<>)"
   ]
  },
  {
   "cell_type": "code",
   "execution_count": null,
   "id": "2da8fcda-412b-4435-a44b-e61358dabbeb",
   "metadata": {},
   "outputs": [],
   "source": [
    "- in order to use the menthods we need to call the packages\n",
    "\n",
    "import random\n",
    "random.randint()\n",
    "\n",
    "import math\n",
    "math.sqrt()\n",
    "\n",
    "import time\n",
    "time.sleep()"
   ]
  },
  {
   "cell_type": "code",
   "execution_count": null,
   "id": "dc1e6ba2-915e-473a-a6b0-3dcd9c831460",
   "metadata": {},
   "outputs": [],
   "source": [
    "str1='python123'\n",
    "print(max(str1))\n",
    "print(min(str2))"
   ]
  },
  {
   "cell_type": "markdown",
   "id": "96e0f3b0-c7c5-47cf-885e-5a224092fde8",
   "metadata": {},
   "source": [
    "**sorted**"
   ]
  },
  {
   "cell_type": "code",
   "execution_count": null,
   "id": "a41a5bff-df08-4839-a9a7-c17622d72439",
   "metadata": {},
   "outputs": [],
   "source": [
    "sorted('python')"
   ]
  },
  {
   "cell_type": "markdown",
   "id": "6862f11d-4c8b-4a05-aef9-00bb12a5d9a2",
   "metadata": {},
   "source": [
    "- sorted gives ascending order based on ASCII numbers\n",
    "- sorted is kind of function\n",
    "- every function we have arguments\n",
    "- in that one default argument is **reverse=false**\n",
    "- by default sorted output gives ascending order\n",
    "- we can change the order, by providing **reverse=True**\n",
    "- **if we don mention,it will give default answer**"
   ]
  },
  {
   "cell_type": "code",
   "execution_count": null,
   "id": "59b8d634-c0ca-40e3-acb7-55c27eff97d3",
   "metadata": {},
   "outputs": [],
   "source": [
    "sorted(\"python\",reverse=True)"
   ]
  },
  {
   "cell_type": "code",
   "execution_count": null,
   "id": "fab804d6-69a9-4b1b-832c-f095f0571b5d",
   "metadata": {},
   "outputs": [],
   "source": [
    "complex()"
   ]
  },
  {
   "cell_type": "code",
   "execution_count": null,
   "id": "35eb815a-4b4f-409a-8f3d-5c4361b7f8e9",
   "metadata": {},
   "outputs": [],
   "source": [
    "complex(10,20)"
   ]
  },
  {
   "cell_type": "code",
   "execution_count": null,
   "id": "059e5b82-fd89-46ce-8329-9de16906c4a7",
   "metadata": {},
   "outputs": [],
   "source": [
    "import radom\n",
    "random.randint()"
   ]
  },
  {
   "cell_type": "code",
   "execution_count": null,
   "id": "9d6c4b0e-94d2-4bf5-a484-77fc2ffe53ac",
   "metadata": {},
   "outputs": [],
   "source": [
    "funtion() # Answer\n",
    "function(a,b) # this might return error, if we dont give the values of a,b\n",
    "function(a=10,b=10) # Ans"
   ]
  },
  {
   "cell_type": "code",
   "execution_count": null,
   "id": "f295d925-88a6-4d5b-ad73-e49f614f3460",
   "metadata": {},
   "outputs": [],
   "source": [
    "import random\n",
    "random.randint(10,20)"
   ]
  },
  {
   "cell_type": "markdown",
   "id": "057ba933-9f4e-4f85-939f-f823faf887ff",
   "metadata": {},
   "source": [
    "**Note**\n",
    "\n",
    "- we have arguments before / and after slash \n",
    "- we can use the arguments names after /only\n",
    "- for example sorted has two arguments one is iterable and anther one is reverse\n",
    "- iterable is mentioned before / symbol\n",
    "- reverse is mentioned after /symbol\n",
    "- so we can use only reverse arguments name while we are doing the work\n",
    "- we can not use iterable argument name\n",
    "- insted of using iterable name, we can provide direct value at that position"
   ]
  },
  {
   "cell_type": "markdown",
   "id": "9a01f586-d3b3-4c30-b7b9-d5eaafeef164",
   "metadata": {},
   "source": [
    "**reserved**"
   ]
  },
  {
   "cell_type": "code",
   "execution_count": null,
   "id": "9dc2d996-79c8-4339-aa50-a101fdd9672e",
   "metadata": {},
   "outputs": [],
   "source": [
    "type()\n",
    "print()\n",
    "max()\n",
    "min()\n",
    "len()\n",
    "sorted()\n"
   ]
  },
  {
   "cell_type": "code",
   "execution_count": null,
   "id": "dbb2b69a-19f1-4308-860b-f73267e9eae8",
   "metadata": {},
   "outputs": [],
   "source": [
    "reversed('python')"
   ]
  },
  {
   "cell_type": "markdown",
   "id": "e28f15b7-0398-4b21-978b-3a1b0a406f3f",
   "metadata": {},
   "source": [
    "- i already done my work \n",
    "- your output is sorted in that memory location\n",
    "- whenever you see this kind of answer less than and greater than symbol or memory\n",
    "- use for loop to see the answer"
   ]
  },
  {
   "cell_type": "code",
   "execution_count": 2,
   "id": "aab32d5d-99fd-4439-83e5-f518990ccc6a",
   "metadata": {},
   "outputs": [
    {
     "name": "stdout",
     "output_type": "stream",
     "text": [
      "d\n",
      "c\n",
      "y\n",
      "z\n",
      "a\n"
     ]
    }
   ],
   "source": [
    "str1='azycd'\n",
    "output=reversed(str1)\n",
    "for i in output:\n",
    "    print(i)"
   ]
  },
  {
   "cell_type": "code",
   "execution_count": null,
   "id": "92d5b2de-dec8-4596-b2da-50dd53ca7ba9",
   "metadata": {},
   "outputs": [],
   "source": [
    "sorted('azycd')"
   ]
  },
  {
   "cell_type": "code",
   "execution_count": null,
   "id": "6473f46e-85f1-4914-a2f6-83d5d18089fa",
   "metadata": {},
   "outputs": [],
   "source": [
    "- initilization\n",
    "\n",
    "- type\n",
    "\n",
    "- len\n",
    "\n",
    "- max\n",
    "\n",
    "- min\n",
    "\n",
    "- sum\n",
    "\n",
    "- sorted\n",
    "\n",
    "- reversed"
   ]
  },
  {
   "cell_type": "code",
   "execution_count": null,
   "id": "3b5c692e-6857-4cb3-92a6-b796283d584e",
   "metadata": {},
   "outputs": [],
   "source": [
    "type(<value>)\n",
    "print(<value>)\n",
    "eval(<value>)\n",
    "max(<value>)\n",
    "min(<value>)\n",
    "len(<value>)\n",
    "sum(<value>)\n",
    "sorted(<value>)\n",
    "reversed(<value>)"
   ]
  },
  {
   "cell_type": "code",
   "execution_count": null,
   "id": "88591799-060b-4feb-9023-6b1f915a6d13",
   "metadata": {},
   "outputs": [],
   "source": [
    "# sorted()\n",
    "# It will provide the values either ascending or descending\n",
    "\n",
    "sorted('naresh') # Ascending or Descending\n",
    "\n",
    "# when I run directly it will give one answer\n",
    "# the function has a default behaviour: ascending\n",
    "# How this default mentioned\n",
    "# we need to understand about arguments"
   ]
  },
  {
   "cell_type": "code",
   "execution_count": null,
   "id": "55a9e892-7793-4e7e-92e8-a0ba45479fec",
   "metadata": {},
   "outputs": [],
   "source": [
    "sorted('naresh',reverse=True)"
   ]
  },
  {
   "cell_type": "code",
   "execution_count": null,
   "id": "dcfc4d6c-278a-42c1-8d64-4d97e101c62f",
   "metadata": {},
   "outputs": [],
   "source": [
    "for i in reversed('naresh'):\n",
    "    print(i)"
   ]
  },
  {
   "cell_type": "code",
   "execution_count": null,
   "id": "c21b234d-44e1-462a-a287-12695a49fea5",
   "metadata": {},
   "outputs": [],
   "source": [
    "sorted([1,10,2,20,30])"
   ]
  },
  {
   "cell_type": "code",
   "execution_count": null,
   "id": "19223a36-4c5c-48ca-8d8a-50e473c68e0b",
   "metadata": {},
   "outputs": [],
   "source": [
    "sorted([1,10,2,20,30],reverse=True)"
   ]
  },
  {
   "cell_type": "code",
   "execution_count": null,
   "id": "3d75623f-05de-4fbd-bed1-9a90cd104789",
   "metadata": {},
   "outputs": [],
   "source": [
    "str1='naresh'\n",
    "'n' in str1"
   ]
  },
  {
   "cell_type": "code",
   "execution_count": null,
   "id": "d84f67c3-61dd-49bd-92d9-1b3a1fb79b86",
   "metadata": {},
   "outputs": [],
   "source": [
    "str1='naresh'\n",
    "'nn' in str1"
   ]
  },
  {
   "cell_type": "code",
   "execution_count": null,
   "id": "39409e0e-90e2-4654-92ca-342fbfd69a63",
   "metadata": {},
   "outputs": [],
   "source": [
    "str1='naresh'\n",
    "'nn' not in str1"
   ]
  },
  {
   "cell_type": "code",
   "execution_count": null,
   "id": "0f511671-f013-4e9f-98ea-a4fcd7fc4b17",
   "metadata": {},
   "outputs": [],
   "source": [
    "for i in str1:\n",
    "    print(i)"
   ]
  },
  {
   "cell_type": "markdown",
   "id": "458b5873-e412-4385-888b-755a402d14fc",
   "metadata": {},
   "source": [
    "**Note**\n",
    "\n",
    "- in operator directly access the letters"
   ]
  },
  {
   "cell_type": "code",
   "execution_count": 1,
   "id": "1584c03c-0860-4a14-b8be-c39d60d31896",
   "metadata": {},
   "outputs": [
    {
     "name": "stdout",
     "output_type": "stream",
     "text": [
      "3\n"
     ]
    }
   ],
   "source": [
    "#Q1) WAP ask the user count how many 'a' are present in a given string\n",
    "# str1='hai naresh how are you'\n",
    "# Idea: counter wrapper\n",
    "# step-1: count=0\n",
    "# step-2: using for loop in operator iterate through given string\n",
    "# step-3: apply the if condition, whenever the letter equal to 'a'\n",
    "# step-4: count=count+1\n",
    "\n",
    "str1='hai naresh how are you'\n",
    "count=0\n",
    "for i in str1:\n",
    "    if i=='a':\n",
    "        count+=1\n",
    "print(count)\n"
   ]
  },
  {
   "cell_type": "code",
   "execution_count": 3,
   "id": "4ecf5da9-7561-4526-9c31-bc5c16b151f5",
   "metadata": {},
   "outputs": [
    {
     "name": "stdout",
     "output_type": "stream",
     "text": [
      "9\n"
     ]
    }
   ],
   "source": [
    "# Q2) WAP ask the find how many vowels are there in a given string\n",
    "# str1='hai naresh how are you'\n",
    "# ans=9\n",
    "str1='hai naresh how are you'\n",
    "count=0\n",
    "for i in str1:\n",
    "    if i in 'aeiou':\n",
    "        count+=1\n",
    "print(count)\n",
    "        "
   ]
  },
  {
   "cell_type": "code",
   "execution_count": 4,
   "id": "ce677760-0c03-47de-9b86-53e45f065cf5",
   "metadata": {},
   "outputs": [
    {
     "name": "stdout",
     "output_type": "stream",
     "text": [
      "3\n"
     ]
    }
   ],
   "source": [
    "# Idea: counter wrapper\n",
    "# step-1: count=0\n",
    "# step-2: using for loop in operator iterate through given string\n",
    "# step-3: apply the if condition, whenever the letter equal to 'a'\n",
    "# step-4: count=count+1\n",
    "\n",
    "str1='hai naresh how are you'\n",
    "count=0\n",
    "for i in str1:\n",
    "    if i=='a':\n",
    "        count+=1\n",
    "print(count)"
   ]
  },
  {
   "cell_type": "code",
   "execution_count": 5,
   "id": "f789c131-0e31-47f1-9500-cd685a2ce9f0",
   "metadata": {},
   "outputs": [
    {
     "name": "stdout",
     "output_type": "stream",
     "text": [
      "5\n"
     ]
    }
   ],
   "source": [
    "# Q3) Home work qn\n",
    "# str1='hai naresh how are you'\n",
    "# Repetaed vowels are there\n",
    "# We dont want repetaed vowels\n",
    "# Count the vowels avoid the repeatition: Unique vowels\n",
    "# Step-1: Count=0\n",
    "# Step-2: take one more empty string: ex= s2=''\n",
    "s2=''\n",
    "# Step-3: using for loop in operator iterate through given string\n",
    "# step-4: condition-1: That letter shoud not avaialble in s2\n",
    "# step-5 condition-2: vowel check condition\n",
    "# step-6 count=count+1\n",
    "# step-7: update the s2= s2=s2+<letter>\n",
    "\n",
    "str1='hai naresh how are you'\n",
    "count=0\n",
    "s2=''\n",
    "for i in str1:\n",
    "    if i  not in s2:\n",
    "        if  i in 'aeiou':\n",
    "            count+=1\n",
    "            s2+=i\n",
    "print(count)\n",
    "            \n",
    "# step-4: condition-1: That letter shoud not avaialble in s2\n",
    "# step-5 condition-2: vowel check condition\n",
    "# step-6 count=count+1\n",
    "# step-7: update the s2= s2=s2+<letter>"
   ]
  },
  {
   "cell_type": "markdown",
   "id": "b719ef40-fed4-4d16-83cf-c76851532a55",
   "metadata": {},
   "source": [
    "**how to update the empty the strings**"
   ]
  },
  {
   "cell_type": "code",
   "execution_count": 6,
   "id": "fcafc4f7-0a2c-4539-84b4-bb43a722417a",
   "metadata": {},
   "outputs": [
    {
     "data": {
      "text/plain": [
       "'python'"
      ]
     },
     "execution_count": 6,
     "metadata": {},
     "output_type": "execute_result"
    }
   ],
   "source": [
    "s1='python'\n",
    "s2=''\n",
    "for i in s1:\n",
    "    s2=s2+i\n",
    "s2"
   ]
  },
  {
   "cell_type": "markdown",
   "id": "5edfd13d-e0e4-4c2c-aa88-6de5265df222",
   "metadata": {},
   "source": [
    "**concatenation**"
   ]
  },
  {
   "cell_type": "code",
   "execution_count": 7,
   "id": "fd888175-5be5-4428-821f-495672bd2ece",
   "metadata": {},
   "outputs": [
    {
     "data": {
      "text/plain": [
       "'hellobye'"
      ]
     },
     "execution_count": 7,
     "metadata": {},
     "output_type": "execute_result"
    }
   ],
   "source": [
    "s1='hello'\n",
    "s2='bye'\n",
    "s1+s2"
   ]
  },
  {
   "cell_type": "code",
   "execution_count": 8,
   "id": "171930b3-f1b5-458a-b54f-409e5ecf9449",
   "metadata": {},
   "outputs": [
    {
     "data": {
      "text/plain": [
       "'hello bye'"
      ]
     },
     "execution_count": 8,
     "metadata": {},
     "output_type": "execute_result"
    }
   ],
   "source": [
    "s1='hello '\n",
    "s2='bye'\n",
    "s1+s2"
   ]
  },
  {
   "cell_type": "code",
   "execution_count": 9,
   "id": "c8053880-640c-487d-8a09-e78283f7996c",
   "metadata": {},
   "outputs": [
    {
     "data": {
      "text/plain": [
       "'hello bye'"
      ]
     },
     "execution_count": 9,
     "metadata": {},
     "output_type": "execute_result"
    }
   ],
   "source": [
    "s1='hello'\n",
    "s2=' '\n",
    "s3='bye'\n",
    "s1+s2+s3"
   ]
  },
  {
   "cell_type": "code",
   "execution_count": null,
   "id": "37570c1e-f1f2-4baf-9cb4-189b1757cfec",
   "metadata": {},
   "outputs": [],
   "source": [
    "s1='hello'\n",
    "s2='bye'\n",
    "s1*s2"
   ]
  },
  {
   "cell_type": "code",
   "execution_count": null,
   "id": "a5dff42c-6daa-4765-bbcf-f2e4fcbb02f2",
   "metadata": {},
   "outputs": [],
   "source": [
    "s1='hello'\n",
    "s2='bye'\n",
    "s1/s2"
   ]
  },
  {
   "cell_type": "code",
   "execution_count": null,
   "id": "f1d44f98-fad3-4e6e-9aa3-f968baf9ff4e",
   "metadata": {},
   "outputs": [],
   "source": [
    "s1='hello'\n",
    "s2='bye'\n",
    "s1-s2"
   ]
  },
  {
   "cell_type": "code",
   "execution_count": null,
   "id": "314174b0-57e9-43fe-be7d-8e0ba1e9fd53",
   "metadata": {},
   "outputs": [],
   "source": [
    "# s1*s2: can't multiply sequence by non-int of type 'str'\n",
    "# s1-s2: unsupported operand type(s) for -: 'str' and 'str'\n",
    "# s1/s2: unsupported operand type(s) for /: 'str' and 'str'"
   ]
  },
  {
   "cell_type": "code",
   "execution_count": null,
   "id": "99446e4e-d968-4447-a731-687e1563e362",
   "metadata": {},
   "outputs": [],
   "source": [
    "s1='hello'\n",
    "s2=2\n",
    "s1*s2"
   ]
  },
  {
   "cell_type": "code",
   "execution_count": null,
   "id": "3a608ff8-66be-4b9a-bba7-cf98e45ffe99",
   "metadata": {},
   "outputs": [],
   "source": [
    "s1+s1 ===> s1*2\n",
    "\n",
    "\n",
    "2*3       3*2"
   ]
  },
  {
   "cell_type": "markdown",
   "id": "0916eb7a-892b-4c32-bca7-bf2ca101b64e",
   "metadata": {},
   "source": [
    "**index**"
   ]
  },
  {
   "cell_type": "markdown",
   "id": "7cf9491b-7d5f-427f-a864-7f87fecc66f2",
   "metadata": {},
   "source": [
    "- index meaning a number attached to letter\n",
    "- in python index starts with zero\n",
    "- we have two directions\n",
    "  - postive direction\n",
    "    - positive direction start with zero\n",
    "  - negative direction\n",
    "    - negative direction starts with -1,applicable to last letter"
   ]
  },
  {
   "cell_type": "code",
   "execution_count": null,
   "id": "048f98e7-2aac-491d-9364-3dbfb1a46b84",
   "metadata": {},
   "outputs": [],
   "source": [
    "s1'python'\n",
    "\n",
    "-6   -5    -4    -3     -2    -1 ===>negative\n",
    " p    y     t     h      o     n\n",
    " 1    2     3     4      5     6 ===>positive"
   ]
  },
  {
   "cell_type": "code",
   "execution_count": null,
   "id": "69a961dc-98f6-4b7c-a635-66b990e996fe",
   "metadata": {},
   "outputs": [],
   "source": [
    "s1='python'\n",
    "s1[0],s1[1],s1[2],s1[3],s1[4],s1[5]\n"
   ]
  },
  {
   "cell_type": "markdown",
   "id": "7112c2e6-2e77-4098-8de9-c386c6b89d5c",
   "metadata": {},
   "source": [
    "**slice**"
   ]
  },
  {
   "cell_type": "code",
   "execution_count": null,
   "id": "7562cd9c-347b-48e5-b09c-cc0f36d6cdd2",
   "metadata": {},
   "outputs": [],
   "source": [
    "s1='python'\n",
    "s1[-6],s1[-5],s1[-4],s1[-3],s1[-2],s1[-1]\n"
   ]
  },
  {
   "cell_type": "markdown",
   "id": "1d89f31a-e37d-4a30-af2f-da6376fe5195",
   "metadata": {},
   "source": [
    "**Mutable-Immutable**"
   ]
  },
  {
   "cell_type": "markdown",
   "id": "f61e5705-4b25-4eb6-b658-40eb3e28caf8",
   "metadata": {},
   "source": [
    "- mutable can change\n",
    "  - we can change using indexing\n",
    "- immutable can not change\n",
    "  - we can not change by using indexing"
   ]
  },
  {
   "cell_type": "code",
   "execution_count": 10,
   "id": "fe579f5f-e447-4487-8431-63d2248fbd19",
   "metadata": {},
   "outputs": [
    {
     "ename": "TypeError",
     "evalue": "'str' object does not support item assignment",
     "output_type": "error",
     "traceback": [
      "\u001b[1;31m---------------------------------------------------------------------------\u001b[0m",
      "\u001b[1;31mTypeError\u001b[0m                                 Traceback (most recent call last)",
      "Cell \u001b[1;32mIn[10], line 5\u001b[0m\n\u001b[0;32m      1\u001b[0m s\u001b[38;5;241m=\u001b[39m\u001b[38;5;124m'\u001b[39m\u001b[38;5;124mwelcome\u001b[39m\u001b[38;5;124m'\u001b[39m \u001b[38;5;66;03m#welcome\u001b[39;00m\n\u001b[0;32m      2\u001b[0m \u001b[38;5;66;03m#i want to replace 'l' with 'L'\u001b[39;00m\n\u001b[0;32m      3\u001b[0m \u001b[38;5;66;03m#possible \u001b[39;00m\n\u001b[0;32m      4\u001b[0m \u001b[38;5;66;03m#not possible\u001b[39;00m\n\u001b[1;32m----> 5\u001b[0m s[\u001b[38;5;241m2\u001b[39m]\u001b[38;5;241m=\u001b[39m\u001b[38;5;124m'\u001b[39m\u001b[38;5;124mL\u001b[39m\u001b[38;5;124m'\u001b[39m\n",
      "\u001b[1;31mTypeError\u001b[0m: 'str' object does not support item assignment"
     ]
    }
   ],
   "source": [
    "s='welcome' #welcome\n",
    "#i want to replace 'l' with 'L'\n",
    "#possible \n",
    "#not possible\n",
    "s[2]='L'"
   ]
  },
  {
   "cell_type": "markdown",
   "id": "9a804ec7-ca63-453d-b973-3bfd2a1c39a2",
   "metadata": {},
   "source": [
    "**Strings are immutable**"
   ]
  },
  {
   "cell_type": "code",
   "execution_count": null,
   "id": "d73147d8-7f8c-4b33-95ba-f5e311aaf541",
   "metadata": {},
   "outputs": [],
   "source": [
    "l=[1,2,3,4]\n",
    "l[1]=20\n",
    "l"
   ]
  },
  {
   "cell_type": "code",
   "execution_count": null,
   "id": "2fc794be-3f16-4b08-bfef-4d10da27d425",
   "metadata": {},
   "outputs": [],
   "source": [
    "s='welcome'\n",
    "s[1]=L\n",
    "###################################\n",
    "l=[1,2,3,4]\n",
    "l[1]=20\n",
    "l\n"
   ]
  },
  {
   "cell_type": "markdown",
   "id": "f838d0f4-ff8f-48dd-9829-df01a1d26a9c",
   "metadata": {},
   "source": [
    "- range belongs to which family\n",
    "  - **math family**\n",
    "- inside the range brackets what we need to provide\n",
    "  - number\n",
    "- how many numbers we need to provide\n",
    "  - number of letter: len(string)\n",
    "- how to acces the letter using number\n",
    "  - by using index"
   ]
  },
  {
   "cell_type": "code",
   "execution_count": 11,
   "id": "7c621afe-94fb-444b-9564-438a6541e2f1",
   "metadata": {},
   "outputs": [
    {
     "name": "stdout",
     "output_type": "stream",
     "text": [
      "w\n",
      "e\n",
      "l\n",
      "c\n",
      "o\n",
      "m\n",
      "e\n"
     ]
    }
   ],
   "source": [
    "# Q4) print each letter using for loop range\n",
    "s='welcome'\n",
    "# range belongs to which family\n",
    "# inside bracket we need to provide a number\n",
    "# How many numbers we need to provide\n",
    "# number of letters=7\n",
    "# How to access a letter using number:\n",
    "s='welcome'\n",
    "for i in range(7):\n",
    "    print(s[i])"
   ]
  },
  {
   "cell_type": "code",
   "execution_count": 16,
   "id": "00abbb03-0c35-47f4-9aca-bc79259b29c0",
   "metadata": {},
   "outputs": [
    {
     "name": "stdout",
     "output_type": "stream",
     "text": [
      "w\n",
      "e\n",
      "l\n",
      "c\n",
      "o\n",
      "m\n",
      "e\n",
      " \n",
      "t\n",
      "o\n",
      " \n",
      "n\n",
      "a\n",
      "r\n",
      "e\n",
      "s\n",
      "h\n",
      " \n",
      "i\n",
      "t\n"
     ]
    }
   ],
   "source": [
    "s='welcome to naresh it'\n",
    "n=len(s)\n",
    "for i in range(n):\n",
    "    print(s[i])"
   ]
  },
  {
   "cell_type": "markdown",
   "id": "1f1927c6-29b2-4afd-b36b-2b81797ce9f7",
   "metadata": {},
   "source": [
    "- **for-in** directly acess the letter\n",
    "- **for-range**  will acess using index\n"
   ]
  },
  {
   "cell_type": "code",
   "execution_count": 12,
   "id": "c3749087-e2c8-493e-96f6-13fbe91adbc2",
   "metadata": {},
   "outputs": [
    {
     "name": "stdout",
     "output_type": "stream",
     "text": [
      "0 w\n",
      "1 e\n",
      "2 l\n",
      "3 c\n",
      "4 o\n",
      "5 m\n",
      "6 e\n"
     ]
    }
   ],
   "source": [
    "# Q5)wap ask the user iterate using a string\n",
    "# string='welcome'\n",
    "# print the postive index of w is 0\n",
    "# the positive index of e is 1\n",
    "# the positive index of l is 1\n",
    "str1=\"welcome\"\n",
    "for i in range(len(str1)):\n",
    "    print(i,s[i])\n",
    "    "
   ]
  },
  {
   "cell_type": "code",
   "execution_count": 13,
   "id": "22172299-c37e-426f-9993-942720811731",
   "metadata": {},
   "outputs": [
    {
     "name": "stdout",
     "output_type": "stream",
     "text": [
      "0 w\n",
      "The postive index of w is 0\n",
      "1 e\n",
      "The postive index of e is 1\n",
      "2 l\n",
      "The postive index of l is 2\n",
      "3 c\n",
      "The postive index of c is 3\n",
      "4 o\n",
      "The postive index of o is 4\n",
      "5 m\n",
      "The postive index of m is 5\n",
      "6 e\n",
      "The postive index of e is 6\n"
     ]
    }
   ],
   "source": [
    "# Q6) wap ask the user iterate using a string\n",
    "# string='welcome'\n",
    "# print the negative index of w is -7\n",
    "# the negative index of e is -6\n",
    "# the negative index of l is -5\n",
    "s='welcome'\n",
    "for i in range(len(s)):\n",
    "    print(i,s[i])\n",
    "    print(f\"The postive index of {s[i]} is {i}\")"
   ]
  },
  {
   "cell_type": "code",
   "execution_count": 21,
   "id": "d20b708a-c2af-4e4e-8a2b-abd6bfeb5a98",
   "metadata": {},
   "outputs": [
    {
     "name": "stdout",
     "output_type": "stream",
     "text": [
      "the positive index is 0 and the negtaive index -7 for w\n",
      "the positive index is 1 and the negtaive index -6 for e\n",
      "the positive index is 2 and the negtaive index -5 for l\n",
      "the positive index is 3 and the negtaive index -4 for c\n",
      "the positive index is 4 and the negtaive index -3 for o\n",
      "the positive index is 5 and the negtaive index -2 for m\n",
      "the positive index is 6 and the negtaive index -1 for e\n"
     ]
    }
   ],
   "source": [
    "# Q7) wap ask the user iterate using a string\n",
    "# string='welcome'\n",
    "# # the positive index is 0 and the negtaive index -7 for w\n",
    "s='welcome'\n",
    "for i in range(len(s)):\n",
    "    print(f\"the positive index is {i} and the negtaive index {i-len(s)} for {s[i]}\")"
   ]
  },
  {
   "cell_type": "code",
   "execution_count": 14,
   "id": "bfcb809f-ac4d-4ed4-bc9b-1dac41e88893",
   "metadata": {},
   "outputs": [
    {
     "name": "stdout",
     "output_type": "stream",
     "text": [
      "1\n",
      "8\n",
      "18\n"
     ]
    }
   ],
   "source": [
    "#Q8) wap ask the user get the index of each 'a' in a given string\n",
    "# s='hai how are you i am good'\n",
    "# a=1 8 18\n",
    "s='hai how are you i am good'\n",
    "for i in range(len(s)):\n",
    "    if s[i]=='a':\n",
    "        print(i)"
   ]
  },
  {
   "cell_type": "code",
   "execution_count": 15,
   "id": "3448e87b-1f14-451e-b7d4-661d004745d4",
   "metadata": {},
   "outputs": [
    {
     "data": {
      "text/plain": [
       "3"
      ]
     },
     "execution_count": 15,
     "metadata": {},
     "output_type": "execute_result"
    }
   ],
   "source": [
    "#Q9) wap ask the user to get count of number of 'a' in a given string\n",
    "# using for-range\n",
    "s='hai how are you i am good'\n",
    "count=0\n",
    "for i in range(len(s)):\n",
    "    if s[i]=='a':\n",
    "        count=count+1\n",
    "count\n",
    "\n"
   ]
  },
  {
   "cell_type": "code",
   "execution_count": 16,
   "id": "dd1e2190-6602-4050-9bcb-ee4c939d5380",
   "metadata": {},
   "outputs": [
    {
     "data": {
      "text/plain": [
       "27"
      ]
     },
     "execution_count": 16,
     "metadata": {},
     "output_type": "execute_result"
    }
   ],
   "source": [
    "#Q10) wap ask the user get the sum of all index numbers of 'a'\n",
    "# 1+8+18= 27\n",
    "s='hai how are you i am good'\n",
    "summ=0\n",
    "for i in range(len(s)):\n",
    "    if s[i]=='a':\n",
    "        summ=summ+i\n",
    "summ\n"
   ]
  },
  {
   "cell_type": "code",
   "execution_count": 29,
   "id": "6484e4dd-4d06-4357-8d2f-89df47ed3aa3",
   "metadata": {},
   "outputs": [
    {
     "name": "stdout",
     "output_type": "stream",
     "text": [
      "a\n",
      "i\n",
      "o\n",
      "a\n",
      "e\n",
      "o\n",
      "u\n",
      "i\n",
      "a\n",
      "o\n",
      "o\n",
      "The number of vowels are: 11\n"
     ]
    }
   ],
   "source": [
    "27\n",
    "#Q11) wap ask the user get the vowels from a given string using for-range\n",
    "s='hai how are you i am good'\n",
    "count=0\n",
    "for i in range(len(s)):\n",
    "    if s[i] in 'aeiou':\n",
    "        print(s[i])\n",
    "        count=count+1\n",
    "print(\"The number of vowels are:\",count)\n"
   ]
  },
  {
   "cell_type": "code",
   "execution_count": 31,
   "id": "30873a3b-b18b-41d6-afbb-4e4093e74eac",
   "metadata": {},
   "outputs": [
    {
     "name": "stdout",
     "output_type": "stream",
     "text": [
      "i\n",
      "o\n",
      "e\n",
      "u\n",
      "The number of vowels are: 4\n"
     ]
    }
   ],
   "source": [
    "#Q12) wap ask the user get the vowels from a given string using for-range\n",
    "s='hi how re you i m good'\n",
    "s1=''\n",
    "count=0\n",
    "\n",
    "for i in range(len(s)): \n",
    "\n",
    "    if s[i] not in s1: # we are checking the letter is available in s1( It shou\n",
    "        if s[i] in 'aeiou': # we are checking vowel condition\n",
    "            print(s[i])\n",
    "            s1=s1+s[i] # we need to update the s1\n",
    "            count=count+1\n",
    "print(\"The number of vowels are:\",count)"
   ]
  },
  {
   "cell_type": "code",
   "execution_count": null,
   "id": "74b15cbf-f616-43ff-9157-86d28a19370d",
   "metadata": {},
   "outputs": [],
   "source": []
  },
  {
   "cell_type": "code",
   "execution_count": null,
   "id": "3cff6c53-7b8f-4741-a4ef-5353126ddbb6",
   "metadata": {},
   "outputs": [],
   "source": []
  },
  {
   "cell_type": "code",
   "execution_count": null,
   "id": "82f6b4d2-44a7-4aa6-8f9f-0b1a184fdc2c",
   "metadata": {},
   "outputs": [],
   "source": []
  },
  {
   "cell_type": "markdown",
   "id": "86c1f338-ad6f-4e40-a927-fb05dd760b4b",
   "metadata": {},
   "source": [
    "- we can cut into pieces\n",
    "\n",
    "- similar o range concept\n",
    "\n",
    "- start, stop, step here also"
   ]
  },
  {
   "cell_type": "code",
   "execution_count": null,
   "id": "8d6560e8-ddc0-425b-a957-78e0b808dcc0",
   "metadata": {},
   "outputs": [],
   "source": []
  },
  {
   "cell_type": "code",
   "execution_count": null,
   "id": "169079b2-019f-49f2-966c-a6fa64f1cfe8",
   "metadata": {},
   "outputs": [],
   "source": []
  },
  {
   "cell_type": "code",
   "execution_count": null,
   "id": "dd01e443-4939-4330-a7ec-711cb1276170",
   "metadata": {},
   "outputs": [],
   "source": []
  },
  {
   "cell_type": "code",
   "execution_count": null,
   "id": "18e743b4-b91f-4393-9710-615f0c76b4be",
   "metadata": {},
   "outputs": [],
   "source": []
  },
  {
   "cell_type": "code",
   "execution_count": null,
   "id": "5fb9366d-4ce5-478b-93ac-7f7a5c7b739e",
   "metadata": {},
   "outputs": [],
   "source": []
  },
  {
   "cell_type": "code",
   "execution_count": 3,
   "id": "f1f26a87-5ff3-4344-b749-b1e11ac4249e",
   "metadata": {},
   "outputs": [
    {
     "data": {
      "text/plain": [
       "15"
      ]
     },
     "execution_count": 3,
     "metadata": {},
     "output_type": "execute_result"
    }
   ],
   "source": [
    "str1='hai how are you'\n",
    "len(str1)"
   ]
  },
  {
   "cell_type": "code",
   "execution_count": null,
   "id": "8ef34f68-d3ed-4c3d-aa71-97d2101df405",
   "metadata": {},
   "outputs": [],
   "source": [
    "#case-1\n",
    "str1[start:stop:step]"
   ]
  },
  {
   "cell_type": "markdown",
   "id": "bdb63ac2-68f3-4a30-8ddb-f3a2b09b82f8",
   "metadata": {},
   "source": [
    "$pattern-1$\n",
    "\n",
    "**str1[start:]**\n",
    "\n",
    "- by defaul start value = start only\n",
    "\n",
    "- last value = last only\n",
    "\n",
    "- step nothing mentioned means, it is a positive direction and increment by 1"
   ]
  },
  {
   "cell_type": "code",
   "execution_count": 4,
   "id": "15b08f06-026b-43ff-b4a7-42aedc4d9c80",
   "metadata": {},
   "outputs": [
    {
     "data": {
      "text/plain": [
       "'ow are you'"
      ]
     },
     "execution_count": 4,
     "metadata": {},
     "output_type": "execute_result"
    }
   ],
   "source": [
    "#-15 -14 -13 -12 -11 -10   -9  -8  -7  -6  -5  -4   -3  -2  -1\n",
    "# h   a    i       h   o    w       a   r   e         y   o   u\n",
    "# 0   1    2   3   4   5    6   7   8   9   10  11   12  13  14\n",
    "str1='hai how are you'\n",
    "str1[5:]"
   ]
  },
  {
   "cell_type": "code",
   "execution_count": 5,
   "id": "1e8109c4-3957-453f-80ed-3387262434f7",
   "metadata": {},
   "outputs": [
    {
     "data": {
      "text/plain": [
       "'hai how are you'"
      ]
     },
     "execution_count": 5,
     "metadata": {},
     "output_type": "execute_result"
    }
   ],
   "source": [
    "str1[-15:]"
   ]
  },
  {
   "cell_type": "code",
   "execution_count": 7,
   "id": "24ca0878-61ee-40ad-9107-cb25f3478003",
   "metadata": {},
   "outputs": [
    {
     "data": {
      "text/plain": [
       "'how are you'"
      ]
     },
     "execution_count": 7,
     "metadata": {},
     "output_type": "execute_result"
    }
   ],
   "source": [
    "str1[-11:]"
   ]
  },
  {
   "cell_type": "code",
   "execution_count": 8,
   "id": "ec1f128f-39a7-4476-a475-54a2393718b1",
   "metadata": {},
   "outputs": [
    {
     "data": {
      "text/plain": [
       "' are '"
      ]
     },
     "execution_count": 8,
     "metadata": {},
     "output_type": "execute_result"
    }
   ],
   "source": [
    "str1[-8:-3]\n"
   ]
  },
  {
   "cell_type": "markdown",
   "id": "53fe993b-d485-47c2-bc95-cb030c8aacba",
   "metadata": {},
   "source": [
    "$pattern-2$\n",
    "\n",
    "str1[start:stop]\n",
    "\n",
    "- start value means by default start only\n",
    "- step is not mentioned  positive direction\n",
    "- last=stop-1\n"
   ]
  },
  {
   "cell_type": "code",
   "execution_count": 10,
   "id": "2f205d92-a773-479a-94d8-696f8647b315",
   "metadata": {},
   "outputs": [
    {
     "data": {
      "text/plain": [
       "'ow are yo'"
      ]
     },
     "execution_count": 10,
     "metadata": {},
     "output_type": "execute_result"
    }
   ],
   "source": [
    "str1='hai how are you'\n",
    "str1[5:14]"
   ]
  },
  {
   "cell_type": "code",
   "execution_count": 11,
   "id": "21054b98-cd87-4709-85e1-2e7a139e2a00",
   "metadata": {},
   "outputs": [
    {
     "data": {
      "text/plain": [
       "'ow are yo'"
      ]
     },
     "execution_count": 11,
     "metadata": {},
     "output_type": "execute_result"
    }
   ],
   "source": [
    "str1[5:14]"
   ]
  },
  {
   "cell_type": "code",
   "execution_count": 14,
   "id": "93455582-9a93-4289-bcb5-b721ae34de42",
   "metadata": {},
   "outputs": [
    {
     "data": {
      "text/plain": [
       "'e yo'"
      ]
     },
     "execution_count": 14,
     "metadata": {},
     "output_type": "execute_result"
    }
   ],
   "source": [
    "str1[-5:14]"
   ]
  },
  {
   "cell_type": "markdown",
   "id": "8f3eb773-85ef-4c2f-8704-f974655a2bc3",
   "metadata": {},
   "source": [
    "**Truncation behaviour**"
   ]
  },
  {
   "cell_type": "markdown",
   "id": "3ff6680c-9258-4a23-ad7b-416a3f33884a",
   "metadata": {},
   "source": [
    "- when ever string range is limited , but we provided unlimited number\n",
    "- string will consider till the range we have\n",
    "- in the above example our range only 15 letters\n",
    "- we provided 500, then 500 will truncate to till 15 letters only"
   ]
  },
  {
   "cell_type": "code",
   "execution_count": 15,
   "id": "d0be664c-cf2f-44b3-bc8a-290d69787a3e",
   "metadata": {},
   "outputs": [
    {
     "data": {
      "text/plain": [
       "'ow are you'"
      ]
     },
     "execution_count": 15,
     "metadata": {},
     "output_type": "execute_result"
    }
   ],
   "source": [
    "str1[5:500]\n"
   ]
  },
  {
   "cell_type": "code",
   "execution_count": 16,
   "id": "61fd670e-37a6-4637-9e9b-739b6466705e",
   "metadata": {},
   "outputs": [
    {
     "data": {
      "text/plain": [
       "'hai how are you'"
      ]
     },
     "execution_count": 16,
     "metadata": {},
     "output_type": "execute_result"
    }
   ],
   "source": [
    "str1[-500:500]"
   ]
  },
  {
   "cell_type": "code",
   "execution_count": 17,
   "id": "a7e6b513-91d0-4d67-afef-c9cafe221f33",
   "metadata": {},
   "outputs": [
    {
     "data": {
      "text/plain": [
       "'hai how are you'"
      ]
     },
     "execution_count": 17,
     "metadata": {},
     "output_type": "execute_result"
    }
   ],
   "source": [
    "str1[-500:]"
   ]
  },
  {
   "cell_type": "code",
   "execution_count": 19,
   "id": "7eb42564-14de-4c42-9c0d-6ddf6b6d9fcf",
   "metadata": {},
   "outputs": [
    {
     "data": {
      "text/plain": [
       "'u'"
      ]
     },
     "execution_count": 19,
     "metadata": {},
     "output_type": "execute_result"
    }
   ],
   "source": [
    "str1[-1:500]"
   ]
  },
  {
   "cell_type": "code",
   "execution_count": 20,
   "id": "1b53fcec-6980-47da-b60b-85549ec36f62",
   "metadata": {},
   "outputs": [
    {
     "data": {
      "text/plain": [
       "''"
      ]
     },
     "execution_count": 20,
     "metadata": {},
     "output_type": "execute_result"
    }
   ],
   "source": [
    "str1[500:]"
   ]
  },
  {
   "cell_type": "code",
   "execution_count": 21,
   "id": "d49bde09-61bd-4cbd-9c8b-b87269344ab9",
   "metadata": {},
   "outputs": [
    {
     "data": {
      "text/plain": [
       "'hai how are you'"
      ]
     },
     "execution_count": 21,
     "metadata": {},
     "output_type": "execute_result"
    }
   ],
   "source": [
    "str1[-500:]"
   ]
  },
  {
   "cell_type": "code",
   "execution_count": 22,
   "id": "1319e1a3-8b24-4fe5-ba60-2c39b0a1a227",
   "metadata": {},
   "outputs": [
    {
     "data": {
      "text/plain": [
       "''"
      ]
     },
     "execution_count": 22,
     "metadata": {},
     "output_type": "execute_result"
    }
   ],
   "source": [
    "str1[50:500]"
   ]
  },
  {
   "cell_type": "markdown",
   "id": "b60ada6c-8ded-4cbc-9b03-4df52fe60deb",
   "metadata": {},
   "source": [
    "$pattern-3$\n",
    "\n",
    "*str1[start:stop:step]\n",
    "\n",
    "- start value means start only\n",
    "- if step value positive\n",
    "  - last value=stop-1\n",
    "- if step value negative\n",
    "  - last value = stop+1"
   ]
  },
  {
   "cell_type": "code",
   "execution_count": 26,
   "id": "859a6e32-cfcc-41aa-84a6-ecbb258945cb",
   "metadata": {},
   "outputs": [
    {
     "data": {
      "text/plain": [
       "''"
      ]
     },
     "execution_count": 26,
     "metadata": {},
     "output_type": "execute_result"
    }
   ],
   "source": [
    "#-15 -14 -13 -12 -11 -10   -9  -8  -7  -6  -5  -4   -3  -2  -1\n",
    "# h   a    i       h   o    w       a   r   e         y   o   u\n",
    "# 0   1    2   3   4   5    6   7   8   9   10  11   12  13  14\n",
    "str1[2:-13:2]"
   ]
  },
  {
   "cell_type": "code",
   "execution_count": 27,
   "id": "895c91e3-547a-432c-b658-4ce652a59360",
   "metadata": {},
   "outputs": [
    {
     "data": {
      "text/plain": [
       "'o r o '"
      ]
     },
     "execution_count": 27,
     "metadata": {},
     "output_type": "execute_result"
    }
   ],
   "source": [
    "str1[-2:-13:-2]"
   ]
  },
  {
   "cell_type": "code",
   "execution_count": 29,
   "id": "1913fcdd-881b-4a73-8f55-553d14f48080",
   "metadata": {},
   "outputs": [
    {
     "data": {
      "text/plain": [
       "''"
      ]
     },
     "execution_count": 29,
     "metadata": {},
     "output_type": "execute_result"
    }
   ],
   "source": [
    "str1[-13:2:2]"
   ]
  },
  {
   "cell_type": "code",
   "execution_count": 30,
   "id": "5c7558e2-b7da-46b7-8b16-31cf429933e3",
   "metadata": {},
   "outputs": [
    {
     "data": {
      "text/plain": [
       "'ihwaey'"
      ]
     },
     "execution_count": 30,
     "metadata": {},
     "output_type": "execute_result"
    }
   ],
   "source": [
    "str1[-13:-2:2]"
   ]
  },
  {
   "cell_type": "code",
   "execution_count": 31,
   "id": "c7736e57-42d9-4cf9-947b-cc2f844542f7",
   "metadata": {},
   "outputs": [
    {
     "data": {
      "text/plain": [
       "''"
      ]
     },
     "execution_count": 31,
     "metadata": {},
     "output_type": "execute_result"
    }
   ],
   "source": [
    "str1[-13:-2:-2]"
   ]
  },
  {
   "cell_type": "code",
   "execution_count": 32,
   "id": "6ab24fe3-4f39-47f0-ae66-65fb19e7b61e",
   "metadata": {},
   "outputs": [
    {
     "data": {
      "text/plain": [
       "''"
      ]
     },
     "execution_count": 32,
     "metadata": {},
     "output_type": "execute_result"
    }
   ],
   "source": [
    "str1[2:-13]"
   ]
  },
  {
   "cell_type": "code",
   "execution_count": 38,
   "id": "ec1ea790-a39b-446c-b845-e8c9d6b38e50",
   "metadata": {},
   "outputs": [
    {
     "data": {
      "text/plain": [
       "'hai naresh how are you'"
      ]
     },
     "execution_count": 38,
     "metadata": {},
     "output_type": "execute_result"
    }
   ],
   "source": [
    "str1[:]"
   ]
  },
  {
   "cell_type": "code",
   "execution_count": 39,
   "id": "e28f7557-1855-4ce8-9fac-6fe561b33167",
   "metadata": {},
   "outputs": [
    {
     "data": {
      "text/plain": [
       "'hai naresh how are you'"
      ]
     },
     "execution_count": 39,
     "metadata": {},
     "output_type": "execute_result"
    }
   ],
   "source": [
    "str1[::]"
   ]
  },
  {
   "cell_type": "code",
   "execution_count": 40,
   "id": "20b53f12-bb26-4101-b725-5cd86464ed29",
   "metadata": {},
   "outputs": [
    {
     "data": {
      "text/plain": [
       "'uoy era woh hseran iah'"
      ]
     },
     "execution_count": 40,
     "metadata": {},
     "output_type": "execute_result"
    }
   ],
   "source": [
    "str1[::-1]"
   ]
  },
  {
   "cell_type": "markdown",
   "id": "d8ceb4bb-fce0-4717-a6a1-88ac5e3bdabb",
   "metadata": {},
   "source": [
    "**Methods**"
   ]
  },
  {
   "cell_type": "markdown",
   "id": "76e8c503-97e4-4c74-8082-3251a84ed277",
   "metadata": {},
   "source": [
    "- strings lists tupke dictionary every data types has its own methods\n",
    "- we already seen that packages has different method\n",
    "- for example random package : randint method\n",
    "- math pakage : sqrt\n",
    "- in the same way strings also have methods\n",
    "- in order to see methods for the packages\n",
    "  - we are importing the package\n",
    "  - we are applying dir\n",
    "- In the similar way in order to see the methods of string, we need to apply dir only"
   ]
  },
  {
   "cell_type": "code",
   "execution_count": 41,
   "id": "cba781fd-b201-4657-a7d7-df122404f166",
   "metadata": {},
   "outputs": [
    {
     "data": {
      "text/plain": [
       "['__add__',\n",
       " '__class__',\n",
       " '__contains__',\n",
       " '__delattr__',\n",
       " '__dir__',\n",
       " '__doc__',\n",
       " '__eq__',\n",
       " '__format__',\n",
       " '__ge__',\n",
       " '__getattribute__',\n",
       " '__getitem__',\n",
       " '__getnewargs__',\n",
       " '__getstate__',\n",
       " '__gt__',\n",
       " '__hash__',\n",
       " '__init__',\n",
       " '__init_subclass__',\n",
       " '__iter__',\n",
       " '__le__',\n",
       " '__len__',\n",
       " '__lt__',\n",
       " '__mod__',\n",
       " '__mul__',\n",
       " '__ne__',\n",
       " '__new__',\n",
       " '__reduce__',\n",
       " '__reduce_ex__',\n",
       " '__repr__',\n",
       " '__rmod__',\n",
       " '__rmul__',\n",
       " '__setattr__',\n",
       " '__sizeof__',\n",
       " '__str__',\n",
       " '__subclasshook__',\n",
       " 'capitalize',\n",
       " 'casefold',\n",
       " 'center',\n",
       " 'count',\n",
       " 'encode',\n",
       " 'endswith',\n",
       " 'expandtabs',\n",
       " 'find',\n",
       " 'format',\n",
       " 'format_map',\n",
       " 'index',\n",
       " 'isalnum',\n",
       " 'isalpha',\n",
       " 'isascii',\n",
       " 'isdecimal',\n",
       " 'isdigit',\n",
       " 'isidentifier',\n",
       " 'islower',\n",
       " 'isnumeric',\n",
       " 'isprintable',\n",
       " 'isspace',\n",
       " 'istitle',\n",
       " 'isupper',\n",
       " 'join',\n",
       " 'ljust',\n",
       " 'lower',\n",
       " 'lstrip',\n",
       " 'maketrans',\n",
       " 'partition',\n",
       " 'removeprefix',\n",
       " 'removesuffix',\n",
       " 'replace',\n",
       " 'rfind',\n",
       " 'rindex',\n",
       " 'rjust',\n",
       " 'rpartition',\n",
       " 'rsplit',\n",
       " 'rstrip',\n",
       " 'split',\n",
       " 'splitlines',\n",
       " 'startswith',\n",
       " 'strip',\n",
       " 'swapcase',\n",
       " 'title',\n",
       " 'translate',\n",
       " 'upper',\n",
       " 'zfill']"
      ]
     },
     "execution_count": 41,
     "metadata": {},
     "output_type": "execute_result"
    }
   ],
   "source": [
    "dir('')"
   ]
  },
  {
   "cell_type": "code",
   "execution_count": 44,
   "id": "61406e40-de4a-4629-8dcf-38eb3617e0fc",
   "metadata": {},
   "outputs": [
    {
     "data": {
      "text/plain": [
       "['__add__',\n",
       " '__class__',\n",
       " '__contains__',\n",
       " '__delattr__',\n",
       " '__dir__',\n",
       " '__doc__',\n",
       " '__eq__',\n",
       " '__format__',\n",
       " '__ge__',\n",
       " '__getattribute__',\n",
       " '__getitem__',\n",
       " '__getnewargs__',\n",
       " '__getstate__',\n",
       " '__gt__',\n",
       " '__hash__',\n",
       " '__init__',\n",
       " '__init_subclass__',\n",
       " '__iter__',\n",
       " '__le__',\n",
       " '__len__',\n",
       " '__lt__',\n",
       " '__mod__',\n",
       " '__mul__',\n",
       " '__ne__',\n",
       " '__new__',\n",
       " '__reduce__',\n",
       " '__reduce_ex__',\n",
       " '__repr__',\n",
       " '__rmod__',\n",
       " '__rmul__',\n",
       " '__setattr__',\n",
       " '__sizeof__',\n",
       " '__str__',\n",
       " '__subclasshook__',\n",
       " 'capitalize',\n",
       " 'casefold',\n",
       " 'center',\n",
       " 'count',\n",
       " 'encode',\n",
       " 'endswith',\n",
       " 'expandtabs',\n",
       " 'find',\n",
       " 'format',\n",
       " 'format_map',\n",
       " 'index',\n",
       " 'isalnum',\n",
       " 'isalpha',\n",
       " 'isascii',\n",
       " 'isdecimal',\n",
       " 'isdigit',\n",
       " 'isidentifier',\n",
       " 'islower',\n",
       " 'isnumeric',\n",
       " 'isprintable',\n",
       " 'isspace',\n",
       " 'istitle',\n",
       " 'isupper',\n",
       " 'join',\n",
       " 'ljust',\n",
       " 'lower',\n",
       " 'lstrip',\n",
       " 'maketrans',\n",
       " 'partition',\n",
       " 'removeprefix',\n",
       " 'removesuffix',\n",
       " 'replace',\n",
       " 'rfind',\n",
       " 'rindex',\n",
       " 'rjust',\n",
       " 'rpartition',\n",
       " 'rsplit',\n",
       " 'rstrip',\n",
       " 'split',\n",
       " 'splitlines',\n",
       " 'startswith',\n",
       " 'strip',\n",
       " 'swapcase',\n",
       " 'title',\n",
       " 'translate',\n",
       " 'upper',\n",
       " 'zfill']"
      ]
     },
     "execution_count": 44,
     "metadata": {},
     "output_type": "execute_result"
    }
   ],
   "source": [
    "dir(str1)"
   ]
  },
  {
   "cell_type": "markdown",
   "id": "49c0b93f-51a4-46fd-85a2-799e39d9004e",
   "metadata": {},
   "source": [
    "- lower\n",
    "- upper\n",
    "- capitalize\n",
    "- tittle\n",
    "- casefold\n",
    "- center"
   ]
  },
  {
   "cell_type": "markdown",
   "id": "c0ab9df4-3a35-46f7-8d38-c6e68bccff88",
   "metadata": {},
   "source": [
    "**upper**"
   ]
  },
  {
   "cell_type": "code",
   "execution_count": 46,
   "id": "ff0936a2-fffc-4a6e-9b3b-21f53bab50f9",
   "metadata": {},
   "outputs": [],
   "source": [
    "str1='hai how are you'"
   ]
  },
  {
   "cell_type": "code",
   "execution_count": 51,
   "id": "7f200072-61a6-47ed-89e0-9bdf5009a140",
   "metadata": {},
   "outputs": [
    {
     "name": "stdout",
     "output_type": "stream",
     "text": [
      "Help on built-in function upper:\n",
      "\n",
      "upper() method of builtins.str instance\n",
      "    Return a copy of the string converted to uppercase.\n",
      "\n"
     ]
    }
   ],
   "source": [
    "type(str1)\n",
    "help(str1.upper)"
   ]
  },
  {
   "cell_type": "code",
   "execution_count": 49,
   "id": "2173d0fa-d1f4-4847-b754-deb5a32e1dbb",
   "metadata": {},
   "outputs": [
    {
     "data": {
      "text/plain": [
       "'HAI HOW ARE YOU'"
      ]
     },
     "execution_count": 49,
     "metadata": {},
     "output_type": "execute_result"
    }
   ],
   "source": [
    "str1.upper()"
   ]
  },
  {
   "cell_type": "code",
   "execution_count": 50,
   "id": "722e806b-b88d-44ce-8f8c-e78ee084254b",
   "metadata": {},
   "outputs": [
    {
     "data": {
      "text/plain": [
       "'hai how are you'"
      ]
     },
     "execution_count": 50,
     "metadata": {},
     "output_type": "execute_result"
    }
   ],
   "source": [
    "str1.lower()"
   ]
  },
  {
   "cell_type": "markdown",
   "id": "ae43a193-2be1-4387-bf30-88152d3aa174",
   "metadata": {},
   "source": [
    "**capitalize**"
   ]
  },
  {
   "cell_type": "code",
   "execution_count": 52,
   "id": "753df4cf-4e90-4eaf-9fae-fbf97c41d4c2",
   "metadata": {},
   "outputs": [
    {
     "data": {
      "text/plain": [
       "'Hai how are you'"
      ]
     },
     "execution_count": 52,
     "metadata": {},
     "output_type": "execute_result"
    }
   ],
   "source": [
    "str1.capitalize()"
   ]
  },
  {
   "cell_type": "markdown",
   "id": "66ee8cbf-36a3-477b-9eec-d22b761b5b6f",
   "metadata": {},
   "source": [
    "**casefold**"
   ]
  },
  {
   "cell_type": "code",
   "execution_count": 53,
   "id": "1de60b48-0d02-4527-ba01-24c1847732db",
   "metadata": {},
   "outputs": [
    {
     "data": {
      "text/plain": [
       "'hai how are you'"
      ]
     },
     "execution_count": 53,
     "metadata": {},
     "output_type": "execute_result"
    }
   ],
   "source": [
    "str1.casefold()"
   ]
  },
  {
   "cell_type": "markdown",
   "id": "9e4615e3-08f7-42f2-b796-6daa0d5dc140",
   "metadata": {},
   "source": [
    "**title**"
   ]
  },
  {
   "cell_type": "code",
   "execution_count": 55,
   "id": "3da8f939-d8fe-44d0-b51a-020af760bcb6",
   "metadata": {},
   "outputs": [
    {
     "data": {
      "text/plain": [
       "'Hai How Are You'"
      ]
     },
     "execution_count": 55,
     "metadata": {},
     "output_type": "execute_result"
    }
   ],
   "source": [
    "str1.title()"
   ]
  },
  {
   "cell_type": "code",
   "execution_count": 56,
   "id": "9ce9e78c-8497-4a5b-bca9-536e8c70572e",
   "metadata": {},
   "outputs": [],
   "source": [
    "#str1='hai how are you'\n",
    "#o/p='hai how are you'\n",
    "#with out using any method\n",
    "#one more level: iterate ecan letter apply capitalize\n",
    "#scratch : ord char"
   ]
  },
  {
   "cell_type": "markdown",
   "id": "8b4ea565-5987-4c41-9689-c6a26d66ebf8",
   "metadata": {},
   "source": [
    "**center**"
   ]
  },
  {
   "cell_type": "code",
   "execution_count": 58,
   "id": "ed7b1a25-2190-4d2b-81e4-da9d11074db7",
   "metadata": {},
   "outputs": [
    {
     "data": {
      "text/plain": [
       "'  hai how are you   '"
      ]
     },
     "execution_count": 58,
     "metadata": {},
     "output_type": "execute_result"
    }
   ],
   "source": [
    "str1.center(20)"
   ]
  },
  {
   "cell_type": "code",
   "execution_count": 59,
   "id": "a528b1d9-837e-4134-a002-428d7440eac4",
   "metadata": {},
   "outputs": [
    {
     "data": {
      "text/plain": [
       "20"
      ]
     },
     "execution_count": 59,
     "metadata": {},
     "output_type": "execute_result"
    }
   ],
   "source": [
    "len(str1.center(20))"
   ]
  },
  {
   "cell_type": "markdown",
   "id": "2907f72f-1d06-49a9-9910-67335f88bfcb",
   "metadata": {},
   "source": [
    "- center has two arguments\n",
    "    - width\n",
    "    - fill char\n",
    "\n",
    "- original string already :15 letters\n",
    "- we want to create a new string with 20 letters\n",
    "- remaining 5 lettrs by default empty\n",
    "- we can fill with characters also"
   ]
  },
  {
   "cell_type": "code",
   "execution_count": null,
   "id": "1434292c-320e-4d26-aaab-fe86f0b58fb0",
   "metadata": {},
   "outputs": [],
   "source": [
    "str"
   ]
  }
 ],
 "metadata": {
  "kernelspec": {
   "display_name": "Python 3 (ipykernel)",
   "language": "python",
   "name": "python3"
  },
  "language_info": {
   "codemirror_mode": {
    "name": "ipython",
    "version": 3
   },
   "file_extension": ".py",
   "mimetype": "text/x-python",
   "name": "python",
   "nbconvert_exporter": "python",
   "pygments_lexer": "ipython3",
   "version": "3.11.7"
  }
 },
 "nbformat": 4,
 "nbformat_minor": 5
}
